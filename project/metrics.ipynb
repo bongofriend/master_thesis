{
 "cells": [
  {
   "cell_type": "markdown",
   "id": "f8d41991-3e59-4587-9904-a43131e20a7d",
   "metadata": {},
   "source": [
    "# TODOs"
   ]
  },
  {
   "cell_type": "code",
   "execution_count": 171,
   "id": "b41a07b0-8465-4a55-9dc2-ef3a92622f8b",
   "metadata": {},
   "outputs": [
    {
     "data": {
      "text/markdown": [
       "# Stuff to be done\n",
       "\n",
       "- [x] Initialize Jupyter notebook\n",
       "- [x] Perform EDA on metrics\n",
       "- [ ] Evaluate possible ML models\n",
       "- [ ] Add ML pipeline for GridSearch/RandomSearch sckit-learn"
      ],
      "text/plain": [
       "<IPython.core.display.Markdown object>"
      ]
     },
     "metadata": {},
     "output_type": "display_data"
    }
   ],
   "source": [
    "from IPython.display import display, Markdown\n",
    "\n",
    "display(Markdown('TODO.md'))"
   ]
  },
  {
   "cell_type": "markdown",
   "id": "80cefb50",
   "metadata": {},
   "source": [
    "# Design Pattern Recognition with Software Metrics"
   ]
  },
  {
   "cell_type": "markdown",
   "id": "43dd595e-942a-4e01-994d-0c425619a9d8",
   "metadata": {},
   "source": [
    "## Library/Package Imports\n",
    "All required modules should be in the next cell to avoid scattered imports"
   ]
  },
  {
   "cell_type": "code",
   "execution_count": 339,
   "id": "3867f5a7",
   "metadata": {},
   "outputs": [],
   "source": [
    "# Ignore missing imports warnings in vs code\n",
    "import pandas as pd\n",
    "import plotly.express as px\n",
    "from plotly.subplots import make_subplots\n",
    "import plotly.graph_objects as go\n",
    "from typing import Callable\n",
    "import ipywidgets as widgets\n",
    "from IPython.display import display, HTML\n",
    "from typing import Optional, Dict"
   ]
  },
  {
   "cell_type": "code",
   "execution_count": 340,
   "id": "65910d76",
   "metadata": {},
   "outputs": [],
   "source": [
    "# Common utility functions\n",
    "\n",
    "from typing import Any\n",
    "\n",
    "\n",
    "def get_metric_columns():\n",
    "    return ['NOF', 'NSF', 'NOM', 'NSM', 'NOAM', 'NORM', 'NOPC', 'NOOF', 'NCOF']\n",
    "\n",
    "\n",
    "def get_feature_columns():\n",
    "    return get_metric_columns() + ['role_kind']\n",
    "\n",
    "\n",
    "def get_label_column():\n",
    "    return ['role']\n",
    "\n",
    "\n",
    "def generate_subplot(df: pd.DataFrame, plot_func: Callable[[pd.DataFrame, str], go.Figure], subplot_width: int = 600, subplot_height: int = 2400) -> go.Figure:\n",
    "    metric_columns = get_metric_columns()\n",
    "    subplots = make_subplots(\n",
    "        len(metric_columns), subplot_titles=metric_columns)\n",
    "    for i, metric in enumerate(metric_columns):\n",
    "        figure = plot_func(df, metric)\n",
    "        subplots.add_trace(figure, row=i+1, col=1)\n",
    "    subplots['layout'].update(height=subplot_height, width=subplot_width)\n",
    "    return subplots\n",
    "\n",
    "\n",
    "def generate_selectable_graph_for_metrics(df: pd.DataFrame, initial_plot_func: Callable[[], go.Figure], update_func: Callable[[go.Figure, pd.DataFrame, str], None], y_label: Optional[str] = None):\n",
    "    metric_dropdown = widgets.Dropdown(options=get_metric_columns())\n",
    "    fig = go.FigureWidget(initial_plot_func())\n",
    "\n",
    "    def on_metric_changed(change):\n",
    "        metric = change['new']\n",
    "        with fig.batch_update():\n",
    "            figure = fig.data[0]\n",
    "            update_func(figure, df, metric)\n",
    "            figure['name'] = metric\n",
    "            label = y_label if y_label else ' '\n",
    "            fig.update_layout(title=metric, bargap=0.5,\n",
    "                              xaxis_title=metric, yaxis_title=label)\n",
    "\n",
    "    metric_dropdown.observe(on_metric_changed, names='value')\n",
    "    display(widgets.VBox([metric_dropdown, fig]))\n",
    "\n",
    "\n",
    "def filter_extended_projects(df: pd.DataFrame):\n",
    "    return df[~df['project'].str.contains('DrJava')]"
   ]
  },
  {
   "cell_type": "markdown",
   "id": "e2ef9395",
   "metadata": {
    "jp-MarkdownHeadingCollapsed": true
   },
   "source": [
    "## Generation of metrics\n",
    "\n",
    "If the metrics are not yet generated, the following steps are required:\n",
    "\n",
    "1. Make sure that `source_files.zip` is located in the current directory. The archive contains the actual zipped source code of the projects in [P-MArT](https://www.ptidej.net/tools/designpatterns/) and `pmart.xml` with descriptions of the micro architectures\n",
    "2. Create a new virtual Python environment with `python -m venv .` in the current directory if not yet done\n",
    "3. Activate the virtual environment ([refer here for the actual command to run](https://docs.python.org/3/library/venv.html#how-venvs-work))\n",
    "4. Execute `python3 preprocess_source_files.py` to extract the source files from `source_files.zip` and move the source files described in `pmart.xml` into `dataset` directory. For more information run `python3 preprocess_source_files.py -h`.\n",
    "    - Source files are structured as `<dataset_dir>/<design_pattern/micro_architecture_<id>`\n",
    "    - Each micro architecture directory contains the following files:\n",
    "        - `roles.csv`: Roles, entity names and role kind as described in `pmart.xml`\n",
    "        - `projects.txt`: From which project the source files come from\n",
    "        - The source files to be evaluated\n",
    "5. Execute `python3 generate_source_file_metrics.py` to generate `metrics.csv`. For more information run `python3 generate_source_file_metrics.py`.\n",
    "\n",
    "**NOTE**: As the projects in this dataset are old and not all projects listed in P-MaRT are not accessible, some source files and their entries in `metrics` may be missing."
   ]
  },
  {
   "cell_type": "markdown",
   "id": "d33566ec",
   "metadata": {
    "jp-MarkdownHeadingCollapsed": true
   },
   "source": [
    "## Overview about `metrics.csv`\n",
    "\n",
    "In order to detect applied Gang Of Four design patterns in source code with machine learning strategies, we first need to transform the source file into a numerical representation that can be understood by a machine learning model.\n",
    "This approach aims to solve this by generating numerical characteristics for each source file in the context of the regarded micro architecture. As there are several methods to define what metrics to include in the evaluation, the metrics as described [in this paper](../sources/JSEA-DP-2014.pdf):\n",
    "\n",
    "- NOF: Number of fields\n",
    "- NSF: Number of static fields\n",
    "- NOM: Number of methods\n",
    "- NSM: Number of static methods\n",
    "- NOAM: Number of abstract methods\n",
    "- NORM: Number of overridden methods\n",
    "- NOPC: Number of private constrcutors\n",
    "- NOOF: Number of object fields\n",
    "- NCOF: Number of other classes with field of own type"
   ]
  },
  {
   "cell_type": "markdown",
   "id": "e8ab6a56-c832-4e2d-93d5-ad5ea97e5bf8",
   "metadata": {},
   "source": [
    "## Outlier Detection and Removal\n",
    "\n",
    "As the dataset may contain a varied implementation of datasets, outlier detection and removal may be required to reduce the noise in the dataset. `sklearn` provides the some automatic and unsupervised approaches out of the box. The following are considered\n",
    "\n",
    "**NOTE**: This list is subject to change\n",
    "\n",
    "* Isolation Forest\n",
    "* Local Outlier Factor"
   ]
  },
  {
   "cell_type": "code",
   "execution_count": 351,
   "id": "c70a743b-1abd-41fc-8d74-837e10a5e6d2",
   "metadata": {},
   "outputs": [],
   "source": [
    "# Required imports for this section\n",
    "from sklearn.ensemble import IsolationForest\n",
    "from sklearn.neighbors import LocalOutlierFactor"
   ]
  },
  {
   "cell_type": "markdown",
   "metadata": {},
   "source": [
    "### Isolation Forest"
   ]
  },
  {
   "cell_type": "code",
   "execution_count": 101,
   "id": "c1daa46b-d8c0-4008-95ac-97820f595da2",
   "metadata": {},
   "outputs": [],
   "source": [
    "def apply_isolation_forest(df: pd.DataFrame):\n",
    "    df_filtered = df.copy()\n",
    "    isolation_forest = IsolationForest(contamination=0.1)\n",
    "    df_filtered['outlier'] = isolation_forest.fit_predict(\n",
    "        df_filtered[get_metric_columns()])\n",
    "    df_filtered = df_filtered[df_filtered['outlier'] == 1]\n",
    "    return df_filtered.drop(columns=['outlier'])"
   ]
  },
  {
   "cell_type": "markdown",
   "metadata": {},
   "source": [
    "### Isolation Forest"
   ]
  },
  {
   "cell_type": "code",
   "execution_count": 354,
   "id": "34133435-52f9-42a7-824f-9fe1aaf96183",
   "metadata": {},
   "outputs": [],
   "source": [
    "def apply_local_outlier_factor(df: pd.DataFrame) -> pd.DataFrame:\n",
    "    threshold = 0\n",
    "\n",
    "    df_copy = df.copy()\n",
    "    lof = LocalOutlierFactor(contamination=0.5)\n",
    "    df_copy['outlier_score'] = lof.fit_predict(df_copy[get_metric_columns()])\n",
    "    df_copy = df_copy[df_copy['outlier_score'] > threshold]\n",
    "    return df_copy.drop(columns=('outlier_score'))"
   ]
  },
  {
   "cell_type": "markdown",
   "id": "21f390ae",
   "metadata": {},
   "source": [
    "## Explorative Data Analysis of the Dataset"
   ]
  },
  {
   "cell_type": "code",
   "execution_count": 355,
   "id": "65c7b79a",
   "metadata": {},
   "outputs": [
    {
     "name": "stdout",
     "output_type": "stream",
     "text": [
      "1341 rows were imported\n"
     ]
    }
   ],
   "source": [
    "df = pd.read_csv('./metrics.csv')\n",
    "df = filter_extended_projects(df)\n",
    "df = apply_isolation_forest(df)\n",
    "print(f'{df.shape[0]} rows were imported')"
   ]
  },
  {
   "cell_type": "code",
   "execution_count": 357,
   "id": "a4d63a37-a043-43ba-aca0-693e0e6ccabd",
   "metadata": {},
   "outputs": [],
   "source": [
    "df['role'] = df['role'].str.lower().str.strip()\n",
    "df['role_kind'] = df['role_kind'].str.lower().str.strip()"
   ]
  },
  {
   "cell_type": "code",
   "execution_count": 98,
   "id": "0e9d1680",
   "metadata": {},
   "outputs": [
    {
     "data": {
      "text/plain": [
       "role                  object\n",
       "role_kind             object\n",
       "entity                object\n",
       "design_pattern        object\n",
       "micro_architecture    object\n",
       "project               object\n",
       "NOF                    int64\n",
       "NSF                    int64\n",
       "NOM                    int64\n",
       "NSM                    int64\n",
       "NOI                    int64\n",
       "NOAM                   int64\n",
       "NORM                   int64\n",
       "NOPC                   int64\n",
       "NOTC                   int64\n",
       "NOOF                   int64\n",
       "NCOF                   int64\n",
       "dtype: object"
      ]
     },
     "execution_count": 98,
     "metadata": {},
     "output_type": "execute_result"
    }
   ],
   "source": [
    "# Check if columns in dataframe have expected types\n",
    "df.dtypes"
   ]
  },
  {
   "cell_type": "markdown",
   "id": "5f534e36",
   "metadata": {},
   "source": [
    "### Filter Dataframe entries by micro architecture"
   ]
  },
  {
   "cell_type": "code",
   "execution_count": 358,
   "id": "b24e61d1",
   "metadata": {},
   "outputs": [
    {
     "data": {
      "application/vnd.jupyter.widget-view+json": {
       "model_id": "cbaf874be4d14caea952b7ec1f4c5a96",
       "version_major": 2,
       "version_minor": 0
      },
      "text/plain": [
       "interactive(children=(Dropdown(description='micro_arch', options=('micro_arch_64', 'micro_arch_133', 'micro_ar…"
      ]
     },
     "execution_count": 358,
     "metadata": {},
     "output_type": "execute_result"
    }
   ],
   "source": [
    "micro_arches = df['micro_architecture'].unique().tolist()\n",
    "\n",
    "\n",
    "def view(micro_arch=''):\n",
    "    display(df[df['micro_architecture'] == micro_arch]\n",
    "            [['role', 'role_kind'] + get_metric_columns()], clear=True)\n",
    "\n",
    "\n",
    "w = widgets.Dropdown(options=micro_arches)\n",
    "widgets.interactive(view, micro_arch=w)"
   ]
  },
  {
   "cell_type": "markdown",
   "id": "b016f497",
   "metadata": {},
   "source": [
    "### Distribution of roles"
   ]
  },
  {
   "cell_type": "code",
   "execution_count": 359,
   "id": "c79959eb",
   "metadata": {},
   "outputs": [
    {
     "data": {
      "application/vnd.plotly.v1+json": {
       "config": {
        "plotlyServerURL": "https://plot.ly"
       },
       "data": [
        {
         "alignmentgroup": "True",
         "bingroup": "x",
         "histfunc": "count",
         "hovertemplate": "role=%{x}<br>count=%{y}<extra></extra>",
         "legendgroup": "",
         "marker": {
          "color": "#636efa",
          "pattern": {
           "shape": ""
          }
         },
         "name": "",
         "offsetgroup": "",
         "orientation": "v",
         "showlegend": false,
         "type": "histogram",
         "x": [
          "concreteaggregate",
          "iterator",
          "concreteiterator",
          "concreteiterator",
          "concreteiterator",
          "concreteaggregate",
          "client",
          "aggregate",
          "concreteaggregate",
          "concreteaggregate",
          "iterator",
          "concreteiterator",
          "iterator",
          "concreteiterator",
          "client",
          "client",
          "iterator",
          "concreteiterator",
          "iterator",
          "aggregate",
          "client",
          "client",
          "concreteaggregate",
          "iterator",
          "concreteiterator",
          "concreteaggregate",
          "iterator",
          "concreteiterator",
          "concreteclass",
          "abstractclass",
          "concreteclass",
          "concreteclass",
          "concreteclass",
          "concreteclass",
          "concreteclass",
          "concreteclass",
          "concreteclass",
          "concreteclass",
          "concreteclass",
          "concreteclass",
          "concreteclass",
          "concreteclass",
          "concreteclass",
          "concreteclass",
          "concreteclass",
          "concreteclass",
          "concreteclass",
          "abstractclass",
          "concreteclass",
          "concreteclass",
          "concreteclass",
          "concreteclass",
          "concreteclass",
          "concreteclass",
          "concreteclass",
          "concreteclass",
          "concreteclass",
          "abstractclass",
          "concreteclass",
          "concreteclass",
          "concreteclass",
          "concreteclass",
          "abstractclass",
          "concreteclass",
          "concreteclass",
          "concreteclass",
          "concreteclass",
          "concreteclass",
          "concreteclass",
          "abstractclass",
          "concreteclass",
          "concreteclass",
          "concreteclass",
          "concreteclass",
          "concreteclass",
          "concreteclass",
          "concreteclass",
          "concreteclass",
          "concreteclass",
          "concreteclass",
          "concreteclass",
          "concreteclass",
          "concreteclass",
          "concreteclass",
          "concreteclass",
          "concreteclass",
          "concreteclass",
          "concreteclass",
          "concreteclass",
          "concreteclass",
          "concreteclass",
          "concreteclass",
          "concreteclass",
          "concreteclass",
          "abstractclass",
          "concreteclass",
          "concreteclass",
          "concreteclass",
          "concreteclass",
          "concreteclass",
          "concreteclass",
          "concreteclass",
          "abstractclass",
          "concreteclass",
          "concreteclass",
          "concreteclass",
          "concreteclass",
          "concreteclass",
          "concreteclass",
          "concreteclass",
          "concreteclass",
          "concreteclass",
          "concreteclass",
          "concreteclass",
          "concreteclass",
          "concreteclass",
          "concreteclass",
          "abstractclass",
          "concreteclass",
          "concreteclass",
          "concreteclass",
          "facade",
          "subsystemclass",
          "element",
          "objectstructure",
          "concreteelement",
          "visitor",
          "visitor",
          "concretevisitor",
          "concretevisitor",
          "concretevisitor",
          "concretevisitor",
          "concretevisitor",
          "concretevisitor",
          "concretevisitor",
          "concretevisitor",
          "concretevisitor",
          "concretevisitor",
          "concretevisitor",
          "concretevisitor",
          "concretevisitor",
          "element",
          "concreteelement",
          "concreteelement",
          "concreteelement",
          "concreteelement",
          "concreteelement",
          "concreteelement",
          "concreteelement",
          "concreteelement",
          "concreteelement",
          "concreteelement",
          "concreteelement",
          "visitor",
          "concretevisitor",
          "concretevisitor",
          "concretevisitor",
          "concretevisitor",
          "concretevisitor",
          "concretevisitor",
          "concretevisitor",
          "concretevisitor",
          "concretevisitor",
          "concretevisitor",
          "concretevisitor",
          "concretevisitor",
          "concretevisitor",
          "concretevisitor",
          "concretevisitor",
          "element",
          "concreteelement",
          "concreteelement",
          "concreteelement",
          "concreteelement",
          "concreteelement",
          "concreteelement",
          "concreteelement",
          "concreteelement",
          "concreteelement",
          "concreteelement",
          "concreteelement",
          "concreteelement",
          "concreteelement",
          "concreteelement",
          "concreteelement",
          "concreteelement",
          "concreteelement",
          "concreteelement",
          "concreteelement",
          "concreteelement",
          "concreteelement",
          "concreteelement",
          "concreteelement",
          "concreteelement",
          "concreteelement",
          "concreteelement",
          "concreteelement",
          "concreteelement",
          "concreteelement",
          "concreteelement",
          "concreteelement",
          "concreteelement",
          "concreteelement",
          "concreteelement",
          "concreteelement",
          "concreteelement",
          "concreteelement",
          "concreteelement",
          "concreteelement",
          "concreteelement",
          "concreteelement",
          "concreteelement",
          "concreteelement",
          "concreteelement",
          "concreteelement",
          "concreteelement",
          "concreteelement",
          "concreteelement",
          "concreteelement",
          "concreteelement",
          "concreteelement",
          "concreteelement",
          "concreteelement",
          "concreteelement",
          "concreteelement",
          "concreteelement",
          "concreteelement",
          "concreteelement",
          "concreteelement",
          "concreteelement",
          "concreteelement",
          "concreteelement",
          "concreteelement",
          "concreteelement",
          "concreteelement",
          "concreteelement",
          "concreteelement",
          "concreteelement",
          "concreteelement",
          "concreteelement",
          "concreteelement",
          "concreteelement",
          "concreteelement",
          "concreteelement",
          "concreteelement",
          "concreteelement",
          "concreteelement",
          "concreteelement",
          "concreteelement",
          "concreteelement",
          "concreteelement",
          "concreteelement",
          "concreteelement",
          "concreteelement",
          "concreteelement",
          "concreteelement",
          "context",
          "state",
          "concretestate",
          "concretestate",
          "concretestate",
          "concretestate",
          "concretestate",
          "concretestate",
          "concretestate",
          "concretestate",
          "concretestate",
          "concretestate",
          "concretestate",
          "concretestate",
          "concretestate",
          "concretestate",
          "concretestate",
          "concretestate",
          "concretestate",
          "context",
          "concretestate",
          "concretestate",
          "concretestate",
          "concretestate",
          "concretestate",
          "context",
          "state",
          "concretestate",
          "concretestate",
          "concretestate",
          "context",
          "state",
          "concretestate",
          "concretestate",
          "concretestate",
          "concretestate",
          "concretestate",
          "concretestate",
          "concretestate",
          "concretestate",
          "concretestate",
          "concretestate",
          "concretestate",
          "concretestate",
          "concretestate",
          "concretestate",
          "concretestate",
          "concretestate",
          "originator",
          "originator",
          "originator",
          "originator",
          "memento",
          "memento",
          "memento",
          "memento",
          "originator",
          "originator",
          "originator",
          "originator",
          "caretaker",
          "nullobject",
          "abstraction",
          "refinedabstraction",
          "refinedabstraction",
          "refinedabstraction",
          "refinedabstraction",
          "implementor",
          "concreteimplementor",
          "concreteimplementor",
          "concreteimplementor",
          "concreteimplementor",
          "concreteimplementor",
          "concreteimplementor",
          "abstraction",
          "refinedabstraction",
          "refinedabstraction",
          "refinedabstraction",
          "implementor",
          "concreteimplementor",
          "concreteimplementor",
          "concreteimplementor",
          "concreteimplementor",
          "client",
          "prototype",
          "concreteprototype",
          "concreteprototype",
          "concreteprototype",
          "concreteprototype",
          "concreteprototype",
          "concreteprototype",
          "concreteprototype",
          "concreteprototype",
          "concreteprototype",
          "concreteprototype",
          "concreteprototype",
          "concreteprototype",
          "concreteprototype",
          "concreteprototype",
          "concreteprototype",
          "concreteprototype",
          "concreteprototype",
          "concreteprototype",
          "concreteprototype",
          "concreteprototype",
          "concreteprototype",
          "concreteprototype",
          "concreteprototype",
          "concreteprototype",
          "client",
          "client",
          "prototype",
          "concreteprototype",
          "concreteprototype",
          "concreteprototype",
          "director",
          "concretebuilder",
          "director",
          "concretebuilder",
          "concretebuilder",
          "concretebuilder",
          "concretebuilder",
          "concretebuilder",
          "concretebuilder",
          "concretebuilder",
          "concretebuilder",
          "director",
          "builder",
          "concretebuilder",
          "concretebuilder",
          "concretebuilder",
          "concretebuilder",
          "concretebuilder",
          "concretebuilder",
          "concretebuilder",
          "product",
          "product",
          "product",
          "product",
          "director",
          "concretebuilder",
          "concretebuilder",
          "director",
          "concretebuilder",
          "product",
          "director",
          "builder",
          "concretebuilder",
          "concretebuilder",
          "concretebuilder",
          "concretebuilder",
          "concretebuilder",
          "concretebuilder",
          "concretebuilder",
          "concretebuilder",
          "client",
          "client",
          "client",
          "client",
          "client",
          "client",
          "client",
          "client",
          "component",
          "composite",
          "composite",
          "composite",
          "composite",
          "composite",
          "leaf",
          "leaf",
          "leaf",
          "leaf",
          "leaf",
          "leaf",
          "leaf",
          "leaf",
          "leaf",
          "leaf",
          "leaf",
          "leaf",
          "leaf",
          "leaf",
          "leaf",
          "leaf",
          "leaf",
          "leaf",
          "leaf",
          "leaf",
          "leaf",
          "leaf",
          "leaf",
          "leaf",
          "component",
          "composite",
          "composite",
          "leaf",
          "leaf",
          "leaf",
          "leaf",
          "leaf",
          "leaf",
          "leaf",
          "leaf",
          "leaf",
          "leaf",
          "leaf",
          "leaf",
          "leaf",
          "leaf",
          "leaf",
          "leaf",
          "leaf",
          "leaf",
          "leaf",
          "leaf",
          "leaf",
          "leaf",
          "leaf",
          "leaf",
          "leaf",
          "leaf",
          "leaf",
          "leaf",
          "leaf",
          "leaf",
          "leaf",
          "leaf",
          "leaf",
          "leaf",
          "leaf",
          "leaf",
          "leaf",
          "client",
          "client",
          "client",
          "client",
          "client",
          "component",
          "composite",
          "leaf",
          "leaf",
          "leaf",
          "leaf",
          "leaf",
          "leaf",
          "leaf",
          "leaf",
          "leaf",
          "leaf",
          "leaf",
          "leaf",
          "leaf",
          "leaf",
          "leaf",
          "component",
          "client",
          "component",
          "composite",
          "leaf",
          "leaf",
          "leaf",
          "leaf",
          "leaf",
          "leaf",
          "leaf",
          "leaf",
          "leaf",
          "leaf",
          "leaf",
          "leaf",
          "leaf",
          "composite",
          "composite",
          "component",
          "client",
          "target",
          "adapter",
          "adaptee",
          "client",
          "target",
          "adapter",
          "adaptee",
          "target",
          "adapter",
          "client",
          "target",
          "adapter",
          "adaptee",
          "client",
          "client",
          "client",
          "client",
          "target",
          "target",
          "adapter",
          "adaptee",
          "adaptee",
          "client",
          "target",
          "adapter",
          "adaptee",
          "target",
          "adapter",
          "adapter",
          "client",
          "client",
          "target",
          "adapter",
          "client",
          "client",
          "target",
          "adapter",
          "adapter",
          "adaptee",
          "adaptee",
          "client",
          "target",
          "adapter",
          "adaptee",
          "client",
          "client",
          "target",
          "adapter",
          "adaptee",
          "client",
          "target",
          "target",
          "adapter",
          "adaptee",
          "client",
          "target",
          "adapter",
          "adaptee",
          "target",
          "adapter",
          "adaptee",
          "target",
          "adapter",
          "target",
          "target",
          "client",
          "adapter",
          "client",
          "client",
          "target",
          "adapter",
          "adaptee",
          "client",
          "client",
          "client",
          "client",
          "client",
          "client",
          "target",
          "adapter",
          "adapter",
          "adapter",
          "adapter",
          "adapter",
          "adaptee",
          "adaptee",
          "client",
          "client",
          "client",
          "client",
          "client",
          "target",
          "adapter",
          "adapter",
          "adapter",
          "adapter",
          "adapter",
          "adapter",
          "adapter",
          "adapter",
          "adapter",
          "adapter",
          "adapter",
          "adapter",
          "adapter",
          "adapter",
          "adaptee",
          "adaptee",
          "adaptee",
          "adaptee",
          "adaptee",
          "adaptee",
          "adaptee",
          "adaptee",
          "adaptee",
          "adaptee",
          "adaptee",
          "adaptee",
          "adapter",
          "adapter",
          "adapter",
          "adapter",
          "adapter",
          "adapter",
          "adapter",
          "adapter",
          "adaptee",
          "client",
          "client",
          "target",
          "adapter",
          "adapter",
          "adapter",
          "adapter",
          "adapter",
          "adapter",
          "adapter",
          "adapter",
          "adapter",
          "adapter",
          "adapter",
          "adapter",
          "adapter",
          "adapter",
          "adapter",
          "adapter",
          "adapter",
          "adapter",
          "adapter",
          "adapter",
          "adapter",
          "adaptee",
          "adaptee",
          "adaptee",
          "adaptee",
          "adaptee",
          "adaptee",
          "adaptee",
          "adaptee",
          "target",
          "adapter",
          "client",
          "target",
          "adapter",
          "adaptee",
          "client",
          "client",
          "client",
          "client",
          "target",
          "adapter",
          "adapter",
          "adapter",
          "adaptee",
          "adaptee",
          "adaptee",
          "adapter",
          "target",
          "client",
          "client",
          "target",
          "adapter",
          "adaptee",
          "client",
          "client",
          "client",
          "client",
          "target",
          "adapter",
          "client",
          "target",
          "adapter",
          "adaptee",
          "client",
          "target",
          "adapter",
          "adaptee",
          "client",
          "target",
          "target",
          "target",
          "target",
          "target",
          "adapter",
          "singleton",
          "singleton",
          "strategy",
          "context",
          "strategy",
          "context",
          "context",
          "strategy",
          "concretestrategy",
          "concretestrategy",
          "concretestrategy",
          "context",
          "strategy",
          "concretestrategy",
          "context",
          "context",
          "context",
          "context",
          "context",
          "context",
          "context",
          "context",
          "context",
          "context",
          "context",
          "context",
          "concretestrategy",
          "concretestrategy",
          "concretestrategy",
          "concretestrategy",
          "concretestrategy",
          "concretestrategy",
          "context",
          "context",
          "context",
          "context",
          "strategy",
          "concretestrategy",
          "concretestrategy",
          "concretestrategy",
          "concretestrategy",
          "context",
          "strategy",
          "concretestrategy",
          "subject",
          "concretesubject",
          "concretesubject",
          "concretesubject",
          "concretesubject",
          "concretesubject",
          "concretesubject",
          "concretesubject",
          "concretesubject",
          "concretesubject",
          "concretesubject",
          "concretesubject",
          "concretesubject",
          "concretesubject",
          "concretesubject",
          "concretesubject",
          "concretesubject",
          "concretesubject",
          "concretesubject",
          "concretesubject",
          "concretesubject",
          "concretesubject",
          "concreteobserver",
          "concreteobserver",
          "concreteobserver",
          "observer",
          "observer",
          "observer",
          "observer",
          "observer",
          "observer",
          "concreteobserver",
          "subject",
          "concretesubject",
          "concretesubject",
          "observer",
          "concreteobserver",
          "subject",
          "concretesubject",
          "concretesubject",
          "concretesubject",
          "concretesubject",
          "concretesubject",
          "concretesubject",
          "concretesubject",
          "concretesubject",
          "concretesubject",
          "concretesubject",
          "concretesubject",
          "concretesubject",
          "concretesubject",
          "observer",
          "concreteobserver",
          "concretesubject",
          "observer",
          "concreteobserver",
          "observer",
          "observer",
          "concretesubject",
          "observer",
          "concreteobserver",
          "concreteobserver",
          "concreteobserver",
          "concreteobserver",
          "concreteobserver",
          "concreteobserver",
          "observer",
          "concreteobserver",
          "concreteobserver",
          "concretesubject",
          "concretesubject",
          "observer",
          "concreteobserver",
          "concretesubject",
          "concretesubject",
          "concretesubject",
          "observer",
          "concreteobserver",
          "concreteobserver",
          "concreteobserver",
          "subject",
          "concretesubject",
          "concretesubject",
          "concretesubject",
          "concretesubject",
          "concretesubject",
          "concretesubject",
          "concretesubject",
          "concretesubject",
          "concretesubject",
          "concretesubject",
          "concretesubject",
          "concretesubject",
          "concretesubject",
          "concretesubject",
          "concretesubject",
          "concretesubject",
          "concretesubject",
          "concretesubject",
          "concretesubject",
          "concretesubject",
          "concretesubject",
          "concretesubject",
          "concretesubject",
          "concretesubject",
          "observer",
          "concreteobserver",
          "concreteobserver",
          "concreteobserver",
          "concreteobserver",
          "concreteobserver",
          "concreteobserver",
          "concreteobserver",
          "concreteobserver",
          "concreteobserver",
          "concreteobserver",
          "concreteobserver",
          "concreteobserver",
          "concreteobserver",
          "concreteobserver",
          "concreteobserver",
          "subject",
          "concretesubject",
          "observer",
          "concreteobserver",
          "concreteobserver",
          "concreteobserver",
          "concreteobserver",
          "concreteobserver",
          "component",
          "concretecomponent",
          "concretecomponent",
          "concretecomponent",
          "concretecomponent",
          "concretecomponent",
          "concretecomponent",
          "concretecomponent",
          "concretecomponent",
          "concretecomponent",
          "concretecomponent",
          "concretecomponent",
          "concretecomponent",
          "concretecomponent",
          "concretecomponent",
          "concretecomponent",
          "concretecomponent",
          "concretecomponent",
          "concretecomponent",
          "concretecomponent",
          "concretecomponent",
          "concretecomponent",
          "concretecomponent",
          "decorator",
          "concretedecorator",
          "concretedecorator",
          "component",
          "concretecomponent",
          "concretecomponent",
          "concretecomponent",
          "concretecomponent",
          "concretecomponent",
          "concretecomponent",
          "concretecomponent",
          "concretecomponent",
          "concretecomponent",
          "concretecomponent",
          "concretecomponent",
          "concretecomponent",
          "concretecomponent",
          "concretecomponent",
          "concretecomponent",
          "concretecomponent",
          "concretecomponent",
          "concretecomponent",
          "concretecomponent",
          "concretecomponent",
          "concretecomponent",
          "concretecomponent",
          "concretecomponent",
          "concretecomponent",
          "concretecomponent",
          "concretecomponent",
          "concretecomponent",
          "concretecomponent",
          "concretecomponent",
          "concretecomponent",
          "concretecomponent",
          "concretecomponent",
          "concretecomponent",
          "concretedecorator",
          "concretedecorator",
          "concretedecorator",
          "concretedecorator",
          "command",
          "concretecommand",
          "concretecommand",
          "concretecommand",
          "concretecommand",
          "receiver",
          "receiver",
          "command",
          "concretecommand",
          "concretecommand",
          "concretecommand",
          "concretecommand",
          "receiver",
          "receiver",
          "client",
          "invoker",
          "concretecommand",
          "concretecommand",
          "concretecommand",
          "concretecommand",
          "client",
          "invoker",
          "invoker",
          "invoker",
          "invoker",
          "invoker",
          "invoker",
          "invoker",
          "invoker",
          "invoker",
          "invoker",
          "invoker",
          "invoker",
          "invoker",
          "invoker",
          "concretecommand",
          "concretecommand",
          "concretecommand",
          "concretecommand",
          "concretecommand",
          "concretecommand",
          "concretecommand",
          "concretecommand",
          "concretecommand",
          "concretecommand",
          "concretecommand",
          "concretecommand",
          "concretecommand",
          "concretecommand",
          "concretecommand",
          "concretecommand",
          "concretecommand",
          "receiver",
          "client",
          "client",
          "client",
          "invoker",
          "invoker",
          "invoker",
          "command",
          "concretecommand",
          "concretecommand",
          "concretecommand",
          "concretecommand",
          "concretecommand",
          "concretecommand",
          "concretecommand",
          "concretecommand",
          "concretecommand",
          "concretecommand",
          "concretecommand",
          "concretecommand",
          "concretecommand",
          "receiver",
          "receiver",
          "receiver",
          "client",
          "client",
          "client",
          "client",
          "client",
          "client",
          "client",
          "client",
          "client",
          "client",
          "client",
          "client",
          "client",
          "client",
          "client",
          "client",
          "abstractproduct",
          "product",
          "product",
          "product",
          "product",
          "product",
          "product",
          "product",
          "product",
          "product",
          "product",
          "product",
          "product",
          "product",
          "product",
          "product",
          "product",
          "product",
          "client",
          "client",
          "client",
          "client",
          "client",
          "concretefactory",
          "concretefactory",
          "abstractproduct",
          "abstractproduct",
          "product",
          "product",
          "product",
          "product",
          "product",
          "client",
          "client",
          "client",
          "client",
          "concretefactory",
          "concretefactory",
          "concretefactory",
          "concretefactory",
          "concretefactory",
          "concretefactory",
          "concretefactory",
          "product",
          "product",
          "product",
          "product",
          "product",
          "product",
          "client",
          "client",
          "client",
          "client",
          "concretefactory",
          "abstractproduct",
          "product",
          "product",
          "product",
          "product",
          "product",
          "product",
          "product",
          "product",
          "product",
          "product",
          "product",
          "product",
          "product",
          "product",
          "product",
          "product",
          "product",
          "product",
          "product",
          "product",
          "product",
          "product",
          "product",
          "client",
          "abstractfactory",
          "concretefactory",
          "concretefactory",
          "abstractproduct",
          "product",
          "client",
          "client",
          "abstractproduct",
          "product",
          "product",
          "product",
          "product",
          "product",
          "product",
          "product",
          "product",
          "concretefactory",
          "abstractproduct",
          "product",
          "product",
          "product",
          "product",
          "product",
          "product",
          "product",
          "product",
          "product",
          "abstractfactory",
          "concretefactory",
          "abstractproduct",
          "product",
          "product",
          "product",
          "product",
          "product",
          "product",
          "product",
          "product",
          "client",
          "abstractfactory",
          "concretefactory",
          "abstractproduct",
          "product",
          "product",
          "product",
          "product",
          "product",
          "product",
          "product",
          "product",
          "product",
          "product",
          "product",
          "product",
          "product",
          "product",
          "product",
          "product",
          "client",
          "client",
          "abstractfactory",
          "concretefactory",
          "abstractproduct",
          "product",
          "product",
          "product",
          "product",
          "product",
          "client",
          "concretefactory",
          "abstractproduct",
          "product",
          "client",
          "client",
          "client",
          "client",
          "client",
          "client",
          "client",
          "client",
          "client",
          "client",
          "client",
          "client",
          "client",
          "client",
          "client",
          "client",
          "client",
          "abstractproduct",
          "product",
          "product",
          "product",
          "product",
          "client",
          "client",
          "client",
          "abstractfactory",
          "abstractfactory",
          "concretefactory",
          "abstractproduct",
          "abstractproduct",
          "product",
          "creator",
          "concretecreator",
          "product",
          "concreteproduct",
          "concreteproduct",
          "concreteproduct",
          "concretecreator",
          "product",
          "concreteproduct",
          "concreteproduct",
          "concreteproduct",
          "concreteproduct",
          "concreteproduct",
          "concreteproduct",
          "concreteproduct",
          "concreteproduct",
          "concreteproduct",
          "concreteproduct",
          "concreteproduct",
          "concreteproduct",
          "concreteproduct",
          "concreteproduct",
          "concreteproduct",
          "concreteproduct",
          "concreteproduct",
          "concreteproduct",
          "concreteproduct",
          "creator",
          "concretecreator",
          "concretecreator",
          "concretecreator",
          "concretecreator",
          "concretecreator",
          "concretecreator",
          "concretecreator",
          "concretecreator",
          "concretecreator",
          "concretecreator",
          "concretecreator",
          "concretecreator",
          "concretecreator",
          "concretecreator",
          "concretecreator",
          "concretecreator",
          "concretecreator",
          "concretecreator",
          "concretecreator",
          "concretecreator",
          "concretecreator",
          "concretecreator",
          "concretecreator",
          "concretecreator",
          "concreteproduct",
          "creator",
          "concretecreator",
          "product",
          "concreteproduct",
          "concreteproduct",
          "concreteproduct",
          "concreteproduct",
          "concreteproduct",
          "concreteproduct",
          "concreteproduct",
          "concreteproduct",
          "concreteproduct",
          "concreteproduct",
          "concreteproduct",
          "concreteproduct",
          "concreteproduct",
          "concreteproduct",
          "concreteproduct",
          "concreteproduct",
          "creator",
          "concretecreator",
          "product",
          "concreteproduct",
          "concreteproduct",
          "concreteproduct",
          "concreteproduct",
          "concreteproduct",
          "product",
          "concreteproduct",
          "concreteproduct",
          "concreteproduct",
          "concreteproduct",
          "concreteproduct",
          "concreteproduct",
          "creator",
          "concretecreator",
          "concretecreator",
          "concretecreator",
          "concretecreator",
          "creator",
          "concretecreator"
         ],
         "xaxis": "x",
         "yaxis": "y"
        }
       ],
       "layout": {
        "autosize": true,
        "barmode": "relative",
        "legend": {
         "tracegroupgap": 0
        },
        "margin": {
         "t": 60
        },
        "template": {
         "data": {
          "bar": [
           {
            "error_x": {
             "color": "#2a3f5f"
            },
            "error_y": {
             "color": "#2a3f5f"
            },
            "marker": {
             "line": {
              "color": "#E5ECF6",
              "width": 0.5
             },
             "pattern": {
              "fillmode": "overlay",
              "size": 10,
              "solidity": 0.2
             }
            },
            "type": "bar"
           }
          ],
          "barpolar": [
           {
            "marker": {
             "line": {
              "color": "#E5ECF6",
              "width": 0.5
             },
             "pattern": {
              "fillmode": "overlay",
              "size": 10,
              "solidity": 0.2
             }
            },
            "type": "barpolar"
           }
          ],
          "carpet": [
           {
            "aaxis": {
             "endlinecolor": "#2a3f5f",
             "gridcolor": "white",
             "linecolor": "white",
             "minorgridcolor": "white",
             "startlinecolor": "#2a3f5f"
            },
            "baxis": {
             "endlinecolor": "#2a3f5f",
             "gridcolor": "white",
             "linecolor": "white",
             "minorgridcolor": "white",
             "startlinecolor": "#2a3f5f"
            },
            "type": "carpet"
           }
          ],
          "choropleth": [
           {
            "colorbar": {
             "outlinewidth": 0,
             "ticks": ""
            },
            "type": "choropleth"
           }
          ],
          "contour": [
           {
            "colorbar": {
             "outlinewidth": 0,
             "ticks": ""
            },
            "colorscale": [
             [
              0,
              "#0d0887"
             ],
             [
              0.1111111111111111,
              "#46039f"
             ],
             [
              0.2222222222222222,
              "#7201a8"
             ],
             [
              0.3333333333333333,
              "#9c179e"
             ],
             [
              0.4444444444444444,
              "#bd3786"
             ],
             [
              0.5555555555555556,
              "#d8576b"
             ],
             [
              0.6666666666666666,
              "#ed7953"
             ],
             [
              0.7777777777777778,
              "#fb9f3a"
             ],
             [
              0.8888888888888888,
              "#fdca26"
             ],
             [
              1,
              "#f0f921"
             ]
            ],
            "type": "contour"
           }
          ],
          "contourcarpet": [
           {
            "colorbar": {
             "outlinewidth": 0,
             "ticks": ""
            },
            "type": "contourcarpet"
           }
          ],
          "heatmap": [
           {
            "colorbar": {
             "outlinewidth": 0,
             "ticks": ""
            },
            "colorscale": [
             [
              0,
              "#0d0887"
             ],
             [
              0.1111111111111111,
              "#46039f"
             ],
             [
              0.2222222222222222,
              "#7201a8"
             ],
             [
              0.3333333333333333,
              "#9c179e"
             ],
             [
              0.4444444444444444,
              "#bd3786"
             ],
             [
              0.5555555555555556,
              "#d8576b"
             ],
             [
              0.6666666666666666,
              "#ed7953"
             ],
             [
              0.7777777777777778,
              "#fb9f3a"
             ],
             [
              0.8888888888888888,
              "#fdca26"
             ],
             [
              1,
              "#f0f921"
             ]
            ],
            "type": "heatmap"
           }
          ],
          "heatmapgl": [
           {
            "colorbar": {
             "outlinewidth": 0,
             "ticks": ""
            },
            "colorscale": [
             [
              0,
              "#0d0887"
             ],
             [
              0.1111111111111111,
              "#46039f"
             ],
             [
              0.2222222222222222,
              "#7201a8"
             ],
             [
              0.3333333333333333,
              "#9c179e"
             ],
             [
              0.4444444444444444,
              "#bd3786"
             ],
             [
              0.5555555555555556,
              "#d8576b"
             ],
             [
              0.6666666666666666,
              "#ed7953"
             ],
             [
              0.7777777777777778,
              "#fb9f3a"
             ],
             [
              0.8888888888888888,
              "#fdca26"
             ],
             [
              1,
              "#f0f921"
             ]
            ],
            "type": "heatmapgl"
           }
          ],
          "histogram": [
           {
            "marker": {
             "pattern": {
              "fillmode": "overlay",
              "size": 10,
              "solidity": 0.2
             }
            },
            "type": "histogram"
           }
          ],
          "histogram2d": [
           {
            "colorbar": {
             "outlinewidth": 0,
             "ticks": ""
            },
            "colorscale": [
             [
              0,
              "#0d0887"
             ],
             [
              0.1111111111111111,
              "#46039f"
             ],
             [
              0.2222222222222222,
              "#7201a8"
             ],
             [
              0.3333333333333333,
              "#9c179e"
             ],
             [
              0.4444444444444444,
              "#bd3786"
             ],
             [
              0.5555555555555556,
              "#d8576b"
             ],
             [
              0.6666666666666666,
              "#ed7953"
             ],
             [
              0.7777777777777778,
              "#fb9f3a"
             ],
             [
              0.8888888888888888,
              "#fdca26"
             ],
             [
              1,
              "#f0f921"
             ]
            ],
            "type": "histogram2d"
           }
          ],
          "histogram2dcontour": [
           {
            "colorbar": {
             "outlinewidth": 0,
             "ticks": ""
            },
            "colorscale": [
             [
              0,
              "#0d0887"
             ],
             [
              0.1111111111111111,
              "#46039f"
             ],
             [
              0.2222222222222222,
              "#7201a8"
             ],
             [
              0.3333333333333333,
              "#9c179e"
             ],
             [
              0.4444444444444444,
              "#bd3786"
             ],
             [
              0.5555555555555556,
              "#d8576b"
             ],
             [
              0.6666666666666666,
              "#ed7953"
             ],
             [
              0.7777777777777778,
              "#fb9f3a"
             ],
             [
              0.8888888888888888,
              "#fdca26"
             ],
             [
              1,
              "#f0f921"
             ]
            ],
            "type": "histogram2dcontour"
           }
          ],
          "mesh3d": [
           {
            "colorbar": {
             "outlinewidth": 0,
             "ticks": ""
            },
            "type": "mesh3d"
           }
          ],
          "parcoords": [
           {
            "line": {
             "colorbar": {
              "outlinewidth": 0,
              "ticks": ""
             }
            },
            "type": "parcoords"
           }
          ],
          "pie": [
           {
            "automargin": true,
            "type": "pie"
           }
          ],
          "scatter": [
           {
            "fillpattern": {
             "fillmode": "overlay",
             "size": 10,
             "solidity": 0.2
            },
            "type": "scatter"
           }
          ],
          "scatter3d": [
           {
            "line": {
             "colorbar": {
              "outlinewidth": 0,
              "ticks": ""
             }
            },
            "marker": {
             "colorbar": {
              "outlinewidth": 0,
              "ticks": ""
             }
            },
            "type": "scatter3d"
           }
          ],
          "scattercarpet": [
           {
            "marker": {
             "colorbar": {
              "outlinewidth": 0,
              "ticks": ""
             }
            },
            "type": "scattercarpet"
           }
          ],
          "scattergeo": [
           {
            "marker": {
             "colorbar": {
              "outlinewidth": 0,
              "ticks": ""
             }
            },
            "type": "scattergeo"
           }
          ],
          "scattergl": [
           {
            "marker": {
             "colorbar": {
              "outlinewidth": 0,
              "ticks": ""
             }
            },
            "type": "scattergl"
           }
          ],
          "scattermapbox": [
           {
            "marker": {
             "colorbar": {
              "outlinewidth": 0,
              "ticks": ""
             }
            },
            "type": "scattermapbox"
           }
          ],
          "scatterpolar": [
           {
            "marker": {
             "colorbar": {
              "outlinewidth": 0,
              "ticks": ""
             }
            },
            "type": "scatterpolar"
           }
          ],
          "scatterpolargl": [
           {
            "marker": {
             "colorbar": {
              "outlinewidth": 0,
              "ticks": ""
             }
            },
            "type": "scatterpolargl"
           }
          ],
          "scatterternary": [
           {
            "marker": {
             "colorbar": {
              "outlinewidth": 0,
              "ticks": ""
             }
            },
            "type": "scatterternary"
           }
          ],
          "surface": [
           {
            "colorbar": {
             "outlinewidth": 0,
             "ticks": ""
            },
            "colorscale": [
             [
              0,
              "#0d0887"
             ],
             [
              0.1111111111111111,
              "#46039f"
             ],
             [
              0.2222222222222222,
              "#7201a8"
             ],
             [
              0.3333333333333333,
              "#9c179e"
             ],
             [
              0.4444444444444444,
              "#bd3786"
             ],
             [
              0.5555555555555556,
              "#d8576b"
             ],
             [
              0.6666666666666666,
              "#ed7953"
             ],
             [
              0.7777777777777778,
              "#fb9f3a"
             ],
             [
              0.8888888888888888,
              "#fdca26"
             ],
             [
              1,
              "#f0f921"
             ]
            ],
            "type": "surface"
           }
          ],
          "table": [
           {
            "cells": {
             "fill": {
              "color": "#EBF0F8"
             },
             "line": {
              "color": "white"
             }
            },
            "header": {
             "fill": {
              "color": "#C8D4E3"
             },
             "line": {
              "color": "white"
             }
            },
            "type": "table"
           }
          ]
         },
         "layout": {
          "annotationdefaults": {
           "arrowcolor": "#2a3f5f",
           "arrowhead": 0,
           "arrowwidth": 1
          },
          "autotypenumbers": "strict",
          "coloraxis": {
           "colorbar": {
            "outlinewidth": 0,
            "ticks": ""
           }
          },
          "colorscale": {
           "diverging": [
            [
             0,
             "#8e0152"
            ],
            [
             0.1,
             "#c51b7d"
            ],
            [
             0.2,
             "#de77ae"
            ],
            [
             0.3,
             "#f1b6da"
            ],
            [
             0.4,
             "#fde0ef"
            ],
            [
             0.5,
             "#f7f7f7"
            ],
            [
             0.6,
             "#e6f5d0"
            ],
            [
             0.7,
             "#b8e186"
            ],
            [
             0.8,
             "#7fbc41"
            ],
            [
             0.9,
             "#4d9221"
            ],
            [
             1,
             "#276419"
            ]
           ],
           "sequential": [
            [
             0,
             "#0d0887"
            ],
            [
             0.1111111111111111,
             "#46039f"
            ],
            [
             0.2222222222222222,
             "#7201a8"
            ],
            [
             0.3333333333333333,
             "#9c179e"
            ],
            [
             0.4444444444444444,
             "#bd3786"
            ],
            [
             0.5555555555555556,
             "#d8576b"
            ],
            [
             0.6666666666666666,
             "#ed7953"
            ],
            [
             0.7777777777777778,
             "#fb9f3a"
            ],
            [
             0.8888888888888888,
             "#fdca26"
            ],
            [
             1,
             "#f0f921"
            ]
           ],
           "sequentialminus": [
            [
             0,
             "#0d0887"
            ],
            [
             0.1111111111111111,
             "#46039f"
            ],
            [
             0.2222222222222222,
             "#7201a8"
            ],
            [
             0.3333333333333333,
             "#9c179e"
            ],
            [
             0.4444444444444444,
             "#bd3786"
            ],
            [
             0.5555555555555556,
             "#d8576b"
            ],
            [
             0.6666666666666666,
             "#ed7953"
            ],
            [
             0.7777777777777778,
             "#fb9f3a"
            ],
            [
             0.8888888888888888,
             "#fdca26"
            ],
            [
             1,
             "#f0f921"
            ]
           ]
          },
          "colorway": [
           "#636efa",
           "#EF553B",
           "#00cc96",
           "#ab63fa",
           "#FFA15A",
           "#19d3f3",
           "#FF6692",
           "#B6E880",
           "#FF97FF",
           "#FECB52"
          ],
          "font": {
           "color": "#2a3f5f"
          },
          "geo": {
           "bgcolor": "white",
           "lakecolor": "white",
           "landcolor": "#E5ECF6",
           "showlakes": true,
           "showland": true,
           "subunitcolor": "white"
          },
          "hoverlabel": {
           "align": "left"
          },
          "hovermode": "closest",
          "mapbox": {
           "style": "light"
          },
          "paper_bgcolor": "white",
          "plot_bgcolor": "#E5ECF6",
          "polar": {
           "angularaxis": {
            "gridcolor": "white",
            "linecolor": "white",
            "ticks": ""
           },
           "bgcolor": "#E5ECF6",
           "radialaxis": {
            "gridcolor": "white",
            "linecolor": "white",
            "ticks": ""
           }
          },
          "scene": {
           "xaxis": {
            "backgroundcolor": "#E5ECF6",
            "gridcolor": "white",
            "gridwidth": 2,
            "linecolor": "white",
            "showbackground": true,
            "ticks": "",
            "zerolinecolor": "white"
           },
           "yaxis": {
            "backgroundcolor": "#E5ECF6",
            "gridcolor": "white",
            "gridwidth": 2,
            "linecolor": "white",
            "showbackground": true,
            "ticks": "",
            "zerolinecolor": "white"
           },
           "zaxis": {
            "backgroundcolor": "#E5ECF6",
            "gridcolor": "white",
            "gridwidth": 2,
            "linecolor": "white",
            "showbackground": true,
            "ticks": "",
            "zerolinecolor": "white"
           }
          },
          "shapedefaults": {
           "line": {
            "color": "#2a3f5f"
           }
          },
          "ternary": {
           "aaxis": {
            "gridcolor": "white",
            "linecolor": "white",
            "ticks": ""
           },
           "baxis": {
            "gridcolor": "white",
            "linecolor": "white",
            "ticks": ""
           },
           "bgcolor": "#E5ECF6",
           "caxis": {
            "gridcolor": "white",
            "linecolor": "white",
            "ticks": ""
           }
          },
          "title": {
           "x": 0.05
          },
          "xaxis": {
           "automargin": true,
           "gridcolor": "white",
           "linecolor": "white",
           "ticks": "",
           "title": {
            "standoff": 15
           },
           "zerolinecolor": "white",
           "zerolinewidth": 2
          },
          "yaxis": {
           "automargin": true,
           "gridcolor": "white",
           "linecolor": "white",
           "ticks": "",
           "title": {
            "standoff": 15
           },
           "zerolinecolor": "white",
           "zerolinewidth": 2
          }
         }
        },
        "xaxis": {
         "anchor": "y",
         "autorange": true,
         "domain": [
          0,
          1
         ],
         "range": [
          -0.5,
          56.5
         ],
         "title": {
          "text": "role"
         },
         "type": "category"
        },
        "yaxis": {
         "anchor": "x",
         "autorange": true,
         "domain": [
          0,
          1
         ],
         "range": [
          0,
          136.8421052631579
         ],
         "title": {
          "text": "count"
         }
        }
       }
      },
      "image/png": "[encoded data removed]",
      "text/html": [
       "<div>                            <div id=\"d94e9bb9-dbb3-4d4e-9858-8650d040c079\" class=\"plotly-graph-div\" style=\"height:525px; width:100%;\"></div>            <script type=\"text/javascript\">                require([\"plotly\"], function(Plotly) {                    window.PLOTLYENV=window.PLOTLYENV || {};                                    if (document.getElementById(\"d94e9bb9-dbb3-4d4e-9858-8650d040c079\")) {                    Plotly.newPlot(                        \"d94e9bb9-dbb3-4d4e-9858-8650d040c079\",                        [{\"alignmentgroup\":\"True\",\"bingroup\":\"x\",\"histfunc\":\"count\",\"hovertemplate\":\"role=%{x}\\u003cbr\\u003ecount=%{y}\\u003cextra\\u003e\\u003c\\u002fextra\\u003e\",\"legendgroup\":\"\",\"marker\":{\"color\":\"#636efa\",\"pattern\":{\"shape\":\"\"}},\"name\":\"\",\"offsetgroup\":\"\",\"orientation\":\"v\",\"showlegend\":false,\"x\":[\"concreteaggregate\",\"iterator\",\"concreteiterator\",\"concreteiterator\",\"concreteiterator\",\"concreteaggregate\",\"client\",\"aggregate\",\"concreteaggregate\",\"concreteaggregate\",\"iterator\",\"concreteiterator\",\"iterator\",\"concreteiterator\",\"client\",\"client\",\"iterator\",\"concreteiterator\",\"iterator\",\"aggregate\",\"client\",\"client\",\"concreteaggregate\",\"iterator\",\"concreteiterator\",\"concreteaggregate\",\"iterator\",\"concreteiterator\",\"concreteclass\",\"abstractclass\",\"concreteclass\",\"concreteclass\",\"concreteclass\",\"concreteclass\",\"concreteclass\",\"concreteclass\",\"concreteclass\",\"concreteclass\",\"concreteclass\",\"concreteclass\",\"concreteclass\",\"concreteclass\",\"concreteclass\",\"concreteclass\",\"concreteclass\",\"concreteclass\",\"concreteclass\",\"abstractclass\",\"concreteclass\",\"concreteclass\",\"concreteclass\",\"concreteclass\",\"concreteclass\",\"concreteclass\",\"concreteclass\",\"concreteclass\",\"concreteclass\",\"abstractclass\",\"concreteclass\",\"concreteclass\",\"concreteclass\",\"concreteclass\",\"abstractclass\",\"concreteclass\",\"concreteclass\",\"concreteclass\",\"concreteclass\",\"concreteclass\",\"concreteclass\",\"abstractclass\",\"concreteclass\",\"concreteclass\",\"concreteclass\",\"concreteclass\",\"concreteclass\",\"concreteclass\",\"concreteclass\",\"concreteclass\",\"concreteclass\",\"concreteclass\",\"concreteclass\",\"concreteclass\",\"concreteclass\",\"concreteclass\",\"concreteclass\",\"concreteclass\",\"concreteclass\",\"concreteclass\",\"concreteclass\",\"concreteclass\",\"concreteclass\",\"concreteclass\",\"concreteclass\",\"concreteclass\",\"abstractclass\",\"concreteclass\",\"concreteclass\",\"concreteclass\",\"concreteclass\",\"concreteclass\",\"concreteclass\",\"concreteclass\",\"abstractclass\",\"concreteclass\",\"concreteclass\",\"concreteclass\",\"concreteclass\",\"concreteclass\",\"concreteclass\",\"concreteclass\",\"concreteclass\",\"concreteclass\",\"concreteclass\",\"concreteclass\",\"concreteclass\",\"concreteclass\",\"concreteclass\",\"abstractclass\",\"concreteclass\",\"concreteclass\",\"concreteclass\",\"facade\",\"subsystemclass\",\"element\",\"objectstructure\",\"concreteelement\",\"visitor\",\"visitor\",\"concretevisitor\",\"concretevisitor\",\"concretevisitor\",\"concretevisitor\",\"concretevisitor\",\"concretevisitor\",\"concretevisitor\",\"concretevisitor\",\"concretevisitor\",\"concretevisitor\",\"concretevisitor\",\"concretevisitor\",\"concretevisitor\",\"element\",\"concreteelement\",\"concreteelement\",\"concreteelement\",\"concreteelement\",\"concreteelement\",\"concreteelement\",\"concreteelement\",\"concreteelement\",\"concreteelement\",\"concreteelement\",\"concreteelement\",\"visitor\",\"concretevisitor\",\"concretevisitor\",\"concretevisitor\",\"concretevisitor\",\"concretevisitor\",\"concretevisitor\",\"concretevisitor\",\"concretevisitor\",\"concretevisitor\",\"concretevisitor\",\"concretevisitor\",\"concretevisitor\",\"concretevisitor\",\"concretevisitor\",\"concretevisitor\",\"element\",\"concreteelement\",\"concreteelement\",\"concreteelement\",\"concreteelement\",\"concreteelement\",\"concreteelement\",\"concreteelement\",\"concreteelement\",\"concreteelement\",\"concreteelement\",\"concreteelement\",\"concreteelement\",\"concreteelement\",\"concreteelement\",\"concreteelement\",\"concreteelement\",\"concreteelement\",\"concreteelement\",\"concreteelement\",\"concreteelement\",\"concreteelement\",\"concreteelement\",\"concreteelement\",\"concreteelement\",\"concreteelement\",\"concreteelement\",\"concreteelement\",\"concreteelement\",\"concreteelement\",\"concreteelement\",\"concreteelement\",\"concreteelement\",\"concreteelement\",\"concreteelement\",\"concreteelement\",\"concreteelement\",\"concreteelement\",\"concreteelement\",\"concreteelement\",\"concreteelement\",\"concreteelement\",\"concreteelement\",\"concreteelement\",\"concreteelement\",\"concreteelement\",\"concreteelement\",\"concreteelement\",\"concreteelement\",\"concreteelement\",\"concreteelement\",\"concreteelement\",\"concreteelement\",\"concreteelement\",\"concreteelement\",\"concreteelement\",\"concreteelement\",\"concreteelement\",\"concreteelement\",\"concreteelement\",\"concreteelement\",\"concreteelement\",\"concreteelement\",\"concreteelement\",\"concreteelement\",\"concreteelement\",\"concreteelement\",\"concreteelement\",\"concreteelement\",\"concreteelement\",\"concreteelement\",\"concreteelement\",\"concreteelement\",\"concreteelement\",\"concreteelement\",\"concreteelement\",\"concreteelement\",\"concreteelement\",\"concreteelement\",\"concreteelement\",\"concreteelement\",\"concreteelement\",\"concreteelement\",\"concreteelement\",\"concreteelement\",\"concreteelement\",\"concreteelement\",\"context\",\"state\",\"concretestate\",\"concretestate\",\"concretestate\",\"concretestate\",\"concretestate\",\"concretestate\",\"concretestate\",\"concretestate\",\"concretestate\",\"concretestate\",\"concretestate\",\"concretestate\",\"concretestate\",\"concretestate\",\"concretestate\",\"concretestate\",\"concretestate\",\"context\",\"concretestate\",\"concretestate\",\"concretestate\",\"concretestate\",\"concretestate\",\"context\",\"state\",\"concretestate\",\"concretestate\",\"concretestate\",\"context\",\"state\",\"concretestate\",\"concretestate\",\"concretestate\",\"concretestate\",\"concretestate\",\"concretestate\",\"concretestate\",\"concretestate\",\"concretestate\",\"concretestate\",\"concretestate\",\"concretestate\",\"concretestate\",\"concretestate\",\"concretestate\",\"concretestate\",\"originator\",\"originator\",\"originator\",\"originator\",\"memento\",\"memento\",\"memento\",\"memento\",\"originator\",\"originator\",\"originator\",\"originator\",\"caretaker\",\"nullobject\",\"abstraction\",\"refinedabstraction\",\"refinedabstraction\",\"refinedabstraction\",\"refinedabstraction\",\"implementor\",\"concreteimplementor\",\"concreteimplementor\",\"concreteimplementor\",\"concreteimplementor\",\"concreteimplementor\",\"concreteimplementor\",\"abstraction\",\"refinedabstraction\",\"refinedabstraction\",\"refinedabstraction\",\"implementor\",\"concreteimplementor\",\"concreteimplementor\",\"concreteimplementor\",\"concreteimplementor\",\"client\",\"prototype\",\"concreteprototype\",\"concreteprototype\",\"concreteprototype\",\"concreteprototype\",\"concreteprototype\",\"concreteprototype\",\"concreteprototype\",\"concreteprototype\",\"concreteprototype\",\"concreteprototype\",\"concreteprototype\",\"concreteprototype\",\"concreteprototype\",\"concreteprototype\",\"concreteprototype\",\"concreteprototype\",\"concreteprototype\",\"concreteprototype\",\"concreteprototype\",\"concreteprototype\",\"concreteprototype\",\"concreteprototype\",\"concreteprototype\",\"concreteprototype\",\"client\",\"client\",\"prototype\",\"concreteprototype\",\"concreteprototype\",\"concreteprototype\",\"director\",\"concretebuilder\",\"director\",\"concretebuilder\",\"concretebuilder\",\"concretebuilder\",\"concretebuilder\",\"concretebuilder\",\"concretebuilder\",\"concretebuilder\",\"concretebuilder\",\"director\",\"builder\",\"concretebuilder\",\"concretebuilder\",\"concretebuilder\",\"concretebuilder\",\"concretebuilder\",\"concretebuilder\",\"concretebuilder\",\"product\",\"product\",\"product\",\"product\",\"director\",\"concretebuilder\",\"concretebuilder\",\"director\",\"concretebuilder\",\"product\",\"director\",\"builder\",\"concretebuilder\",\"concretebuilder\",\"concretebuilder\",\"concretebuilder\",\"concretebuilder\",\"concretebuilder\",\"concretebuilder\",\"concretebuilder\",\"client\",\"client\",\"client\",\"client\",\"client\",\"client\",\"client\",\"client\",\"component\",\"composite\",\"composite\",\"composite\",\"composite\",\"composite\",\"leaf\",\"leaf\",\"leaf\",\"leaf\",\"leaf\",\"leaf\",\"leaf\",\"leaf\",\"leaf\",\"leaf\",\"leaf\",\"leaf\",\"leaf\",\"leaf\",\"leaf\",\"leaf\",\"leaf\",\"leaf\",\"leaf\",\"leaf\",\"leaf\",\"leaf\",\"leaf\",\"leaf\",\"component\",\"composite\",\"composite\",\"leaf\",\"leaf\",\"leaf\",\"leaf\",\"leaf\",\"leaf\",\"leaf\",\"leaf\",\"leaf\",\"leaf\",\"leaf\",\"leaf\",\"leaf\",\"leaf\",\"leaf\",\"leaf\",\"leaf\",\"leaf\",\"leaf\",\"leaf\",\"leaf\",\"leaf\",\"leaf\",\"leaf\",\"leaf\",\"leaf\",\"leaf\",\"leaf\",\"leaf\",\"leaf\",\"leaf\",\"leaf\",\"leaf\",\"leaf\",\"leaf\",\"leaf\",\"leaf\",\"client\",\"client\",\"client\",\"client\",\"client\",\"component\",\"composite\",\"leaf\",\"leaf\",\"leaf\",\"leaf\",\"leaf\",\"leaf\",\"leaf\",\"leaf\",\"leaf\",\"leaf\",\"leaf\",\"leaf\",\"leaf\",\"leaf\",\"leaf\",\"component\",\"client\",\"component\",\"composite\",\"leaf\",\"leaf\",\"leaf\",\"leaf\",\"leaf\",\"leaf\",\"leaf\",\"leaf\",\"leaf\",\"leaf\",\"leaf\",\"leaf\",\"leaf\",\"composite\",\"composite\",\"component\",\"client\",\"target\",\"adapter\",\"adaptee\",\"client\",\"target\",\"adapter\",\"adaptee\",\"target\",\"adapter\",\"client\",\"target\",\"adapter\",\"adaptee\",\"client\",\"client\",\"client\",\"client\",\"target\",\"target\",\"adapter\",\"adaptee\",\"adaptee\",\"client\",\"target\",\"adapter\",\"adaptee\",\"target\",\"adapter\",\"adapter\",\"client\",\"client\",\"target\",\"adapter\",\"client\",\"client\",\"target\",\"adapter\",\"adapter\",\"adaptee\",\"adaptee\",\"client\",\"target\",\"adapter\",\"adaptee\",\"client\",\"client\",\"target\",\"adapter\",\"adaptee\",\"client\",\"target\",\"target\",\"adapter\",\"adaptee\",\"client\",\"target\",\"adapter\",\"adaptee\",\"target\",\"adapter\",\"adaptee\",\"target\",\"adapter\",\"target\",\"target\",\"client\",\"adapter\",\"client\",\"client\",\"target\",\"adapter\",\"adaptee\",\"client\",\"client\",\"client\",\"client\",\"client\",\"client\",\"target\",\"adapter\",\"adapter\",\"adapter\",\"adapter\",\"adapter\",\"adaptee\",\"adaptee\",\"client\",\"client\",\"client\",\"client\",\"client\",\"target\",\"adapter\",\"adapter\",\"adapter\",\"adapter\",\"adapter\",\"adapter\",\"adapter\",\"adapter\",\"adapter\",\"adapter\",\"adapter\",\"adapter\",\"adapter\",\"adapter\",\"adaptee\",\"adaptee\",\"adaptee\",\"adaptee\",\"adaptee\",\"adaptee\",\"adaptee\",\"adaptee\",\"adaptee\",\"adaptee\",\"adaptee\",\"adaptee\",\"adapter\",\"adapter\",\"adapter\",\"adapter\",\"adapter\",\"adapter\",\"adapter\",\"adapter\",\"adaptee\",\"client\",\"client\",\"target\",\"adapter\",\"adapter\",\"adapter\",\"adapter\",\"adapter\",\"adapter\",\"adapter\",\"adapter\",\"adapter\",\"adapter\",\"adapter\",\"adapter\",\"adapter\",\"adapter\",\"adapter\",\"adapter\",\"adapter\",\"adapter\",\"adapter\",\"adapter\",\"adapter\",\"adaptee\",\"adaptee\",\"adaptee\",\"adaptee\",\"adaptee\",\"adaptee\",\"adaptee\",\"adaptee\",\"target\",\"adapter\",\"client\",\"target\",\"adapter\",\"adaptee\",\"client\",\"client\",\"client\",\"client\",\"target\",\"adapter\",\"adapter\",\"adapter\",\"adaptee\",\"adaptee\",\"adaptee\",\"adapter\",\"target\",\"client\",\"client\",\"target\",\"adapter\",\"adaptee\",\"client\",\"client\",\"client\",\"client\",\"target\",\"adapter\",\"client\",\"target\",\"adapter\",\"adaptee\",\"client\",\"target\",\"adapter\",\"adaptee\",\"client\",\"target\",\"target\",\"target\",\"target\",\"target\",\"adapter\",\"singleton\",\"singleton\",\"strategy\",\"context\",\"strategy\",\"context\",\"context\",\"strategy\",\"concretestrategy\",\"concretestrategy\",\"concretestrategy\",\"context\",\"strategy\",\"concretestrategy\",\"context\",\"context\",\"context\",\"context\",\"context\",\"context\",\"context\",\"context\",\"context\",\"context\",\"context\",\"context\",\"concretestrategy\",\"concretestrategy\",\"concretestrategy\",\"concretestrategy\",\"concretestrategy\",\"concretestrategy\",\"context\",\"context\",\"context\",\"context\",\"strategy\",\"concretestrategy\",\"concretestrategy\",\"concretestrategy\",\"concretestrategy\",\"context\",\"strategy\",\"concretestrategy\",\"subject\",\"concretesubject\",\"concretesubject\",\"concretesubject\",\"concretesubject\",\"concretesubject\",\"concretesubject\",\"concretesubject\",\"concretesubject\",\"concretesubject\",\"concretesubject\",\"concretesubject\",\"concretesubject\",\"concretesubject\",\"concretesubject\",\"concretesubject\",\"concretesubject\",\"concretesubject\",\"concretesubject\",\"concretesubject\",\"concretesubject\",\"concretesubject\",\"concreteobserver\",\"concreteobserver\",\"concreteobserver\",\"observer\",\"observer\",\"observer\",\"observer\",\"observer\",\"observer\",\"concreteobserver\",\"subject\",\"concretesubject\",\"concretesubject\",\"observer\",\"concreteobserver\",\"subject\",\"concretesubject\",\"concretesubject\",\"concretesubject\",\"concretesubject\",\"concretesubject\",\"concretesubject\",\"concretesubject\",\"concretesubject\",\"concretesubject\",\"concretesubject\",\"concretesubject\",\"concretesubject\",\"concretesubject\",\"observer\",\"concreteobserver\",\"concretesubject\",\"observer\",\"concreteobserver\",\"observer\",\"observer\",\"concretesubject\",\"observer\",\"concreteobserver\",\"concreteobserver\",\"concreteobserver\",\"concreteobserver\",\"concreteobserver\",\"concreteobserver\",\"observer\",\"concreteobserver\",\"concreteobserver\",\"concretesubject\",\"concretesubject\",\"observer\",\"concreteobserver\",\"concretesubject\",\"concretesubject\",\"concretesubject\",\"observer\",\"concreteobserver\",\"concreteobserver\",\"concreteobserver\",\"subject\",\"concretesubject\",\"concretesubject\",\"concretesubject\",\"concretesubject\",\"concretesubject\",\"concretesubject\",\"concretesubject\",\"concretesubject\",\"concretesubject\",\"concretesubject\",\"concretesubject\",\"concretesubject\",\"concretesubject\",\"concretesubject\",\"concretesubject\",\"concretesubject\",\"concretesubject\",\"concretesubject\",\"concretesubject\",\"concretesubject\",\"concretesubject\",\"concretesubject\",\"concretesubject\",\"concretesubject\",\"observer\",\"concreteobserver\",\"concreteobserver\",\"concreteobserver\",\"concreteobserver\",\"concreteobserver\",\"concreteobserver\",\"concreteobserver\",\"concreteobserver\",\"concreteobserver\",\"concreteobserver\",\"concreteobserver\",\"concreteobserver\",\"concreteobserver\",\"concreteobserver\",\"concreteobserver\",\"subject\",\"concretesubject\",\"observer\",\"concreteobserver\",\"concreteobserver\",\"concreteobserver\",\"concreteobserver\",\"concreteobserver\",\"component\",\"concretecomponent\",\"concretecomponent\",\"concretecomponent\",\"concretecomponent\",\"concretecomponent\",\"concretecomponent\",\"concretecomponent\",\"concretecomponent\",\"concretecomponent\",\"concretecomponent\",\"concretecomponent\",\"concretecomponent\",\"concretecomponent\",\"concretecomponent\",\"concretecomponent\",\"concretecomponent\",\"concretecomponent\",\"concretecomponent\",\"concretecomponent\",\"concretecomponent\",\"concretecomponent\",\"concretecomponent\",\"decorator\",\"concretedecorator\",\"concretedecorator\",\"component\",\"concretecomponent\",\"concretecomponent\",\"concretecomponent\",\"concretecomponent\",\"concretecomponent\",\"concretecomponent\",\"concretecomponent\",\"concretecomponent\",\"concretecomponent\",\"concretecomponent\",\"concretecomponent\",\"concretecomponent\",\"concretecomponent\",\"concretecomponent\",\"concretecomponent\",\"concretecomponent\",\"concretecomponent\",\"concretecomponent\",\"concretecomponent\",\"concretecomponent\",\"concretecomponent\",\"concretecomponent\",\"concretecomponent\",\"concretecomponent\",\"concretecomponent\",\"concretecomponent\",\"concretecomponent\",\"concretecomponent\",\"concretecomponent\",\"concretecomponent\",\"concretecomponent\",\"concretecomponent\",\"concretecomponent\",\"concretedecorator\",\"concretedecorator\",\"concretedecorator\",\"concretedecorator\",\"command\",\"concretecommand\",\"concretecommand\",\"concretecommand\",\"concretecommand\",\"receiver\",\"receiver\",\"command\",\"concretecommand\",\"concretecommand\",\"concretecommand\",\"concretecommand\",\"receiver\",\"receiver\",\"client\",\"invoker\",\"concretecommand\",\"concretecommand\",\"concretecommand\",\"concretecommand\",\"client\",\"invoker\",\"invoker\",\"invoker\",\"invoker\",\"invoker\",\"invoker\",\"invoker\",\"invoker\",\"invoker\",\"invoker\",\"invoker\",\"invoker\",\"invoker\",\"invoker\",\"concretecommand\",\"concretecommand\",\"concretecommand\",\"concretecommand\",\"concretecommand\",\"concretecommand\",\"concretecommand\",\"concretecommand\",\"concretecommand\",\"concretecommand\",\"concretecommand\",\"concretecommand\",\"concretecommand\",\"concretecommand\",\"concretecommand\",\"concretecommand\",\"concretecommand\",\"receiver\",\"client\",\"client\",\"client\",\"invoker\",\"invoker\",\"invoker\",\"command\",\"concretecommand\",\"concretecommand\",\"concretecommand\",\"concretecommand\",\"concretecommand\",\"concretecommand\",\"concretecommand\",\"concretecommand\",\"concretecommand\",\"concretecommand\",\"concretecommand\",\"concretecommand\",\"concretecommand\",\"receiver\",\"receiver\",\"receiver\",\"client\",\"client\",\"client\",\"client\",\"client\",\"client\",\"client\",\"client\",\"client\",\"client\",\"client\",\"client\",\"client\",\"client\",\"client\",\"client\",\"abstractproduct\",\"product\",\"product\",\"product\",\"product\",\"product\",\"product\",\"product\",\"product\",\"product\",\"product\",\"product\",\"product\",\"product\",\"product\",\"product\",\"product\",\"product\",\"client\",\"client\",\"client\",\"client\",\"client\",\"concretefactory\",\"concretefactory\",\"abstractproduct\",\"abstractproduct\",\"product\",\"product\",\"product\",\"product\",\"product\",\"client\",\"client\",\"client\",\"client\",\"concretefactory\",\"concretefactory\",\"concretefactory\",\"concretefactory\",\"concretefactory\",\"concretefactory\",\"concretefactory\",\"product\",\"product\",\"product\",\"product\",\"product\",\"product\",\"client\",\"client\",\"client\",\"client\",\"concretefactory\",\"abstractproduct\",\"product\",\"product\",\"product\",\"product\",\"product\",\"product\",\"product\",\"product\",\"product\",\"product\",\"product\",\"product\",\"product\",\"product\",\"product\",\"product\",\"product\",\"product\",\"product\",\"product\",\"product\",\"product\",\"product\",\"client\",\"abstractfactory\",\"concretefactory\",\"concretefactory\",\"abstractproduct\",\"product\",\"client\",\"client\",\"abstractproduct\",\"product\",\"product\",\"product\",\"product\",\"product\",\"product\",\"product\",\"product\",\"concretefactory\",\"abstractproduct\",\"product\",\"product\",\"product\",\"product\",\"product\",\"product\",\"product\",\"product\",\"product\",\"abstractfactory\",\"concretefactory\",\"abstractproduct\",\"product\",\"product\",\"product\",\"product\",\"product\",\"product\",\"product\",\"product\",\"client\",\"abstractfactory\",\"concretefactory\",\"abstractproduct\",\"product\",\"product\",\"product\",\"product\",\"product\",\"product\",\"product\",\"product\",\"product\",\"product\",\"product\",\"product\",\"product\",\"product\",\"product\",\"product\",\"client\",\"client\",\"abstractfactory\",\"concretefactory\",\"abstractproduct\",\"product\",\"product\",\"product\",\"product\",\"product\",\"client\",\"concretefactory\",\"abstractproduct\",\"product\",\"client\",\"client\",\"client\",\"client\",\"client\",\"client\",\"client\",\"client\",\"client\",\"client\",\"client\",\"client\",\"client\",\"client\",\"client\",\"client\",\"client\",\"abstractproduct\",\"product\",\"product\",\"product\",\"product\",\"client\",\"client\",\"client\",\"abstractfactory\",\"abstractfactory\",\"concretefactory\",\"abstractproduct\",\"abstractproduct\",\"product\",\"creator\",\"concretecreator\",\"product\",\"concreteproduct\",\"concreteproduct\",\"concreteproduct\",\"concretecreator\",\"product\",\"concreteproduct\",\"concreteproduct\",\"concreteproduct\",\"concreteproduct\",\"concreteproduct\",\"concreteproduct\",\"concreteproduct\",\"concreteproduct\",\"concreteproduct\",\"concreteproduct\",\"concreteproduct\",\"concreteproduct\",\"concreteproduct\",\"concreteproduct\",\"concreteproduct\",\"concreteproduct\",\"concreteproduct\",\"concreteproduct\",\"concreteproduct\",\"creator\",\"concretecreator\",\"concretecreator\",\"concretecreator\",\"concretecreator\",\"concretecreator\",\"concretecreator\",\"concretecreator\",\"concretecreator\",\"concretecreator\",\"concretecreator\",\"concretecreator\",\"concretecreator\",\"concretecreator\",\"concretecreator\",\"concretecreator\",\"concretecreator\",\"concretecreator\",\"concretecreator\",\"concretecreator\",\"concretecreator\",\"concretecreator\",\"concretecreator\",\"concretecreator\",\"concretecreator\",\"concreteproduct\",\"creator\",\"concretecreator\",\"product\",\"concreteproduct\",\"concreteproduct\",\"concreteproduct\",\"concreteproduct\",\"concreteproduct\",\"concreteproduct\",\"concreteproduct\",\"concreteproduct\",\"concreteproduct\",\"concreteproduct\",\"concreteproduct\",\"concreteproduct\",\"concreteproduct\",\"concreteproduct\",\"concreteproduct\",\"concreteproduct\",\"creator\",\"concretecreator\",\"product\",\"concreteproduct\",\"concreteproduct\",\"concreteproduct\",\"concreteproduct\",\"concreteproduct\",\"product\",\"concreteproduct\",\"concreteproduct\",\"concreteproduct\",\"concreteproduct\",\"concreteproduct\",\"concreteproduct\",\"creator\",\"concretecreator\",\"concretecreator\",\"concretecreator\",\"concretecreator\",\"creator\",\"concretecreator\"],\"xaxis\":\"x\",\"yaxis\":\"y\",\"type\":\"histogram\"}],                        {\"template\":{\"data\":{\"histogram2dcontour\":[{\"type\":\"histogram2dcontour\",\"colorbar\":{\"outlinewidth\":0,\"ticks\":\"\"},\"colorscale\":[[0.0,\"#0d0887\"],[0.1111111111111111,\"#46039f\"],[0.2222222222222222,\"#7201a8\"],[0.3333333333333333,\"#9c179e\"],[0.4444444444444444,\"#bd3786\"],[0.5555555555555556,\"#d8576b\"],[0.6666666666666666,\"#ed7953\"],[0.7777777777777778,\"#fb9f3a\"],[0.8888888888888888,\"#fdca26\"],[1.0,\"#f0f921\"]]}],\"choropleth\":[{\"type\":\"choropleth\",\"colorbar\":{\"outlinewidth\":0,\"ticks\":\"\"}}],\"histogram2d\":[{\"type\":\"histogram2d\",\"colorbar\":{\"outlinewidth\":0,\"ticks\":\"\"},\"colorscale\":[[0.0,\"#0d0887\"],[0.1111111111111111,\"#46039f\"],[0.2222222222222222,\"#7201a8\"],[0.3333333333333333,\"#9c179e\"],[0.4444444444444444,\"#bd3786\"],[0.5555555555555556,\"#d8576b\"],[0.6666666666666666,\"#ed7953\"],[0.7777777777777778,\"#fb9f3a\"],[0.8888888888888888,\"#fdca26\"],[1.0,\"#f0f921\"]]}],\"heatmap\":[{\"type\":\"heatmap\",\"colorbar\":{\"outlinewidth\":0,\"ticks\":\"\"},\"colorscale\":[[0.0,\"#0d0887\"],[0.1111111111111111,\"#46039f\"],[0.2222222222222222,\"#7201a8\"],[0.3333333333333333,\"#9c179e\"],[0.4444444444444444,\"#bd3786\"],[0.5555555555555556,\"#d8576b\"],[0.6666666666666666,\"#ed7953\"],[0.7777777777777778,\"#fb9f3a\"],[0.8888888888888888,\"#fdca26\"],[1.0,\"#f0f921\"]]}],\"heatmapgl\":[{\"type\":\"heatmapgl\",\"colorbar\":{\"outlinewidth\":0,\"ticks\":\"\"},\"colorscale\":[[0.0,\"#0d0887\"],[0.1111111111111111,\"#46039f\"],[0.2222222222222222,\"#7201a8\"],[0.3333333333333333,\"#9c179e\"],[0.4444444444444444,\"#bd3786\"],[0.5555555555555556,\"#d8576b\"],[0.6666666666666666,\"#ed7953\"],[0.7777777777777778,\"#fb9f3a\"],[0.8888888888888888,\"#fdca26\"],[1.0,\"#f0f921\"]]}],\"contourcarpet\":[{\"type\":\"contourcarpet\",\"colorbar\":{\"outlinewidth\":0,\"ticks\":\"\"}}],\"contour\":[{\"type\":\"contour\",\"colorbar\":{\"outlinewidth\":0,\"ticks\":\"\"},\"colorscale\":[[0.0,\"#0d0887\"],[0.1111111111111111,\"#46039f\"],[0.2222222222222222,\"#7201a8\"],[0.3333333333333333,\"#9c179e\"],[0.4444444444444444,\"#bd3786\"],[0.5555555555555556,\"#d8576b\"],[0.6666666666666666,\"#ed7953\"],[0.7777777777777778,\"#fb9f3a\"],[0.8888888888888888,\"#fdca26\"],[1.0,\"#f0f921\"]]}],\"surface\":[{\"type\":\"surface\",\"colorbar\":{\"outlinewidth\":0,\"ticks\":\"\"},\"colorscale\":[[0.0,\"#0d0887\"],[0.1111111111111111,\"#46039f\"],[0.2222222222222222,\"#7201a8\"],[0.3333333333333333,\"#9c179e\"],[0.4444444444444444,\"#bd3786\"],[0.5555555555555556,\"#d8576b\"],[0.6666666666666666,\"#ed7953\"],[0.7777777777777778,\"#fb9f3a\"],[0.8888888888888888,\"#fdca26\"],[1.0,\"#f0f921\"]]}],\"mesh3d\":[{\"type\":\"mesh3d\",\"colorbar\":{\"outlinewidth\":0,\"ticks\":\"\"}}],\"scatter\":[{\"fillpattern\":{\"fillmode\":\"overlay\",\"size\":10,\"solidity\":0.2},\"type\":\"scatter\"}],\"parcoords\":[{\"type\":\"parcoords\",\"line\":{\"colorbar\":{\"outlinewidth\":0,\"ticks\":\"\"}}}],\"scatterpolargl\":[{\"type\":\"scatterpolargl\",\"marker\":{\"colorbar\":{\"outlinewidth\":0,\"ticks\":\"\"}}}],\"bar\":[{\"error_x\":{\"color\":\"#2a3f5f\"},\"error_y\":{\"color\":\"#2a3f5f\"},\"marker\":{\"line\":{\"color\":\"#E5ECF6\",\"width\":0.5},\"pattern\":{\"fillmode\":\"overlay\",\"size\":10,\"solidity\":0.2}},\"type\":\"bar\"}],\"scattergeo\":[{\"type\":\"scattergeo\",\"marker\":{\"colorbar\":{\"outlinewidth\":0,\"ticks\":\"\"}}}],\"scatterpolar\":[{\"type\":\"scatterpolar\",\"marker\":{\"colorbar\":{\"outlinewidth\":0,\"ticks\":\"\"}}}],\"histogram\":[{\"marker\":{\"pattern\":{\"fillmode\":\"overlay\",\"size\":10,\"solidity\":0.2}},\"type\":\"histogram\"}],\"scattergl\":[{\"type\":\"scattergl\",\"marker\":{\"colorbar\":{\"outlinewidth\":0,\"ticks\":\"\"}}}],\"scatter3d\":[{\"type\":\"scatter3d\",\"line\":{\"colorbar\":{\"outlinewidth\":0,\"ticks\":\"\"}},\"marker\":{\"colorbar\":{\"outlinewidth\":0,\"ticks\":\"\"}}}],\"scattermapbox\":[{\"type\":\"scattermapbox\",\"marker\":{\"colorbar\":{\"outlinewidth\":0,\"ticks\":\"\"}}}],\"scatterternary\":[{\"type\":\"scatterternary\",\"marker\":{\"colorbar\":{\"outlinewidth\":0,\"ticks\":\"\"}}}],\"scattercarpet\":[{\"type\":\"scattercarpet\",\"marker\":{\"colorbar\":{\"outlinewidth\":0,\"ticks\":\"\"}}}],\"carpet\":[{\"aaxis\":{\"endlinecolor\":\"#2a3f5f\",\"gridcolor\":\"white\",\"linecolor\":\"white\",\"minorgridcolor\":\"white\",\"startlinecolor\":\"#2a3f5f\"},\"baxis\":{\"endlinecolor\":\"#2a3f5f\",\"gridcolor\":\"white\",\"linecolor\":\"white\",\"minorgridcolor\":\"white\",\"startlinecolor\":\"#2a3f5f\"},\"type\":\"carpet\"}],\"table\":[{\"cells\":{\"fill\":{\"color\":\"#EBF0F8\"},\"line\":{\"color\":\"white\"}},\"header\":{\"fill\":{\"color\":\"#C8D4E3\"},\"line\":{\"color\":\"white\"}},\"type\":\"table\"}],\"barpolar\":[{\"marker\":{\"line\":{\"color\":\"#E5ECF6\",\"width\":0.5},\"pattern\":{\"fillmode\":\"overlay\",\"size\":10,\"solidity\":0.2}},\"type\":\"barpolar\"}],\"pie\":[{\"automargin\":true,\"type\":\"pie\"}]},\"layout\":{\"autotypenumbers\":\"strict\",\"colorway\":[\"#636efa\",\"#EF553B\",\"#00cc96\",\"#ab63fa\",\"#FFA15A\",\"#19d3f3\",\"#FF6692\",\"#B6E880\",\"#FF97FF\",\"#FECB52\"],\"font\":{\"color\":\"#2a3f5f\"},\"hovermode\":\"closest\",\"hoverlabel\":{\"align\":\"left\"},\"paper_bgcolor\":\"white\",\"plot_bgcolor\":\"#E5ECF6\",\"polar\":{\"bgcolor\":\"#E5ECF6\",\"angularaxis\":{\"gridcolor\":\"white\",\"linecolor\":\"white\",\"ticks\":\"\"},\"radialaxis\":{\"gridcolor\":\"white\",\"linecolor\":\"white\",\"ticks\":\"\"}},\"ternary\":{\"bgcolor\":\"#E5ECF6\",\"aaxis\":{\"gridcolor\":\"white\",\"linecolor\":\"white\",\"ticks\":\"\"},\"baxis\":{\"gridcolor\":\"white\",\"linecolor\":\"white\",\"ticks\":\"\"},\"caxis\":{\"gridcolor\":\"white\",\"linecolor\":\"white\",\"ticks\":\"\"}},\"coloraxis\":{\"colorbar\":{\"outlinewidth\":0,\"ticks\":\"\"}},\"colorscale\":{\"sequential\":[[0.0,\"#0d0887\"],[0.1111111111111111,\"#46039f\"],[0.2222222222222222,\"#7201a8\"],[0.3333333333333333,\"#9c179e\"],[0.4444444444444444,\"#bd3786\"],[0.5555555555555556,\"#d8576b\"],[0.6666666666666666,\"#ed7953\"],[0.7777777777777778,\"#fb9f3a\"],[0.8888888888888888,\"#fdca26\"],[1.0,\"#f0f921\"]],\"sequentialminus\":[[0.0,\"#0d0887\"],[0.1111111111111111,\"#46039f\"],[0.2222222222222222,\"#7201a8\"],[0.3333333333333333,\"#9c179e\"],[0.4444444444444444,\"#bd3786\"],[0.5555555555555556,\"#d8576b\"],[0.6666666666666666,\"#ed7953\"],[0.7777777777777778,\"#fb9f3a\"],[0.8888888888888888,\"#fdca26\"],[1.0,\"#f0f921\"]],\"diverging\":[[0,\"#8e0152\"],[0.1,\"#c51b7d\"],[0.2,\"#de77ae\"],[0.3,\"#f1b6da\"],[0.4,\"#fde0ef\"],[0.5,\"#f7f7f7\"],[0.6,\"#e6f5d0\"],[0.7,\"#b8e186\"],[0.8,\"#7fbc41\"],[0.9,\"#4d9221\"],[1,\"#276419\"]]},\"xaxis\":{\"gridcolor\":\"white\",\"linecolor\":\"white\",\"ticks\":\"\",\"title\":{\"standoff\":15},\"zerolinecolor\":\"white\",\"automargin\":true,\"zerolinewidth\":2},\"yaxis\":{\"gridcolor\":\"white\",\"linecolor\":\"white\",\"ticks\":\"\",\"title\":{\"standoff\":15},\"zerolinecolor\":\"white\",\"automargin\":true,\"zerolinewidth\":2},\"scene\":{\"xaxis\":{\"backgroundcolor\":\"#E5ECF6\",\"gridcolor\":\"white\",\"linecolor\":\"white\",\"showbackground\":true,\"ticks\":\"\",\"zerolinecolor\":\"white\",\"gridwidth\":2},\"yaxis\":{\"backgroundcolor\":\"#E5ECF6\",\"gridcolor\":\"white\",\"linecolor\":\"white\",\"showbackground\":true,\"ticks\":\"\",\"zerolinecolor\":\"white\",\"gridwidth\":2},\"zaxis\":{\"backgroundcolor\":\"#E5ECF6\",\"gridcolor\":\"white\",\"linecolor\":\"white\",\"showbackground\":true,\"ticks\":\"\",\"zerolinecolor\":\"white\",\"gridwidth\":2}},\"shapedefaults\":{\"line\":{\"color\":\"#2a3f5f\"}},\"annotationdefaults\":{\"arrowcolor\":\"#2a3f5f\",\"arrowhead\":0,\"arrowwidth\":1},\"geo\":{\"bgcolor\":\"white\",\"landcolor\":\"#E5ECF6\",\"subunitcolor\":\"white\",\"showland\":true,\"showlakes\":true,\"lakecolor\":\"white\"},\"title\":{\"x\":0.05},\"mapbox\":{\"style\":\"light\"}}},\"xaxis\":{\"anchor\":\"y\",\"domain\":[0.0,1.0],\"title\":{\"text\":\"role\"}},\"yaxis\":{\"anchor\":\"x\",\"domain\":[0.0,1.0],\"title\":{\"text\":\"count\"}},\"legend\":{\"tracegroupgap\":0},\"margin\":{\"t\":60},\"barmode\":\"relative\"},                        {\"responsive\": true}                    ).then(function(){\n",
       "                            \n",
       "var gd = document.getElementById('d94e9bb9-dbb3-4d4e-9858-8650d040c079');\n",
       "var x = new MutationObserver(function (mutations, observer) {{\n",
       "        var display = window.getComputedStyle(gd).display;\n",
       "        if (!display || display === 'none') {{\n",
       "            console.log([gd, 'removed!']);\n",
       "            Plotly.purge(gd);\n",
       "            observer.disconnect();\n",
       "        }}\n",
       "}});\n",
       "\n",
       "// Listen for the removal of the full notebook cells\n",
       "var notebookContainer = gd.closest('#notebook-container');\n",
       "if (notebookContainer) {{\n",
       "    x.observe(notebookContainer, {childList: true});\n",
       "}}\n",
       "\n",
       "// Listen for the clearing of the current output cell\n",
       "var outputEl = gd.closest('.output');\n",
       "if (outputEl) {{\n",
       "    x.observe(outputEl, {childList: true});\n",
       "}}\n",
       "\n",
       "                        })                };                });            </script>        </div>"
      ]
     },
     "metadata": {},
     "output_type": "display_data"
    }
   ],
   "source": [
    "px.histogram(df, x='role', histfunc='count')"
   ]
  },
  {
   "cell_type": "markdown",
   "id": "240b2766-9c37-4c29-a2d8-cee945d1ba17",
   "metadata": {},
   "source": [
    "### Distribution of design patterns"
   ]
  },
  {
   "cell_type": "code",
   "execution_count": 360,
   "id": "f654cb14-24d4-403d-ad90-7db5bbf0e1d3",
   "metadata": {},
   "outputs": [
    {
     "data": {
      "application/vnd.plotly.v1+json": {
       "config": {
        "plotlyServerURL": "https://plot.ly"
       },
       "data": [
        {
         "alignmentgroup": "True",
         "bingroup": "x",
         "histfunc": "sum",
         "hovertemplate": "design_pattern=%{x}<br>sum of count=%{y}<extra></extra>",
         "legendgroup": "",
         "marker": {
          "color": "#636efa",
          "pattern": {
           "shape": ""
          }
         },
         "name": "",
         "offsetgroup": "",
         "orientation": "v",
         "showlegend": false,
         "type": "histogram",
         "x": [
          "adapter",
          "abstract_factory",
          "observer",
          "template_method",
          "iterator",
          "factory_method",
          "strategy",
          "composite",
          "builder",
          "state",
          "command",
          "memento",
          "visitor",
          "bridge",
          "prototype",
          "singleton",
          "decorator",
          "null_object",
          "facade"
         ],
         "xaxis": "x",
         "y": [
          31,
          14,
          12,
          9,
          8,
          8,
          7,
          6,
          6,
          5,
          5,
          3,
          3,
          2,
          2,
          2,
          2,
          1,
          1
         ],
         "yaxis": "y"
        }
       ],
       "layout": {
        "autosize": true,
        "barmode": "relative",
        "legend": {
         "tracegroupgap": 0
        },
        "margin": {
         "t": 60
        },
        "template": {
         "data": {
          "bar": [
           {
            "error_x": {
             "color": "#2a3f5f"
            },
            "error_y": {
             "color": "#2a3f5f"
            },
            "marker": {
             "line": {
              "color": "#E5ECF6",
              "width": 0.5
             },
             "pattern": {
              "fillmode": "overlay",
              "size": 10,
              "solidity": 0.2
             }
            },
            "type": "bar"
           }
          ],
          "barpolar": [
           {
            "marker": {
             "line": {
              "color": "#E5ECF6",
              "width": 0.5
             },
             "pattern": {
              "fillmode": "overlay",
              "size": 10,
              "solidity": 0.2
             }
            },
            "type": "barpolar"
           }
          ],
          "carpet": [
           {
            "aaxis": {
             "endlinecolor": "#2a3f5f",
             "gridcolor": "white",
             "linecolor": "white",
             "minorgridcolor": "white",
             "startlinecolor": "#2a3f5f"
            },
            "baxis": {
             "endlinecolor": "#2a3f5f",
             "gridcolor": "white",
             "linecolor": "white",
             "minorgridcolor": "white",
             "startlinecolor": "#2a3f5f"
            },
            "type": "carpet"
           }
          ],
          "choropleth": [
           {
            "colorbar": {
             "outlinewidth": 0,
             "ticks": ""
            },
            "type": "choropleth"
           }
          ],
          "contour": [
           {
            "colorbar": {
             "outlinewidth": 0,
             "ticks": ""
            },
            "colorscale": [
             [
              0,
              "#0d0887"
             ],
             [
              0.1111111111111111,
              "#46039f"
             ],
             [
              0.2222222222222222,
              "#7201a8"
             ],
             [
              0.3333333333333333,
              "#9c179e"
             ],
             [
              0.4444444444444444,
              "#bd3786"
             ],
             [
              0.5555555555555556,
              "#d8576b"
             ],
             [
              0.6666666666666666,
              "#ed7953"
             ],
             [
              0.7777777777777778,
              "#fb9f3a"
             ],
             [
              0.8888888888888888,
              "#fdca26"
             ],
             [
              1,
              "#f0f921"
             ]
            ],
            "type": "contour"
           }
          ],
          "contourcarpet": [
           {
            "colorbar": {
             "outlinewidth": 0,
             "ticks": ""
            },
            "type": "contourcarpet"
           }
          ],
          "heatmap": [
           {
            "colorbar": {
             "outlinewidth": 0,
             "ticks": ""
            },
            "colorscale": [
             [
              0,
              "#0d0887"
             ],
             [
              0.1111111111111111,
              "#46039f"
             ],
             [
              0.2222222222222222,
              "#7201a8"
             ],
             [
              0.3333333333333333,
              "#9c179e"
             ],
             [
              0.4444444444444444,
              "#bd3786"
             ],
             [
              0.5555555555555556,
              "#d8576b"
             ],
             [
              0.6666666666666666,
              "#ed7953"
             ],
             [
              0.7777777777777778,
              "#fb9f3a"
             ],
             [
              0.8888888888888888,
              "#fdca26"
             ],
             [
              1,
              "#f0f921"
             ]
            ],
            "type": "heatmap"
           }
          ],
          "heatmapgl": [
           {
            "colorbar": {
             "outlinewidth": 0,
             "ticks": ""
            },
            "colorscale": [
             [
              0,
              "#0d0887"
             ],
             [
              0.1111111111111111,
              "#46039f"
             ],
             [
              0.2222222222222222,
              "#7201a8"
             ],
             [
              0.3333333333333333,
              "#9c179e"
             ],
             [
              0.4444444444444444,
              "#bd3786"
             ],
             [
              0.5555555555555556,
              "#d8576b"
             ],
             [
              0.6666666666666666,
              "#ed7953"
             ],
             [
              0.7777777777777778,
              "#fb9f3a"
             ],
             [
              0.8888888888888888,
              "#fdca26"
             ],
             [
              1,
              "#f0f921"
             ]
            ],
            "type": "heatmapgl"
           }
          ],
          "histogram": [
           {
            "marker": {
             "pattern": {
              "fillmode": "overlay",
              "size": 10,
              "solidity": 0.2
             }
            },
            "type": "histogram"
           }
          ],
          "histogram2d": [
           {
            "colorbar": {
             "outlinewidth": 0,
             "ticks": ""
            },
            "colorscale": [
             [
              0,
              "#0d0887"
             ],
             [
              0.1111111111111111,
              "#46039f"
             ],
             [
              0.2222222222222222,
              "#7201a8"
             ],
             [
              0.3333333333333333,
              "#9c179e"
             ],
             [
              0.4444444444444444,
              "#bd3786"
             ],
             [
              0.5555555555555556,
              "#d8576b"
             ],
             [
              0.6666666666666666,
              "#ed7953"
             ],
             [
              0.7777777777777778,
              "#fb9f3a"
             ],
             [
              0.8888888888888888,
              "#fdca26"
             ],
             [
              1,
              "#f0f921"
             ]
            ],
            "type": "histogram2d"
           }
          ],
          "histogram2dcontour": [
           {
            "colorbar": {
             "outlinewidth": 0,
             "ticks": ""
            },
            "colorscale": [
             [
              0,
              "#0d0887"
             ],
             [
              0.1111111111111111,
              "#46039f"
             ],
             [
              0.2222222222222222,
              "#7201a8"
             ],
             [
              0.3333333333333333,
              "#9c179e"
             ],
             [
              0.4444444444444444,
              "#bd3786"
             ],
             [
              0.5555555555555556,
              "#d8576b"
             ],
             [
              0.6666666666666666,
              "#ed7953"
             ],
             [
              0.7777777777777778,
              "#fb9f3a"
             ],
             [
              0.8888888888888888,
              "#fdca26"
             ],
             [
              1,
              "#f0f921"
             ]
            ],
            "type": "histogram2dcontour"
           }
          ],
          "mesh3d": [
           {
            "colorbar": {
             "outlinewidth": 0,
             "ticks": ""
            },
            "type": "mesh3d"
           }
          ],
          "parcoords": [
           {
            "line": {
             "colorbar": {
              "outlinewidth": 0,
              "ticks": ""
             }
            },
            "type": "parcoords"
           }
          ],
          "pie": [
           {
            "automargin": true,
            "type": "pie"
           }
          ],
          "scatter": [
           {
            "fillpattern": {
             "fillmode": "overlay",
             "size": 10,
             "solidity": 0.2
            },
            "type": "scatter"
           }
          ],
          "scatter3d": [
           {
            "line": {
             "colorbar": {
              "outlinewidth": 0,
              "ticks": ""
             }
            },
            "marker": {
             "colorbar": {
              "outlinewidth": 0,
              "ticks": ""
             }
            },
            "type": "scatter3d"
           }
          ],
          "scattercarpet": [
           {
            "marker": {
             "colorbar": {
              "outlinewidth": 0,
              "ticks": ""
             }
            },
            "type": "scattercarpet"
           }
          ],
          "scattergeo": [
           {
            "marker": {
             "colorbar": {
              "outlinewidth": 0,
              "ticks": ""
             }
            },
            "type": "scattergeo"
           }
          ],
          "scattergl": [
           {
            "marker": {
             "colorbar": {
              "outlinewidth": 0,
              "ticks": ""
             }
            },
            "type": "scattergl"
           }
          ],
          "scattermapbox": [
           {
            "marker": {
             "colorbar": {
              "outlinewidth": 0,
              "ticks": ""
             }
            },
            "type": "scattermapbox"
           }
          ],
          "scatterpolar": [
           {
            "marker": {
             "colorbar": {
              "outlinewidth": 0,
              "ticks": ""
             }
            },
            "type": "scatterpolar"
           }
          ],
          "scatterpolargl": [
           {
            "marker": {
             "colorbar": {
              "outlinewidth": 0,
              "ticks": ""
             }
            },
            "type": "scatterpolargl"
           }
          ],
          "scatterternary": [
           {
            "marker": {
             "colorbar": {
              "outlinewidth": 0,
              "ticks": ""
             }
            },
            "type": "scatterternary"
           }
          ],
          "surface": [
           {
            "colorbar": {
             "outlinewidth": 0,
             "ticks": ""
            },
            "colorscale": [
             [
              0,
              "#0d0887"
             ],
             [
              0.1111111111111111,
              "#46039f"
             ],
             [
              0.2222222222222222,
              "#7201a8"
             ],
             [
              0.3333333333333333,
              "#9c179e"
             ],
             [
              0.4444444444444444,
              "#bd3786"
             ],
             [
              0.5555555555555556,
              "#d8576b"
             ],
             [
              0.6666666666666666,
              "#ed7953"
             ],
             [
              0.7777777777777778,
              "#fb9f3a"
             ],
             [
              0.8888888888888888,
              "#fdca26"
             ],
             [
              1,
              "#f0f921"
             ]
            ],
            "type": "surface"
           }
          ],
          "table": [
           {
            "cells": {
             "fill": {
              "color": "#EBF0F8"
             },
             "line": {
              "color": "white"
             }
            },
            "header": {
             "fill": {
              "color": "#C8D4E3"
             },
             "line": {
              "color": "white"
             }
            },
            "type": "table"
           }
          ]
         },
         "layout": {
          "annotationdefaults": {
           "arrowcolor": "#2a3f5f",
           "arrowhead": 0,
           "arrowwidth": 1
          },
          "autotypenumbers": "strict",
          "coloraxis": {
           "colorbar": {
            "outlinewidth": 0,
            "ticks": ""
           }
          },
          "colorscale": {
           "diverging": [
            [
             0,
             "#8e0152"
            ],
            [
             0.1,
             "#c51b7d"
            ],
            [
             0.2,
             "#de77ae"
            ],
            [
             0.3,
             "#f1b6da"
            ],
            [
             0.4,
             "#fde0ef"
            ],
            [
             0.5,
             "#f7f7f7"
            ],
            [
             0.6,
             "#e6f5d0"
            ],
            [
             0.7,
             "#b8e186"
            ],
            [
             0.8,
             "#7fbc41"
            ],
            [
             0.9,
             "#4d9221"
            ],
            [
             1,
             "#276419"
            ]
           ],
           "sequential": [
            [
             0,
             "#0d0887"
            ],
            [
             0.1111111111111111,
             "#46039f"
            ],
            [
             0.2222222222222222,
             "#7201a8"
            ],
            [
             0.3333333333333333,
             "#9c179e"
            ],
            [
             0.4444444444444444,
             "#bd3786"
            ],
            [
             0.5555555555555556,
             "#d8576b"
            ],
            [
             0.6666666666666666,
             "#ed7953"
            ],
            [
             0.7777777777777778,
             "#fb9f3a"
            ],
            [
             0.8888888888888888,
             "#fdca26"
            ],
            [
             1,
             "#f0f921"
            ]
           ],
           "sequentialminus": [
            [
             0,
             "#0d0887"
            ],
            [
             0.1111111111111111,
             "#46039f"
            ],
            [
             0.2222222222222222,
             "#7201a8"
            ],
            [
             0.3333333333333333,
             "#9c179e"
            ],
            [
             0.4444444444444444,
             "#bd3786"
            ],
            [
             0.5555555555555556,
             "#d8576b"
            ],
            [
             0.6666666666666666,
             "#ed7953"
            ],
            [
             0.7777777777777778,
             "#fb9f3a"
            ],
            [
             0.8888888888888888,
             "#fdca26"
            ],
            [
             1,
             "#f0f921"
            ]
           ]
          },
          "colorway": [
           "#636efa",
           "#EF553B",
           "#00cc96",
           "#ab63fa",
           "#FFA15A",
           "#19d3f3",
           "#FF6692",
           "#B6E880",
           "#FF97FF",
           "#FECB52"
          ],
          "font": {
           "color": "#2a3f5f"
          },
          "geo": {
           "bgcolor": "white",
           "lakecolor": "white",
           "landcolor": "#E5ECF6",
           "showlakes": true,
           "showland": true,
           "subunitcolor": "white"
          },
          "hoverlabel": {
           "align": "left"
          },
          "hovermode": "closest",
          "mapbox": {
           "style": "light"
          },
          "paper_bgcolor": "white",
          "plot_bgcolor": "#E5ECF6",
          "polar": {
           "angularaxis": {
            "gridcolor": "white",
            "linecolor": "white",
            "ticks": ""
           },
           "bgcolor": "#E5ECF6",
           "radialaxis": {
            "gridcolor": "white",
            "linecolor": "white",
            "ticks": ""
           }
          },
          "scene": {
           "xaxis": {
            "backgroundcolor": "#E5ECF6",
            "gridcolor": "white",
            "gridwidth": 2,
            "linecolor": "white",
            "showbackground": true,
            "ticks": "",
            "zerolinecolor": "white"
           },
           "yaxis": {
            "backgroundcolor": "#E5ECF6",
            "gridcolor": "white",
            "gridwidth": 2,
            "linecolor": "white",
            "showbackground": true,
            "ticks": "",
            "zerolinecolor": "white"
           },
           "zaxis": {
            "backgroundcolor": "#E5ECF6",
            "gridcolor": "white",
            "gridwidth": 2,
            "linecolor": "white",
            "showbackground": true,
            "ticks": "",
            "zerolinecolor": "white"
           }
          },
          "shapedefaults": {
           "line": {
            "color": "#2a3f5f"
           }
          },
          "ternary": {
           "aaxis": {
            "gridcolor": "white",
            "linecolor": "white",
            "ticks": ""
           },
           "baxis": {
            "gridcolor": "white",
            "linecolor": "white",
            "ticks": ""
           },
           "bgcolor": "#E5ECF6",
           "caxis": {
            "gridcolor": "white",
            "linecolor": "white",
            "ticks": ""
           }
          },
          "title": {
           "x": 0.05
          },
          "xaxis": {
           "automargin": true,
           "gridcolor": "white",
           "linecolor": "white",
           "ticks": "",
           "title": {
            "standoff": 15
           },
           "zerolinecolor": "white",
           "zerolinewidth": 2
          },
          "yaxis": {
           "automargin": true,
           "gridcolor": "white",
           "linecolor": "white",
           "ticks": "",
           "title": {
            "standoff": 15
           },
           "zerolinecolor": "white",
           "zerolinewidth": 2
          }
         }
        },
        "xaxis": {
         "anchor": "y",
         "autorange": true,
         "domain": [
          0,
          1
         ],
         "range": [
          -0.5,
          18.5
         ],
         "title": {
          "text": "Design Pattern"
         },
         "type": "category"
        },
        "yaxis": {
         "anchor": "x",
         "autorange": true,
         "domain": [
          0,
          1
         ],
         "range": [
          0,
          32.631578947368425
         ],
         "title": {
          "text": "Count in Design Pattern"
         },
         "type": "linear"
        }
       }
      },
      "image/png": "[encoded data removed]",
      "text/html": [
       "<div>                            <div id=\"6b1ff420-1047-4f50-8d4c-9861e71b6dc7\" class=\"plotly-graph-div\" style=\"height:525px; width:100%;\"></div>            <script type=\"text/javascript\">                require([\"plotly\"], function(Plotly) {                    window.PLOTLYENV=window.PLOTLYENV || {};                                    if (document.getElementById(\"6b1ff420-1047-4f50-8d4c-9861e71b6dc7\")) {                    Plotly.newPlot(                        \"6b1ff420-1047-4f50-8d4c-9861e71b6dc7\",                        [{\"alignmentgroup\":\"True\",\"bingroup\":\"x\",\"histfunc\":\"sum\",\"hovertemplate\":\"design_pattern=%{x}\\u003cbr\\u003esum of count=%{y}\\u003cextra\\u003e\\u003c\\u002fextra\\u003e\",\"legendgroup\":\"\",\"marker\":{\"color\":\"#636efa\",\"pattern\":{\"shape\":\"\"}},\"name\":\"\",\"offsetgroup\":\"\",\"orientation\":\"v\",\"showlegend\":false,\"x\":[\"adapter\",\"abstract_factory\",\"observer\",\"template_method\",\"iterator\",\"factory_method\",\"strategy\",\"composite\",\"builder\",\"state\",\"command\",\"memento\",\"visitor\",\"bridge\",\"prototype\",\"singleton\",\"decorator\",\"null_object\",\"facade\"],\"xaxis\":\"x\",\"y\":[31,14,12,9,8,8,7,6,6,5,5,3,3,2,2,2,2,1,1],\"yaxis\":\"y\",\"type\":\"histogram\"}],                        {\"template\":{\"data\":{\"histogram2dcontour\":[{\"type\":\"histogram2dcontour\",\"colorbar\":{\"outlinewidth\":0,\"ticks\":\"\"},\"colorscale\":[[0.0,\"#0d0887\"],[0.1111111111111111,\"#46039f\"],[0.2222222222222222,\"#7201a8\"],[0.3333333333333333,\"#9c179e\"],[0.4444444444444444,\"#bd3786\"],[0.5555555555555556,\"#d8576b\"],[0.6666666666666666,\"#ed7953\"],[0.7777777777777778,\"#fb9f3a\"],[0.8888888888888888,\"#fdca26\"],[1.0,\"#f0f921\"]]}],\"choropleth\":[{\"type\":\"choropleth\",\"colorbar\":{\"outlinewidth\":0,\"ticks\":\"\"}}],\"histogram2d\":[{\"type\":\"histogram2d\",\"colorbar\":{\"outlinewidth\":0,\"ticks\":\"\"},\"colorscale\":[[0.0,\"#0d0887\"],[0.1111111111111111,\"#46039f\"],[0.2222222222222222,\"#7201a8\"],[0.3333333333333333,\"#9c179e\"],[0.4444444444444444,\"#bd3786\"],[0.5555555555555556,\"#d8576b\"],[0.6666666666666666,\"#ed7953\"],[0.7777777777777778,\"#fb9f3a\"],[0.8888888888888888,\"#fdca26\"],[1.0,\"#f0f921\"]]}],\"heatmap\":[{\"type\":\"heatmap\",\"colorbar\":{\"outlinewidth\":0,\"ticks\":\"\"},\"colorscale\":[[0.0,\"#0d0887\"],[0.1111111111111111,\"#46039f\"],[0.2222222222222222,\"#7201a8\"],[0.3333333333333333,\"#9c179e\"],[0.4444444444444444,\"#bd3786\"],[0.5555555555555556,\"#d8576b\"],[0.6666666666666666,\"#ed7953\"],[0.7777777777777778,\"#fb9f3a\"],[0.8888888888888888,\"#fdca26\"],[1.0,\"#f0f921\"]]}],\"heatmapgl\":[{\"type\":\"heatmapgl\",\"colorbar\":{\"outlinewidth\":0,\"ticks\":\"\"},\"colorscale\":[[0.0,\"#0d0887\"],[0.1111111111111111,\"#46039f\"],[0.2222222222222222,\"#7201a8\"],[0.3333333333333333,\"#9c179e\"],[0.4444444444444444,\"#bd3786\"],[0.5555555555555556,\"#d8576b\"],[0.6666666666666666,\"#ed7953\"],[0.7777777777777778,\"#fb9f3a\"],[0.8888888888888888,\"#fdca26\"],[1.0,\"#f0f921\"]]}],\"contourcarpet\":[{\"type\":\"contourcarpet\",\"colorbar\":{\"outlinewidth\":0,\"ticks\":\"\"}}],\"contour\":[{\"type\":\"contour\",\"colorbar\":{\"outlinewidth\":0,\"ticks\":\"\"},\"colorscale\":[[0.0,\"#0d0887\"],[0.1111111111111111,\"#46039f\"],[0.2222222222222222,\"#7201a8\"],[0.3333333333333333,\"#9c179e\"],[0.4444444444444444,\"#bd3786\"],[0.5555555555555556,\"#d8576b\"],[0.6666666666666666,\"#ed7953\"],[0.7777777777777778,\"#fb9f3a\"],[0.8888888888888888,\"#fdca26\"],[1.0,\"#f0f921\"]]}],\"surface\":[{\"type\":\"surface\",\"colorbar\":{\"outlinewidth\":0,\"ticks\":\"\"},\"colorscale\":[[0.0,\"#0d0887\"],[0.1111111111111111,\"#46039f\"],[0.2222222222222222,\"#7201a8\"],[0.3333333333333333,\"#9c179e\"],[0.4444444444444444,\"#bd3786\"],[0.5555555555555556,\"#d8576b\"],[0.6666666666666666,\"#ed7953\"],[0.7777777777777778,\"#fb9f3a\"],[0.8888888888888888,\"#fdca26\"],[1.0,\"#f0f921\"]]}],\"mesh3d\":[{\"type\":\"mesh3d\",\"colorbar\":{\"outlinewidth\":0,\"ticks\":\"\"}}],\"scatter\":[{\"fillpattern\":{\"fillmode\":\"overlay\",\"size\":10,\"solidity\":0.2},\"type\":\"scatter\"}],\"parcoords\":[{\"type\":\"parcoords\",\"line\":{\"colorbar\":{\"outlinewidth\":0,\"ticks\":\"\"}}}],\"scatterpolargl\":[{\"type\":\"scatterpolargl\",\"marker\":{\"colorbar\":{\"outlinewidth\":0,\"ticks\":\"\"}}}],\"bar\":[{\"error_x\":{\"color\":\"#2a3f5f\"},\"error_y\":{\"color\":\"#2a3f5f\"},\"marker\":{\"line\":{\"color\":\"#E5ECF6\",\"width\":0.5},\"pattern\":{\"fillmode\":\"overlay\",\"size\":10,\"solidity\":0.2}},\"type\":\"bar\"}],\"scattergeo\":[{\"type\":\"scattergeo\",\"marker\":{\"colorbar\":{\"outlinewidth\":0,\"ticks\":\"\"}}}],\"scatterpolar\":[{\"type\":\"scatterpolar\",\"marker\":{\"colorbar\":{\"outlinewidth\":0,\"ticks\":\"\"}}}],\"histogram\":[{\"marker\":{\"pattern\":{\"fillmode\":\"overlay\",\"size\":10,\"solidity\":0.2}},\"type\":\"histogram\"}],\"scattergl\":[{\"type\":\"scattergl\",\"marker\":{\"colorbar\":{\"outlinewidth\":0,\"ticks\":\"\"}}}],\"scatter3d\":[{\"type\":\"scatter3d\",\"line\":{\"colorbar\":{\"outlinewidth\":0,\"ticks\":\"\"}},\"marker\":{\"colorbar\":{\"outlinewidth\":0,\"ticks\":\"\"}}}],\"scattermapbox\":[{\"type\":\"scattermapbox\",\"marker\":{\"colorbar\":{\"outlinewidth\":0,\"ticks\":\"\"}}}],\"scatterternary\":[{\"type\":\"scatterternary\",\"marker\":{\"colorbar\":{\"outlinewidth\":0,\"ticks\":\"\"}}}],\"scattercarpet\":[{\"type\":\"scattercarpet\",\"marker\":{\"colorbar\":{\"outlinewidth\":0,\"ticks\":\"\"}}}],\"carpet\":[{\"aaxis\":{\"endlinecolor\":\"#2a3f5f\",\"gridcolor\":\"white\",\"linecolor\":\"white\",\"minorgridcolor\":\"white\",\"startlinecolor\":\"#2a3f5f\"},\"baxis\":{\"endlinecolor\":\"#2a3f5f\",\"gridcolor\":\"white\",\"linecolor\":\"white\",\"minorgridcolor\":\"white\",\"startlinecolor\":\"#2a3f5f\"},\"type\":\"carpet\"}],\"table\":[{\"cells\":{\"fill\":{\"color\":\"#EBF0F8\"},\"line\":{\"color\":\"white\"}},\"header\":{\"fill\":{\"color\":\"#C8D4E3\"},\"line\":{\"color\":\"white\"}},\"type\":\"table\"}],\"barpolar\":[{\"marker\":{\"line\":{\"color\":\"#E5ECF6\",\"width\":0.5},\"pattern\":{\"fillmode\":\"overlay\",\"size\":10,\"solidity\":0.2}},\"type\":\"barpolar\"}],\"pie\":[{\"automargin\":true,\"type\":\"pie\"}]},\"layout\":{\"autotypenumbers\":\"strict\",\"colorway\":[\"#636efa\",\"#EF553B\",\"#00cc96\",\"#ab63fa\",\"#FFA15A\",\"#19d3f3\",\"#FF6692\",\"#B6E880\",\"#FF97FF\",\"#FECB52\"],\"font\":{\"color\":\"#2a3f5f\"},\"hovermode\":\"closest\",\"hoverlabel\":{\"align\":\"left\"},\"paper_bgcolor\":\"white\",\"plot_bgcolor\":\"#E5ECF6\",\"polar\":{\"bgcolor\":\"#E5ECF6\",\"angularaxis\":{\"gridcolor\":\"white\",\"linecolor\":\"white\",\"ticks\":\"\"},\"radialaxis\":{\"gridcolor\":\"white\",\"linecolor\":\"white\",\"ticks\":\"\"}},\"ternary\":{\"bgcolor\":\"#E5ECF6\",\"aaxis\":{\"gridcolor\":\"white\",\"linecolor\":\"white\",\"ticks\":\"\"},\"baxis\":{\"gridcolor\":\"white\",\"linecolor\":\"white\",\"ticks\":\"\"},\"caxis\":{\"gridcolor\":\"white\",\"linecolor\":\"white\",\"ticks\":\"\"}},\"coloraxis\":{\"colorbar\":{\"outlinewidth\":0,\"ticks\":\"\"}},\"colorscale\":{\"sequential\":[[0.0,\"#0d0887\"],[0.1111111111111111,\"#46039f\"],[0.2222222222222222,\"#7201a8\"],[0.3333333333333333,\"#9c179e\"],[0.4444444444444444,\"#bd3786\"],[0.5555555555555556,\"#d8576b\"],[0.6666666666666666,\"#ed7953\"],[0.7777777777777778,\"#fb9f3a\"],[0.8888888888888888,\"#fdca26\"],[1.0,\"#f0f921\"]],\"sequentialminus\":[[0.0,\"#0d0887\"],[0.1111111111111111,\"#46039f\"],[0.2222222222222222,\"#7201a8\"],[0.3333333333333333,\"#9c179e\"],[0.4444444444444444,\"#bd3786\"],[0.5555555555555556,\"#d8576b\"],[0.6666666666666666,\"#ed7953\"],[0.7777777777777778,\"#fb9f3a\"],[0.8888888888888888,\"#fdca26\"],[1.0,\"#f0f921\"]],\"diverging\":[[0,\"#8e0152\"],[0.1,\"#c51b7d\"],[0.2,\"#de77ae\"],[0.3,\"#f1b6da\"],[0.4,\"#fde0ef\"],[0.5,\"#f7f7f7\"],[0.6,\"#e6f5d0\"],[0.7,\"#b8e186\"],[0.8,\"#7fbc41\"],[0.9,\"#4d9221\"],[1,\"#276419\"]]},\"xaxis\":{\"gridcolor\":\"white\",\"linecolor\":\"white\",\"ticks\":\"\",\"title\":{\"standoff\":15},\"zerolinecolor\":\"white\",\"automargin\":true,\"zerolinewidth\":2},\"yaxis\":{\"gridcolor\":\"white\",\"linecolor\":\"white\",\"ticks\":\"\",\"title\":{\"standoff\":15},\"zerolinecolor\":\"white\",\"automargin\":true,\"zerolinewidth\":2},\"scene\":{\"xaxis\":{\"backgroundcolor\":\"#E5ECF6\",\"gridcolor\":\"white\",\"linecolor\":\"white\",\"showbackground\":true,\"ticks\":\"\",\"zerolinecolor\":\"white\",\"gridwidth\":2},\"yaxis\":{\"backgroundcolor\":\"#E5ECF6\",\"gridcolor\":\"white\",\"linecolor\":\"white\",\"showbackground\":true,\"ticks\":\"\",\"zerolinecolor\":\"white\",\"gridwidth\":2},\"zaxis\":{\"backgroundcolor\":\"#E5ECF6\",\"gridcolor\":\"white\",\"linecolor\":\"white\",\"showbackground\":true,\"ticks\":\"\",\"zerolinecolor\":\"white\",\"gridwidth\":2}},\"shapedefaults\":{\"line\":{\"color\":\"#2a3f5f\"}},\"annotationdefaults\":{\"arrowcolor\":\"#2a3f5f\",\"arrowhead\":0,\"arrowwidth\":1},\"geo\":{\"bgcolor\":\"white\",\"landcolor\":\"#E5ECF6\",\"subunitcolor\":\"white\",\"showland\":true,\"showlakes\":true,\"lakecolor\":\"white\"},\"title\":{\"x\":0.05},\"mapbox\":{\"style\":\"light\"}}},\"xaxis\":{\"anchor\":\"y\",\"domain\":[0.0,1.0],\"title\":{\"text\":\"Design Pattern\"}},\"yaxis\":{\"anchor\":\"x\",\"domain\":[0.0,1.0],\"title\":{\"text\":\"Count in Design Pattern\"}},\"legend\":{\"tracegroupgap\":0},\"margin\":{\"t\":60},\"barmode\":\"relative\"},                        {\"responsive\": true}                    ).then(function(){\n",
       "                            \n",
       "var gd = document.getElementById('6b1ff420-1047-4f50-8d4c-9861e71b6dc7');\n",
       "var x = new MutationObserver(function (mutations, observer) {{\n",
       "        var display = window.getComputedStyle(gd).display;\n",
       "        if (!display || display === 'none') {{\n",
       "            console.log([gd, 'removed!']);\n",
       "            Plotly.purge(gd);\n",
       "            observer.disconnect();\n",
       "        }}\n",
       "}});\n",
       "\n",
       "// Listen for the removal of the full notebook cells\n",
       "var notebookContainer = gd.closest('#notebook-container');\n",
       "if (notebookContainer) {{\n",
       "    x.observe(notebookContainer, {childList: true});\n",
       "}}\n",
       "\n",
       "// Listen for the clearing of the current output cell\n",
       "var outputEl = gd.closest('.output');\n",
       "if (outputEl) {{\n",
       "    x.observe(outputEl, {childList: true});\n",
       "}}\n",
       "\n",
       "                        })                };                });            </script>        </div>"
      ]
     },
     "metadata": {},
     "output_type": "display_data"
    }
   ],
   "source": [
    "df_binned_by_micro_arch_dp = df.copy()\n",
    "df_binned_by_micro_arch_dp = df_binned_by_micro_arch_dp.drop_duplicates(\n",
    "    ['micro_architecture', 'design_pattern']).reset_index()\n",
    "df_binned_by_micro_arch_dp = df_binned_by_micro_arch_dp['design_pattern'].value_counts(\n",
    ").reset_index()\n",
    "\n",
    "fig = px.histogram(df_binned_by_micro_arch_dp, x='design_pattern', y='count')\n",
    "fig.update_layout(xaxis_title='Design Pattern',\n",
    "                  yaxis_title='Count in Design Pattern')"
   ]
  },
  {
   "cell_type": "markdown",
   "id": "ca83e997",
   "metadata": {},
   "source": [
    "### Distribution for metrics"
   ]
  },
  {
   "cell_type": "code",
   "execution_count": 361,
   "id": "236b326b",
   "metadata": {},
   "outputs": [
    {
     "data": {
      "application/vnd.jupyter.widget-view+json": {
       "model_id": "231cc38333004ab8b2e71fd75effdd27",
       "version_major": 2,
       "version_minor": 0
      },
      "text/plain": [
       "VBox(children=(Dropdown(options=('NOF', 'NSF', 'NOM', 'NSM', 'NOAM', 'NORM', 'NOPC', 'NOOF', 'NCOF'), value='N…"
      ]
     },
     "metadata": {},
     "output_type": "display_data"
    }
   ],
   "source": [
    "def initial_histogram():\n",
    "    return go.Histogram(\n",
    "        histfunc='count',\n",
    "    )\n",
    "\n",
    "\n",
    "def update_histogram(figure: go.Figure, df: pd.DataFrame, metric: str):\n",
    "    figure['x'] = df[metric]\n",
    "\n",
    "\n",
    "generate_selectable_graph_for_metrics(\n",
    "    df, initial_histogram, update_histogram, 'count')"
   ]
  },
  {
   "cell_type": "markdown",
   "id": "527e5650",
   "metadata": {},
   "source": [
    "### Box Plots for metrics"
   ]
  },
  {
   "cell_type": "code",
   "execution_count": 362,
   "id": "d51e3449",
   "metadata": {},
   "outputs": [
    {
     "data": {
      "application/vnd.jupyter.widget-view+json": {
       "model_id": "9927ef30c662426fa01951a3f39a54d8",
       "version_major": 2,
       "version_minor": 0
      },
      "text/plain": [
       "VBox(children=(Dropdown(options=('NOF', 'NSF', 'NOM', 'NSM', 'NOAM', 'NORM', 'NOPC', 'NOOF', 'NCOF'), value='N…"
      ]
     },
     "metadata": {},
     "output_type": "display_data"
    }
   ],
   "source": [
    "def initial_histogram():\n",
    "    return go.Box(\n",
    "    )\n",
    "\n",
    "\n",
    "def update_histogram(figure: go.Figure, df: pd.DataFrame, metric: str):\n",
    "    figure['x'] = df[metric]\n",
    "\n",
    "\n",
    "generate_selectable_graph_for_metrics(df, initial_histogram, update_histogram)"
   ]
  },
  {
   "cell_type": "markdown",
   "id": "69aa3c25",
   "metadata": {},
   "source": [
    "## Model Training\n",
    "\n",
    "As design patterns can be considered as small scale appliances of software architecture, they consist of different entities with different relationships and roles to fulfill in the regarded design pattern. In order to detect design patterns, we first need to detect what kind of role a given Java class or entity it most likely corresponds to. To achieve this, machine learning model capable of classifying multiple labels should be considered. The extracted software metrics are the numerical inputs and the most likely roles in a design pattern are the result. \n",
    "As this falls in the area of supervised machine learning, initially the following models/techniques are to be considered:\n",
    "\n",
    "**NOTE:** This list is subject to change \n",
    "\n",
    "* Support Vector Machines\n",
    "* Ensemble Classifiers (e.g Random Forest Classifier)\n",
    "* Custom Convoluted Network\n",
    "\n",
    "In order to optimize the given results of a given model, first RandomGridSearch is applied to determine a range of values or selection for the hyperparameters while GridSearch is used to determine the most optimal available value or selection for the regarded hyperparameter."
   ]
  },
  {
   "cell_type": "code",
   "execution_count": 25,
   "id": "edebf2e7",
   "metadata": {},
   "outputs": [],
   "source": [
    "# Required import for machine learning\n",
    "from sklearn.model_selection import train_test_split\n",
    "from sklearn import svm\n",
    "from sklearn.metrics import f1_score, accuracy_score\n",
    "from sklearn.preprocessing import StandardScaler, LabelEncoder\n",
    "from sklearn.ensemble import RandomForestClassifier"
   ]
  },
  {
   "cell_type": "code",
   "execution_count": 388,
   "id": "065cf01b-0f73-41ad-bab3-fdffdd3775e4",
   "metadata": {},
   "outputs": [],
   "source": [
    "# Shared functions in this section\n",
    "def label_encoder():\n",
    "    label_encoder = LabelEncoder()\n",
    "\n",
    "    def encode(col: pd.Series):\n",
    "        return label_encoder.fit_transform(col)\n",
    "\n",
    "    def decode(encoded_col: pd.Series):\n",
    "        return label_encoder.inverse_transform(encoded_col)\n",
    "\n",
    "    return encode, decode\n",
    "\n",
    "\n",
    "def preprocess(df: pd.DataFrame):\n",
    "    df_copy = df.copy()\n",
    "    role_kind_encode, role_kind_decode = label_encoder()\n",
    "    role_encode, role_decode = label_encoder()\n",
    "    df_copy['role_kind'] = role_kind_encode(df_copy['role_kind'])\n",
    "    df_copy['role'] = role_encode(df['role'])\n",
    "    train, test = train_test_split(\n",
    "        df_copy[get_feature_columns() + get_label_column()], test_size=0.25)\n",
    "    return (train, test, {'role_kind': role_kind_decode, 'role': role_decode})"
   ]
  },
  {
   "cell_type": "markdown",
   "id": "7fcbce6f-6f9a-453a-9a32-37634cf3e9eb",
   "metadata": {},
   "source": [
    "### Prepare Datset"
   ]
  },
  {
   "cell_type": "code",
   "execution_count": 389,
   "id": "24f0e842-285d-46ef-9410-6c14fe3d650f",
   "metadata": {
    "scrolled": true
   },
   "outputs": [],
   "source": [
    "df = apply_isolation_forest(df)\n",
    "\n",
    "df_train, df_test, decoder = preprocess(df)"
   ]
  },
  {
   "cell_type": "markdown",
   "id": "b7df3789-9e1f-4ae3-8efd-6606839eaad0",
   "metadata": {},
   "source": [
    "### Support Vector Machines"
   ]
  },
  {
   "cell_type": "code",
   "execution_count": 390,
   "id": "006c8ba1-fb69-4239-8f78-835b8a383c27",
   "metadata": {},
   "outputs": [
    {
     "data": {
      "text/plain": [
       "0.26244343891402716"
      ]
     },
     "execution_count": 390,
     "metadata": {},
     "output_type": "execute_result"
    }
   ],
   "source": [
    "def apply_svm(df_train: pd.DataFrame, df_test: pd.DataFrame):\n",
    "    X_train = df_train[get_feature_columns()]\n",
    "    y_train = df_train[get_label_column()].values.ravel()\n",
    "\n",
    "    X_test = df_test[get_feature_columns()]\n",
    "    y_test = df_test[get_label_column()].values.ravel()\n",
    "\n",
    "    standard_scaler = StandardScaler()\n",
    "    X_train = standard_scaler.fit_transform(X_train)\n",
    "    X_test = standard_scaler.fit_transform(X_test)\n",
    "\n",
    "    svm_classifier = svm.SVC(kernel='rbf', gamma=0.1, C=1.75)\n",
    "    svm_classifier.fit(X_train, y_train)\n",
    "\n",
    "    pred = svm_classifier.predict(X_test)\n",
    "    # print(f1_score(y_true=y_test, y_pred=pred, average='weighted'))\n",
    "    return svm_classifier.score(X_test, y_test)\n",
    "\n",
    "\n",
    "apply_svm(df_train, df_test)"
   ]
  },
  {
   "cell_type": "markdown",
   "id": "0516a563-d27b-401d-ae1c-16bc4528c458",
   "metadata": {},
   "source": [
    "### Random Forest Classifier"
   ]
  },
  {
   "cell_type": "code",
   "execution_count": 391,
   "id": "395b288b-1501-4262-9a99-2711a575581c",
   "metadata": {},
   "outputs": [
    {
     "data": {
      "text/plain": [
       "0.2986425339366516"
      ]
     },
     "execution_count": 391,
     "metadata": {},
     "output_type": "execute_result"
    }
   ],
   "source": [
    "def apply_random_forest(df_train: pd.DataFrame, df_test: pd.DataFrame):\n",
    "    X_train = df_train[get_feature_columns()]\n",
    "    y_train = df_train[get_label_column()].values.ravel()\n",
    "\n",
    "    X_test = df_test[get_feature_columns()]\n",
    "    y_test = df_test[get_label_column()].values.ravel()\n",
    "\n",
    "    random_forest_classifier = RandomForestClassifier(\n",
    "        max_depth=30, random_state=1)\n",
    "    random_forest_classifier.fit(X_train, y_train)\n",
    "\n",
    "    pred = random_forest_classifier.predict(X_test)\n",
    "    # print(f1_score(y_true=y_test, y_pred=pred, average='weighted'))\n",
    "    return random_forest_classifier.score(X_test, y_test)\n",
    "\n",
    "\n",
    "apply_random_forest(df_train, df_test)"
   ]
  }
 ],
 "metadata": {
  "kernelspec": {
   "display_name": "Python 3 (ipykernel)",
   "language": "python",
   "name": "python3"
  },
  "language_info": {
   "codemirror_mode": {
    "name": "ipython",
    "version": 3
   },
   "file_extension": ".py",
   "mimetype": "text/x-python",
   "name": "python",
   "nbconvert_exporter": "python",
   "pygments_lexer": "ipython3",
   "version": "3.11.6"
  }
 },
 "nbformat": 4,
 "nbformat_minor": 5
}
