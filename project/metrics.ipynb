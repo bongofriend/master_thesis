{
 "cells": [
  {
   "cell_type": "markdown",
   "id": "f8d41991-3e59-4587-9904-a43131e20a7d",
   "metadata": {},
   "source": [
    "# TODOs"
   ]
  },
  {
   "cell_type": "code",
   "execution_count": 1,
   "id": "b41a07b0-8465-4a55-9dc2-ef3a92622f8b",
   "metadata": {},
   "outputs": [
    {
     "data": {
      "text/markdown": [
       "# Stuff to be done\n",
       "\n",
       "- [x] Evaluate possible ML models\n",
       "- [x] Add ML pipeline for GridSearch/RandomSearch with HyerOpt\n",
       "- [x] Initialize code2vec/code2seq as input parameters \n",
       "- [x] Package new metric generator in a docker image for easier execution\n",
       "- [ ] Update usage docs\n",
       "- [x] Evaluate RFC, TCC, LCC methods [(from here)](https://github.com/mauricioaniche/ck)\n",
       "- [x] Add shell scripts for running tools in docker container\n",
       "- [x] Use mean embeddings as feature in classification\n",
       "- [x] Evaluate current state\n",
       "- [x] ~~Consider adding code2seq instead of code2vec for generating numerical representation of source code semantics~~ Not suitable for this use case\n",
       "- [x] Adjust DataFrame to represent mean average vector for embeddings\n",
       "- [x] Consider applying PCA to reduce the dimensionality of embedding vector\n",
       "- [X] ~~Consider using the Mean Of a Embedding components as input~~\n",
       "- [ ] Test hyperopt with kfold\n",
       "- [ ] Determine final design pattern evaluation"
      ],
      "text/plain": [
       "<IPython.core.display.Markdown object>"
      ]
     },
     "metadata": {},
     "output_type": "display_data"
    }
   ],
   "source": [
    "from IPython.display import display, Markdown\n",
    "\n",
    "display(Markdown('TODO.md'))"
   ]
  },
  {
   "cell_type": "markdown",
   "id": "80cefb50",
   "metadata": {},
   "source": [
    "# Design Pattern Recognition with Software Metrics"
   ]
  },
  {
   "cell_type": "markdown",
   "id": "43dd595e-942a-4e01-994d-0c425619a9d8",
   "metadata": {},
   "source": [
    "## Library/Package Imports\n",
    "All required modules should be in the next cell to avoid scattered imports"
   ]
  },
  {
   "cell_type": "code",
   "execution_count": 2,
   "id": "3867f5a7",
   "metadata": {},
   "outputs": [],
   "source": [
    "# Ignore missing imports warnings in vs code\n",
    "import pandas as pd\n",
    "import plotly.express as px\n",
    "from plotly.subplots import make_subplots\n",
    "import plotly.graph_objects as go\n",
    "from typing import Callable\n",
    "import ipywidgets as widgets\n",
    "from IPython.display import display, HTML\n",
    "from typing import Optional, Dict, List\n",
    "import numpy as np\n",
    "from enum import Enum, auto\n",
    "from constants import ClassMetricVectorConstants, get_label_column, get_metric_columns"
   ]
  },
  {
   "cell_type": "code",
   "execution_count": 3,
   "id": "65910d76",
   "metadata": {},
   "outputs": [],
   "source": [
    "# Common utility functions\n",
    "def generate_subplot(df: pd.DataFrame, plot_func: Callable[[pd.DataFrame, str], go.Figure], subplot_width: int = 600, subplot_height: int = 2400) -> go.Figure:\n",
    "    metric_columns = get_metric_columns()\n",
    "    subplots = make_subplots(\n",
    "        len(metric_columns), subplot_titles=metric_columns)\n",
    "    for i, metric in enumerate(metric_columns):\n",
    "        figure = plot_func(df, metric)\n",
    "        subplots.add_trace(figure, row=i+1, col=1)\n",
    "    subplots['layout'].update(height=subplot_height, width=subplot_width)\n",
    "    return subplots\n",
    "\n",
    "\n",
    "def generate_selectable_graph_for_metrics(df: pd.DataFrame, initial_plot_func: Callable[[], go.Figure], update_func: Callable[[go.Figure, pd.DataFrame, str], None], y_label: Optional[str] = None):\n",
    "    metric_dropdown = widgets.Dropdown(options=get_metric_columns())\n",
    "    fig = go.FigureWidget(initial_plot_func())\n",
    "\n",
    "    def on_metric_changed(change):\n",
    "        metric = change['new']\n",
    "        with fig.batch_update():\n",
    "            figure = fig.data[0]\n",
    "            update_func(figure, df, metric)\n",
    "            figure['name'] = metric\n",
    "            label = y_label if y_label else ' '\n",
    "            fig.update_layout(title=metric, bargap=0.5,\n",
    "                              xaxis_title=metric, yaxis_title=label)\n",
    "\n",
    "    metric_dropdown.observe(on_metric_changed, names='value')\n",
    "    display(widgets.VBox([metric_dropdown, fig]))"
   ]
  },
  {
   "cell_type": "markdown",
   "id": "e2ef9395",
   "metadata": {
    "jp-MarkdownHeadingCollapsed": true
   },
   "source": [
    "## Generation of metrics\n",
    "\n",
    "If the metrics are not yet generated, the following steps are required:\n",
    "\n",
    "1. Make sure that `source_files.zip` is located in the current directory. The archive contains the actual zipped source code of the projects in [P-MArT](https://www.ptidej.net/tools/designpatterns/) and `pmart.xml` with descriptions of the micro architectures\n",
    "2. Create a new virtual Python environment with `python -m venv .` in the current directory if not yet done\n",
    "3. Activate the virtual environment ([refer here for the actual command to run](https://docs.python.org/3/library/venv.html#how-venvs-work))\n",
    "4. Execute `python3 preprocess_source_files.py` to extract the source files from `source_files.zip` and move the source files described in `pmart.xml` into `dataset` directory. For more information run `python3 preprocess_source_files.py -h`.\n",
    "    - Source files are structured as `<dataset_dir>/<design_pattern/micro_architecture_<id>`\n",
    "    - Each micro architecture directory contains the following files:\n",
    "        - `roles.csv`: Roles, entity names and role kind as described in `pmart.xml`\n",
    "        - `projects.txt`: From which project the source files come from\n",
    "        - The source files to be evaluated\n",
    "5. \n",
    "    - **OLD**: Execute `python3 generate_source_file_metrics.py` to generate `metrics.csv`. For more information run `python3 generate_source_file_metrics.py`.\n",
    "    - **NEW**: Execute `docker build --file docker/sourcefileparser.dockerfile . -t sourcefilerparser:latest` in the `project` directory to build the tool and run `docker run -v ./:/home/app/volume  -e DATASET_PATH=./dataset -e OUTPUT_CSV=./m.csv sourcefilerparser:latest` for metric generation\n",
    "\n",
    "**NOTES**: \n",
    "- As the projects in this dataset are old and not all projects listed in P-MaRT are not accessible, some source files and their entries in `metrics` may be missing.\n",
    "- The tool for generating the metrics was originally written with a Java Parser implemented Python only. This lead to parsing issues in some source files. As a result, the tool was rewritten as a Java project with a native parser. The original Python script is included for completeness."
   ]
  },
  {
   "cell_type": "markdown",
   "id": "d33566ec",
   "metadata": {
    "jp-MarkdownHeadingCollapsed": true
   },
   "source": [
    "## Overview about `metrics.csv`\n",
    "\n",
    "In order to detect applied Gang Of Four design patterns in source code with machine learning strategies, we first need to transform the source file into a numerical representation that can be understood by a machine learning model.\n",
    "This approach aims to solve this by generating numerical characteristics for each source file in the context of the regarded micro architecture. As there are several methods to define what metrics to include in the evaluation, the metrics as described [in this paper](../sources/JSEA-DP-2014.pdf):\n",
    "\n",
    "- NOF: Number of fields\n",
    "- NSF: Number of static fields\n",
    "- NOM: Number of methods\n",
    "- NSM: Number of static methods\n",
    "- NOAM: Number of abstract methods\n",
    "- NORM: Number of overridden methods\n",
    "- NOPC: Number of private constrcutors\n",
    "- NOOF: Number of object fields\n",
    "- NCOF: Number of other classes with field of own type\n",
    "\n",
    "\n",
    "In addition to these metrics, the following Chidamber & Kemerer object-oriented metrics were added to quantify the relation, coupling and cohesion between participants in a design pattern:\n",
    "\n",
    "- FAN_IN: Number of input dependencies\n",
    "- FAN_OUT: Number of output dependencies\n",
    "- CBO: Coupling between objects\n",
    "- NOC: Number of inheriting children\n",
    "- RFC: Response for a class (number of unique method invocations in a class)\n",
    "- TCC: Tight class cohesion (via direct connections between visible methods, two methods or their invocation trees access the same class variable)\n",
    "- LCC: Low class cohesion"
   ]
  },
  {
   "cell_type": "markdown",
   "id": "e8ab6a56-c832-4e2d-93d5-ad5ea97e5bf8",
   "metadata": {},
   "source": [
    "## Outlier Detection and Removal\n",
    "\n",
    "As the dataset may contain a varied implementation of datasets, outlier detection and removal may be required to reduce the noise in the dataset. `sklearn` provides the some automatic and unsupervised approaches out of the box. The following are considered\n",
    "\n",
    "**NOTE**: This list is subject to change\n",
    "\n",
    "* Isolation Forest\n",
    "* Local Outlier Factor"
   ]
  },
  {
   "cell_type": "code",
   "execution_count": 8,
   "id": "c70a743b-1abd-41fc-8d74-837e10a5e6d2",
   "metadata": {},
   "outputs": [],
   "source": [
    "# Required imports for this section\n",
    "from sklearn.ensemble import IsolationForest\n",
    "from sklearn.neighbors import LocalOutlierFactor"
   ]
  },
  {
   "cell_type": "markdown",
   "id": "9a025d56",
   "metadata": {},
   "source": [
    "### Isolation Forest"
   ]
  },
  {
   "cell_type": "code",
   "execution_count": 9,
   "id": "c1daa46b-d8c0-4008-95ac-97820f595da2",
   "metadata": {},
   "outputs": [],
   "source": [
    "def apply_isolation_forest(df: pd.DataFrame):\n",
    "    df_filtered = df.copy()\n",
    "    isolation_forest = IsolationForest(contamination=0.1)\n",
    "    df_filtered['outlier'] = isolation_forest.fit_predict(\n",
    "        df_filtered[get_metric_columns()])\n",
    "    df_filtered = df_filtered[df_filtered['outlier'] == 1]\n",
    "    return df_filtered.drop(columns=['outlier'])"
   ]
  },
  {
   "cell_type": "markdown",
   "id": "27d4fcca",
   "metadata": {},
   "source": [
    "### Local Outlier Factor"
   ]
  },
  {
   "cell_type": "code",
   "execution_count": 10,
   "id": "34133435-52f9-42a7-824f-9fe1aaf96183",
   "metadata": {},
   "outputs": [],
   "source": [
    "def apply_local_outlier_factor(df: pd.DataFrame) -> pd.DataFrame:\n",
    "    threshold = 0\n",
    "\n",
    "    df_copy = df.copy()\n",
    "    lof = LocalOutlierFactor(contamination=0.5)\n",
    "    df_copy['outlier_score'] = lof.fit_predict(df_copy[get_metric_columns()])\n",
    "    df_copy = df_copy[df_copy['outlier_score'] > threshold]\n",
    "    return df_copy.drop(columns=('outlier_score'))"
   ]
  },
  {
   "cell_type": "markdown",
   "id": "21f390ae",
   "metadata": {},
   "source": [
    "## Explorative Data Analysis of the Dataset"
   ]
  },
  {
   "cell_type": "code",
   "execution_count": 34,
   "id": "65c7b79a",
   "metadata": {},
   "outputs": [
    {
     "name": "stdout",
     "output_type": "stream",
     "text": [
      "1060 rows were imported\n"
     ]
    }
   ],
   "source": [
    "df = pd.read_csv('./metrics.csv')\n",
    "df = df.dropna()\n",
    "#df = apply_isolation_forest(df)\n",
    "print(f'{df.shape[0]} rows were imported')"
   ]
  },
  {
   "cell_type": "code",
   "execution_count": 16,
   "id": "a4d63a37-a043-43ba-aca0-693e0e6ccabd",
   "metadata": {},
   "outputs": [],
   "source": [
    "df[ClassMetricVectorConstants.ROLE] = df[ClassMetricVectorConstants.ROLE].str.lower().str.strip()\n",
    "df[ClassMetricVectorConstants.ROLE_KIND] = df[ClassMetricVectorConstants.ROLE_KIND].str.lower().str.strip()"
   ]
  },
  {
   "cell_type": "code",
   "execution_count": null,
   "id": "0e9d1680",
   "metadata": {},
   "outputs": [],
   "source": [
    "# Check if columns in dataframe have expected types\n",
    "df.dtypes"
   ]
  },
  {
   "cell_type": "markdown",
   "id": "5f534e36",
   "metadata": {},
   "source": [
    "### Filter Dataframe entries by micro architecture"
   ]
  },
  {
   "cell_type": "code",
   "execution_count": 9,
   "id": "b24e61d1",
   "metadata": {},
   "outputs": [
    {
     "data": {
      "application/vnd.jupyter.widget-view+json": {
       "model_id": "00186fb69c6e49a19bcfa72c1587d0ce",
       "version_major": 2,
       "version_minor": 0
      },
      "text/plain": [
       "interactive(children=(Dropdown(description='micro_arch', options=('micro_arch_35', 'micro_arch_37', 'micro_arc…"
      ]
     },
     "execution_count": 9,
     "metadata": {},
     "output_type": "execute_result"
    }
   ],
   "source": [
    "micro_arches = df[ClassMetricVectorConstants.MICRO_ARCHITECTURE].unique().tolist()\n",
    "\n",
    "def view(micro_arch=''):\n",
    "    cols = [ClassMetricVectorConstants.ROLE_KIND, ClassMetricVectorConstants.ENTITY] + get_metric_columns()\n",
    "    display(df[df[ClassMetricVectorConstants.MICRO_ARCHITECTURE] == micro_arch]\n",
    "            [cols], clear=True)\n",
    "\n",
    "\n",
    "w = widgets.Dropdown(options=micro_arches)\n",
    "widgets.interactive(view, micro_arch=w)"
   ]
  },
  {
   "cell_type": "markdown",
   "id": "0616d25e-d4f0-4d42-91a2-6e33586a80e7",
   "metadata": {},
   "source": [
    "### Corelation Between Columns\n",
    "For each column we caclulate pairwaise the coefficient of corelation with other columns. The value of the coefficient can be interpreteted as:\n",
    "\n",
    "- between -1.0 and 0: Negative correlation; a increase in one column expects a decrease in the other; the lower the bigger the impact\n",
    "- equals 0: No correlation\n",
    "- between 0 and 1: Postive correlation; a increase in one column causes an increase the other; the higher the bigger the impact"
   ]
  },
  {
   "cell_type": "code",
   "execution_count": 35,
   "id": "bab51ef0-64b7-4858-ae32-20a1be678bc5",
   "metadata": {},
   "outputs": [
    {
     "data": {
      "application/vnd.plotly.v1+json": {
       "config": {
        "plotlyServerURL": "https://plot.ly"
       },
       "data": [
        {
         "text": [
          [
           1,
           -0.015858703208554852,
           0.06992045996738347,
           -0.0029590862159511095,
           -0.016192606120280527,
           -0.02065274725323738,
           -0.00510161839947092,
           -0.02135530710985734,
           -0.04609281438495535,
           0.07859685751602129,
           -0.022264723404799906,
           0.013572723779786662
          ],
          [
           -0.015858703208554852,
           1,
           0.3910496101409615,
           0.9456549820126725,
           0.08735411488356822,
           0.7986100943856591,
           0.6969865126348567,
           0.3089989434946196,
           0.28438442502531747,
           0.3776421492063168,
           0.5577734564223638,
           0.27750995724068067
          ],
          [
           0.06992045996738347,
           0.3910496101409615,
           1,
           0.2978591629906579,
           0.011129377930496493,
           0.41927347361626216,
           0.1643686635639997,
           0.6675825732616902,
           0.09566832071942523,
           0.2817286116765979,
           0.8302140811420047,
           0.876524081258681
          ],
          [
           -0.0029590862159511095,
           0.9456549820126725,
           0.2978591629906579,
           1,
           0.08523198664602254,
           0.7779961039513025,
           0.6307883811560652,
           0.2635011476554487,
           0.27230070966912684,
           0.2735611716601352,
           0.4826016501509574,
           0.20736509551750046
          ],
          [
           -0.016192606120280527,
           0.08735411488356822,
           0.011129377930496493,
           0.08523198664602254,
           1,
           0.006745328611766845,
           0.12232551023991708,
           -0.014211327578744447,
           -0.04473752369560048,
           0.1124693806705998,
           0.009158790960792581,
           -0.00539850578141166
          ],
          [
           -0.02065274725323738,
           0.7986100943856591,
           0.41927347361626216,
           0.7779961039513025,
           0.006745328611766845,
           1,
           0.18612111138530635,
           0.2966271880300338,
           0.3217782270447085,
           0.3670307311188717,
           0.606666874968369,
           0.2677564233419325
          ],
          [
           -0.00510161839947092,
           0.6969865126348567,
           0.1643686635639997,
           0.6307883811560652,
           0.12232551023991708,
           0.18612111138530635,
           1,
           0.14632765414981538,
           0.06679809827572339,
           0.21185676365396386,
           0.20145177674601145,
           0.1196472242180499
          ],
          [
           -0.02135530710985734,
           0.3089989434946196,
           0.6675825732616902,
           0.2635011476554487,
           -0.014211327578744447,
           0.2966271880300338,
           0.14632765414981538,
           1,
           0.2308861180900302,
           0.28231408323790863,
           0.587575647595969,
           0.45502129089096066
          ],
          [
           -0.04609281438495535,
           0.28438442502531747,
           0.09566832071942523,
           0.27230070966912684,
           -0.04473752369560048,
           0.3217782270447085,
           0.06679809827572339,
           0.2308861180900302,
           1,
           0.3732815801740969,
           0.24597785821508342,
           0.05091588132541364
          ],
          [
           0.07859685751602129,
           0.3776421492063168,
           0.2817286116765979,
           0.2735611716601352,
           0.1124693806705998,
           0.3670307311188717,
           0.21185676365396386,
           0.28231408323790863,
           0.3732815801740969,
           1,
           0.40857193264485697,
           0.17809273484808014
          ],
          [
           -0.022264723404799906,
           0.5577734564223638,
           0.8302140811420047,
           0.4826016501509574,
           0.009158790960792581,
           0.606666874968369,
           0.20145177674601145,
           0.587575647595969,
           0.24597785821508342,
           0.40857193264485697,
           1,
           0.7964381557179778
          ],
          [
           0.013572723779786662,
           0.27750995724068067,
           0.876524081258681,
           0.20736509551750046,
           -0.00539850578141166,
           0.2677564233419325,
           0.1196472242180499,
           0.45502129089096066,
           0.05091588132541364,
           0.17809273484808014,
           0.7964381557179778,
           1
          ]
         ],
         "texttemplate": "%{text:.2f}",
         "type": "heatmap",
         "x": [
          "COUNT_OF_ABSTRACT_METHODS",
          "COUNT_OF_FIELDS",
          "COUNT_OF_METHODS",
          "COUNT_OF_OBJECT_FIELDS",
          "COUNT_OF_PRIVATE_CONSTRUCTORS",
          "COUNT_OF_PRIVATE_FIELDS",
          "COUNT_OF_STATIC_FIELDS",
          "COUPLING_BETWEEN_OBJECTS",
          "DEPTH_OF_INHERITANCE",
          "LACK_OF_COHESION_OF_METHODS",
          "RESPONSE_FOR_A_CLASS",
          "WEIGHTED_METHOD_CLASS"
         ],
         "y": [
          "COUNT_OF_ABSTRACT_METHODS",
          "COUNT_OF_FIELDS",
          "COUNT_OF_METHODS",
          "COUNT_OF_OBJECT_FIELDS",
          "COUNT_OF_PRIVATE_CONSTRUCTORS",
          "COUNT_OF_PRIVATE_FIELDS",
          "COUNT_OF_STATIC_FIELDS",
          "COUPLING_BETWEEN_OBJECTS",
          "DEPTH_OF_INHERITANCE",
          "LACK_OF_COHESION_OF_METHODS",
          "RESPONSE_FOR_A_CLASS",
          "WEIGHTED_METHOD_CLASS"
         ],
         "z": [
          [
           1,
           -0.015858703208554852,
           0.06992045996738347,
           -0.0029590862159511095,
           -0.016192606120280527,
           -0.02065274725323738,
           -0.00510161839947092,
           -0.02135530710985734,
           -0.04609281438495535,
           0.07859685751602129,
           -0.022264723404799906,
           0.013572723779786662
          ],
          [
           -0.015858703208554852,
           1,
           0.3910496101409615,
           0.9456549820126725,
           0.08735411488356822,
           0.7986100943856591,
           0.6969865126348567,
           0.3089989434946196,
           0.28438442502531747,
           0.3776421492063168,
           0.5577734564223638,
           0.27750995724068067
          ],
          [
           0.06992045996738347,
           0.3910496101409615,
           1,
           0.2978591629906579,
           0.011129377930496493,
           0.41927347361626216,
           0.1643686635639997,
           0.6675825732616902,
           0.09566832071942523,
           0.2817286116765979,
           0.8302140811420047,
           0.876524081258681
          ],
          [
           -0.0029590862159511095,
           0.9456549820126725,
           0.2978591629906579,
           1,
           0.08523198664602254,
           0.7779961039513025,
           0.6307883811560652,
           0.2635011476554487,
           0.27230070966912684,
           0.2735611716601352,
           0.4826016501509574,
           0.20736509551750046
          ],
          [
           -0.016192606120280527,
           0.08735411488356822,
           0.011129377930496493,
           0.08523198664602254,
           1,
           0.006745328611766845,
           0.12232551023991708,
           -0.014211327578744447,
           -0.04473752369560048,
           0.1124693806705998,
           0.009158790960792581,
           -0.00539850578141166
          ],
          [
           -0.02065274725323738,
           0.7986100943856591,
           0.41927347361626216,
           0.7779961039513025,
           0.006745328611766845,
           1,
           0.18612111138530635,
           0.2966271880300338,
           0.3217782270447085,
           0.3670307311188717,
           0.606666874968369,
           0.2677564233419325
          ],
          [
           -0.00510161839947092,
           0.6969865126348567,
           0.1643686635639997,
           0.6307883811560652,
           0.12232551023991708,
           0.18612111138530635,
           1,
           0.14632765414981538,
           0.06679809827572339,
           0.21185676365396386,
           0.20145177674601145,
           0.1196472242180499
          ],
          [
           -0.02135530710985734,
           0.3089989434946196,
           0.6675825732616902,
           0.2635011476554487,
           -0.014211327578744447,
           0.2966271880300338,
           0.14632765414981538,
           1,
           0.2308861180900302,
           0.28231408323790863,
           0.587575647595969,
           0.45502129089096066
          ],
          [
           -0.04609281438495535,
           0.28438442502531747,
           0.09566832071942523,
           0.27230070966912684,
           -0.04473752369560048,
           0.3217782270447085,
           0.06679809827572339,
           0.2308861180900302,
           1,
           0.3732815801740969,
           0.24597785821508342,
           0.05091588132541364
          ],
          [
           0.07859685751602129,
           0.3776421492063168,
           0.2817286116765979,
           0.2735611716601352,
           0.1124693806705998,
           0.3670307311188717,
           0.21185676365396386,
           0.28231408323790863,
           0.3732815801740969,
           1,
           0.40857193264485697,
           0.17809273484808014
          ],
          [
           -0.022264723404799906,
           0.5577734564223638,
           0.8302140811420047,
           0.4826016501509574,
           0.009158790960792581,
           0.606666874968369,
           0.20145177674601145,
           0.587575647595969,
           0.24597785821508342,
           0.40857193264485697,
           1,
           0.7964381557179778
          ],
          [
           0.013572723779786662,
           0.27750995724068067,
           0.876524081258681,
           0.20736509551750046,
           -0.00539850578141166,
           0.2677564233419325,
           0.1196472242180499,
           0.45502129089096066,
           0.05091588132541364,
           0.17809273484808014,
           0.7964381557179778,
           1
          ]
         ]
        }
       ],
       "layout": {
        "template": {
         "data": {
          "bar": [
           {
            "error_x": {
             "color": "#2a3f5f"
            },
            "error_y": {
             "color": "#2a3f5f"
            },
            "marker": {
             "line": {
              "color": "#E5ECF6",
              "width": 0.5
             },
             "pattern": {
              "fillmode": "overlay",
              "size": 10,
              "solidity": 0.2
             }
            },
            "type": "bar"
           }
          ],
          "barpolar": [
           {
            "marker": {
             "line": {
              "color": "#E5ECF6",
              "width": 0.5
             },
             "pattern": {
              "fillmode": "overlay",
              "size": 10,
              "solidity": 0.2
             }
            },
            "type": "barpolar"
           }
          ],
          "carpet": [
           {
            "aaxis": {
             "endlinecolor": "#2a3f5f",
             "gridcolor": "white",
             "linecolor": "white",
             "minorgridcolor": "white",
             "startlinecolor": "#2a3f5f"
            },
            "baxis": {
             "endlinecolor": "#2a3f5f",
             "gridcolor": "white",
             "linecolor": "white",
             "minorgridcolor": "white",
             "startlinecolor": "#2a3f5f"
            },
            "type": "carpet"
           }
          ],
          "choropleth": [
           {
            "colorbar": {
             "outlinewidth": 0,
             "ticks": ""
            },
            "type": "choropleth"
           }
          ],
          "contour": [
           {
            "colorbar": {
             "outlinewidth": 0,
             "ticks": ""
            },
            "colorscale": [
             [
              0,
              "#0d0887"
             ],
             [
              0.1111111111111111,
              "#46039f"
             ],
             [
              0.2222222222222222,
              "#7201a8"
             ],
             [
              0.3333333333333333,
              "#9c179e"
             ],
             [
              0.4444444444444444,
              "#bd3786"
             ],
             [
              0.5555555555555556,
              "#d8576b"
             ],
             [
              0.6666666666666666,
              "#ed7953"
             ],
             [
              0.7777777777777778,
              "#fb9f3a"
             ],
             [
              0.8888888888888888,
              "#fdca26"
             ],
             [
              1,
              "#f0f921"
             ]
            ],
            "type": "contour"
           }
          ],
          "contourcarpet": [
           {
            "colorbar": {
             "outlinewidth": 0,
             "ticks": ""
            },
            "type": "contourcarpet"
           }
          ],
          "heatmap": [
           {
            "colorbar": {
             "outlinewidth": 0,
             "ticks": ""
            },
            "colorscale": [
             [
              0,
              "#0d0887"
             ],
             [
              0.1111111111111111,
              "#46039f"
             ],
             [
              0.2222222222222222,
              "#7201a8"
             ],
             [
              0.3333333333333333,
              "#9c179e"
             ],
             [
              0.4444444444444444,
              "#bd3786"
             ],
             [
              0.5555555555555556,
              "#d8576b"
             ],
             [
              0.6666666666666666,
              "#ed7953"
             ],
             [
              0.7777777777777778,
              "#fb9f3a"
             ],
             [
              0.8888888888888888,
              "#fdca26"
             ],
             [
              1,
              "#f0f921"
             ]
            ],
            "type": "heatmap"
           }
          ],
          "heatmapgl": [
           {
            "colorbar": {
             "outlinewidth": 0,
             "ticks": ""
            },
            "colorscale": [
             [
              0,
              "#0d0887"
             ],
             [
              0.1111111111111111,
              "#46039f"
             ],
             [
              0.2222222222222222,
              "#7201a8"
             ],
             [
              0.3333333333333333,
              "#9c179e"
             ],
             [
              0.4444444444444444,
              "#bd3786"
             ],
             [
              0.5555555555555556,
              "#d8576b"
             ],
             [
              0.6666666666666666,
              "#ed7953"
             ],
             [
              0.7777777777777778,
              "#fb9f3a"
             ],
             [
              0.8888888888888888,
              "#fdca26"
             ],
             [
              1,
              "#f0f921"
             ]
            ],
            "type": "heatmapgl"
           }
          ],
          "histogram": [
           {
            "marker": {
             "pattern": {
              "fillmode": "overlay",
              "size": 10,
              "solidity": 0.2
             }
            },
            "type": "histogram"
           }
          ],
          "histogram2d": [
           {
            "colorbar": {
             "outlinewidth": 0,
             "ticks": ""
            },
            "colorscale": [
             [
              0,
              "#0d0887"
             ],
             [
              0.1111111111111111,
              "#46039f"
             ],
             [
              0.2222222222222222,
              "#7201a8"
             ],
             [
              0.3333333333333333,
              "#9c179e"
             ],
             [
              0.4444444444444444,
              "#bd3786"
             ],
             [
              0.5555555555555556,
              "#d8576b"
             ],
             [
              0.6666666666666666,
              "#ed7953"
             ],
             [
              0.7777777777777778,
              "#fb9f3a"
             ],
             [
              0.8888888888888888,
              "#fdca26"
             ],
             [
              1,
              "#f0f921"
             ]
            ],
            "type": "histogram2d"
           }
          ],
          "histogram2dcontour": [
           {
            "colorbar": {
             "outlinewidth": 0,
             "ticks": ""
            },
            "colorscale": [
             [
              0,
              "#0d0887"
             ],
             [
              0.1111111111111111,
              "#46039f"
             ],
             [
              0.2222222222222222,
              "#7201a8"
             ],
             [
              0.3333333333333333,
              "#9c179e"
             ],
             [
              0.4444444444444444,
              "#bd3786"
             ],
             [
              0.5555555555555556,
              "#d8576b"
             ],
             [
              0.6666666666666666,
              "#ed7953"
             ],
             [
              0.7777777777777778,
              "#fb9f3a"
             ],
             [
              0.8888888888888888,
              "#fdca26"
             ],
             [
              1,
              "#f0f921"
             ]
            ],
            "type": "histogram2dcontour"
           }
          ],
          "mesh3d": [
           {
            "colorbar": {
             "outlinewidth": 0,
             "ticks": ""
            },
            "type": "mesh3d"
           }
          ],
          "parcoords": [
           {
            "line": {
             "colorbar": {
              "outlinewidth": 0,
              "ticks": ""
             }
            },
            "type": "parcoords"
           }
          ],
          "pie": [
           {
            "automargin": true,
            "type": "pie"
           }
          ],
          "scatter": [
           {
            "fillpattern": {
             "fillmode": "overlay",
             "size": 10,
             "solidity": 0.2
            },
            "type": "scatter"
           }
          ],
          "scatter3d": [
           {
            "line": {
             "colorbar": {
              "outlinewidth": 0,
              "ticks": ""
             }
            },
            "marker": {
             "colorbar": {
              "outlinewidth": 0,
              "ticks": ""
             }
            },
            "type": "scatter3d"
           }
          ],
          "scattercarpet": [
           {
            "marker": {
             "colorbar": {
              "outlinewidth": 0,
              "ticks": ""
             }
            },
            "type": "scattercarpet"
           }
          ],
          "scattergeo": [
           {
            "marker": {
             "colorbar": {
              "outlinewidth": 0,
              "ticks": ""
             }
            },
            "type": "scattergeo"
           }
          ],
          "scattergl": [
           {
            "marker": {
             "colorbar": {
              "outlinewidth": 0,
              "ticks": ""
             }
            },
            "type": "scattergl"
           }
          ],
          "scattermapbox": [
           {
            "marker": {
             "colorbar": {
              "outlinewidth": 0,
              "ticks": ""
             }
            },
            "type": "scattermapbox"
           }
          ],
          "scatterpolar": [
           {
            "marker": {
             "colorbar": {
              "outlinewidth": 0,
              "ticks": ""
             }
            },
            "type": "scatterpolar"
           }
          ],
          "scatterpolargl": [
           {
            "marker": {
             "colorbar": {
              "outlinewidth": 0,
              "ticks": ""
             }
            },
            "type": "scatterpolargl"
           }
          ],
          "scatterternary": [
           {
            "marker": {
             "colorbar": {
              "outlinewidth": 0,
              "ticks": ""
             }
            },
            "type": "scatterternary"
           }
          ],
          "surface": [
           {
            "colorbar": {
             "outlinewidth": 0,
             "ticks": ""
            },
            "colorscale": [
             [
              0,
              "#0d0887"
             ],
             [
              0.1111111111111111,
              "#46039f"
             ],
             [
              0.2222222222222222,
              "#7201a8"
             ],
             [
              0.3333333333333333,
              "#9c179e"
             ],
             [
              0.4444444444444444,
              "#bd3786"
             ],
             [
              0.5555555555555556,
              "#d8576b"
             ],
             [
              0.6666666666666666,
              "#ed7953"
             ],
             [
              0.7777777777777778,
              "#fb9f3a"
             ],
             [
              0.8888888888888888,
              "#fdca26"
             ],
             [
              1,
              "#f0f921"
             ]
            ],
            "type": "surface"
           }
          ],
          "table": [
           {
            "cells": {
             "fill": {
              "color": "#EBF0F8"
             },
             "line": {
              "color": "white"
             }
            },
            "header": {
             "fill": {
              "color": "#C8D4E3"
             },
             "line": {
              "color": "white"
             }
            },
            "type": "table"
           }
          ]
         },
         "layout": {
          "annotationdefaults": {
           "arrowcolor": "#2a3f5f",
           "arrowhead": 0,
           "arrowwidth": 1
          },
          "autotypenumbers": "strict",
          "coloraxis": {
           "colorbar": {
            "outlinewidth": 0,
            "ticks": ""
           }
          },
          "colorscale": {
           "diverging": [
            [
             0,
             "#8e0152"
            ],
            [
             0.1,
             "#c51b7d"
            ],
            [
             0.2,
             "#de77ae"
            ],
            [
             0.3,
             "#f1b6da"
            ],
            [
             0.4,
             "#fde0ef"
            ],
            [
             0.5,
             "#f7f7f7"
            ],
            [
             0.6,
             "#e6f5d0"
            ],
            [
             0.7,
             "#b8e186"
            ],
            [
             0.8,
             "#7fbc41"
            ],
            [
             0.9,
             "#4d9221"
            ],
            [
             1,
             "#276419"
            ]
           ],
           "sequential": [
            [
             0,
             "#0d0887"
            ],
            [
             0.1111111111111111,
             "#46039f"
            ],
            [
             0.2222222222222222,
             "#7201a8"
            ],
            [
             0.3333333333333333,
             "#9c179e"
            ],
            [
             0.4444444444444444,
             "#bd3786"
            ],
            [
             0.5555555555555556,
             "#d8576b"
            ],
            [
             0.6666666666666666,
             "#ed7953"
            ],
            [
             0.7777777777777778,
             "#fb9f3a"
            ],
            [
             0.8888888888888888,
             "#fdca26"
            ],
            [
             1,
             "#f0f921"
            ]
           ],
           "sequentialminus": [
            [
             0,
             "#0d0887"
            ],
            [
             0.1111111111111111,
             "#46039f"
            ],
            [
             0.2222222222222222,
             "#7201a8"
            ],
            [
             0.3333333333333333,
             "#9c179e"
            ],
            [
             0.4444444444444444,
             "#bd3786"
            ],
            [
             0.5555555555555556,
             "#d8576b"
            ],
            [
             0.6666666666666666,
             "#ed7953"
            ],
            [
             0.7777777777777778,
             "#fb9f3a"
            ],
            [
             0.8888888888888888,
             "#fdca26"
            ],
            [
             1,
             "#f0f921"
            ]
           ]
          },
          "colorway": [
           "#636efa",
           "#EF553B",
           "#00cc96",
           "#ab63fa",
           "#FFA15A",
           "#19d3f3",
           "#FF6692",
           "#B6E880",
           "#FF97FF",
           "#FECB52"
          ],
          "font": {
           "color": "#2a3f5f"
          },
          "geo": {
           "bgcolor": "white",
           "lakecolor": "white",
           "landcolor": "#E5ECF6",
           "showlakes": true,
           "showland": true,
           "subunitcolor": "white"
          },
          "hoverlabel": {
           "align": "left"
          },
          "hovermode": "closest",
          "mapbox": {
           "style": "light"
          },
          "paper_bgcolor": "white",
          "plot_bgcolor": "#E5ECF6",
          "polar": {
           "angularaxis": {
            "gridcolor": "white",
            "linecolor": "white",
            "ticks": ""
           },
           "bgcolor": "#E5ECF6",
           "radialaxis": {
            "gridcolor": "white",
            "linecolor": "white",
            "ticks": ""
           }
          },
          "scene": {
           "xaxis": {
            "backgroundcolor": "#E5ECF6",
            "gridcolor": "white",
            "gridwidth": 2,
            "linecolor": "white",
            "showbackground": true,
            "ticks": "",
            "zerolinecolor": "white"
           },
           "yaxis": {
            "backgroundcolor": "#E5ECF6",
            "gridcolor": "white",
            "gridwidth": 2,
            "linecolor": "white",
            "showbackground": true,
            "ticks": "",
            "zerolinecolor": "white"
           },
           "zaxis": {
            "backgroundcolor": "#E5ECF6",
            "gridcolor": "white",
            "gridwidth": 2,
            "linecolor": "white",
            "showbackground": true,
            "ticks": "",
            "zerolinecolor": "white"
           }
          },
          "shapedefaults": {
           "line": {
            "color": "#2a3f5f"
           }
          },
          "ternary": {
           "aaxis": {
            "gridcolor": "white",
            "linecolor": "white",
            "ticks": ""
           },
           "baxis": {
            "gridcolor": "white",
            "linecolor": "white",
            "ticks": ""
           },
           "bgcolor": "#E5ECF6",
           "caxis": {
            "gridcolor": "white",
            "linecolor": "white",
            "ticks": ""
           }
          },
          "title": {
           "x": 0.05
          },
          "xaxis": {
           "automargin": true,
           "gridcolor": "white",
           "linecolor": "white",
           "ticks": "",
           "title": {
            "standoff": 15
           },
           "zerolinecolor": "white",
           "zerolinewidth": 2
          },
          "yaxis": {
           "automargin": true,
           "gridcolor": "white",
           "linecolor": "white",
           "ticks": "",
           "title": {
            "standoff": 15
           },
           "zerolinecolor": "white",
           "zerolinewidth": 2
          }
         }
        }
       }
      },
      "text/html": [
       "<div>                            <div id=\"8df34cbd-1b10-4a72-bcb8-57f80ecccdde\" class=\"plotly-graph-div\" style=\"height:525px; width:100%;\"></div>            <script type=\"text/javascript\">                require([\"plotly\"], function(Plotly) {                    window.PLOTLYENV=window.PLOTLYENV || {};                                    if (document.getElementById(\"8df34cbd-1b10-4a72-bcb8-57f80ecccdde\")) {                    Plotly.newPlot(                        \"8df34cbd-1b10-4a72-bcb8-57f80ecccdde\",                        [{\"text\":[[1.0,-0.015858703208554852,0.06992045996738347,-0.0029590862159511095,-0.016192606120280527,-0.02065274725323738,-0.00510161839947092,-0.02135530710985734,-0.04609281438495535,0.07859685751602129,-0.022264723404799906,0.013572723779786662],[-0.015858703208554852,1.0,0.3910496101409615,0.9456549820126725,0.08735411488356822,0.7986100943856591,0.6969865126348567,0.3089989434946196,0.28438442502531747,0.3776421492063168,0.5577734564223638,0.27750995724068067],[0.06992045996738347,0.3910496101409615,1.0,0.2978591629906579,0.011129377930496493,0.41927347361626216,0.1643686635639997,0.6675825732616902,0.09566832071942523,0.2817286116765979,0.8302140811420047,0.876524081258681],[-0.0029590862159511095,0.9456549820126725,0.2978591629906579,1.0,0.08523198664602254,0.7779961039513025,0.6307883811560652,0.2635011476554487,0.27230070966912684,0.2735611716601352,0.4826016501509574,0.20736509551750046],[-0.016192606120280527,0.08735411488356822,0.011129377930496493,0.08523198664602254,1.0,0.006745328611766845,0.12232551023991708,-0.014211327578744447,-0.04473752369560048,0.1124693806705998,0.009158790960792581,-0.00539850578141166],[-0.02065274725323738,0.7986100943856591,0.41927347361626216,0.7779961039513025,0.006745328611766845,1.0,0.18612111138530635,0.2966271880300338,0.3217782270447085,0.3670307311188717,0.606666874968369,0.2677564233419325],[-0.00510161839947092,0.6969865126348567,0.1643686635639997,0.6307883811560652,0.12232551023991708,0.18612111138530635,1.0,0.14632765414981538,0.06679809827572339,0.21185676365396386,0.20145177674601145,0.1196472242180499],[-0.02135530710985734,0.3089989434946196,0.6675825732616902,0.2635011476554487,-0.014211327578744447,0.2966271880300338,0.14632765414981538,1.0,0.2308861180900302,0.28231408323790863,0.587575647595969,0.45502129089096066],[-0.04609281438495535,0.28438442502531747,0.09566832071942523,0.27230070966912684,-0.04473752369560048,0.3217782270447085,0.06679809827572339,0.2308861180900302,1.0,0.3732815801740969,0.24597785821508342,0.05091588132541364],[0.07859685751602129,0.3776421492063168,0.2817286116765979,0.2735611716601352,0.1124693806705998,0.3670307311188717,0.21185676365396386,0.28231408323790863,0.3732815801740969,1.0,0.40857193264485697,0.17809273484808014],[-0.022264723404799906,0.5577734564223638,0.8302140811420047,0.4826016501509574,0.009158790960792581,0.606666874968369,0.20145177674601145,0.587575647595969,0.24597785821508342,0.40857193264485697,1.0,0.7964381557179778],[0.013572723779786662,0.27750995724068067,0.876524081258681,0.20736509551750046,-0.00539850578141166,0.2677564233419325,0.1196472242180499,0.45502129089096066,0.05091588132541364,0.17809273484808014,0.7964381557179778,1.0]],\"texttemplate\":\"%{text:.2f}\",\"x\":[\"COUNT_OF_ABSTRACT_METHODS\",\"COUNT_OF_FIELDS\",\"COUNT_OF_METHODS\",\"COUNT_OF_OBJECT_FIELDS\",\"COUNT_OF_PRIVATE_CONSTRUCTORS\",\"COUNT_OF_PRIVATE_FIELDS\",\"COUNT_OF_STATIC_FIELDS\",\"COUPLING_BETWEEN_OBJECTS\",\"DEPTH_OF_INHERITANCE\",\"LACK_OF_COHESION_OF_METHODS\",\"RESPONSE_FOR_A_CLASS\",\"WEIGHTED_METHOD_CLASS\"],\"y\":[\"COUNT_OF_ABSTRACT_METHODS\",\"COUNT_OF_FIELDS\",\"COUNT_OF_METHODS\",\"COUNT_OF_OBJECT_FIELDS\",\"COUNT_OF_PRIVATE_CONSTRUCTORS\",\"COUNT_OF_PRIVATE_FIELDS\",\"COUNT_OF_STATIC_FIELDS\",\"COUPLING_BETWEEN_OBJECTS\",\"DEPTH_OF_INHERITANCE\",\"LACK_OF_COHESION_OF_METHODS\",\"RESPONSE_FOR_A_CLASS\",\"WEIGHTED_METHOD_CLASS\"],\"z\":[[1.0,-0.015858703208554852,0.06992045996738347,-0.0029590862159511095,-0.016192606120280527,-0.02065274725323738,-0.00510161839947092,-0.02135530710985734,-0.04609281438495535,0.07859685751602129,-0.022264723404799906,0.013572723779786662],[-0.015858703208554852,1.0,0.3910496101409615,0.9456549820126725,0.08735411488356822,0.7986100943856591,0.6969865126348567,0.3089989434946196,0.28438442502531747,0.3776421492063168,0.5577734564223638,0.27750995724068067],[0.06992045996738347,0.3910496101409615,1.0,0.2978591629906579,0.011129377930496493,0.41927347361626216,0.1643686635639997,0.6675825732616902,0.09566832071942523,0.2817286116765979,0.8302140811420047,0.876524081258681],[-0.0029590862159511095,0.9456549820126725,0.2978591629906579,1.0,0.08523198664602254,0.7779961039513025,0.6307883811560652,0.2635011476554487,0.27230070966912684,0.2735611716601352,0.4826016501509574,0.20736509551750046],[-0.016192606120280527,0.08735411488356822,0.011129377930496493,0.08523198664602254,1.0,0.006745328611766845,0.12232551023991708,-0.014211327578744447,-0.04473752369560048,0.1124693806705998,0.009158790960792581,-0.00539850578141166],[-0.02065274725323738,0.7986100943856591,0.41927347361626216,0.7779961039513025,0.006745328611766845,1.0,0.18612111138530635,0.2966271880300338,0.3217782270447085,0.3670307311188717,0.606666874968369,0.2677564233419325],[-0.00510161839947092,0.6969865126348567,0.1643686635639997,0.6307883811560652,0.12232551023991708,0.18612111138530635,1.0,0.14632765414981538,0.06679809827572339,0.21185676365396386,0.20145177674601145,0.1196472242180499],[-0.02135530710985734,0.3089989434946196,0.6675825732616902,0.2635011476554487,-0.014211327578744447,0.2966271880300338,0.14632765414981538,1.0,0.2308861180900302,0.28231408323790863,0.587575647595969,0.45502129089096066],[-0.04609281438495535,0.28438442502531747,0.09566832071942523,0.27230070966912684,-0.04473752369560048,0.3217782270447085,0.06679809827572339,0.2308861180900302,1.0,0.3732815801740969,0.24597785821508342,0.05091588132541364],[0.07859685751602129,0.3776421492063168,0.2817286116765979,0.2735611716601352,0.1124693806705998,0.3670307311188717,0.21185676365396386,0.28231408323790863,0.3732815801740969,1.0,0.40857193264485697,0.17809273484808014],[-0.022264723404799906,0.5577734564223638,0.8302140811420047,0.4826016501509574,0.009158790960792581,0.606666874968369,0.20145177674601145,0.587575647595969,0.24597785821508342,0.40857193264485697,1.0,0.7964381557179778],[0.013572723779786662,0.27750995724068067,0.876524081258681,0.20736509551750046,-0.00539850578141166,0.2677564233419325,0.1196472242180499,0.45502129089096066,0.05091588132541364,0.17809273484808014,0.7964381557179778,1.0]],\"type\":\"heatmap\"}],                        {\"template\":{\"data\":{\"histogram2dcontour\":[{\"type\":\"histogram2dcontour\",\"colorbar\":{\"outlinewidth\":0,\"ticks\":\"\"},\"colorscale\":[[0.0,\"#0d0887\"],[0.1111111111111111,\"#46039f\"],[0.2222222222222222,\"#7201a8\"],[0.3333333333333333,\"#9c179e\"],[0.4444444444444444,\"#bd3786\"],[0.5555555555555556,\"#d8576b\"],[0.6666666666666666,\"#ed7953\"],[0.7777777777777778,\"#fb9f3a\"],[0.8888888888888888,\"#fdca26\"],[1.0,\"#f0f921\"]]}],\"choropleth\":[{\"type\":\"choropleth\",\"colorbar\":{\"outlinewidth\":0,\"ticks\":\"\"}}],\"histogram2d\":[{\"type\":\"histogram2d\",\"colorbar\":{\"outlinewidth\":0,\"ticks\":\"\"},\"colorscale\":[[0.0,\"#0d0887\"],[0.1111111111111111,\"#46039f\"],[0.2222222222222222,\"#7201a8\"],[0.3333333333333333,\"#9c179e\"],[0.4444444444444444,\"#bd3786\"],[0.5555555555555556,\"#d8576b\"],[0.6666666666666666,\"#ed7953\"],[0.7777777777777778,\"#fb9f3a\"],[0.8888888888888888,\"#fdca26\"],[1.0,\"#f0f921\"]]}],\"heatmap\":[{\"type\":\"heatmap\",\"colorbar\":{\"outlinewidth\":0,\"ticks\":\"\"},\"colorscale\":[[0.0,\"#0d0887\"],[0.1111111111111111,\"#46039f\"],[0.2222222222222222,\"#7201a8\"],[0.3333333333333333,\"#9c179e\"],[0.4444444444444444,\"#bd3786\"],[0.5555555555555556,\"#d8576b\"],[0.6666666666666666,\"#ed7953\"],[0.7777777777777778,\"#fb9f3a\"],[0.8888888888888888,\"#fdca26\"],[1.0,\"#f0f921\"]]}],\"heatmapgl\":[{\"type\":\"heatmapgl\",\"colorbar\":{\"outlinewidth\":0,\"ticks\":\"\"},\"colorscale\":[[0.0,\"#0d0887\"],[0.1111111111111111,\"#46039f\"],[0.2222222222222222,\"#7201a8\"],[0.3333333333333333,\"#9c179e\"],[0.4444444444444444,\"#bd3786\"],[0.5555555555555556,\"#d8576b\"],[0.6666666666666666,\"#ed7953\"],[0.7777777777777778,\"#fb9f3a\"],[0.8888888888888888,\"#fdca26\"],[1.0,\"#f0f921\"]]}],\"contourcarpet\":[{\"type\":\"contourcarpet\",\"colorbar\":{\"outlinewidth\":0,\"ticks\":\"\"}}],\"contour\":[{\"type\":\"contour\",\"colorbar\":{\"outlinewidth\":0,\"ticks\":\"\"},\"colorscale\":[[0.0,\"#0d0887\"],[0.1111111111111111,\"#46039f\"],[0.2222222222222222,\"#7201a8\"],[0.3333333333333333,\"#9c179e\"],[0.4444444444444444,\"#bd3786\"],[0.5555555555555556,\"#d8576b\"],[0.6666666666666666,\"#ed7953\"],[0.7777777777777778,\"#fb9f3a\"],[0.8888888888888888,\"#fdca26\"],[1.0,\"#f0f921\"]]}],\"surface\":[{\"type\":\"surface\",\"colorbar\":{\"outlinewidth\":0,\"ticks\":\"\"},\"colorscale\":[[0.0,\"#0d0887\"],[0.1111111111111111,\"#46039f\"],[0.2222222222222222,\"#7201a8\"],[0.3333333333333333,\"#9c179e\"],[0.4444444444444444,\"#bd3786\"],[0.5555555555555556,\"#d8576b\"],[0.6666666666666666,\"#ed7953\"],[0.7777777777777778,\"#fb9f3a\"],[0.8888888888888888,\"#fdca26\"],[1.0,\"#f0f921\"]]}],\"mesh3d\":[{\"type\":\"mesh3d\",\"colorbar\":{\"outlinewidth\":0,\"ticks\":\"\"}}],\"scatter\":[{\"fillpattern\":{\"fillmode\":\"overlay\",\"size\":10,\"solidity\":0.2},\"type\":\"scatter\"}],\"parcoords\":[{\"type\":\"parcoords\",\"line\":{\"colorbar\":{\"outlinewidth\":0,\"ticks\":\"\"}}}],\"scatterpolargl\":[{\"type\":\"scatterpolargl\",\"marker\":{\"colorbar\":{\"outlinewidth\":0,\"ticks\":\"\"}}}],\"bar\":[{\"error_x\":{\"color\":\"#2a3f5f\"},\"error_y\":{\"color\":\"#2a3f5f\"},\"marker\":{\"line\":{\"color\":\"#E5ECF6\",\"width\":0.5},\"pattern\":{\"fillmode\":\"overlay\",\"size\":10,\"solidity\":0.2}},\"type\":\"bar\"}],\"scattergeo\":[{\"type\":\"scattergeo\",\"marker\":{\"colorbar\":{\"outlinewidth\":0,\"ticks\":\"\"}}}],\"scatterpolar\":[{\"type\":\"scatterpolar\",\"marker\":{\"colorbar\":{\"outlinewidth\":0,\"ticks\":\"\"}}}],\"histogram\":[{\"marker\":{\"pattern\":{\"fillmode\":\"overlay\",\"size\":10,\"solidity\":0.2}},\"type\":\"histogram\"}],\"scattergl\":[{\"type\":\"scattergl\",\"marker\":{\"colorbar\":{\"outlinewidth\":0,\"ticks\":\"\"}}}],\"scatter3d\":[{\"type\":\"scatter3d\",\"line\":{\"colorbar\":{\"outlinewidth\":0,\"ticks\":\"\"}},\"marker\":{\"colorbar\":{\"outlinewidth\":0,\"ticks\":\"\"}}}],\"scattermapbox\":[{\"type\":\"scattermapbox\",\"marker\":{\"colorbar\":{\"outlinewidth\":0,\"ticks\":\"\"}}}],\"scatterternary\":[{\"type\":\"scatterternary\",\"marker\":{\"colorbar\":{\"outlinewidth\":0,\"ticks\":\"\"}}}],\"scattercarpet\":[{\"type\":\"scattercarpet\",\"marker\":{\"colorbar\":{\"outlinewidth\":0,\"ticks\":\"\"}}}],\"carpet\":[{\"aaxis\":{\"endlinecolor\":\"#2a3f5f\",\"gridcolor\":\"white\",\"linecolor\":\"white\",\"minorgridcolor\":\"white\",\"startlinecolor\":\"#2a3f5f\"},\"baxis\":{\"endlinecolor\":\"#2a3f5f\",\"gridcolor\":\"white\",\"linecolor\":\"white\",\"minorgridcolor\":\"white\",\"startlinecolor\":\"#2a3f5f\"},\"type\":\"carpet\"}],\"table\":[{\"cells\":{\"fill\":{\"color\":\"#EBF0F8\"},\"line\":{\"color\":\"white\"}},\"header\":{\"fill\":{\"color\":\"#C8D4E3\"},\"line\":{\"color\":\"white\"}},\"type\":\"table\"}],\"barpolar\":[{\"marker\":{\"line\":{\"color\":\"#E5ECF6\",\"width\":0.5},\"pattern\":{\"fillmode\":\"overlay\",\"size\":10,\"solidity\":0.2}},\"type\":\"barpolar\"}],\"pie\":[{\"automargin\":true,\"type\":\"pie\"}]},\"layout\":{\"autotypenumbers\":\"strict\",\"colorway\":[\"#636efa\",\"#EF553B\",\"#00cc96\",\"#ab63fa\",\"#FFA15A\",\"#19d3f3\",\"#FF6692\",\"#B6E880\",\"#FF97FF\",\"#FECB52\"],\"font\":{\"color\":\"#2a3f5f\"},\"hovermode\":\"closest\",\"hoverlabel\":{\"align\":\"left\"},\"paper_bgcolor\":\"white\",\"plot_bgcolor\":\"#E5ECF6\",\"polar\":{\"bgcolor\":\"#E5ECF6\",\"angularaxis\":{\"gridcolor\":\"white\",\"linecolor\":\"white\",\"ticks\":\"\"},\"radialaxis\":{\"gridcolor\":\"white\",\"linecolor\":\"white\",\"ticks\":\"\"}},\"ternary\":{\"bgcolor\":\"#E5ECF6\",\"aaxis\":{\"gridcolor\":\"white\",\"linecolor\":\"white\",\"ticks\":\"\"},\"baxis\":{\"gridcolor\":\"white\",\"linecolor\":\"white\",\"ticks\":\"\"},\"caxis\":{\"gridcolor\":\"white\",\"linecolor\":\"white\",\"ticks\":\"\"}},\"coloraxis\":{\"colorbar\":{\"outlinewidth\":0,\"ticks\":\"\"}},\"colorscale\":{\"sequential\":[[0.0,\"#0d0887\"],[0.1111111111111111,\"#46039f\"],[0.2222222222222222,\"#7201a8\"],[0.3333333333333333,\"#9c179e\"],[0.4444444444444444,\"#bd3786\"],[0.5555555555555556,\"#d8576b\"],[0.6666666666666666,\"#ed7953\"],[0.7777777777777778,\"#fb9f3a\"],[0.8888888888888888,\"#fdca26\"],[1.0,\"#f0f921\"]],\"sequentialminus\":[[0.0,\"#0d0887\"],[0.1111111111111111,\"#46039f\"],[0.2222222222222222,\"#7201a8\"],[0.3333333333333333,\"#9c179e\"],[0.4444444444444444,\"#bd3786\"],[0.5555555555555556,\"#d8576b\"],[0.6666666666666666,\"#ed7953\"],[0.7777777777777778,\"#fb9f3a\"],[0.8888888888888888,\"#fdca26\"],[1.0,\"#f0f921\"]],\"diverging\":[[0,\"#8e0152\"],[0.1,\"#c51b7d\"],[0.2,\"#de77ae\"],[0.3,\"#f1b6da\"],[0.4,\"#fde0ef\"],[0.5,\"#f7f7f7\"],[0.6,\"#e6f5d0\"],[0.7,\"#b8e186\"],[0.8,\"#7fbc41\"],[0.9,\"#4d9221\"],[1,\"#276419\"]]},\"xaxis\":{\"gridcolor\":\"white\",\"linecolor\":\"white\",\"ticks\":\"\",\"title\":{\"standoff\":15},\"zerolinecolor\":\"white\",\"automargin\":true,\"zerolinewidth\":2},\"yaxis\":{\"gridcolor\":\"white\",\"linecolor\":\"white\",\"ticks\":\"\",\"title\":{\"standoff\":15},\"zerolinecolor\":\"white\",\"automargin\":true,\"zerolinewidth\":2},\"scene\":{\"xaxis\":{\"backgroundcolor\":\"#E5ECF6\",\"gridcolor\":\"white\",\"linecolor\":\"white\",\"showbackground\":true,\"ticks\":\"\",\"zerolinecolor\":\"white\",\"gridwidth\":2},\"yaxis\":{\"backgroundcolor\":\"#E5ECF6\",\"gridcolor\":\"white\",\"linecolor\":\"white\",\"showbackground\":true,\"ticks\":\"\",\"zerolinecolor\":\"white\",\"gridwidth\":2},\"zaxis\":{\"backgroundcolor\":\"#E5ECF6\",\"gridcolor\":\"white\",\"linecolor\":\"white\",\"showbackground\":true,\"ticks\":\"\",\"zerolinecolor\":\"white\",\"gridwidth\":2}},\"shapedefaults\":{\"line\":{\"color\":\"#2a3f5f\"}},\"annotationdefaults\":{\"arrowcolor\":\"#2a3f5f\",\"arrowhead\":0,\"arrowwidth\":1},\"geo\":{\"bgcolor\":\"white\",\"landcolor\":\"#E5ECF6\",\"subunitcolor\":\"white\",\"showland\":true,\"showlakes\":true,\"lakecolor\":\"white\"},\"title\":{\"x\":0.05},\"mapbox\":{\"style\":\"light\"}}}},                        {\"responsive\": true}                    ).then(function(){\n",
       "                            \n",
       "var gd = document.getElementById('8df34cbd-1b10-4a72-bcb8-57f80ecccdde');\n",
       "var x = new MutationObserver(function (mutations, observer) {{\n",
       "        var display = window.getComputedStyle(gd).display;\n",
       "        if (!display || display === 'none') {{\n",
       "            console.log([gd, 'removed!']);\n",
       "            Plotly.purge(gd);\n",
       "            observer.disconnect();\n",
       "        }}\n",
       "}});\n",
       "\n",
       "// Listen for the removal of the full notebook cells\n",
       "var notebookContainer = gd.closest('#notebook-container');\n",
       "if (notebookContainer) {{\n",
       "    x.observe(notebookContainer, {childList: true});\n",
       "}}\n",
       "\n",
       "// Listen for the clearing of the current output cell\n",
       "var outputEl = gd.closest('.output');\n",
       "if (outputEl) {{\n",
       "    x.observe(outputEl, {childList: true});\n",
       "}}\n",
       "\n",
       "                        })                };                });            </script>        </div>"
      ]
     },
     "metadata": {},
     "output_type": "display_data"
    }
   ],
   "source": [
    "df_corr = df[get_metric_columns()].copy()\n",
    "corr = df_corr.corr()\n",
    "fig = go.Figure()\n",
    "fig.add_trace(\n",
    "    go.Heatmap(\n",
    "        x=corr.columns,\n",
    "        y=corr.index,\n",
    "        z=np.array(corr),\n",
    "        text=corr.values,\n",
    "        texttemplate='%{text:.2f}'\n",
    "    )\n",
    ")\n",
    "fig.show()\n"
   ]
  },
  {
   "cell_type": "markdown",
   "id": "b016f497",
   "metadata": {},
   "source": [
    "### Distribution of roles"
   ]
  },
  {
   "cell_type": "code",
   "execution_count": 95,
   "id": "c79959eb",
   "metadata": {
    "scrolled": true
   },
   "outputs": [
    {
     "data": {
      "application/vnd.plotly.v1+json": {
       "config": {
        "plotlyServerURL": "https://plot.ly"
       },
       "data": [
        {
         "alignmentgroup": "True",
         "hovertemplate": "role=%{x}<br>0=%{y}<extra></extra>",
         "legendgroup": "",
         "marker": {
          "color": "#636efa",
          "pattern": {
           "shape": ""
          }
         },
         "name": "",
         "offsetgroup": "",
         "orientation": "v",
         "showlegend": false,
         "textposition": "auto",
         "type": "bar",
         "x": [
          "concreteElement",
          "leaf",
          "concreteStrategy",
          "client",
          "concreteSubject",
          "concreteComponent",
          "concreteClass",
          "concreteCommand",
          "product",
          "concreteProduct",
          "adapter",
          "concreteVisitor",
          "invoker",
          "concreteObserver",
          "context",
          "concreteState",
          "adaptee",
          "singleton",
          "concreteBuilder",
          "concreteCreator",
          "receiver",
          "composite",
          "target",
          "subsystemClass",
          "observer",
          "subject",
          "memento",
          "concreteFactory",
          "concreteIterator",
          "originator",
          "abstractClass",
          "component",
          "strategy",
          "creator",
          "concreteDecorator",
          "command",
          "concreteAggregate",
          "visitor",
          "aggregate",
          "state",
          "caretaker",
          "element",
          "realSubject",
          "proxy",
          "concreateColleague",
          "objectStructure",
          "director",
          "iterator",
          "concreteImplementor",
          "concretePrototype",
          "abstractProduct",
          "refinedAbstraction",
          "concreteMediator",
          "abstractFactory",
          "colleague",
          "mediator",
          "facade",
          "implementor",
          "builder",
          "decorator",
          "prototype",
          "abstraction",
          "nullObject"
         ],
         "xaxis": "x",
         "y": [
          102,
          92,
          68,
          64,
          59,
          55,
          51,
          50,
          46,
          38,
          29,
          29,
          29,
          28,
          24,
          21,
          17,
          15,
          14,
          13,
          12,
          11,
          10,
          10,
          9,
          9,
          8,
          8,
          8,
          8,
          7,
          7,
          6,
          6,
          6,
          6,
          6,
          5,
          5,
          5,
          5,
          5,
          5,
          5,
          4,
          4,
          4,
          4,
          4,
          3,
          3,
          3,
          2,
          2,
          2,
          2,
          1,
          1,
          1,
          1,
          1,
          1,
          1
         ],
         "yaxis": "y"
        }
       ],
       "layout": {
        "barmode": "relative",
        "legend": {
         "tracegroupgap": 0
        },
        "margin": {
         "t": 60
        },
        "template": {
         "data": {
          "bar": [
           {
            "error_x": {
             "color": "#2a3f5f"
            },
            "error_y": {
             "color": "#2a3f5f"
            },
            "marker": {
             "line": {
              "color": "#E5ECF6",
              "width": 0.5
             },
             "pattern": {
              "fillmode": "overlay",
              "size": 10,
              "solidity": 0.2
             }
            },
            "type": "bar"
           }
          ],
          "barpolar": [
           {
            "marker": {
             "line": {
              "color": "#E5ECF6",
              "width": 0.5
             },
             "pattern": {
              "fillmode": "overlay",
              "size": 10,
              "solidity": 0.2
             }
            },
            "type": "barpolar"
           }
          ],
          "carpet": [
           {
            "aaxis": {
             "endlinecolor": "#2a3f5f",
             "gridcolor": "white",
             "linecolor": "white",
             "minorgridcolor": "white",
             "startlinecolor": "#2a3f5f"
            },
            "baxis": {
             "endlinecolor": "#2a3f5f",
             "gridcolor": "white",
             "linecolor": "white",
             "minorgridcolor": "white",
             "startlinecolor": "#2a3f5f"
            },
            "type": "carpet"
           }
          ],
          "choropleth": [
           {
            "colorbar": {
             "outlinewidth": 0,
             "ticks": ""
            },
            "type": "choropleth"
           }
          ],
          "contour": [
           {
            "colorbar": {
             "outlinewidth": 0,
             "ticks": ""
            },
            "colorscale": [
             [
              0,
              "#0d0887"
             ],
             [
              0.1111111111111111,
              "#46039f"
             ],
             [
              0.2222222222222222,
              "#7201a8"
             ],
             [
              0.3333333333333333,
              "#9c179e"
             ],
             [
              0.4444444444444444,
              "#bd3786"
             ],
             [
              0.5555555555555556,
              "#d8576b"
             ],
             [
              0.6666666666666666,
              "#ed7953"
             ],
             [
              0.7777777777777778,
              "#fb9f3a"
             ],
             [
              0.8888888888888888,
              "#fdca26"
             ],
             [
              1,
              "#f0f921"
             ]
            ],
            "type": "contour"
           }
          ],
          "contourcarpet": [
           {
            "colorbar": {
             "outlinewidth": 0,
             "ticks": ""
            },
            "type": "contourcarpet"
           }
          ],
          "heatmap": [
           {
            "colorbar": {
             "outlinewidth": 0,
             "ticks": ""
            },
            "colorscale": [
             [
              0,
              "#0d0887"
             ],
             [
              0.1111111111111111,
              "#46039f"
             ],
             [
              0.2222222222222222,
              "#7201a8"
             ],
             [
              0.3333333333333333,
              "#9c179e"
             ],
             [
              0.4444444444444444,
              "#bd3786"
             ],
             [
              0.5555555555555556,
              "#d8576b"
             ],
             [
              0.6666666666666666,
              "#ed7953"
             ],
             [
              0.7777777777777778,
              "#fb9f3a"
             ],
             [
              0.8888888888888888,
              "#fdca26"
             ],
             [
              1,
              "#f0f921"
             ]
            ],
            "type": "heatmap"
           }
          ],
          "heatmapgl": [
           {
            "colorbar": {
             "outlinewidth": 0,
             "ticks": ""
            },
            "colorscale": [
             [
              0,
              "#0d0887"
             ],
             [
              0.1111111111111111,
              "#46039f"
             ],
             [
              0.2222222222222222,
              "#7201a8"
             ],
             [
              0.3333333333333333,
              "#9c179e"
             ],
             [
              0.4444444444444444,
              "#bd3786"
             ],
             [
              0.5555555555555556,
              "#d8576b"
             ],
             [
              0.6666666666666666,
              "#ed7953"
             ],
             [
              0.7777777777777778,
              "#fb9f3a"
             ],
             [
              0.8888888888888888,
              "#fdca26"
             ],
             [
              1,
              "#f0f921"
             ]
            ],
            "type": "heatmapgl"
           }
          ],
          "histogram": [
           {
            "marker": {
             "pattern": {
              "fillmode": "overlay",
              "size": 10,
              "solidity": 0.2
             }
            },
            "type": "histogram"
           }
          ],
          "histogram2d": [
           {
            "colorbar": {
             "outlinewidth": 0,
             "ticks": ""
            },
            "colorscale": [
             [
              0,
              "#0d0887"
             ],
             [
              0.1111111111111111,
              "#46039f"
             ],
             [
              0.2222222222222222,
              "#7201a8"
             ],
             [
              0.3333333333333333,
              "#9c179e"
             ],
             [
              0.4444444444444444,
              "#bd3786"
             ],
             [
              0.5555555555555556,
              "#d8576b"
             ],
             [
              0.6666666666666666,
              "#ed7953"
             ],
             [
              0.7777777777777778,
              "#fb9f3a"
             ],
             [
              0.8888888888888888,
              "#fdca26"
             ],
             [
              1,
              "#f0f921"
             ]
            ],
            "type": "histogram2d"
           }
          ],
          "histogram2dcontour": [
           {
            "colorbar": {
             "outlinewidth": 0,
             "ticks": ""
            },
            "colorscale": [
             [
              0,
              "#0d0887"
             ],
             [
              0.1111111111111111,
              "#46039f"
             ],
             [
              0.2222222222222222,
              "#7201a8"
             ],
             [
              0.3333333333333333,
              "#9c179e"
             ],
             [
              0.4444444444444444,
              "#bd3786"
             ],
             [
              0.5555555555555556,
              "#d8576b"
             ],
             [
              0.6666666666666666,
              "#ed7953"
             ],
             [
              0.7777777777777778,
              "#fb9f3a"
             ],
             [
              0.8888888888888888,
              "#fdca26"
             ],
             [
              1,
              "#f0f921"
             ]
            ],
            "type": "histogram2dcontour"
           }
          ],
          "mesh3d": [
           {
            "colorbar": {
             "outlinewidth": 0,
             "ticks": ""
            },
            "type": "mesh3d"
           }
          ],
          "parcoords": [
           {
            "line": {
             "colorbar": {
              "outlinewidth": 0,
              "ticks": ""
             }
            },
            "type": "parcoords"
           }
          ],
          "pie": [
           {
            "automargin": true,
            "type": "pie"
           }
          ],
          "scatter": [
           {
            "fillpattern": {
             "fillmode": "overlay",
             "size": 10,
             "solidity": 0.2
            },
            "type": "scatter"
           }
          ],
          "scatter3d": [
           {
            "line": {
             "colorbar": {
              "outlinewidth": 0,
              "ticks": ""
             }
            },
            "marker": {
             "colorbar": {
              "outlinewidth": 0,
              "ticks": ""
             }
            },
            "type": "scatter3d"
           }
          ],
          "scattercarpet": [
           {
            "marker": {
             "colorbar": {
              "outlinewidth": 0,
              "ticks": ""
             }
            },
            "type": "scattercarpet"
           }
          ],
          "scattergeo": [
           {
            "marker": {
             "colorbar": {
              "outlinewidth": 0,
              "ticks": ""
             }
            },
            "type": "scattergeo"
           }
          ],
          "scattergl": [
           {
            "marker": {
             "colorbar": {
              "outlinewidth": 0,
              "ticks": ""
             }
            },
            "type": "scattergl"
           }
          ],
          "scattermapbox": [
           {
            "marker": {
             "colorbar": {
              "outlinewidth": 0,
              "ticks": ""
             }
            },
            "type": "scattermapbox"
           }
          ],
          "scatterpolar": [
           {
            "marker": {
             "colorbar": {
              "outlinewidth": 0,
              "ticks": ""
             }
            },
            "type": "scatterpolar"
           }
          ],
          "scatterpolargl": [
           {
            "marker": {
             "colorbar": {
              "outlinewidth": 0,
              "ticks": ""
             }
            },
            "type": "scatterpolargl"
           }
          ],
          "scatterternary": [
           {
            "marker": {
             "colorbar": {
              "outlinewidth": 0,
              "ticks": ""
             }
            },
            "type": "scatterternary"
           }
          ],
          "surface": [
           {
            "colorbar": {
             "outlinewidth": 0,
             "ticks": ""
            },
            "colorscale": [
             [
              0,
              "#0d0887"
             ],
             [
              0.1111111111111111,
              "#46039f"
             ],
             [
              0.2222222222222222,
              "#7201a8"
             ],
             [
              0.3333333333333333,
              "#9c179e"
             ],
             [
              0.4444444444444444,
              "#bd3786"
             ],
             [
              0.5555555555555556,
              "#d8576b"
             ],
             [
              0.6666666666666666,
              "#ed7953"
             ],
             [
              0.7777777777777778,
              "#fb9f3a"
             ],
             [
              0.8888888888888888,
              "#fdca26"
             ],
             [
              1,
              "#f0f921"
             ]
            ],
            "type": "surface"
           }
          ],
          "table": [
           {
            "cells": {
             "fill": {
              "color": "#EBF0F8"
             },
             "line": {
              "color": "white"
             }
            },
            "header": {
             "fill": {
              "color": "#C8D4E3"
             },
             "line": {
              "color": "white"
             }
            },
            "type": "table"
           }
          ]
         },
         "layout": {
          "annotationdefaults": {
           "arrowcolor": "#2a3f5f",
           "arrowhead": 0,
           "arrowwidth": 1
          },
          "autotypenumbers": "strict",
          "coloraxis": {
           "colorbar": {
            "outlinewidth": 0,
            "ticks": ""
           }
          },
          "colorscale": {
           "diverging": [
            [
             0,
             "#8e0152"
            ],
            [
             0.1,
             "#c51b7d"
            ],
            [
             0.2,
             "#de77ae"
            ],
            [
             0.3,
             "#f1b6da"
            ],
            [
             0.4,
             "#fde0ef"
            ],
            [
             0.5,
             "#f7f7f7"
            ],
            [
             0.6,
             "#e6f5d0"
            ],
            [
             0.7,
             "#b8e186"
            ],
            [
             0.8,
             "#7fbc41"
            ],
            [
             0.9,
             "#4d9221"
            ],
            [
             1,
             "#276419"
            ]
           ],
           "sequential": [
            [
             0,
             "#0d0887"
            ],
            [
             0.1111111111111111,
             "#46039f"
            ],
            [
             0.2222222222222222,
             "#7201a8"
            ],
            [
             0.3333333333333333,
             "#9c179e"
            ],
            [
             0.4444444444444444,
             "#bd3786"
            ],
            [
             0.5555555555555556,
             "#d8576b"
            ],
            [
             0.6666666666666666,
             "#ed7953"
            ],
            [
             0.7777777777777778,
             "#fb9f3a"
            ],
            [
             0.8888888888888888,
             "#fdca26"
            ],
            [
             1,
             "#f0f921"
            ]
           ],
           "sequentialminus": [
            [
             0,
             "#0d0887"
            ],
            [
             0.1111111111111111,
             "#46039f"
            ],
            [
             0.2222222222222222,
             "#7201a8"
            ],
            [
             0.3333333333333333,
             "#9c179e"
            ],
            [
             0.4444444444444444,
             "#bd3786"
            ],
            [
             0.5555555555555556,
             "#d8576b"
            ],
            [
             0.6666666666666666,
             "#ed7953"
            ],
            [
             0.7777777777777778,
             "#fb9f3a"
            ],
            [
             0.8888888888888888,
             "#fdca26"
            ],
            [
             1,
             "#f0f921"
            ]
           ]
          },
          "colorway": [
           "#636efa",
           "#EF553B",
           "#00cc96",
           "#ab63fa",
           "#FFA15A",
           "#19d3f3",
           "#FF6692",
           "#B6E880",
           "#FF97FF",
           "#FECB52"
          ],
          "font": {
           "color": "#2a3f5f"
          },
          "geo": {
           "bgcolor": "white",
           "lakecolor": "white",
           "landcolor": "#E5ECF6",
           "showlakes": true,
           "showland": true,
           "subunitcolor": "white"
          },
          "hoverlabel": {
           "align": "left"
          },
          "hovermode": "closest",
          "mapbox": {
           "style": "light"
          },
          "paper_bgcolor": "white",
          "plot_bgcolor": "#E5ECF6",
          "polar": {
           "angularaxis": {
            "gridcolor": "white",
            "linecolor": "white",
            "ticks": ""
           },
           "bgcolor": "#E5ECF6",
           "radialaxis": {
            "gridcolor": "white",
            "linecolor": "white",
            "ticks": ""
           }
          },
          "scene": {
           "xaxis": {
            "backgroundcolor": "#E5ECF6",
            "gridcolor": "white",
            "gridwidth": 2,
            "linecolor": "white",
            "showbackground": true,
            "ticks": "",
            "zerolinecolor": "white"
           },
           "yaxis": {
            "backgroundcolor": "#E5ECF6",
            "gridcolor": "white",
            "gridwidth": 2,
            "linecolor": "white",
            "showbackground": true,
            "ticks": "",
            "zerolinecolor": "white"
           },
           "zaxis": {
            "backgroundcolor": "#E5ECF6",
            "gridcolor": "white",
            "gridwidth": 2,
            "linecolor": "white",
            "showbackground": true,
            "ticks": "",
            "zerolinecolor": "white"
           }
          },
          "shapedefaults": {
           "line": {
            "color": "#2a3f5f"
           }
          },
          "ternary": {
           "aaxis": {
            "gridcolor": "white",
            "linecolor": "white",
            "ticks": ""
           },
           "baxis": {
            "gridcolor": "white",
            "linecolor": "white",
            "ticks": ""
           },
           "bgcolor": "#E5ECF6",
           "caxis": {
            "gridcolor": "white",
            "linecolor": "white",
            "ticks": ""
           }
          },
          "title": {
           "x": 0.05
          },
          "xaxis": {
           "automargin": true,
           "gridcolor": "white",
           "linecolor": "white",
           "ticks": "",
           "title": {
            "standoff": 15
           },
           "zerolinecolor": "white",
           "zerolinewidth": 2
          },
          "yaxis": {
           "automargin": true,
           "gridcolor": "white",
           "linecolor": "white",
           "ticks": "",
           "title": {
            "standoff": 15
           },
           "zerolinecolor": "white",
           "zerolinewidth": 2
          }
         }
        },
        "xaxis": {
         "anchor": "y",
         "domain": [
          0,
          1
         ],
         "title": {
          "text": "role"
         }
        },
        "yaxis": {
         "anchor": "x",
         "domain": [
          0,
          1
         ],
         "title": {
          "text": "count"
         }
        }
       }
      },
      "text/html": [
       "<div>                            <div id=\"c7a3cf10-7162-4fde-a61f-bf9a153358da\" class=\"plotly-graph-div\" style=\"height:525px; width:100%;\"></div>            <script type=\"text/javascript\">                require([\"plotly\"], function(Plotly) {                    window.PLOTLYENV=window.PLOTLYENV || {};                                    if (document.getElementById(\"c7a3cf10-7162-4fde-a61f-bf9a153358da\")) {                    Plotly.newPlot(                        \"c7a3cf10-7162-4fde-a61f-bf9a153358da\",                        [{\"alignmentgroup\":\"True\",\"hovertemplate\":\"role=%{x}\\u003cbr\\u003e0=%{y}\\u003cextra\\u003e\\u003c\\u002fextra\\u003e\",\"legendgroup\":\"\",\"marker\":{\"color\":\"#636efa\",\"pattern\":{\"shape\":\"\"}},\"name\":\"\",\"offsetgroup\":\"\",\"orientation\":\"v\",\"showlegend\":false,\"textposition\":\"auto\",\"x\":[\"concreteElement\",\"leaf\",\"concreteStrategy\",\"client\",\"concreteSubject\",\"concreteComponent\",\"concreteClass\",\"concreteCommand\",\"product\",\"concreteProduct\",\"adapter\",\"concreteVisitor\",\"invoker\",\"concreteObserver\",\"context\",\"concreteState\",\"adaptee\",\"singleton\",\"concreteBuilder\",\"concreteCreator\",\"receiver\",\"composite\",\"target\",\"subsystemClass\",\"observer\",\"subject\",\"memento\",\"concreteFactory\",\"concreteIterator\",\"originator\",\"abstractClass\",\"component\",\"strategy\",\"creator\",\"concreteDecorator\",\"command\",\"concreteAggregate\",\"visitor\",\"aggregate\",\"state\",\"caretaker\",\"element\",\"realSubject\",\"proxy\",\"concreateColleague\",\"objectStructure\",\"director\",\"iterator\",\"concreteImplementor\",\"concretePrototype\",\"abstractProduct\",\"refinedAbstraction\",\"concreteMediator\",\"abstractFactory\",\"colleague\",\"mediator\",\"facade\",\"implementor\",\"builder\",\"decorator\",\"prototype\",\"abstraction\",\"nullObject\"],\"xaxis\":\"x\",\"y\":[102,92,68,64,59,55,51,50,46,38,29,29,29,28,24,21,17,15,14,13,12,11,10,10,9,9,8,8,8,8,7,7,6,6,6,6,6,5,5,5,5,5,5,5,4,4,4,4,4,3,3,3,2,2,2,2,1,1,1,1,1,1,1],\"yaxis\":\"y\",\"type\":\"bar\"}],                        {\"template\":{\"data\":{\"histogram2dcontour\":[{\"type\":\"histogram2dcontour\",\"colorbar\":{\"outlinewidth\":0,\"ticks\":\"\"},\"colorscale\":[[0.0,\"#0d0887\"],[0.1111111111111111,\"#46039f\"],[0.2222222222222222,\"#7201a8\"],[0.3333333333333333,\"#9c179e\"],[0.4444444444444444,\"#bd3786\"],[0.5555555555555556,\"#d8576b\"],[0.6666666666666666,\"#ed7953\"],[0.7777777777777778,\"#fb9f3a\"],[0.8888888888888888,\"#fdca26\"],[1.0,\"#f0f921\"]]}],\"choropleth\":[{\"type\":\"choropleth\",\"colorbar\":{\"outlinewidth\":0,\"ticks\":\"\"}}],\"histogram2d\":[{\"type\":\"histogram2d\",\"colorbar\":{\"outlinewidth\":0,\"ticks\":\"\"},\"colorscale\":[[0.0,\"#0d0887\"],[0.1111111111111111,\"#46039f\"],[0.2222222222222222,\"#7201a8\"],[0.3333333333333333,\"#9c179e\"],[0.4444444444444444,\"#bd3786\"],[0.5555555555555556,\"#d8576b\"],[0.6666666666666666,\"#ed7953\"],[0.7777777777777778,\"#fb9f3a\"],[0.8888888888888888,\"#fdca26\"],[1.0,\"#f0f921\"]]}],\"heatmap\":[{\"type\":\"heatmap\",\"colorbar\":{\"outlinewidth\":0,\"ticks\":\"\"},\"colorscale\":[[0.0,\"#0d0887\"],[0.1111111111111111,\"#46039f\"],[0.2222222222222222,\"#7201a8\"],[0.3333333333333333,\"#9c179e\"],[0.4444444444444444,\"#bd3786\"],[0.5555555555555556,\"#d8576b\"],[0.6666666666666666,\"#ed7953\"],[0.7777777777777778,\"#fb9f3a\"],[0.8888888888888888,\"#fdca26\"],[1.0,\"#f0f921\"]]}],\"heatmapgl\":[{\"type\":\"heatmapgl\",\"colorbar\":{\"outlinewidth\":0,\"ticks\":\"\"},\"colorscale\":[[0.0,\"#0d0887\"],[0.1111111111111111,\"#46039f\"],[0.2222222222222222,\"#7201a8\"],[0.3333333333333333,\"#9c179e\"],[0.4444444444444444,\"#bd3786\"],[0.5555555555555556,\"#d8576b\"],[0.6666666666666666,\"#ed7953\"],[0.7777777777777778,\"#fb9f3a\"],[0.8888888888888888,\"#fdca26\"],[1.0,\"#f0f921\"]]}],\"contourcarpet\":[{\"type\":\"contourcarpet\",\"colorbar\":{\"outlinewidth\":0,\"ticks\":\"\"}}],\"contour\":[{\"type\":\"contour\",\"colorbar\":{\"outlinewidth\":0,\"ticks\":\"\"},\"colorscale\":[[0.0,\"#0d0887\"],[0.1111111111111111,\"#46039f\"],[0.2222222222222222,\"#7201a8\"],[0.3333333333333333,\"#9c179e\"],[0.4444444444444444,\"#bd3786\"],[0.5555555555555556,\"#d8576b\"],[0.6666666666666666,\"#ed7953\"],[0.7777777777777778,\"#fb9f3a\"],[0.8888888888888888,\"#fdca26\"],[1.0,\"#f0f921\"]]}],\"surface\":[{\"type\":\"surface\",\"colorbar\":{\"outlinewidth\":0,\"ticks\":\"\"},\"colorscale\":[[0.0,\"#0d0887\"],[0.1111111111111111,\"#46039f\"],[0.2222222222222222,\"#7201a8\"],[0.3333333333333333,\"#9c179e\"],[0.4444444444444444,\"#bd3786\"],[0.5555555555555556,\"#d8576b\"],[0.6666666666666666,\"#ed7953\"],[0.7777777777777778,\"#fb9f3a\"],[0.8888888888888888,\"#fdca26\"],[1.0,\"#f0f921\"]]}],\"mesh3d\":[{\"type\":\"mesh3d\",\"colorbar\":{\"outlinewidth\":0,\"ticks\":\"\"}}],\"scatter\":[{\"fillpattern\":{\"fillmode\":\"overlay\",\"size\":10,\"solidity\":0.2},\"type\":\"scatter\"}],\"parcoords\":[{\"type\":\"parcoords\",\"line\":{\"colorbar\":{\"outlinewidth\":0,\"ticks\":\"\"}}}],\"scatterpolargl\":[{\"type\":\"scatterpolargl\",\"marker\":{\"colorbar\":{\"outlinewidth\":0,\"ticks\":\"\"}}}],\"bar\":[{\"error_x\":{\"color\":\"#2a3f5f\"},\"error_y\":{\"color\":\"#2a3f5f\"},\"marker\":{\"line\":{\"color\":\"#E5ECF6\",\"width\":0.5},\"pattern\":{\"fillmode\":\"overlay\",\"size\":10,\"solidity\":0.2}},\"type\":\"bar\"}],\"scattergeo\":[{\"type\":\"scattergeo\",\"marker\":{\"colorbar\":{\"outlinewidth\":0,\"ticks\":\"\"}}}],\"scatterpolar\":[{\"type\":\"scatterpolar\",\"marker\":{\"colorbar\":{\"outlinewidth\":0,\"ticks\":\"\"}}}],\"histogram\":[{\"marker\":{\"pattern\":{\"fillmode\":\"overlay\",\"size\":10,\"solidity\":0.2}},\"type\":\"histogram\"}],\"scattergl\":[{\"type\":\"scattergl\",\"marker\":{\"colorbar\":{\"outlinewidth\":0,\"ticks\":\"\"}}}],\"scatter3d\":[{\"type\":\"scatter3d\",\"line\":{\"colorbar\":{\"outlinewidth\":0,\"ticks\":\"\"}},\"marker\":{\"colorbar\":{\"outlinewidth\":0,\"ticks\":\"\"}}}],\"scattermapbox\":[{\"type\":\"scattermapbox\",\"marker\":{\"colorbar\":{\"outlinewidth\":0,\"ticks\":\"\"}}}],\"scatterternary\":[{\"type\":\"scatterternary\",\"marker\":{\"colorbar\":{\"outlinewidth\":0,\"ticks\":\"\"}}}],\"scattercarpet\":[{\"type\":\"scattercarpet\",\"marker\":{\"colorbar\":{\"outlinewidth\":0,\"ticks\":\"\"}}}],\"carpet\":[{\"aaxis\":{\"endlinecolor\":\"#2a3f5f\",\"gridcolor\":\"white\",\"linecolor\":\"white\",\"minorgridcolor\":\"white\",\"startlinecolor\":\"#2a3f5f\"},\"baxis\":{\"endlinecolor\":\"#2a3f5f\",\"gridcolor\":\"white\",\"linecolor\":\"white\",\"minorgridcolor\":\"white\",\"startlinecolor\":\"#2a3f5f\"},\"type\":\"carpet\"}],\"table\":[{\"cells\":{\"fill\":{\"color\":\"#EBF0F8\"},\"line\":{\"color\":\"white\"}},\"header\":{\"fill\":{\"color\":\"#C8D4E3\"},\"line\":{\"color\":\"white\"}},\"type\":\"table\"}],\"barpolar\":[{\"marker\":{\"line\":{\"color\":\"#E5ECF6\",\"width\":0.5},\"pattern\":{\"fillmode\":\"overlay\",\"size\":10,\"solidity\":0.2}},\"type\":\"barpolar\"}],\"pie\":[{\"automargin\":true,\"type\":\"pie\"}]},\"layout\":{\"autotypenumbers\":\"strict\",\"colorway\":[\"#636efa\",\"#EF553B\",\"#00cc96\",\"#ab63fa\",\"#FFA15A\",\"#19d3f3\",\"#FF6692\",\"#B6E880\",\"#FF97FF\",\"#FECB52\"],\"font\":{\"color\":\"#2a3f5f\"},\"hovermode\":\"closest\",\"hoverlabel\":{\"align\":\"left\"},\"paper_bgcolor\":\"white\",\"plot_bgcolor\":\"#E5ECF6\",\"polar\":{\"bgcolor\":\"#E5ECF6\",\"angularaxis\":{\"gridcolor\":\"white\",\"linecolor\":\"white\",\"ticks\":\"\"},\"radialaxis\":{\"gridcolor\":\"white\",\"linecolor\":\"white\",\"ticks\":\"\"}},\"ternary\":{\"bgcolor\":\"#E5ECF6\",\"aaxis\":{\"gridcolor\":\"white\",\"linecolor\":\"white\",\"ticks\":\"\"},\"baxis\":{\"gridcolor\":\"white\",\"linecolor\":\"white\",\"ticks\":\"\"},\"caxis\":{\"gridcolor\":\"white\",\"linecolor\":\"white\",\"ticks\":\"\"}},\"coloraxis\":{\"colorbar\":{\"outlinewidth\":0,\"ticks\":\"\"}},\"colorscale\":{\"sequential\":[[0.0,\"#0d0887\"],[0.1111111111111111,\"#46039f\"],[0.2222222222222222,\"#7201a8\"],[0.3333333333333333,\"#9c179e\"],[0.4444444444444444,\"#bd3786\"],[0.5555555555555556,\"#d8576b\"],[0.6666666666666666,\"#ed7953\"],[0.7777777777777778,\"#fb9f3a\"],[0.8888888888888888,\"#fdca26\"],[1.0,\"#f0f921\"]],\"sequentialminus\":[[0.0,\"#0d0887\"],[0.1111111111111111,\"#46039f\"],[0.2222222222222222,\"#7201a8\"],[0.3333333333333333,\"#9c179e\"],[0.4444444444444444,\"#bd3786\"],[0.5555555555555556,\"#d8576b\"],[0.6666666666666666,\"#ed7953\"],[0.7777777777777778,\"#fb9f3a\"],[0.8888888888888888,\"#fdca26\"],[1.0,\"#f0f921\"]],\"diverging\":[[0,\"#8e0152\"],[0.1,\"#c51b7d\"],[0.2,\"#de77ae\"],[0.3,\"#f1b6da\"],[0.4,\"#fde0ef\"],[0.5,\"#f7f7f7\"],[0.6,\"#e6f5d0\"],[0.7,\"#b8e186\"],[0.8,\"#7fbc41\"],[0.9,\"#4d9221\"],[1,\"#276419\"]]},\"xaxis\":{\"gridcolor\":\"white\",\"linecolor\":\"white\",\"ticks\":\"\",\"title\":{\"standoff\":15},\"zerolinecolor\":\"white\",\"automargin\":true,\"zerolinewidth\":2},\"yaxis\":{\"gridcolor\":\"white\",\"linecolor\":\"white\",\"ticks\":\"\",\"title\":{\"standoff\":15},\"zerolinecolor\":\"white\",\"automargin\":true,\"zerolinewidth\":2},\"scene\":{\"xaxis\":{\"backgroundcolor\":\"#E5ECF6\",\"gridcolor\":\"white\",\"linecolor\":\"white\",\"showbackground\":true,\"ticks\":\"\",\"zerolinecolor\":\"white\",\"gridwidth\":2},\"yaxis\":{\"backgroundcolor\":\"#E5ECF6\",\"gridcolor\":\"white\",\"linecolor\":\"white\",\"showbackground\":true,\"ticks\":\"\",\"zerolinecolor\":\"white\",\"gridwidth\":2},\"zaxis\":{\"backgroundcolor\":\"#E5ECF6\",\"gridcolor\":\"white\",\"linecolor\":\"white\",\"showbackground\":true,\"ticks\":\"\",\"zerolinecolor\":\"white\",\"gridwidth\":2}},\"shapedefaults\":{\"line\":{\"color\":\"#2a3f5f\"}},\"annotationdefaults\":{\"arrowcolor\":\"#2a3f5f\",\"arrowhead\":0,\"arrowwidth\":1},\"geo\":{\"bgcolor\":\"white\",\"landcolor\":\"#E5ECF6\",\"subunitcolor\":\"white\",\"showland\":true,\"showlakes\":true,\"lakecolor\":\"white\"},\"title\":{\"x\":0.05},\"mapbox\":{\"style\":\"light\"}}},\"xaxis\":{\"anchor\":\"y\",\"domain\":[0.0,1.0],\"title\":{\"text\":\"role\"}},\"yaxis\":{\"anchor\":\"x\",\"domain\":[0.0,1.0],\"title\":{\"text\":\"count\"}},\"legend\":{\"tracegroupgap\":0},\"margin\":{\"t\":60},\"barmode\":\"relative\"},                        {\"responsive\": true}                    ).then(function(){\n",
       "                            \n",
       "var gd = document.getElementById('c7a3cf10-7162-4fde-a61f-bf9a153358da');\n",
       "var x = new MutationObserver(function (mutations, observer) {{\n",
       "        var display = window.getComputedStyle(gd).display;\n",
       "        if (!display || display === 'none') {{\n",
       "            console.log([gd, 'removed!']);\n",
       "            Plotly.purge(gd);\n",
       "            observer.disconnect();\n",
       "        }}\n",
       "}});\n",
       "\n",
       "// Listen for the removal of the full notebook cells\n",
       "var notebookContainer = gd.closest('#notebook-container');\n",
       "if (notebookContainer) {{\n",
       "    x.observe(notebookContainer, {childList: true});\n",
       "}}\n",
       "\n",
       "// Listen for the clearing of the current output cell\n",
       "var outputEl = gd.closest('.output');\n",
       "if (outputEl) {{\n",
       "    x.observe(outputEl, {childList: true});\n",
       "}}\n",
       "\n",
       "                        })                };                });            </script>        </div>"
      ]
     },
     "metadata": {},
     "output_type": "display_data"
    }
   ],
   "source": [
    "temp = df.groupby([ClassMetricVectorConstants.ROLE]).size()\n",
    "temp = temp.sort_values(ascending=False).reset_index()\n",
    "px.bar(temp, x=ClassMetricVectorConstants.ROLE, y=0).update_layout(yaxis_title='count')"
   ]
  },
  {
   "cell_type": "markdown",
   "id": "240b2766-9c37-4c29-a2d8-cee945d1ba17",
   "metadata": {},
   "source": [
    "### Distribution of design patterns"
   ]
  },
  {
   "cell_type": "code",
   "execution_count": 93,
   "id": "f654cb14-24d4-403d-ad90-7db5bbf0e1d3",
   "metadata": {},
   "outputs": [
    {
     "data": {
      "application/vnd.plotly.v1+json": {
       "config": {
        "plotlyServerURL": "https://plot.ly"
       },
       "data": [
        {
         "alignmentgroup": "True",
         "bingroup": "x",
         "histfunc": "sum",
         "hovertemplate": "design_pattern=%{x}<br>sum of count=%{y}<extra></extra>",
         "legendgroup": "",
         "marker": {
          "color": "#636efa",
          "pattern": {
           "shape": ""
          }
         },
         "name": "",
         "offsetgroup": "",
         "orientation": "v",
         "showlegend": false,
         "type": "histogram",
         "x": [
          "Singleton",
          "Adapter",
          "Command",
          "Observer",
          "Strategy",
          "Iterator",
          "Factory Method",
          "Template Method",
          "Composite",
          "Proxy",
          "Memento",
          "Builder",
          "Visitor",
          "State",
          "Abstract Factory",
          "Decorator",
          "Facade",
          "Bridge",
          "Null Object",
          "Prototype",
          "FactoryMethod",
          "Mediator"
         ],
         "xaxis": "x",
         "y": [
          15,
          9,
          8,
          6,
          6,
          6,
          5,
          5,
          5,
          4,
          4,
          4,
          4,
          3,
          3,
          2,
          1,
          1,
          1,
          1,
          1,
          1
         ],
         "yaxis": "y"
        }
       ],
       "layout": {
        "barmode": "relative",
        "legend": {
         "tracegroupgap": 0
        },
        "margin": {
         "t": 60
        },
        "template": {
         "data": {
          "bar": [
           {
            "error_x": {
             "color": "#2a3f5f"
            },
            "error_y": {
             "color": "#2a3f5f"
            },
            "marker": {
             "line": {
              "color": "#E5ECF6",
              "width": 0.5
             },
             "pattern": {
              "fillmode": "overlay",
              "size": 10,
              "solidity": 0.2
             }
            },
            "type": "bar"
           }
          ],
          "barpolar": [
           {
            "marker": {
             "line": {
              "color": "#E5ECF6",
              "width": 0.5
             },
             "pattern": {
              "fillmode": "overlay",
              "size": 10,
              "solidity": 0.2
             }
            },
            "type": "barpolar"
           }
          ],
          "carpet": [
           {
            "aaxis": {
             "endlinecolor": "#2a3f5f",
             "gridcolor": "white",
             "linecolor": "white",
             "minorgridcolor": "white",
             "startlinecolor": "#2a3f5f"
            },
            "baxis": {
             "endlinecolor": "#2a3f5f",
             "gridcolor": "white",
             "linecolor": "white",
             "minorgridcolor": "white",
             "startlinecolor": "#2a3f5f"
            },
            "type": "carpet"
           }
          ],
          "choropleth": [
           {
            "colorbar": {
             "outlinewidth": 0,
             "ticks": ""
            },
            "type": "choropleth"
           }
          ],
          "contour": [
           {
            "colorbar": {
             "outlinewidth": 0,
             "ticks": ""
            },
            "colorscale": [
             [
              0,
              "#0d0887"
             ],
             [
              0.1111111111111111,
              "#46039f"
             ],
             [
              0.2222222222222222,
              "#7201a8"
             ],
             [
              0.3333333333333333,
              "#9c179e"
             ],
             [
              0.4444444444444444,
              "#bd3786"
             ],
             [
              0.5555555555555556,
              "#d8576b"
             ],
             [
              0.6666666666666666,
              "#ed7953"
             ],
             [
              0.7777777777777778,
              "#fb9f3a"
             ],
             [
              0.8888888888888888,
              "#fdca26"
             ],
             [
              1,
              "#f0f921"
             ]
            ],
            "type": "contour"
           }
          ],
          "contourcarpet": [
           {
            "colorbar": {
             "outlinewidth": 0,
             "ticks": ""
            },
            "type": "contourcarpet"
           }
          ],
          "heatmap": [
           {
            "colorbar": {
             "outlinewidth": 0,
             "ticks": ""
            },
            "colorscale": [
             [
              0,
              "#0d0887"
             ],
             [
              0.1111111111111111,
              "#46039f"
             ],
             [
              0.2222222222222222,
              "#7201a8"
             ],
             [
              0.3333333333333333,
              "#9c179e"
             ],
             [
              0.4444444444444444,
              "#bd3786"
             ],
             [
              0.5555555555555556,
              "#d8576b"
             ],
             [
              0.6666666666666666,
              "#ed7953"
             ],
             [
              0.7777777777777778,
              "#fb9f3a"
             ],
             [
              0.8888888888888888,
              "#fdca26"
             ],
             [
              1,
              "#f0f921"
             ]
            ],
            "type": "heatmap"
           }
          ],
          "heatmapgl": [
           {
            "colorbar": {
             "outlinewidth": 0,
             "ticks": ""
            },
            "colorscale": [
             [
              0,
              "#0d0887"
             ],
             [
              0.1111111111111111,
              "#46039f"
             ],
             [
              0.2222222222222222,
              "#7201a8"
             ],
             [
              0.3333333333333333,
              "#9c179e"
             ],
             [
              0.4444444444444444,
              "#bd3786"
             ],
             [
              0.5555555555555556,
              "#d8576b"
             ],
             [
              0.6666666666666666,
              "#ed7953"
             ],
             [
              0.7777777777777778,
              "#fb9f3a"
             ],
             [
              0.8888888888888888,
              "#fdca26"
             ],
             [
              1,
              "#f0f921"
             ]
            ],
            "type": "heatmapgl"
           }
          ],
          "histogram": [
           {
            "marker": {
             "pattern": {
              "fillmode": "overlay",
              "size": 10,
              "solidity": 0.2
             }
            },
            "type": "histogram"
           }
          ],
          "histogram2d": [
           {
            "colorbar": {
             "outlinewidth": 0,
             "ticks": ""
            },
            "colorscale": [
             [
              0,
              "#0d0887"
             ],
             [
              0.1111111111111111,
              "#46039f"
             ],
             [
              0.2222222222222222,
              "#7201a8"
             ],
             [
              0.3333333333333333,
              "#9c179e"
             ],
             [
              0.4444444444444444,
              "#bd3786"
             ],
             [
              0.5555555555555556,
              "#d8576b"
             ],
             [
              0.6666666666666666,
              "#ed7953"
             ],
             [
              0.7777777777777778,
              "#fb9f3a"
             ],
             [
              0.8888888888888888,
              "#fdca26"
             ],
             [
              1,
              "#f0f921"
             ]
            ],
            "type": "histogram2d"
           }
          ],
          "histogram2dcontour": [
           {
            "colorbar": {
             "outlinewidth": 0,
             "ticks": ""
            },
            "colorscale": [
             [
              0,
              "#0d0887"
             ],
             [
              0.1111111111111111,
              "#46039f"
             ],
             [
              0.2222222222222222,
              "#7201a8"
             ],
             [
              0.3333333333333333,
              "#9c179e"
             ],
             [
              0.4444444444444444,
              "#bd3786"
             ],
             [
              0.5555555555555556,
              "#d8576b"
             ],
             [
              0.6666666666666666,
              "#ed7953"
             ],
             [
              0.7777777777777778,
              "#fb9f3a"
             ],
             [
              0.8888888888888888,
              "#fdca26"
             ],
             [
              1,
              "#f0f921"
             ]
            ],
            "type": "histogram2dcontour"
           }
          ],
          "mesh3d": [
           {
            "colorbar": {
             "outlinewidth": 0,
             "ticks": ""
            },
            "type": "mesh3d"
           }
          ],
          "parcoords": [
           {
            "line": {
             "colorbar": {
              "outlinewidth": 0,
              "ticks": ""
             }
            },
            "type": "parcoords"
           }
          ],
          "pie": [
           {
            "automargin": true,
            "type": "pie"
           }
          ],
          "scatter": [
           {
            "fillpattern": {
             "fillmode": "overlay",
             "size": 10,
             "solidity": 0.2
            },
            "type": "scatter"
           }
          ],
          "scatter3d": [
           {
            "line": {
             "colorbar": {
              "outlinewidth": 0,
              "ticks": ""
             }
            },
            "marker": {
             "colorbar": {
              "outlinewidth": 0,
              "ticks": ""
             }
            },
            "type": "scatter3d"
           }
          ],
          "scattercarpet": [
           {
            "marker": {
             "colorbar": {
              "outlinewidth": 0,
              "ticks": ""
             }
            },
            "type": "scattercarpet"
           }
          ],
          "scattergeo": [
           {
            "marker": {
             "colorbar": {
              "outlinewidth": 0,
              "ticks": ""
             }
            },
            "type": "scattergeo"
           }
          ],
          "scattergl": [
           {
            "marker": {
             "colorbar": {
              "outlinewidth": 0,
              "ticks": ""
             }
            },
            "type": "scattergl"
           }
          ],
          "scattermapbox": [
           {
            "marker": {
             "colorbar": {
              "outlinewidth": 0,
              "ticks": ""
             }
            },
            "type": "scattermapbox"
           }
          ],
          "scatterpolar": [
           {
            "marker": {
             "colorbar": {
              "outlinewidth": 0,
              "ticks": ""
             }
            },
            "type": "scatterpolar"
           }
          ],
          "scatterpolargl": [
           {
            "marker": {
             "colorbar": {
              "outlinewidth": 0,
              "ticks": ""
             }
            },
            "type": "scatterpolargl"
           }
          ],
          "scatterternary": [
           {
            "marker": {
             "colorbar": {
              "outlinewidth": 0,
              "ticks": ""
             }
            },
            "type": "scatterternary"
           }
          ],
          "surface": [
           {
            "colorbar": {
             "outlinewidth": 0,
             "ticks": ""
            },
            "colorscale": [
             [
              0,
              "#0d0887"
             ],
             [
              0.1111111111111111,
              "#46039f"
             ],
             [
              0.2222222222222222,
              "#7201a8"
             ],
             [
              0.3333333333333333,
              "#9c179e"
             ],
             [
              0.4444444444444444,
              "#bd3786"
             ],
             [
              0.5555555555555556,
              "#d8576b"
             ],
             [
              0.6666666666666666,
              "#ed7953"
             ],
             [
              0.7777777777777778,
              "#fb9f3a"
             ],
             [
              0.8888888888888888,
              "#fdca26"
             ],
             [
              1,
              "#f0f921"
             ]
            ],
            "type": "surface"
           }
          ],
          "table": [
           {
            "cells": {
             "fill": {
              "color": "#EBF0F8"
             },
             "line": {
              "color": "white"
             }
            },
            "header": {
             "fill": {
              "color": "#C8D4E3"
             },
             "line": {
              "color": "white"
             }
            },
            "type": "table"
           }
          ]
         },
         "layout": {
          "annotationdefaults": {
           "arrowcolor": "#2a3f5f",
           "arrowhead": 0,
           "arrowwidth": 1
          },
          "autotypenumbers": "strict",
          "coloraxis": {
           "colorbar": {
            "outlinewidth": 0,
            "ticks": ""
           }
          },
          "colorscale": {
           "diverging": [
            [
             0,
             "#8e0152"
            ],
            [
             0.1,
             "#c51b7d"
            ],
            [
             0.2,
             "#de77ae"
            ],
            [
             0.3,
             "#f1b6da"
            ],
            [
             0.4,
             "#fde0ef"
            ],
            [
             0.5,
             "#f7f7f7"
            ],
            [
             0.6,
             "#e6f5d0"
            ],
            [
             0.7,
             "#b8e186"
            ],
            [
             0.8,
             "#7fbc41"
            ],
            [
             0.9,
             "#4d9221"
            ],
            [
             1,
             "#276419"
            ]
           ],
           "sequential": [
            [
             0,
             "#0d0887"
            ],
            [
             0.1111111111111111,
             "#46039f"
            ],
            [
             0.2222222222222222,
             "#7201a8"
            ],
            [
             0.3333333333333333,
             "#9c179e"
            ],
            [
             0.4444444444444444,
             "#bd3786"
            ],
            [
             0.5555555555555556,
             "#d8576b"
            ],
            [
             0.6666666666666666,
             "#ed7953"
            ],
            [
             0.7777777777777778,
             "#fb9f3a"
            ],
            [
             0.8888888888888888,
             "#fdca26"
            ],
            [
             1,
             "#f0f921"
            ]
           ],
           "sequentialminus": [
            [
             0,
             "#0d0887"
            ],
            [
             0.1111111111111111,
             "#46039f"
            ],
            [
             0.2222222222222222,
             "#7201a8"
            ],
            [
             0.3333333333333333,
             "#9c179e"
            ],
            [
             0.4444444444444444,
             "#bd3786"
            ],
            [
             0.5555555555555556,
             "#d8576b"
            ],
            [
             0.6666666666666666,
             "#ed7953"
            ],
            [
             0.7777777777777778,
             "#fb9f3a"
            ],
            [
             0.8888888888888888,
             "#fdca26"
            ],
            [
             1,
             "#f0f921"
            ]
           ]
          },
          "colorway": [
           "#636efa",
           "#EF553B",
           "#00cc96",
           "#ab63fa",
           "#FFA15A",
           "#19d3f3",
           "#FF6692",
           "#B6E880",
           "#FF97FF",
           "#FECB52"
          ],
          "font": {
           "color": "#2a3f5f"
          },
          "geo": {
           "bgcolor": "white",
           "lakecolor": "white",
           "landcolor": "#E5ECF6",
           "showlakes": true,
           "showland": true,
           "subunitcolor": "white"
          },
          "hoverlabel": {
           "align": "left"
          },
          "hovermode": "closest",
          "mapbox": {
           "style": "light"
          },
          "paper_bgcolor": "white",
          "plot_bgcolor": "#E5ECF6",
          "polar": {
           "angularaxis": {
            "gridcolor": "white",
            "linecolor": "white",
            "ticks": ""
           },
           "bgcolor": "#E5ECF6",
           "radialaxis": {
            "gridcolor": "white",
            "linecolor": "white",
            "ticks": ""
           }
          },
          "scene": {
           "xaxis": {
            "backgroundcolor": "#E5ECF6",
            "gridcolor": "white",
            "gridwidth": 2,
            "linecolor": "white",
            "showbackground": true,
            "ticks": "",
            "zerolinecolor": "white"
           },
           "yaxis": {
            "backgroundcolor": "#E5ECF6",
            "gridcolor": "white",
            "gridwidth": 2,
            "linecolor": "white",
            "showbackground": true,
            "ticks": "",
            "zerolinecolor": "white"
           },
           "zaxis": {
            "backgroundcolor": "#E5ECF6",
            "gridcolor": "white",
            "gridwidth": 2,
            "linecolor": "white",
            "showbackground": true,
            "ticks": "",
            "zerolinecolor": "white"
           }
          },
          "shapedefaults": {
           "line": {
            "color": "#2a3f5f"
           }
          },
          "ternary": {
           "aaxis": {
            "gridcolor": "white",
            "linecolor": "white",
            "ticks": ""
           },
           "baxis": {
            "gridcolor": "white",
            "linecolor": "white",
            "ticks": ""
           },
           "bgcolor": "#E5ECF6",
           "caxis": {
            "gridcolor": "white",
            "linecolor": "white",
            "ticks": ""
           }
          },
          "title": {
           "x": 0.05
          },
          "xaxis": {
           "automargin": true,
           "gridcolor": "white",
           "linecolor": "white",
           "ticks": "",
           "title": {
            "standoff": 15
           },
           "zerolinecolor": "white",
           "zerolinewidth": 2
          },
          "yaxis": {
           "automargin": true,
           "gridcolor": "white",
           "linecolor": "white",
           "ticks": "",
           "title": {
            "standoff": 15
           },
           "zerolinecolor": "white",
           "zerolinewidth": 2
          }
         }
        },
        "xaxis": {
         "anchor": "y",
         "domain": [
          0,
          1
         ],
         "title": {
          "text": "Design Pattern"
         }
        },
        "yaxis": {
         "anchor": "x",
         "domain": [
          0,
          1
         ],
         "title": {
          "text": "Count of Design Pattern"
         }
        }
       }
      },
      "text/html": [
       "<div>                            <div id=\"1970649e-8f80-498c-979f-e5287d131297\" class=\"plotly-graph-div\" style=\"height:525px; width:100%;\"></div>            <script type=\"text/javascript\">                require([\"plotly\"], function(Plotly) {                    window.PLOTLYENV=window.PLOTLYENV || {};                                    if (document.getElementById(\"1970649e-8f80-498c-979f-e5287d131297\")) {                    Plotly.newPlot(                        \"1970649e-8f80-498c-979f-e5287d131297\",                        [{\"alignmentgroup\":\"True\",\"bingroup\":\"x\",\"histfunc\":\"sum\",\"hovertemplate\":\"design_pattern=%{x}\\u003cbr\\u003esum of count=%{y}\\u003cextra\\u003e\\u003c\\u002fextra\\u003e\",\"legendgroup\":\"\",\"marker\":{\"color\":\"#636efa\",\"pattern\":{\"shape\":\"\"}},\"name\":\"\",\"offsetgroup\":\"\",\"orientation\":\"v\",\"showlegend\":false,\"x\":[\"Singleton\",\"Adapter\",\"Command\",\"Observer\",\"Strategy\",\"Iterator\",\"Factory Method\",\"Template Method\",\"Composite\",\"Proxy\",\"Memento\",\"Builder\",\"Visitor\",\"State\",\"Abstract Factory\",\"Decorator\",\"Facade\",\"Bridge\",\"Null Object\",\"Prototype\",\"FactoryMethod\",\"Mediator\"],\"xaxis\":\"x\",\"y\":[15,9,8,6,6,6,5,5,5,4,4,4,4,3,3,2,1,1,1,1,1,1],\"yaxis\":\"y\",\"type\":\"histogram\"}],                        {\"template\":{\"data\":{\"histogram2dcontour\":[{\"type\":\"histogram2dcontour\",\"colorbar\":{\"outlinewidth\":0,\"ticks\":\"\"},\"colorscale\":[[0.0,\"#0d0887\"],[0.1111111111111111,\"#46039f\"],[0.2222222222222222,\"#7201a8\"],[0.3333333333333333,\"#9c179e\"],[0.4444444444444444,\"#bd3786\"],[0.5555555555555556,\"#d8576b\"],[0.6666666666666666,\"#ed7953\"],[0.7777777777777778,\"#fb9f3a\"],[0.8888888888888888,\"#fdca26\"],[1.0,\"#f0f921\"]]}],\"choropleth\":[{\"type\":\"choropleth\",\"colorbar\":{\"outlinewidth\":0,\"ticks\":\"\"}}],\"histogram2d\":[{\"type\":\"histogram2d\",\"colorbar\":{\"outlinewidth\":0,\"ticks\":\"\"},\"colorscale\":[[0.0,\"#0d0887\"],[0.1111111111111111,\"#46039f\"],[0.2222222222222222,\"#7201a8\"],[0.3333333333333333,\"#9c179e\"],[0.4444444444444444,\"#bd3786\"],[0.5555555555555556,\"#d8576b\"],[0.6666666666666666,\"#ed7953\"],[0.7777777777777778,\"#fb9f3a\"],[0.8888888888888888,\"#fdca26\"],[1.0,\"#f0f921\"]]}],\"heatmap\":[{\"type\":\"heatmap\",\"colorbar\":{\"outlinewidth\":0,\"ticks\":\"\"},\"colorscale\":[[0.0,\"#0d0887\"],[0.1111111111111111,\"#46039f\"],[0.2222222222222222,\"#7201a8\"],[0.3333333333333333,\"#9c179e\"],[0.4444444444444444,\"#bd3786\"],[0.5555555555555556,\"#d8576b\"],[0.6666666666666666,\"#ed7953\"],[0.7777777777777778,\"#fb9f3a\"],[0.8888888888888888,\"#fdca26\"],[1.0,\"#f0f921\"]]}],\"heatmapgl\":[{\"type\":\"heatmapgl\",\"colorbar\":{\"outlinewidth\":0,\"ticks\":\"\"},\"colorscale\":[[0.0,\"#0d0887\"],[0.1111111111111111,\"#46039f\"],[0.2222222222222222,\"#7201a8\"],[0.3333333333333333,\"#9c179e\"],[0.4444444444444444,\"#bd3786\"],[0.5555555555555556,\"#d8576b\"],[0.6666666666666666,\"#ed7953\"],[0.7777777777777778,\"#fb9f3a\"],[0.8888888888888888,\"#fdca26\"],[1.0,\"#f0f921\"]]}],\"contourcarpet\":[{\"type\":\"contourcarpet\",\"colorbar\":{\"outlinewidth\":0,\"ticks\":\"\"}}],\"contour\":[{\"type\":\"contour\",\"colorbar\":{\"outlinewidth\":0,\"ticks\":\"\"},\"colorscale\":[[0.0,\"#0d0887\"],[0.1111111111111111,\"#46039f\"],[0.2222222222222222,\"#7201a8\"],[0.3333333333333333,\"#9c179e\"],[0.4444444444444444,\"#bd3786\"],[0.5555555555555556,\"#d8576b\"],[0.6666666666666666,\"#ed7953\"],[0.7777777777777778,\"#fb9f3a\"],[0.8888888888888888,\"#fdca26\"],[1.0,\"#f0f921\"]]}],\"surface\":[{\"type\":\"surface\",\"colorbar\":{\"outlinewidth\":0,\"ticks\":\"\"},\"colorscale\":[[0.0,\"#0d0887\"],[0.1111111111111111,\"#46039f\"],[0.2222222222222222,\"#7201a8\"],[0.3333333333333333,\"#9c179e\"],[0.4444444444444444,\"#bd3786\"],[0.5555555555555556,\"#d8576b\"],[0.6666666666666666,\"#ed7953\"],[0.7777777777777778,\"#fb9f3a\"],[0.8888888888888888,\"#fdca26\"],[1.0,\"#f0f921\"]]}],\"mesh3d\":[{\"type\":\"mesh3d\",\"colorbar\":{\"outlinewidth\":0,\"ticks\":\"\"}}],\"scatter\":[{\"fillpattern\":{\"fillmode\":\"overlay\",\"size\":10,\"solidity\":0.2},\"type\":\"scatter\"}],\"parcoords\":[{\"type\":\"parcoords\",\"line\":{\"colorbar\":{\"outlinewidth\":0,\"ticks\":\"\"}}}],\"scatterpolargl\":[{\"type\":\"scatterpolargl\",\"marker\":{\"colorbar\":{\"outlinewidth\":0,\"ticks\":\"\"}}}],\"bar\":[{\"error_x\":{\"color\":\"#2a3f5f\"},\"error_y\":{\"color\":\"#2a3f5f\"},\"marker\":{\"line\":{\"color\":\"#E5ECF6\",\"width\":0.5},\"pattern\":{\"fillmode\":\"overlay\",\"size\":10,\"solidity\":0.2}},\"type\":\"bar\"}],\"scattergeo\":[{\"type\":\"scattergeo\",\"marker\":{\"colorbar\":{\"outlinewidth\":0,\"ticks\":\"\"}}}],\"scatterpolar\":[{\"type\":\"scatterpolar\",\"marker\":{\"colorbar\":{\"outlinewidth\":0,\"ticks\":\"\"}}}],\"histogram\":[{\"marker\":{\"pattern\":{\"fillmode\":\"overlay\",\"size\":10,\"solidity\":0.2}},\"type\":\"histogram\"}],\"scattergl\":[{\"type\":\"scattergl\",\"marker\":{\"colorbar\":{\"outlinewidth\":0,\"ticks\":\"\"}}}],\"scatter3d\":[{\"type\":\"scatter3d\",\"line\":{\"colorbar\":{\"outlinewidth\":0,\"ticks\":\"\"}},\"marker\":{\"colorbar\":{\"outlinewidth\":0,\"ticks\":\"\"}}}],\"scattermapbox\":[{\"type\":\"scattermapbox\",\"marker\":{\"colorbar\":{\"outlinewidth\":0,\"ticks\":\"\"}}}],\"scatterternary\":[{\"type\":\"scatterternary\",\"marker\":{\"colorbar\":{\"outlinewidth\":0,\"ticks\":\"\"}}}],\"scattercarpet\":[{\"type\":\"scattercarpet\",\"marker\":{\"colorbar\":{\"outlinewidth\":0,\"ticks\":\"\"}}}],\"carpet\":[{\"aaxis\":{\"endlinecolor\":\"#2a3f5f\",\"gridcolor\":\"white\",\"linecolor\":\"white\",\"minorgridcolor\":\"white\",\"startlinecolor\":\"#2a3f5f\"},\"baxis\":{\"endlinecolor\":\"#2a3f5f\",\"gridcolor\":\"white\",\"linecolor\":\"white\",\"minorgridcolor\":\"white\",\"startlinecolor\":\"#2a3f5f\"},\"type\":\"carpet\"}],\"table\":[{\"cells\":{\"fill\":{\"color\":\"#EBF0F8\"},\"line\":{\"color\":\"white\"}},\"header\":{\"fill\":{\"color\":\"#C8D4E3\"},\"line\":{\"color\":\"white\"}},\"type\":\"table\"}],\"barpolar\":[{\"marker\":{\"line\":{\"color\":\"#E5ECF6\",\"width\":0.5},\"pattern\":{\"fillmode\":\"overlay\",\"size\":10,\"solidity\":0.2}},\"type\":\"barpolar\"}],\"pie\":[{\"automargin\":true,\"type\":\"pie\"}]},\"layout\":{\"autotypenumbers\":\"strict\",\"colorway\":[\"#636efa\",\"#EF553B\",\"#00cc96\",\"#ab63fa\",\"#FFA15A\",\"#19d3f3\",\"#FF6692\",\"#B6E880\",\"#FF97FF\",\"#FECB52\"],\"font\":{\"color\":\"#2a3f5f\"},\"hovermode\":\"closest\",\"hoverlabel\":{\"align\":\"left\"},\"paper_bgcolor\":\"white\",\"plot_bgcolor\":\"#E5ECF6\",\"polar\":{\"bgcolor\":\"#E5ECF6\",\"angularaxis\":{\"gridcolor\":\"white\",\"linecolor\":\"white\",\"ticks\":\"\"},\"radialaxis\":{\"gridcolor\":\"white\",\"linecolor\":\"white\",\"ticks\":\"\"}},\"ternary\":{\"bgcolor\":\"#E5ECF6\",\"aaxis\":{\"gridcolor\":\"white\",\"linecolor\":\"white\",\"ticks\":\"\"},\"baxis\":{\"gridcolor\":\"white\",\"linecolor\":\"white\",\"ticks\":\"\"},\"caxis\":{\"gridcolor\":\"white\",\"linecolor\":\"white\",\"ticks\":\"\"}},\"coloraxis\":{\"colorbar\":{\"outlinewidth\":0,\"ticks\":\"\"}},\"colorscale\":{\"sequential\":[[0.0,\"#0d0887\"],[0.1111111111111111,\"#46039f\"],[0.2222222222222222,\"#7201a8\"],[0.3333333333333333,\"#9c179e\"],[0.4444444444444444,\"#bd3786\"],[0.5555555555555556,\"#d8576b\"],[0.6666666666666666,\"#ed7953\"],[0.7777777777777778,\"#fb9f3a\"],[0.8888888888888888,\"#fdca26\"],[1.0,\"#f0f921\"]],\"sequentialminus\":[[0.0,\"#0d0887\"],[0.1111111111111111,\"#46039f\"],[0.2222222222222222,\"#7201a8\"],[0.3333333333333333,\"#9c179e\"],[0.4444444444444444,\"#bd3786\"],[0.5555555555555556,\"#d8576b\"],[0.6666666666666666,\"#ed7953\"],[0.7777777777777778,\"#fb9f3a\"],[0.8888888888888888,\"#fdca26\"],[1.0,\"#f0f921\"]],\"diverging\":[[0,\"#8e0152\"],[0.1,\"#c51b7d\"],[0.2,\"#de77ae\"],[0.3,\"#f1b6da\"],[0.4,\"#fde0ef\"],[0.5,\"#f7f7f7\"],[0.6,\"#e6f5d0\"],[0.7,\"#b8e186\"],[0.8,\"#7fbc41\"],[0.9,\"#4d9221\"],[1,\"#276419\"]]},\"xaxis\":{\"gridcolor\":\"white\",\"linecolor\":\"white\",\"ticks\":\"\",\"title\":{\"standoff\":15},\"zerolinecolor\":\"white\",\"automargin\":true,\"zerolinewidth\":2},\"yaxis\":{\"gridcolor\":\"white\",\"linecolor\":\"white\",\"ticks\":\"\",\"title\":{\"standoff\":15},\"zerolinecolor\":\"white\",\"automargin\":true,\"zerolinewidth\":2},\"scene\":{\"xaxis\":{\"backgroundcolor\":\"#E5ECF6\",\"gridcolor\":\"white\",\"linecolor\":\"white\",\"showbackground\":true,\"ticks\":\"\",\"zerolinecolor\":\"white\",\"gridwidth\":2},\"yaxis\":{\"backgroundcolor\":\"#E5ECF6\",\"gridcolor\":\"white\",\"linecolor\":\"white\",\"showbackground\":true,\"ticks\":\"\",\"zerolinecolor\":\"white\",\"gridwidth\":2},\"zaxis\":{\"backgroundcolor\":\"#E5ECF6\",\"gridcolor\":\"white\",\"linecolor\":\"white\",\"showbackground\":true,\"ticks\":\"\",\"zerolinecolor\":\"white\",\"gridwidth\":2}},\"shapedefaults\":{\"line\":{\"color\":\"#2a3f5f\"}},\"annotationdefaults\":{\"arrowcolor\":\"#2a3f5f\",\"arrowhead\":0,\"arrowwidth\":1},\"geo\":{\"bgcolor\":\"white\",\"landcolor\":\"#E5ECF6\",\"subunitcolor\":\"white\",\"showland\":true,\"showlakes\":true,\"lakecolor\":\"white\"},\"title\":{\"x\":0.05},\"mapbox\":{\"style\":\"light\"}}},\"xaxis\":{\"anchor\":\"y\",\"domain\":[0.0,1.0],\"title\":{\"text\":\"Design Pattern\"}},\"yaxis\":{\"anchor\":\"x\",\"domain\":[0.0,1.0],\"title\":{\"text\":\"Count of Design Pattern\"}},\"legend\":{\"tracegroupgap\":0},\"margin\":{\"t\":60},\"barmode\":\"relative\"},                        {\"responsive\": true}                    ).then(function(){\n",
       "                            \n",
       "var gd = document.getElementById('1970649e-8f80-498c-979f-e5287d131297');\n",
       "var x = new MutationObserver(function (mutations, observer) {{\n",
       "        var display = window.getComputedStyle(gd).display;\n",
       "        if (!display || display === 'none') {{\n",
       "            console.log([gd, 'removed!']);\n",
       "            Plotly.purge(gd);\n",
       "            observer.disconnect();\n",
       "        }}\n",
       "}});\n",
       "\n",
       "// Listen for the removal of the full notebook cells\n",
       "var notebookContainer = gd.closest('#notebook-container');\n",
       "if (notebookContainer) {{\n",
       "    x.observe(notebookContainer, {childList: true});\n",
       "}}\n",
       "\n",
       "// Listen for the clearing of the current output cell\n",
       "var outputEl = gd.closest('.output');\n",
       "if (outputEl) {{\n",
       "    x.observe(outputEl, {childList: true});\n",
       "}}\n",
       "\n",
       "                        })                };                });            </script>        </div>"
      ]
     },
     "metadata": {},
     "output_type": "display_data"
    }
   ],
   "source": [
    "df_binned_by_role = df.copy()\n",
    "df_binned_by_role = df_binned_by_role.drop_duplicates(\n",
    "    [ClassMetricVectorConstants.MICRO_ARCHITECTURE, ClassMetricVectorConstants.DESIGN_PATTERN]).reset_index()\n",
    "df_binned_by_role = df_binned_by_role[ClassMetricVectorConstants.DESIGN_PATTERN].value_counts(\n",
    ").reset_index()\n",
    "\n",
    "fig = px.histogram(df_binned_by_role, x=ClassMetricVectorConstants.DESIGN_PATTERN, y='count')\n",
    "fig.update_layout(xaxis_title='Design Pattern',\n",
    "                  yaxis_title='Count of Design Pattern')"
   ]
  },
  {
   "cell_type": "markdown",
   "id": "ca83e997",
   "metadata": {},
   "source": [
    "### Distribution for metrics"
   ]
  },
  {
   "cell_type": "code",
   "execution_count": null,
   "id": "236b326b",
   "metadata": {},
   "outputs": [],
   "source": [
    "def initial_histogram():\n",
    "    return go.Histogram(\n",
    "        histfunc='count',\n",
    "    )\n",
    "\n",
    "\n",
    "def update_histogram(figure: go.Figure, df: pd.DataFrame, metric: str):\n",
    "    figure['x'] = df[metric]\n",
    "\n",
    "\n",
    "generate_selectable_graph_for_metrics(\n",
    "    df, initial_histogram, update_histogram, 'count')"
   ]
  },
  {
   "cell_type": "markdown",
   "id": "527e5650",
   "metadata": {},
   "source": [
    "### Box Plots for metrics"
   ]
  },
  {
   "cell_type": "code",
   "execution_count": null,
   "id": "d51e3449",
   "metadata": {},
   "outputs": [],
   "source": [
    "def initial_histogram():\n",
    "    return go.Box(\n",
    "    )\n",
    "\n",
    "\n",
    "def update_histogram(figure: go.Figure, df: pd.DataFrame, metric: str):\n",
    "    figure['x'] = df[metric]\n",
    "\n",
    "\n",
    "generate_selectable_graph_for_metrics(df, initial_histogram, update_histogram)"
   ]
  },
  {
   "cell_type": "markdown",
   "id": "69aa3c25",
   "metadata": {},
   "source": [
    "## Model Training\n",
    "\n",
    "As design patterns can be considered as small scale appliances of software architecture, they consist of different entities with different relationships and roles to fulfill in the regarded design pattern. In order to detect design patterns, we first need to detect what kind of role a given Java class or entity it most likely corresponds to. To achieve this, machine learning model capable of classifying multiple labels should be considered. The extracted software metrics are the numerical inputs and the most likely roles in a design pattern are the result. \n",
    "As this falls in the area of supervised machine learning, initially the following models/techniques are to be considered:\n",
    "\n",
    "**NOTE:** This list is subject to change \n",
    "\n",
    "* Support Vector Machines\n",
    "* Tree Classifiers\n",
    "* Ensemble Classifiers (e.g Random Forest Classifier)\n",
    "* Custom Convoluted Network\n",
    "\n",
    "In order to optimize the given results of a given model, first RandomGridSearch is applied to determine a range of values or selection for the hyperparameters while GridSearch is used to determine the most optimal available value or selection for the regarded hyperparameter."
   ]
  },
  {
   "cell_type": "code",
   "execution_count": 63,
   "id": "edebf2e7",
   "metadata": {},
   "outputs": [],
   "source": [
    "# Required import for machine learning\n",
    "from sklearn.model_selection import train_test_split\n",
    "from sklearn.svm import SVC\n",
    "from sklearn.metrics import f1_score, accuracy_score\n",
    "from sklearn.preprocessing import StandardScaler, LabelEncoder\n",
    "from sklearn.ensemble import RandomForestClassifier\n",
    "from sklearn.decomposition import PCA\n",
    "import hpsklearn\n",
    "import hyperopt\n",
    "from dataclasses import dataclass, field\n",
    "import joblib\n",
    "from sklearn.model_selection import cross_val_score, KFold\n",
    "import numpy as np\n",
    "from sklearn.base import clone\n",
    "from imblearn.over_sampling import RandomOverSampler, SMOTE\n",
    "from collections import Counter\n",
    "from sklearn.metrics import classification_report\n",
    "from sklearn.pipeline import make_pipeline, Pipeline\n",
    "from sklearn.model_selection import RandomizedSearchCV, GridSearchCV"
   ]
  },
  {
   "cell_type": "code",
   "execution_count": 64,
   "id": "065cf01b-0f73-41ad-bab3-fdffdd3775e4",
   "metadata": {},
   "outputs": [],
   "source": [
    "class Dataset:\n",
    "    train: pd.DataFrame\n",
    "    test: pd.DataFrame\n",
    "    label_col: List[str]\n",
    "    feature_cols: List[str]\n",
    "    #roleKindEncoder: LabelEncoder\n",
    "    roleEncoder: LabelEncoder\n",
    "    dataset: pd.DataFrame\n",
    "    \n",
    "    def __init__(self, df: pd.DataFrame):\n",
    "        df_copy = df.copy().dropna()\n",
    "        self.label_col = get_label_column()\n",
    "        self.feature_cols = get_metric_columns()\n",
    "        self.roleEncoder = LabelEncoder()\n",
    "        df_copy[ClassMetricVectorConstants.ROLE] = self.roleEncoder.fit_transform(df_copy[ClassMetricVectorConstants.ROLE])\n",
    "        df_copy = df_copy[self.label_col + self.feature_cols]\n",
    "        self.train, self.test = train_test_split(df_copy, test_size=0.15, stratify=df_copy[get_label_column()])\n",
    "\n",
    "    @classmethod\n",
    "    def top_k_design_patterns(cls, df: pd.DataFrame, k: int) -> \"Dataset\":\n",
    "        top = get_top_k_labels(df, k)\n",
    "        df_dataset = df[df[ClassMetricVectorConstants.DESIGN_PATTERN].isin(top)]\n",
    "        return cls(df_dataset)\n",
    "        \n",
    "\n",
    "    def get_X_train(self):\n",
    "        return self.train[self.feature_cols]\n",
    "    \n",
    "    def get_Y_train(self):\n",
    "        return self.train[self.label_col].values.ravel()\n",
    "\n",
    "    def get_X_test(self):\n",
    "        return self.test[self.feature_cols]\n",
    "\n",
    "    def get_Y_test(self):\n",
    "        return self.test[self.label_col].values.ravel()\n",
    "\n",
    "\n",
    "def get_top_k_labels(df: pd.DataFrame, k: int):\n",
    "    df_binned_by_role = df.copy()\n",
    "    df_binned_by_role = df_binned_by_role.drop_duplicates(\n",
    "        [ClassMetricVectorConstants.MICRO_ARCHITECTURE, ClassMetricVectorConstants.DESIGN_PATTERN])\n",
    "    df_binned_by_role = df_binned_by_role[ClassMetricVectorConstants.DESIGN_PATTERN].value_counts(\n",
    "    ).sort_values(ascending=False).head(k)\n",
    "    return df_binned_by_role.index.to_list()"
   ]
  },
  {
   "cell_type": "code",
   "execution_count": 103,
   "id": "fdad0cdd",
   "metadata": {},
   "outputs": [
    {
     "data": {
      "text/plain": [
       "295"
      ]
     },
     "execution_count": 103,
     "metadata": {},
     "output_type": "execute_result"
    }
   ],
   "source": [
    "dataset = Dataset.top_k_design_patterns(df, 4)\n",
    "top_four = get_top_k_labels(df, 4)\n",
    "\n",
    "d = df[df[ClassMetricVectorConstants.DESIGN_PATTERN].isin(top_four)].reset_index()\n",
    "d = d.groupby([ClassMetricVectorConstants.DESIGN_PATTERN, ClassMetricVectorConstants.ROLE]).size()\n",
    "\n",
    "\n",
    "d.sum()"
   ]
  },
  {
   "cell_type": "markdown",
   "id": "b7df3789-9e1f-4ae3-8efd-6606839eaad0",
   "metadata": {},
   "source": [
    "### Support Vector Machines"
   ]
  },
  {
   "cell_type": "code",
   "execution_count": 98,
   "id": "006c8ba1-fb69-4239-8f78-835b8a383c27",
   "metadata": {},
   "outputs": [
    {
     "data": {
      "text/plain": [
       "0.4482758620689655"
      ]
     },
     "execution_count": 98,
     "metadata": {},
     "output_type": "execute_result"
    }
   ],
   "source": [
    "def apply_svm(dataset: Dataset):\n",
    "    X_train = dataset.get_X_train()\n",
    "    y_train = dataset.get_Y_train()\n",
    "    \n",
    "    X_test = dataset.get_X_test()\n",
    "    y_test = dataset.get_Y_test()\n",
    "\n",
    "    standard_scaler = StandardScaler()\n",
    "    X_train = standard_scaler.fit_transform(X_train)\n",
    "    X_test = standard_scaler.fit_transform(X_test)\n",
    "\n",
    "    svm_classifier = SVC(kernel='rbf', gamma=0.1, C=1.75)\n",
    "    svm_classifier.fit(X_train, y_train)\n",
    "\n",
    "    pred = svm_classifier.predict(X_test)\n",
    "    return svm_classifier.score(X_test, y_test)\n",
    "\n",
    "apply_svm(dataset)"
   ]
  },
  {
   "cell_type": "markdown",
   "id": "0516a563-d27b-401d-ae1c-16bc4528c458",
   "metadata": {},
   "source": [
    "### Random Forest Classifier"
   ]
  },
  {
   "cell_type": "code",
   "execution_count": 99,
   "id": "395b288b-1501-4262-9a99-2711a575581c",
   "metadata": {},
   "outputs": [
    {
     "data": {
      "text/plain": [
       "0.5172413793103449"
      ]
     },
     "execution_count": 99,
     "metadata": {},
     "output_type": "execute_result"
    }
   ],
   "source": [
    "def apply_random_forest(dataset: Dataset):\n",
    "    X_train = dataset.get_X_train()\n",
    "    y_train = dataset.get_Y_train()\n",
    "\n",
    "    X_test = dataset.get_X_test()\n",
    "    y_test = dataset.get_Y_test()\n",
    "\n",
    "    random_forest_classifier = RandomForestClassifier(\n",
    "        max_depth=30, random_state=1)\n",
    "    random_forest_classifier.fit(X_train, y_train)\n",
    "\n",
    "    pred = random_forest_classifier.predict(X_test)\n",
    "    return random_forest_classifier.score(X_test, y_test)\n",
    "\n",
    "\n",
    "apply_random_forest(dataset)"
   ]
  },
  {
   "cell_type": "markdown",
   "id": "a7aa5f3c-7044-4840-9c10-b6a11691a5f0",
   "metadata": {},
   "source": [
    "### Get Best Possible Classifier with hyperopt-sklearn"
   ]
  },
  {
   "cell_type": "code",
   "execution_count": 82,
   "id": "16c407fe-985c-48c2-bbb7-8e5fe37f959a",
   "metadata": {},
   "outputs": [
    {
     "name": "stdout",
     "output_type": "stream",
     "text": [
      "100%|███████████████████████████████████████████████████████████████████████████████████████████████████████████████████████████████████████████████████████████████████████████████████████████████████████████████████████████████████████████████████████████████████| 1/1 [00:00<00:00, 13.66trial/s, best loss: 0.8125]\n",
      "100%|██████████████████████████████████████████████████████████████████████████████████████████████████████████████████████████████████████████████████████████████████████████████████████████████████████████████████████████████████████████████████████████████████| 2/2 [00:00<00:00,  3.44trial/s, best loss: 0.71875]\n",
      "100%|██████████████████████████████████████████████████████████████████████████████████████████████████████████████████████████████████████████████████████████████████████████████████████████████████████████████████████████████████████████████████████████████████| 3/3 [00:00<00:00,  5.21trial/s, best loss: 0.71875]\n",
      " 75%|████████████████████████████████████████████████████████████████████████████████████████████████████████████████████████████████████████████████████████████████████████████████████████████████████████████▊                                                                    | 3/4 [02:34<?, ?trial/s, best loss=?]\n",
      "              precision    recall  f1-score   support\n",
      "\n",
      "           0       0.00      0.00      0.00         2\n",
      "           1       0.50      0.75      0.60         4\n",
      "           2       0.00      0.00      0.00         1\n",
      "           3       0.50      0.50      0.50         2\n",
      "           4       0.10      1.00      0.18         1\n",
      "           5       0.00      0.00      0.00         0\n",
      "           6       0.00      0.00      0.00         8\n",
      "           7       0.00      0.00      0.00         1\n",
      "           8       0.67      0.67      0.67         3\n",
      "           9       0.00      0.00      0.00         1\n",
      "          10       0.00      0.00      0.00         2\n",
      "          11       0.00      0.00      0.00         2\n",
      "          12       0.33      0.50      0.40         2\n",
      "\n",
      "    accuracy                           0.28        29\n",
      "   macro avg       0.16      0.26      0.18        29\n",
      "weighted avg       0.20      0.28      0.22        29\n",
      "\n"
     ]
    },
    {
     "name": "stderr",
     "output_type": "stream",
     "text": [
      "/home/memi/Dokumente/master_thesis/project/.venv/lib/python3.10/site-packages/sklearn/base.py:486: UserWarning:\n",
      "\n",
      "X has feature names, but RandomForestClassifier was fitted without feature names\n",
      "\n",
      "/home/memi/Dokumente/master_thesis/project/.venv/lib/python3.10/site-packages/sklearn/metrics/_classification.py:1497: UndefinedMetricWarning:\n",
      "\n",
      "Precision is ill-defined and being set to 0.0 in labels with no predicted samples. Use `zero_division` parameter to control this behavior.\n",
      "\n",
      "/home/memi/Dokumente/master_thesis/project/.venv/lib/python3.10/site-packages/sklearn/metrics/_classification.py:1497: UndefinedMetricWarning:\n",
      "\n",
      "Recall is ill-defined and being set to 0.0 in labels with no true samples. Use `zero_division` parameter to control this behavior.\n",
      "\n",
      "/home/memi/Dokumente/master_thesis/project/.venv/lib/python3.10/site-packages/sklearn/metrics/_classification.py:1497: UndefinedMetricWarning:\n",
      "\n",
      "Precision is ill-defined and being set to 0.0 in labels with no predicted samples. Use `zero_division` parameter to control this behavior.\n",
      "\n",
      "/home/memi/Dokumente/master_thesis/project/.venv/lib/python3.10/site-packages/sklearn/metrics/_classification.py:1497: UndefinedMetricWarning:\n",
      "\n",
      "Recall is ill-defined and being set to 0.0 in labels with no true samples. Use `zero_division` parameter to control this behavior.\n",
      "\n",
      "/home/memi/Dokumente/master_thesis/project/.venv/lib/python3.10/site-packages/sklearn/metrics/_classification.py:1497: UndefinedMetricWarning:\n",
      "\n",
      "Precision is ill-defined and being set to 0.0 in labels with no predicted samples. Use `zero_division` parameter to control this behavior.\n",
      "\n",
      "/home/memi/Dokumente/master_thesis/project/.venv/lib/python3.10/site-packages/sklearn/metrics/_classification.py:1497: UndefinedMetricWarning:\n",
      "\n",
      "Recall is ill-defined and being set to 0.0 in labels with no true samples. Use `zero_division` parameter to control this behavior.\n",
      "\n"
     ]
    },
    {
     "data": {
      "text/plain": [
       "(0.27586206896551724,\n",
       " RandomForestClassifier(class_weight='balanced_subsample',\n",
       "                        max_features=0.8760689265763116,\n",
       "                        min_impurity_decrease=0.02, min_samples_leaf=25,\n",
       "                        n_estimators=217, n_jobs=1, random_state=0,\n",
       "                        verbose=False))"
      ]
     },
     "execution_count": 82,
     "metadata": {},
     "output_type": "execute_result"
    }
   ],
   "source": [
    "def apply_hyperopt(dataset: Dataset, evals: int = 10):\n",
    "    X_train = dataset.get_X_train()\n",
    "    y_train = dataset.get_Y_train()\n",
    "\n",
    "    X_test = dataset.get_X_test()\n",
    "    y_test = dataset.get_Y_test()\n",
    "\n",
    "    \n",
    "    chosen_classifiers = [\n",
    "        #TODO Add SVM + KNN to the mix\n",
    "        hpsklearn.random_forest_classifier('random_forest'),\n",
    "        hpsklearn.extra_trees_classifier('extra_trees'),\n",
    "        hpsklearn.hist_gradient_boosting_classifier('gradient_boosting')\n",
    "    ]\n",
    "\n",
    "    p = 1 / len(chosen_classifiers)\n",
    "    classifiers = hyperopt.hp.pchoice('cls', [(p, c) for c in chosen_classifiers])\n",
    "\n",
    "    hyper_estimator = hpsklearn.HyperoptEstimator(\n",
    "        classifier=classifiers,\n",
    "        preprocessing=[],\n",
    "        max_evals=evals,\n",
    "        algo=hyperopt.tpe.suggest,\n",
    "        trial_timeout=180,\n",
    "        \n",
    "    )\n",
    "\n",
    "    hyper_estimator.fit(X_train, y_train)\n",
    "    best_model = hyper_estimator.best_model()['learner']\n",
    "    y_pred = best_model.predict(X_test)\n",
    "    print(classification_report(y_test, y_pred))\n",
    "    \n",
    "    return hyper_estimator.score(X_test, y_test), best_model\n",
    "\n",
    "apply_hyperopt(dataset, evals=30)\n",
    "    "
   ]
  },
  {
   "cell_type": "code",
   "execution_count": 100,
   "id": "470b4886-38fc-4331-bb96-a7dcb12c2986",
   "metadata": {},
   "outputs": [
    {
     "name": "stdout",
     "output_type": "stream",
     "text": [
      "100%|███████████████████████████████████████████████████████████████████████████████████████████████████████████████████████████████████████████████████████████████████████████████████████████████████████████████████████████████████████████████████████| 1/1 [00:00<00:00, 21.49trial/s, best loss: 0.5357142857142857]\n",
      "100%|███████████████████████████████████████████████████████████████████████████████████████████████████████████████████████████████████████████████████████████████████████████████████████████████████████████████████████████████████████████████████████| 2/2 [00:00<00:00,  8.36trial/s, best loss: 0.4285714285714286]\n",
      "100%|███████████████████████████████████████████████████████████████████████████████████████████████████████████████████████████████████████████████████████████████████████████████████████████████████████████████████████████████████████████████████████| 3/3 [00:01<00:00,  1.01s/trial, best loss: 0.4285714285714286]\n",
      " 75%|████████████████████████████████████████████████████████████████████████████████████████████████████████████████████████████████████████████████████████████████████████████████████████████████████████████▊                                                                    | 3/4 [00:26<?, ?trial/s, best loss=?]\n",
      "              precision    recall  f1-score   support\n",
      "\n",
      "           0       0.50      0.50      0.50         2\n",
      "           1       0.75      0.75      0.75         4\n",
      "           2       1.00      0.50      0.67         2\n",
      "           3       0.00      0.00      0.00         1\n",
      "           4       0.57      1.00      0.73         8\n",
      "           5       1.00      0.67      0.80         3\n",
      "           6       0.00      0.00      0.00         2\n",
      "           7       1.00      1.00      1.00         2\n",
      "           8       0.00      0.00      0.00         1\n",
      "\n",
      "    accuracy                           0.68        25\n",
      "   macro avg       0.54      0.49      0.49        25\n",
      "weighted avg       0.62      0.68      0.62        25\n",
      "\n"
     ]
    },
    {
     "name": "stderr",
     "output_type": "stream",
     "text": [
      "/home/memi/Dokumente/master_thesis/project/.venv/lib/python3.10/site-packages/sklearn/base.py:486: UserWarning:\n",
      "\n",
      "X has feature names, but ExtraTreesClassifier was fitted without feature names\n",
      "\n",
      "/home/memi/Dokumente/master_thesis/project/.venv/lib/python3.10/site-packages/sklearn/metrics/_classification.py:1497: UndefinedMetricWarning:\n",
      "\n",
      "Precision is ill-defined and being set to 0.0 in labels with no predicted samples. Use `zero_division` parameter to control this behavior.\n",
      "\n",
      "/home/memi/Dokumente/master_thesis/project/.venv/lib/python3.10/site-packages/sklearn/metrics/_classification.py:1497: UndefinedMetricWarning:\n",
      "\n",
      "Precision is ill-defined and being set to 0.0 in labels with no predicted samples. Use `zero_division` parameter to control this behavior.\n",
      "\n",
      "/home/memi/Dokumente/master_thesis/project/.venv/lib/python3.10/site-packages/sklearn/metrics/_classification.py:1497: UndefinedMetricWarning:\n",
      "\n",
      "Precision is ill-defined and being set to 0.0 in labels with no predicted samples. Use `zero_division` parameter to control this behavior.\n",
      "\n"
     ]
    },
    {
     "data": {
      "text/plain": [
       "'HyperOpt-Score: 0.68 Mean Cross Validation Score: [0.46808511 0.46808511 0.56521739]'"
      ]
     },
     "execution_count": 100,
     "metadata": {},
     "output_type": "execute_result"
    }
   ],
   "source": [
    "def get_best_iteration(df: pd.DataFrame, top_k: int, max_evals: int, k_split: int):\n",
    "    dataset = Dataset.top_k_design_patterns(df, top_k)\n",
    "    score, estimator = apply_hyperopt(dataset, evals=max_evals)\n",
    "    unfitted_estimator = clone(estimator)\n",
    "    cross_score = cross_val_score(unfitted_estimator, dataset.get_X_train(), dataset.get_Y_train(), cv=k_split, )\n",
    "    return f'HyperOpt-Score: {score} Mean Cross Validation Score: {cross_score}'\n",
    "    \n",
    "    \n",
    "\n",
    "get_best_iteration(df, 3, 50, 3)"
   ]
  }
 ],
 "metadata": {
  "kernelspec": {
   "display_name": "Python 3 (ipykernel)",
   "language": "python",
   "name": "python3"
  },
  "language_info": {
   "codemirror_mode": {
    "name": "ipython",
    "version": 3
   },
   "file_extension": ".py",
   "mimetype": "text/x-python",
   "name": "python",
   "nbconvert_exporter": "python",
   "pygments_lexer": "ipython3",
   "version": "3.10.12"
  }
 },
 "nbformat": 4,
 "nbformat_minor": 5
}
