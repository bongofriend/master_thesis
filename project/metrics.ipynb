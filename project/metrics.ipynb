{
 "cells": [
  {
   "cell_type": "markdown",
   "metadata": {},
   "source": [
    "# Design Pattern Recognition with Software Metrics"
   ]
  },
  {
   "cell_type": "markdown",
   "id": "43dd595e-942a-4e01-994d-0c425619a9d8",
   "metadata": {},
   "source": [
    "## Library/Package Imports\n",
    "All required modules should be in the next cell to avoid scattered imports"
   ]
  },
  {
   "cell_type": "code",
   "execution_count": 105,
   "metadata": {},
   "outputs": [],
   "source": [
    "# Ignore missing imports warnings in vs code\n",
    "import pandas as pd\n",
    "import plotly.express as px\n",
    "from plotly.subplots import make_subplots\n",
    "import plotly.graph_objects as go\n",
    "from typing import Callable\n",
    "import ipywidgets as widgets\n",
    "from IPython.display import display\n",
    "from typing import Optional"
   ]
  },
  {
   "cell_type": "code",
   "execution_count": 112,
   "metadata": {},
   "outputs": [],
   "source": [
    "#Common utility functions\n",
    "\n",
    "def get_metric_columns():\n",
    "    return ['NOF', 'NSF', 'NOM', 'NSM', 'NOAM', 'NORM', 'NOPC', 'NOOF', 'NCOF']\n",
    "\n",
    "def generate_subplot(df: pd.DataFrame, plot_func: Callable[[pd.DataFrame, str], go.Figure], subplot_width: int = 600, subplot_height: int = 2400) -> go.Figure:\n",
    "    metric_columns = get_metric_columns()\n",
    "    subplots = make_subplots(len(metric_columns), subplot_titles=metric_columns)\n",
    "    for i, metric in enumerate(metric_columns):\n",
    "        figure = plot_func(df, metric)\n",
    "        subplots.add_trace(figure, row=i+1, col=1)\n",
    "    subplots['layout'].update(height=subplot_height, width=subplot_width)\n",
    "    return subplots\n",
    "\n",
    "def generate_selectable_graph(df: pd.DataFrame, initial_plot_func: Callable[[], go.Figure], update_func: Callable[[go.Figure, pd.DataFrame, str], None], y_label: Optional[str] = None):\n",
    "    metric_dropdown = widgets.Dropdown(options=get_metric_columns())\n",
    "    fig = go.FigureWidget(\n",
    "        initial_plot_func()\n",
    "    )\n",
    "\n",
    "    def on_metric_changed(change):\n",
    "        metric = change['new']\n",
    "        with fig.batch_update():\n",
    "            figure =  fig.data[0]\n",
    "            update_func(figure, df, metric)\n",
    "            figure['name'] = metric\n",
    "            label = y_label if y_label else ' '\n",
    "            fig.update_layout(title=metric, bargap = 0.5, xaxis_title=metric, yaxis_title=label)\n",
    "\n",
    "    metric_dropdown.observe(on_metric_changed, names='value')\n",
    "    display(widgets.VBox([metric_dropdown, fig]))\n",
    "    \n",
    "\n"
   ]
  },
  {
   "cell_type": "markdown",
   "metadata": {},
   "source": [
    "## Generation of metrics\n",
    "\n",
    "If the metrics are not yet generated, the following steps are required:\n",
    "\n",
    "1. Make sure that `source_files.zip` is located in the current directory. The archive contains the actual zipped source code of the projects in [P-MArT](https://www.ptidej.net/tools/designpatterns/) and `pmart.xml` with descriptions of the micro architectures\n",
    "2. Create a new virtual Python environment with `python -m venv .` in the current directory if not yet done\n",
    "3. Activate the virtual environment ([refer here for the actual command to run](https://docs.python.org/3/library/venv.html#how-venvs-work))\n",
    "4. Execute `python3 preprocess_source_files.py` to extract the source files from `source_files.zip` and move the source files described in `pmart.xml` into `dataset` directory. For more information run `python3 preprocess_source_files.py -h`.\n",
    "    - Source files are structured as `<dataset_dir>/<design_pattern/micro_architecture_<id>`\n",
    "    - Each micro architecture directory contains the following files:\n",
    "        - `roles.csv`: Roles, entity names and role kind as described in `pmart.xml`\n",
    "        - `projects.txt`: From which project the source files come from\n",
    "        - The source files to be evaluated\n",
    "5. Execute `python3 generate_source_file_metrics.py` to generate `metrics.csv`. For more information run `python3 generate_source_file_metrics.py`.\n",
    "\n",
    "**NOTE**: As the projects in this dataset are old and not all projects listed in P-MaRT are not accessible, some source files and their entries in `metrics` may be missing."
   ]
  },
  {
   "cell_type": "markdown",
   "metadata": {},
   "source": [
    "## Overview about `metrics.csv`\n",
    "\n",
    "In order to detect applied Gang Of Four design patterns in source code with machine learning strategies, we first need to transform the source file into a numerical representation that can be understood by a machine learning model.\n",
    "This approach aims to solve this by generating numerical characteristics for each source file in the context of the regarded micro architecture. As there are several methods to define what metrics to include in the evaluation, the metrics as described [in this paper](../sources/JSEA-DP-2014.pdf):\n",
    "\n",
    "- NOF: Number of fields\n",
    "- NSF: Number of static fields\n",
    "- NOM: Number of methods\n",
    "- NSM: Number of static methods\n",
    "- NOAM: Number of abstract methods\n",
    "- NORM: Number of overridden methods\n",
    "- NOPC: Number of private constrcutors\n",
    "- NOOF: Number of object fields\n",
    "- NCOF: Number of other classes with field of own type"
   ]
  },
  {
   "cell_type": "markdown",
   "metadata": {},
   "source": [
    "## Explorative Data Analysis of the Dataset"
   ]
  },
  {
   "cell_type": "code",
   "execution_count": null,
   "metadata": {},
   "outputs": [],
   "source": [
    "df = pd.read_csv('./work/metrics.csv')\n",
    "print(f'{df.shape[0]} rows were imported')"
   ]
  },
  {
   "cell_type": "code",
   "execution_count": null,
   "metadata": {},
   "outputs": [],
   "source": [
    "#Check if columns in dataframe have expected types\n",
    "df.dtypes"
   ]
  },
  {
   "cell_type": "markdown",
   "metadata": {},
   "source": [
    "### Histograms plots for metrics"
   ]
  },
  {
   "cell_type": "code",
   "execution_count": 115,
   "metadata": {},
   "outputs": [
    {
     "data": {
      "application/vnd.jupyter.widget-view+json": {
       "model_id": "bafd7e770a86438faf443a512b6a24c4",
       "version_major": 2,
       "version_minor": 0
      },
      "text/plain": [
       "VBox(children=(Dropdown(options=('NOF', 'NSF', 'NOM', 'NSM', 'NOAM', 'NORM', 'NOPC', 'NOOF', 'NCOF'), value='N…"
      ]
     },
     "metadata": {},
     "output_type": "display_data"
    }
   ],
   "source": [
    "def initial_histogram():\n",
    "    return go.Histogram(\n",
    "        histfunc='count',\n",
    "    )\n",
    "\n",
    "def update_histogram(figure: go.Figure, df: pd.DataFrame, metric: str):\n",
    "    figure['x'] = df[metric]\n",
    "\n",
    "generate_selectable_graph(df, initial_histogram, update_histogram, 'count')"
   ]
  },
  {
   "cell_type": "markdown",
   "metadata": {},
   "source": [
    "### Box Plots for metrics"
   ]
  },
  {
   "cell_type": "code",
   "execution_count": 114,
   "metadata": {},
   "outputs": [
    {
     "data": {
      "application/vnd.jupyter.widget-view+json": {
       "model_id": "f9eee05db5314dc6be73bfecad911b7a",
       "version_major": 2,
       "version_minor": 0
      },
      "text/plain": [
       "VBox(children=(Dropdown(options=('NOF', 'NSF', 'NOM', 'NSM', 'NOAM', 'NORM', 'NOPC', 'NOOF', 'NCOF'), value='N…"
      ]
     },
     "metadata": {},
     "output_type": "display_data"
    }
   ],
   "source": [
    "def initial_histogram():\n",
    "    return go.Box(\n",
    "    )\n",
    "\n",
    "def update_histogram(figure: go.Figure, df: pd.DataFrame, metric: str):\n",
    "    figure['x'] = df[metric]\n",
    "\n",
    "generate_selectable_graph(df, initial_histogram, update_histogram)"
   ]
  }
 ],
 "metadata": {
  "kernelspec": {
   "display_name": "Python 3 (ipykernel)",
   "language": "python",
   "name": "python3"
  },
  "language_info": {
   "codemirror_mode": {
    "name": "ipython",
    "version": 3
   },
   "file_extension": ".py",
   "mimetype": "text/x-python",
   "name": "python",
   "nbconvert_exporter": "python",
   "pygments_lexer": "ipython3",
   "version": "3.11.6"
  }
 },
 "nbformat": 4,
 "nbformat_minor": 5
}
