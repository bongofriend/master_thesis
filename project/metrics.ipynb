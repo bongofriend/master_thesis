{
 "cells": [
  {
   "cell_type": "markdown",
   "id": "f8d41991-3e59-4587-9904-a43131e20a7d",
   "metadata": {},
   "source": [
    "# TODOs"
   ]
  },
  {
   "cell_type": "code",
   "execution_count": 171,
   "id": "b41a07b0-8465-4a55-9dc2-ef3a92622f8b",
   "metadata": {},
   "outputs": [
    {
     "data": {
      "text/markdown": [
       "# Stuff to be done\n",
       "\n",
       "- [x] Initialize Jupyter notebook\n",
       "- [x] Perform EDA on metrics\n",
       "- [ ] Evaluate possible ML models\n",
       "- [ ] Add ML pipeline for GridSearch/RandomSearch sckit-learn"
      ],
      "text/plain": [
       "<IPython.core.display.Markdown object>"
      ]
     },
     "metadata": {},
     "output_type": "display_data"
    }
   ],
   "source": [
    "from IPython.display import display, Markdown\n",
    "\n",
    "display(Markdown('TODO.md'))"
   ]
  },
  {
   "cell_type": "markdown",
   "id": "80cefb50",
   "metadata": {
    "jp-MarkdownHeadingCollapsed": true
   },
   "source": [
    "# Design Pattern Recognition with Software Metrics"
   ]
  },
  {
   "cell_type": "markdown",
   "id": "43dd595e-942a-4e01-994d-0c425619a9d8",
   "metadata": {
    "jp-MarkdownHeadingCollapsed": true
   },
   "source": [
    "## Library/Package Imports\n",
    "All required modules should be in the next cell to avoid scattered imports"
   ]
  },
  {
   "cell_type": "code",
   "execution_count": 154,
   "id": "3867f5a7",
   "metadata": {},
   "outputs": [],
   "source": [
    "# Ignore missing imports warnings in vs code\n",
    "import pandas as pd\n",
    "import plotly.express as px\n",
    "from plotly.subplots import make_subplots\n",
    "import plotly.graph_objects as go\n",
    "from typing import Callable\n",
    "import ipywidgets as widgets\n",
    "from IPython.display import display, HTML\n",
    "from typing import Optional"
   ]
  },
  {
   "cell_type": "code",
   "execution_count": 156,
   "id": "65910d76",
   "metadata": {},
   "outputs": [],
   "source": [
    "#Common utility functions\n",
    "\n",
    "from typing import Any\n",
    "\n",
    "\n",
    "def get_metric_columns():\n",
    "    return ['NOF', 'NSF', 'NOM', 'NSM', 'NOAM', 'NORM', 'NOPC', 'NOOF', 'NCOF']\n",
    "\n",
    "def generate_subplot(df: pd.DataFrame, plot_func: Callable[[pd.DataFrame, str], go.Figure], subplot_width: int = 600, subplot_height: int = 2400) -> go.Figure:\n",
    "    metric_columns = get_metric_columns()\n",
    "    subplots = make_subplots(len(metric_columns), subplot_titles=metric_columns)\n",
    "    for i, metric in enumerate(metric_columns):\n",
    "        figure = plot_func(df, metric)\n",
    "        subplots.add_trace(figure, row=i+1, col=1)\n",
    "    subplots['layout'].update(height=subplot_height, width=subplot_width)\n",
    "    return subplots\n",
    "\n",
    "def generate_selectable_graph_for_metrircs(df: pd.DataFrame, initial_plot_func: Callable[[], go.Figure], update_func: Callable[[go.Figure, pd.DataFrame, str], None], y_label: Optional[str] = None):\n",
    "    metric_dropdown = widgets.Dropdown(options=get_metric_columns())\n",
    "    fig = go.FigureWidget(initial_plot_func())\n",
    "\n",
    "    def on_metric_changed(change):\n",
    "        metric = change['new']\n",
    "        with fig.batch_update():\n",
    "            figure =  fig.data[0]\n",
    "            update_func(figure, df, metric)\n",
    "            figure['name'] = metric\n",
    "            label = y_label if y_label else ' '\n",
    "            fig.update_layout(title=metric, bargap = 0.5, xaxis_title=metric, yaxis_title=label)\n",
    "\n",
    "    metric_dropdown.observe(on_metric_changed, names='value')\n",
    "    display(widgets.VBox([metric_dropdown, fig]))\n",
    "\n",
    "def filter_extended_projects(df: pd.DataFrame):\n",
    "    return df[~df['project'].str.contains('DrJava')]"
   ]
  },
  {
   "cell_type": "markdown",
   "id": "e2ef9395",
   "metadata": {
    "jp-MarkdownHeadingCollapsed": true
   },
   "source": [
    "## Generation of metrics\n",
    "\n",
    "If the metrics are not yet generated, the following steps are required:\n",
    "\n",
    "1. Make sure that `source_files.zip` is located in the current directory. The archive contains the actual zipped source code of the projects in [P-MArT](https://www.ptidej.net/tools/designpatterns/) and `pmart.xml` with descriptions of the micro architectures\n",
    "2. Create a new virtual Python environment with `python -m venv .` in the current directory if not yet done\n",
    "3. Activate the virtual environment ([refer here for the actual command to run](https://docs.python.org/3/library/venv.html#how-venvs-work))\n",
    "4. Execute `python3 preprocess_source_files.py` to extract the source files from `source_files.zip` and move the source files described in `pmart.xml` into `dataset` directory. For more information run `python3 preprocess_source_files.py -h`.\n",
    "    - Source files are structured as `<dataset_dir>/<design_pattern/micro_architecture_<id>`\n",
    "    - Each micro architecture directory contains the following files:\n",
    "        - `roles.csv`: Roles, entity names and role kind as described in `pmart.xml`\n",
    "        - `projects.txt`: From which project the source files come from\n",
    "        - The source files to be evaluated\n",
    "5. Execute `python3 generate_source_file_metrics.py` to generate `metrics.csv`. For more information run `python3 generate_source_file_metrics.py`.\n",
    "\n",
    "**NOTE**: As the projects in this dataset are old and not all projects listed in P-MaRT are not accessible, some source files and their entries in `metrics` may be missing."
   ]
  },
  {
   "cell_type": "markdown",
   "id": "d33566ec",
   "metadata": {
    "jp-MarkdownHeadingCollapsed": true
   },
   "source": [
    "## Overview about `metrics.csv`\n",
    "\n",
    "In order to detect applied Gang Of Four design patterns in source code with machine learning strategies, we first need to transform the source file into a numerical representation that can be understood by a machine learning model.\n",
    "This approach aims to solve this by generating numerical characteristics for each source file in the context of the regarded micro architecture. As there are several methods to define what metrics to include in the evaluation, the metrics as described [in this paper](../sources/JSEA-DP-2014.pdf):\n",
    "\n",
    "- NOF: Number of fields\n",
    "- NSF: Number of static fields\n",
    "- NOM: Number of methods\n",
    "- NSM: Number of static methods\n",
    "- NOAM: Number of abstract methods\n",
    "- NORM: Number of overridden methods\n",
    "- NOPC: Number of private constrcutors\n",
    "- NOOF: Number of object fields\n",
    "- NCOF: Number of other classes with field of own type"
   ]
  },
  {
   "cell_type": "markdown",
   "id": "21f390ae",
   "metadata": {},
   "source": [
    "## Explorative Data Analysis of the Dataset"
   ]
  },
  {
   "cell_type": "code",
   "execution_count": 157,
   "id": "65c7b79a",
   "metadata": {},
   "outputs": [
    {
     "name": "stdout",
     "output_type": "stream",
     "text": [
      "1490 rows were imported\n"
     ]
    }
   ],
   "source": [
    "df = pd.read_csv('./metrics.csv')\n",
    "df = filter_extended_projects(df)\n",
    "print(f'{df.shape[0]} rows were imported')"
   ]
  },
  {
   "cell_type": "code",
   "execution_count": 158,
   "id": "0e9d1680",
   "metadata": {},
   "outputs": [
    {
     "data": {
      "text/plain": [
       "role                  object\n",
       "role_kind             object\n",
       "entity                object\n",
       "design_pattern        object\n",
       "micro_architecture    object\n",
       "project               object\n",
       "NOF                    int64\n",
       "NSF                    int64\n",
       "NOM                    int64\n",
       "NSM                    int64\n",
       "NOI                    int64\n",
       "NOAM                   int64\n",
       "NORM                   int64\n",
       "NOPC                   int64\n",
       "NOTC                   int64\n",
       "NOOF                   int64\n",
       "NCOF                   int64\n",
       "dtype: object"
      ]
     },
     "execution_count": 158,
     "metadata": {},
     "output_type": "execute_result"
    }
   ],
   "source": [
    "#Check if columns in dataframe have expected types\n",
    "df.dtypes"
   ]
  },
  {
   "cell_type": "markdown",
   "id": "5f534e36",
   "metadata": {},
   "source": [
    "### Filter Dataframe entries by micro architecture"
   ]
  },
  {
   "cell_type": "code",
   "execution_count": 164,
   "id": "b24e61d1",
   "metadata": {},
   "outputs": [
    {
     "data": {
      "application/vnd.jupyter.widget-view+json": {
       "model_id": "5f4700b4f3674584811fc09e9ee679f5",
       "version_major": 2,
       "version_minor": 0
      },
      "text/plain": [
       "interactive(children=(Dropdown(description='micro_arch', options=('micro_arch_64', 'micro_arch_133', 'micro_ar…"
      ]
     },
     "execution_count": 164,
     "metadata": {},
     "output_type": "execute_result"
    }
   ],
   "source": [
    "micro_arches = df['micro_architecture'].unique().tolist()\n",
    "\n",
    "def view(micro_arch=''):\n",
    "     display(df[df['micro_architecture'] == micro_arch][['role', 'role_kind'] + get_metric_columns()])\n",
    "\n",
    "w = widgets.Dropdown(options=micro_arches)\n",
    "widgets.interactive(view, micro_arch=w)"
   ]
  },
  {
   "cell_type": "markdown",
   "id": "b016f497",
   "metadata": {},
   "source": [
    "### Distribution of roles"
   ]
  },
  {
   "cell_type": "code",
   "execution_count": 165,
   "id": "c79959eb",
   "metadata": {},
   "outputs": [
    {
     "data": {
      "application/vnd.plotly.v1+json": {
       "config": {
        "plotlyServerURL": "https://plot.ly"
       },
       "data": [
        {
         "alignmentgroup": "True",
         "bingroup": "x",
         "histfunc": "count",
         "hovertemplate": "role=%{x}<br>count=%{y}<extra></extra>",
         "legendgroup": "",
         "marker": {
          "color": "#636efa",
          "pattern": {
           "shape": ""
          }
         },
         "name": "",
         "offsetgroup": "",
         "orientation": "v",
         "showlegend": false,
         "type": "histogram",
         "x": [
          "client",
          "concreteAggregate",
          "iterator",
          "concreteIterator",
          "concreteIterator",
          "concreteIterator",
          "concreteAggregate",
          "client",
          "aggregate",
          "concreteAggregate",
          "concreteAggregate",
          "iterator",
          "concreteIterator",
          "iterator",
          "concreteIterator",
          "client",
          "client",
          "client",
          "client",
          "client",
          "iterator",
          "concreteIterator",
          "iterator",
          "concreteIterator",
          "concreteIterator",
          "aggregate",
          "concreteAggregate",
          "concreteAggregate",
          "client",
          "client",
          "concreteAggregate",
          "iterator",
          "concreteIterator",
          "client",
          "concreteAggregate",
          "iterator",
          "concreteIterator",
          "concreteClass",
          "abstractClass",
          "concreteClass",
          "concreteClass",
          "concreteClass",
          "concreteClass",
          "concreteClass",
          "concreteClass",
          "concreteClass",
          "concreteClass",
          "concreteClass",
          "concreteClass",
          "concreteClass",
          "concreteClass",
          "concreteClass",
          "concreteClass",
          "concreteClass",
          "concreteClass",
          "concreteClass",
          "abstractClass",
          "concreteClass",
          "concreteClass",
          "concreteClass",
          "concreteClass",
          "concreteClass",
          "concreteClass",
          "concreteClass",
          "concreteClass",
          "concreteClass",
          "concreteClass",
          "abstractClass",
          "concreteClass",
          "concreteClass",
          "concreteClass",
          "concreteClass",
          "abstractClass",
          "concreteClass",
          "concreteClass",
          "concreteClass",
          "concreteClass",
          "concreteClass",
          "concreteClass",
          "abstractClass",
          "concreteClass",
          "concreteClass",
          "concreteClass",
          "concreteClass",
          "concreteClass",
          "concreteClass",
          "concreteClass",
          "concreteClass",
          "concreteClass",
          "concreteClass",
          "concreteClass",
          "concreteClass",
          "concreteClass",
          "concreteClass",
          "concreteClass",
          "concreteClass",
          "concreteClass",
          "concreteClass",
          "concreteClass",
          "concreteClass",
          "concreteClass",
          "concreteClass",
          "concreteClass",
          "concreteClass",
          "abstractClass",
          "concreteClass",
          "concreteClass",
          "concreteClass",
          "concreteClass",
          "concreteClass",
          "concreteClass",
          "concreteClass",
          "abstractClass",
          "concreteClass",
          "concreteClass",
          "concreteClass",
          "concreteClass",
          "concreteClass",
          "concreteClass",
          "concreteClass",
          "concreteClass",
          "concreteClass",
          "concreteClass",
          "concreteClass",
          "concreteClass",
          "concreteClass",
          "concreteClass",
          "abstractClass",
          "concreteClass",
          "concreteClass",
          "concreteClass",
          "facade",
          "subsystemClass",
          "subsystemClass",
          "element",
          "objectStructure",
          "concreteElement",
          "visitor",
          "concreteVisitor",
          "visitor",
          "concreteVisitor",
          "concreteVisitor",
          "concreteVisitor",
          "concreteVisitor",
          "concreteVisitor",
          "concreteVisitor",
          "concreteVisitor",
          "concreteVisitor",
          "concreteVisitor",
          "concreteVisitor",
          "concreteVisitor",
          "concreteVisitor",
          "concreteVisitor",
          "element",
          "concreteElement",
          "concreteElement",
          "concreteElement",
          "concreteElement",
          "concreteElement",
          "concreteElement",
          "concreteElement",
          "concreteElement",
          "concreteElement",
          "concreteElement",
          "concreteElement",
          "concreteElement",
          "visitor",
          "concreteVisitor",
          "concreteVisitor",
          "concreteVisitor",
          "concreteVisitor",
          "concreteVisitor",
          "concreteVisitor",
          "concreteVisitor",
          "concreteVisitor",
          "concreteVisitor",
          "concreteVisitor",
          "concreteVisitor",
          "concreteVisitor",
          "concreteVisitor",
          "concreteVisitor",
          "concreteVisitor",
          "concreteVisitor",
          "concreteVisitor",
          "concreteVisitor",
          "concreteVisitor",
          "concreteVisitor",
          "concreteVisitor",
          "concreteVisitor",
          "concreteVisitor",
          "element",
          "concreteElement",
          "concreteElement",
          "concreteElement",
          "concreteElement",
          "concreteElement",
          "concreteElement",
          "concreteElement",
          "concreteElement",
          "concreteElement",
          "concreteElement",
          "concreteElement",
          "concreteElement",
          "concreteElement",
          "concreteElement",
          "concreteElement",
          "concreteElement",
          "concreteElement",
          "concreteElement",
          "concreteElement",
          "concreteElement",
          "concreteElement",
          "concreteElement",
          "concreteElement",
          "concreteElement",
          "concreteElement",
          "concreteElement",
          "concreteElement",
          "concreteElement",
          "concreteElement",
          "concreteElement",
          "concreteElement",
          "concreteElement",
          "concreteElement",
          "concreteElement",
          "concreteElement",
          "concreteElement",
          "concreteElement",
          "concreteElement",
          "concreteElement",
          "concreteElement",
          "concreteElement",
          "concreteElement",
          "concreteElement",
          "concreteElement",
          "concreteElement",
          "concreteElement",
          "concreteElement",
          "concreteElement",
          "concreteElement",
          "concreteElement",
          "concreteElement",
          "concreteElement",
          "concreteElement",
          "concreteElement",
          "concreteElement",
          "concreteElement",
          "concreteElement",
          "concreteElement",
          "concreteElement",
          "concreteElement",
          "concreteElement",
          "concreteElement",
          "concreteElement",
          "concreteElement",
          "concreteElement",
          "concreteElement",
          "concreteElement",
          "concreteElement",
          "concreteElement",
          "concreteElement",
          "concreteElement",
          "concreteElement",
          "concreteElement",
          "concreteElement",
          "concreteElement",
          "concreteElement",
          "concreteElement",
          "concreteElement",
          "concreteElement",
          "concreteElement",
          "concreteElement",
          "concreteElement",
          "concreteElement",
          "concreteElement",
          "concreteElement",
          "concreteElement",
          "context",
          "state",
          "concreteState",
          "concreteState",
          "concreteState",
          "concreteState",
          "concreteState",
          "concreteState",
          "concreteState",
          "concreteState",
          "concreteState",
          "concreteState",
          "concreteState",
          "concreteState",
          "concreteState",
          "concreteState",
          "concreteState",
          "concreteState",
          "context",
          "concreteState",
          "context",
          "state",
          "concreteState",
          "concreteState",
          "concreteState",
          "concreteState",
          "concreteState",
          "context",
          "state",
          "concreteState",
          "concreteState",
          "concreteState",
          "context",
          "state",
          "concreteState",
          "concreteState",
          "concreteState",
          "concreteState",
          "concreteState",
          "concreteState",
          "concreteState",
          "concreteState",
          "concreteState",
          "concreteState",
          "concreteState",
          "concreteState",
          "concreteState",
          "concreteState",
          "concreteState",
          "concreteState",
          "memento",
          "originator",
          "originator",
          "originator",
          "originator",
          "memento",
          "memento",
          "memento",
          "memento",
          "originator",
          "originator",
          "originator",
          "originator",
          "caretaker",
          "caretaker",
          "nullObject",
          "abstraction",
          "refinedAbstraction",
          "refinedAbstraction",
          "refinedAbstraction",
          "refinedAbstraction",
          "implementor",
          "concreteImplementor",
          "concreteImplementor",
          "concreteImplementor",
          "concreteImplementor",
          "concreteImplementor",
          "concreteImplementor",
          "concreteImplementor",
          "concreteImplementor",
          "concreteImplementor",
          "concreteImplementor",
          "abstraction",
          "refinedAbstraction",
          "refinedAbstraction",
          "refinedAbstraction",
          "implementor",
          "concreteImplementor",
          "concreteImplementor",
          "concreteImplementor",
          "concreteImplementor",
          "client",
          "prototype",
          "concretePrototype",
          "concretePrototype",
          "concretePrototype",
          "concretePrototype",
          "concretePrototype",
          "concretePrototype",
          "concretePrototype",
          "concretePrototype",
          "concretePrototype",
          "concretePrototype",
          "concretePrototype",
          "concretePrototype",
          "concretePrototype",
          "concretePrototype",
          "concretePrototype",
          "concretePrototype",
          "concretePrototype",
          "concretePrototype",
          "concretePrototype",
          "concretePrototype",
          "concretePrototype",
          "concretePrototype",
          "concretePrototype",
          "concretePrototype",
          "client",
          "client",
          "prototype",
          "concretePrototype",
          "concretePrototype",
          "concretePrototype",
          "proxy",
          "subject",
          "realSubject",
          "director",
          "concreteBuilder",
          "director",
          "concreteBuilder",
          "concreteBuilder",
          "concreteBuilder",
          "concreteBuilder",
          "concreteBuilder",
          "concreteBuilder",
          "concreteBuilder",
          "concreteBuilder",
          "director",
          "builder",
          "concreteBuilder",
          "concreteBuilder",
          "concreteBuilder",
          "concreteBuilder",
          "concreteBuilder",
          "concreteBuilder",
          "concreteBuilder",
          "product",
          "product",
          "product",
          "product",
          "director",
          "builder",
          "concreteBuilder",
          "concreteBuilder",
          "concreteBuilder",
          "director",
          "concreteBuilder",
          "product",
          "director",
          "builder",
          "concreteBuilder",
          "concreteBuilder",
          "concreteBuilder",
          "concreteBuilder",
          "concreteBuilder",
          "concreteBuilder",
          "concreteBuilder",
          "concreteBuilder",
          "client",
          "client",
          "client",
          "client",
          "client",
          "client",
          "client",
          "client",
          "component",
          "composite",
          "composite",
          "composite",
          "composite",
          "composite",
          "leaf",
          "leaf",
          "leaf",
          "leaf",
          "leaf",
          "leaf",
          "leaf",
          "leaf",
          "leaf",
          "leaf",
          "leaf",
          "leaf",
          "leaf",
          "leaf",
          "leaf",
          "leaf",
          "leaf",
          "leaf",
          "leaf",
          "leaf",
          "leaf",
          "leaf",
          "leaf",
          "leaf",
          "component",
          "composite",
          "composite",
          "leaf",
          "leaf",
          "leaf",
          "leaf",
          "leaf",
          "leaf",
          "leaf",
          "leaf",
          "leaf",
          "leaf",
          "leaf",
          "leaf",
          "leaf",
          "leaf",
          "leaf",
          "leaf",
          "leaf",
          "leaf",
          "leaf",
          "leaf",
          "leaf",
          "leaf",
          "leaf",
          "leaf",
          "leaf",
          "leaf",
          "leaf",
          "leaf",
          "leaf",
          "leaf",
          "leaf",
          "leaf",
          "leaf",
          "leaf",
          "leaf",
          "leaf",
          "leaf",
          "client",
          "client",
          "client",
          "client",
          "client",
          "component",
          "composite",
          "leaf",
          "leaf",
          "leaf",
          "leaf",
          "leaf",
          "leaf",
          "leaf",
          "leaf",
          "leaf",
          "leaf",
          "leaf",
          "leaf",
          "leaf",
          "leaf",
          "leaf",
          "component",
          "client",
          "component",
          "composite",
          "leaf",
          "leaf",
          "leaf",
          "leaf",
          "leaf",
          "leaf",
          "leaf",
          "leaf",
          "leaf",
          "leaf",
          "leaf",
          "leaf",
          "leaf",
          "leaf",
          "composite",
          "composite",
          "component",
          "client",
          "client",
          "client",
          "target",
          "adapter",
          "adaptee",
          "client",
          "target",
          "adapter",
          "adaptee",
          "target",
          "adapter",
          "client",
          "target",
          "adapter",
          "adaptee",
          "client",
          "client",
          "client",
          "client",
          "client",
          "client",
          "target",
          "target",
          "adapter",
          "adaptee",
          "adaptee",
          "client",
          "target",
          "adapter",
          "adaptee",
          "target",
          "adapter",
          "client",
          "adapter",
          "adaptee",
          "adaptee",
          "adaptee",
          "client",
          "client",
          "target",
          "adapter",
          "client",
          "client",
          "target",
          "adapter",
          "adapter",
          "adaptee",
          "adaptee",
          "client",
          "target",
          "adapter",
          "adaptee",
          "client",
          "client",
          "target",
          "adapter",
          "adaptee",
          "client",
          "target",
          "target",
          "adapter",
          "adaptee",
          "client",
          "target",
          "adapter",
          "adaptee",
          "client",
          "target",
          "adapter",
          "adaptee",
          "adaptee",
          "adaptee",
          "client",
          "target",
          "adapter",
          "adaptee",
          "target",
          "target",
          "client",
          "adapter",
          "client",
          "client",
          "target",
          "adapter",
          "adaptee",
          "client",
          "client",
          "client",
          "client",
          "client",
          "client",
          "client",
          "target",
          "adapter",
          "adapter",
          "adapter",
          "adapter",
          "adapter",
          "adapter",
          "adapter",
          "adapter",
          "adaptee",
          "adaptee",
          "adaptee",
          "adaptee",
          "adaptee",
          "client",
          "client",
          "client",
          "client",
          "client",
          "client",
          "client",
          "client",
          "client",
          "target",
          "adapter",
          "adapter",
          "adapter",
          "adapter",
          "adapter",
          "adapter",
          "adapter",
          "adapter",
          "adapter",
          "adapter",
          "adapter",
          "adapter",
          "adapter",
          "adapter",
          "adapter",
          "adapter",
          "adapter",
          "adaptee",
          "adaptee",
          "adaptee",
          "adaptee",
          "adaptee",
          "adaptee",
          "adaptee",
          "adaptee",
          "adaptee",
          "adaptee",
          "adaptee",
          "adaptee",
          "adaptee",
          "adaptee",
          "client",
          "client",
          "client",
          "target",
          "adapter",
          "adapter",
          "adapter",
          "adapter",
          "adapter",
          "adapter",
          "adapter",
          "adapter",
          "adapter",
          "adaptee",
          "adaptee",
          "adaptee",
          "adaptee",
          "adaptee",
          "client",
          "client",
          "target",
          "adapter",
          "adapter",
          "adapter",
          "adapter",
          "adapter",
          "adapter",
          "adapter",
          "adapter",
          "adapter",
          "adapter",
          "adapter",
          "adapter",
          "adapter",
          "adapter",
          "adapter",
          "adapter",
          "adapter",
          "adapter",
          "adapter",
          "adapter",
          "adapter",
          "adaptee",
          "adaptee",
          "adaptee",
          "adaptee",
          "adaptee",
          "adaptee",
          "adaptee",
          "adaptee",
          "client",
          "target",
          "adapter",
          "client",
          "target",
          "adapter",
          "adaptee",
          "adaptee",
          "client",
          "client",
          "client",
          "client",
          "client",
          "target",
          "adapter",
          "adapter",
          "adapter",
          "adaptee",
          "adaptee",
          "adaptee",
          "adapter",
          "target",
          "client",
          "client",
          "target",
          "adapter",
          "adaptee",
          "client",
          "client",
          "client",
          "client",
          "client",
          "target",
          "adapter",
          "client",
          "target",
          "adapter",
          "adaptee",
          "client",
          "target",
          "adapter",
          "adaptee",
          "client",
          "target",
          "target",
          "target",
          "target",
          "target",
          "adapter",
          "adaptee",
          "singleton",
          "singleton",
          "singleton",
          "singleton",
          "singleton",
          "singleton",
          "singleton",
          "singleton",
          "singleton",
          "singleton",
          "singleton",
          "singleton",
          "strategy",
          "concreteStrategy",
          "concreteStrategy",
          "context",
          "strategy",
          "concreteStrategy",
          "concreteStrategy",
          "context",
          "context",
          "strategy",
          "concreteStrategy",
          "concreteStrategy",
          "concreteStrategy",
          "context",
          "strategy",
          "concreteStrategy",
          "context",
          "context",
          "context",
          "context",
          "context",
          "context",
          "context",
          "context",
          "context",
          "context",
          "context",
          "context",
          "strategy",
          "concreteStrategy",
          "concreteStrategy",
          "concreteStrategy",
          "concreteStrategy",
          "concreteStrategy",
          "concreteStrategy",
          "context",
          "context",
          "context",
          "context",
          "strategy",
          "concreteStrategy",
          "concreteStrategy",
          "concreteStrategy",
          "concreteStrategy",
          "context",
          "strategy",
          "concreteStrategy",
          "subject",
          "concreteSubject",
          "concreteSubject",
          "concreteSubject",
          "concreteSubject",
          "concreteSubject",
          "concreteSubject",
          "concreteSubject",
          "concreteSubject",
          "concreteSubject",
          "concreteSubject",
          "concreteSubject",
          "concreteSubject",
          "concreteSubject",
          "concreteSubject",
          "concreteSubject",
          "concreteSubject",
          "concreteSubject",
          "concreteSubject",
          "concreteSubject",
          "concreteSubject",
          "concreteSubject",
          "concreteObserver",
          "concreteObserver",
          "concreteObserver",
          "subject",
          "concreteSubject",
          "observer",
          "observer",
          "observer",
          "observer",
          "observer",
          "observer",
          "concreteObserver",
          "subject",
          "concreteSubject",
          "concreteSubject",
          "observer",
          "concreteObserver",
          "subject",
          "concreteSubject",
          "concreteSubject",
          "concreteSubject",
          "concreteSubject",
          "concreteSubject",
          "concreteSubject",
          "concreteSubject",
          "concreteSubject",
          "concreteSubject",
          "concreteSubject",
          "concreteSubject",
          "concreteSubject",
          "concreteSubject",
          "concreteSubject",
          "observer",
          "concreteObserver",
          "subject",
          "concreteSubject",
          "observer",
          "concreteObserver",
          "subject",
          "concreteSubject",
          "observer",
          "observer",
          "concreteObserver",
          "concreteSubject",
          "observer",
          "concreteObserver",
          "concreteObserver",
          "concreteObserver",
          "concreteObserver",
          "concreteObserver",
          "concreteObserver",
          "observer",
          "concreteObserver",
          "concreteObserver",
          "concreteSubject",
          "subject",
          "concreteSubject",
          "observer",
          "concreteObserver",
          "subject",
          "concreteSubject",
          "concreteSubject",
          "concreteSubject",
          "observer",
          "concreteObserver",
          "concreteObserver",
          "concreteObserver",
          "subject",
          "concreteSubject",
          "concreteSubject",
          "concreteSubject",
          "concreteSubject",
          "concreteSubject",
          "concreteSubject",
          "concreteSubject",
          "concreteSubject",
          "concreteSubject",
          "concreteSubject",
          "concreteSubject",
          "concreteSubject",
          "concreteSubject",
          "concreteSubject",
          "concreteSubject",
          "concreteSubject",
          "concreteSubject",
          "concreteSubject",
          "concreteSubject",
          "concreteSubject",
          "concreteSubject",
          "concreteSubject",
          "concreteSubject",
          "concreteSubject",
          "observer",
          "concreteObserver",
          "concreteObserver",
          "concreteObserver",
          "concreteObserver",
          "concreteObserver",
          "concreteObserver",
          "concreteObserver",
          "concreteObserver",
          "concreteObserver",
          "concreteObserver",
          "concreteObserver",
          "concreteObserver",
          "concreteObserver",
          "concreteObserver",
          "concreteObserver",
          "subject",
          "concreteSubject",
          "observer",
          "concreteObserver",
          "concreteObserver",
          "concreteObserver",
          "concreteObserver",
          "concreteObserver",
          "component",
          "concreteComponent",
          "concreteComponent",
          "concreteComponent",
          "concreteComponent",
          "concreteComponent",
          "concreteComponent",
          "concreteComponent",
          "concreteComponent",
          "concreteComponent",
          "concreteComponent",
          "concreteComponent",
          "concreteComponent",
          "concreteComponent",
          "concreteComponent",
          "concreteComponent",
          "concreteComponent",
          "concreteComponent",
          "concreteComponent",
          "concreteComponent",
          "concreteComponent",
          "concreteComponent",
          "concreteComponent",
          "decorator",
          "concreteDecorator",
          "concreteDecorator",
          "component",
          "concreteComponent",
          "concreteComponent",
          "concreteComponent",
          "concreteComponent",
          "concreteComponent",
          "concreteComponent",
          "concreteComponent",
          "concreteComponent",
          "concreteComponent",
          "concreteComponent",
          "concreteComponent",
          "concreteComponent",
          "concreteComponent",
          "concreteComponent",
          "concreteComponent",
          "concreteComponent",
          "concreteComponent",
          "concreteComponent",
          "concreteComponent",
          "concreteComponent",
          "concreteComponent",
          "concreteComponent",
          "concreteComponent",
          "concreteComponent",
          "concreteComponent",
          "concreteComponent",
          "concreteComponent",
          "concreteComponent",
          "concreteComponent",
          "concreteComponent",
          "concreteComponent",
          "concreteComponent",
          "concreteComponent",
          "concreteDecorator",
          "concreteDecorator",
          "concreteDecorator",
          "concreteDecorator",
          "command",
          "concreteCommand",
          "concreteCommand",
          "concreteCommand",
          "concreteCommand",
          "client",
          "invoker",
          "receiver",
          "receiver",
          "command",
          "concreteCommand",
          "concreteCommand",
          "concreteCommand",
          "concreteCommand",
          "client",
          "invoker",
          "receiver",
          "receiver",
          "client",
          "invoker",
          "concreteCommand",
          "concreteCommand",
          "concreteCommand",
          "concreteCommand",
          "client",
          "client",
          "invoker",
          "invoker",
          "invoker",
          "invoker",
          "invoker",
          "invoker",
          "invoker",
          "invoker",
          "invoker",
          "invoker",
          "invoker",
          "invoker",
          "invoker",
          "invoker",
          "concreteCommand",
          "concreteCommand",
          "concreteCommand",
          "concreteCommand",
          "concreteCommand",
          "concreteCommand",
          "concreteCommand",
          "concreteCommand",
          "concreteCommand",
          "concreteCommand",
          "concreteCommand",
          "concreteCommand",
          "concreteCommand",
          "concreteCommand",
          "concreteCommand",
          "concreteCommand",
          "concreteCommand",
          "receiver",
          "client",
          "client",
          "client",
          "client",
          "invoker",
          "invoker",
          "invoker",
          "invoker",
          "command",
          "concreteCommand",
          "concreteCommand",
          "concreteCommand",
          "concreteCommand",
          "concreteCommand",
          "concreteCommand",
          "concreteCommand",
          "concreteCommand",
          "concreteCommand",
          "concreteCommand",
          "concreteCommand",
          "concreteCommand",
          "concreteCommand",
          "receiver",
          "receiver",
          "receiver",
          "receiver",
          "client",
          "client",
          "client",
          "client",
          "client",
          "client",
          "client",
          "client",
          "client",
          "client",
          "client",
          "client",
          "client",
          "client",
          "client",
          "client",
          "concreteFactory",
          "abstractProduct",
          "product",
          "product",
          "product",
          "product",
          "product",
          "product",
          "product",
          "product",
          "product",
          "product",
          "product",
          "product",
          "product",
          "product",
          "product",
          "product",
          "product",
          "client",
          "client",
          "client",
          "client",
          "client",
          "client",
          "client",
          "concreteFactory",
          "abstractProduct",
          "product",
          "client",
          "client",
          "client",
          "concreteFactory",
          "concreteFactory",
          "abstractProduct",
          "abstractProduct",
          "abstractProduct",
          "product",
          "product",
          "product",
          "product",
          "product",
          "client",
          "client",
          "client",
          "client",
          "client",
          "client",
          "concreteFactory",
          "concreteFactory",
          "concreteFactory",
          "concreteFactory",
          "concreteFactory",
          "concreteFactory",
          "concreteFactory",
          "abstractProduct",
          "product",
          "product",
          "product",
          "product",
          "product",
          "product",
          "product",
          "product",
          "client",
          "client",
          "client",
          "client",
          "client",
          "client",
          "client",
          "concreteFactory",
          "abstractProduct",
          "product",
          "product",
          "product",
          "product",
          "product",
          "product",
          "product",
          "product",
          "product",
          "product",
          "product",
          "product",
          "product",
          "product",
          "product",
          "product",
          "product",
          "product",
          "product",
          "product",
          "product",
          "product",
          "product",
          "client",
          "abstractFactory",
          "concreteFactory",
          "concreteFactory",
          "abstractProduct",
          "product",
          "client",
          "client",
          "abstractProduct",
          "product",
          "product",
          "product",
          "product",
          "product",
          "product",
          "product",
          "product",
          "client",
          "client",
          "client",
          "client",
          "client",
          "concreteFactory",
          "abstractProduct",
          "product",
          "product",
          "product",
          "product",
          "product",
          "product",
          "product",
          "product",
          "product",
          "client",
          "abstractFactory",
          "concreteFactory",
          "abstractProduct",
          "product",
          "product",
          "product",
          "product",
          "product",
          "product",
          "product",
          "product",
          "client",
          "abstractFactory",
          "concreteFactory",
          "abstractProduct",
          "product",
          "product",
          "product",
          "product",
          "product",
          "product",
          "product",
          "product",
          "product",
          "product",
          "product",
          "product",
          "product",
          "product",
          "product",
          "product",
          "client",
          "client",
          "abstractFactory",
          "concreteFactory",
          "abstractProduct",
          "product",
          "product",
          "product",
          "product",
          "product",
          "client",
          "concreteFactory",
          "abstractProduct",
          "product",
          "client",
          "client",
          "client",
          "client",
          "client",
          "client",
          "client",
          "client",
          "client",
          "client",
          "client",
          "client",
          "client",
          "client",
          "client",
          "client",
          "client",
          "client",
          "client",
          "client",
          "client",
          "client",
          "client",
          "concreteFactory",
          "abstractProduct",
          "product",
          "product",
          "product",
          "product",
          "client",
          "client",
          "client",
          "abstractFactory",
          "abstractFactory",
          "concreteFactory",
          "abstractProduct",
          "abstractProduct",
          "product",
          "product",
          "creator",
          "concreteCreator",
          "product",
          "concreteProduct",
          "product",
          "concreteProduct",
          "concreteProduct",
          "concreteProduct",
          "concreteCreator",
          "product",
          "concreteProduct",
          "concreteProduct",
          "concreteProduct",
          "concreteProduct",
          "concreteProduct",
          "concreteProduct",
          "concreteProduct",
          "concreteProduct",
          "concreteProduct",
          "concreteProduct",
          "concreteProduct",
          "concreteProduct",
          "concreteProduct",
          "concreteProduct",
          "concreteProduct",
          "concreteProduct",
          "concreteProduct",
          "concreteProduct",
          "concreteProduct",
          "creator",
          "concreteCreator",
          "concreteCreator",
          "concreteCreator",
          "concreteCreator",
          "concreteCreator",
          "concreteCreator",
          "concreteCreator",
          "concreteCreator",
          "concreteCreator",
          "concreteCreator",
          "concreteCreator",
          "concreteCreator",
          "concreteCreator",
          "concreteCreator",
          "concreteCreator",
          "concreteCreator",
          "concreteCreator",
          "concreteCreator",
          "concreteCreator",
          "concreteCreator",
          "concreteCreator",
          "concreteCreator",
          "concreteCreator",
          "concreteCreator",
          "concreteProduct",
          "concreteCreator",
          "creator",
          "concreteCreator",
          "product",
          "concreteProduct",
          "concreteProduct",
          "concreteProduct",
          "concreteProduct",
          "concreteProduct",
          "concreteProduct",
          "concreteProduct",
          "concreteProduct",
          "concreteProduct",
          "concreteProduct",
          "concreteProduct",
          "concreteProduct",
          "concreteProduct",
          "concreteProduct",
          "concreteProduct",
          "concreteProduct",
          "creator",
          "concreteCreator",
          "product",
          "concreteProduct",
          "concreteProduct",
          "concreteProduct",
          "concreteProduct",
          "concreteProduct",
          "product",
          "concreteProduct",
          "concreteProduct",
          "concreteProduct",
          "concreteProduct",
          "concreteProduct",
          "concreteProduct",
          "creator",
          "concreteCreator",
          "concreteCreator",
          "concreteCreator",
          "concreteCreator",
          "concreteCreator",
          "creator",
          "concreteCreator",
          "product",
          "concreteProduct",
          "concreteProduct"
         ],
         "xaxis": "x",
         "yaxis": "y"
        }
       ],
       "layout": {
        "autosize": true,
        "barmode": "relative",
        "legend": {
         "tracegroupgap": 0
        },
        "margin": {
         "t": 60
        },
        "template": {
         "data": {
          "bar": [
           {
            "error_x": {
             "color": "#2a3f5f"
            },
            "error_y": {
             "color": "#2a3f5f"
            },
            "marker": {
             "line": {
              "color": "#E5ECF6",
              "width": 0.5
             },
             "pattern": {
              "fillmode": "overlay",
              "size": 10,
              "solidity": 0.2
             }
            },
            "type": "bar"
           }
          ],
          "barpolar": [
           {
            "marker": {
             "line": {
              "color": "#E5ECF6",
              "width": 0.5
             },
             "pattern": {
              "fillmode": "overlay",
              "size": 10,
              "solidity": 0.2
             }
            },
            "type": "barpolar"
           }
          ],
          "carpet": [
           {
            "aaxis": {
             "endlinecolor": "#2a3f5f",
             "gridcolor": "white",
             "linecolor": "white",
             "minorgridcolor": "white",
             "startlinecolor": "#2a3f5f"
            },
            "baxis": {
             "endlinecolor": "#2a3f5f",
             "gridcolor": "white",
             "linecolor": "white",
             "minorgridcolor": "white",
             "startlinecolor": "#2a3f5f"
            },
            "type": "carpet"
           }
          ],
          "choropleth": [
           {
            "colorbar": {
             "outlinewidth": 0,
             "ticks": ""
            },
            "type": "choropleth"
           }
          ],
          "contour": [
           {
            "colorbar": {
             "outlinewidth": 0,
             "ticks": ""
            },
            "colorscale": [
             [
              0,
              "#0d0887"
             ],
             [
              0.1111111111111111,
              "#46039f"
             ],
             [
              0.2222222222222222,
              "#7201a8"
             ],
             [
              0.3333333333333333,
              "#9c179e"
             ],
             [
              0.4444444444444444,
              "#bd3786"
             ],
             [
              0.5555555555555556,
              "#d8576b"
             ],
             [
              0.6666666666666666,
              "#ed7953"
             ],
             [
              0.7777777777777778,
              "#fb9f3a"
             ],
             [
              0.8888888888888888,
              "#fdca26"
             ],
             [
              1,
              "#f0f921"
             ]
            ],
            "type": "contour"
           }
          ],
          "contourcarpet": [
           {
            "colorbar": {
             "outlinewidth": 0,
             "ticks": ""
            },
            "type": "contourcarpet"
           }
          ],
          "heatmap": [
           {
            "colorbar": {
             "outlinewidth": 0,
             "ticks": ""
            },
            "colorscale": [
             [
              0,
              "#0d0887"
             ],
             [
              0.1111111111111111,
              "#46039f"
             ],
             [
              0.2222222222222222,
              "#7201a8"
             ],
             [
              0.3333333333333333,
              "#9c179e"
             ],
             [
              0.4444444444444444,
              "#bd3786"
             ],
             [
              0.5555555555555556,
              "#d8576b"
             ],
             [
              0.6666666666666666,
              "#ed7953"
             ],
             [
              0.7777777777777778,
              "#fb9f3a"
             ],
             [
              0.8888888888888888,
              "#fdca26"
             ],
             [
              1,
              "#f0f921"
             ]
            ],
            "type": "heatmap"
           }
          ],
          "heatmapgl": [
           {
            "colorbar": {
             "outlinewidth": 0,
             "ticks": ""
            },
            "colorscale": [
             [
              0,
              "#0d0887"
             ],
             [
              0.1111111111111111,
              "#46039f"
             ],
             [
              0.2222222222222222,
              "#7201a8"
             ],
             [
              0.3333333333333333,
              "#9c179e"
             ],
             [
              0.4444444444444444,
              "#bd3786"
             ],
             [
              0.5555555555555556,
              "#d8576b"
             ],
             [
              0.6666666666666666,
              "#ed7953"
             ],
             [
              0.7777777777777778,
              "#fb9f3a"
             ],
             [
              0.8888888888888888,
              "#fdca26"
             ],
             [
              1,
              "#f0f921"
             ]
            ],
            "type": "heatmapgl"
           }
          ],
          "histogram": [
           {
            "marker": {
             "pattern": {
              "fillmode": "overlay",
              "size": 10,
              "solidity": 0.2
             }
            },
            "type": "histogram"
           }
          ],
          "histogram2d": [
           {
            "colorbar": {
             "outlinewidth": 0,
             "ticks": ""
            },
            "colorscale": [
             [
              0,
              "#0d0887"
             ],
             [
              0.1111111111111111,
              "#46039f"
             ],
             [
              0.2222222222222222,
              "#7201a8"
             ],
             [
              0.3333333333333333,
              "#9c179e"
             ],
             [
              0.4444444444444444,
              "#bd3786"
             ],
             [
              0.5555555555555556,
              "#d8576b"
             ],
             [
              0.6666666666666666,
              "#ed7953"
             ],
             [
              0.7777777777777778,
              "#fb9f3a"
             ],
             [
              0.8888888888888888,
              "#fdca26"
             ],
             [
              1,
              "#f0f921"
             ]
            ],
            "type": "histogram2d"
           }
          ],
          "histogram2dcontour": [
           {
            "colorbar": {
             "outlinewidth": 0,
             "ticks": ""
            },
            "colorscale": [
             [
              0,
              "#0d0887"
             ],
             [
              0.1111111111111111,
              "#46039f"
             ],
             [
              0.2222222222222222,
              "#7201a8"
             ],
             [
              0.3333333333333333,
              "#9c179e"
             ],
             [
              0.4444444444444444,
              "#bd3786"
             ],
             [
              0.5555555555555556,
              "#d8576b"
             ],
             [
              0.6666666666666666,
              "#ed7953"
             ],
             [
              0.7777777777777778,
              "#fb9f3a"
             ],
             [
              0.8888888888888888,
              "#fdca26"
             ],
             [
              1,
              "#f0f921"
             ]
            ],
            "type": "histogram2dcontour"
           }
          ],
          "mesh3d": [
           {
            "colorbar": {
             "outlinewidth": 0,
             "ticks": ""
            },
            "type": "mesh3d"
           }
          ],
          "parcoords": [
           {
            "line": {
             "colorbar": {
              "outlinewidth": 0,
              "ticks": ""
             }
            },
            "type": "parcoords"
           }
          ],
          "pie": [
           {
            "automargin": true,
            "type": "pie"
           }
          ],
          "scatter": [
           {
            "fillpattern": {
             "fillmode": "overlay",
             "size": 10,
             "solidity": 0.2
            },
            "type": "scatter"
           }
          ],
          "scatter3d": [
           {
            "line": {
             "colorbar": {
              "outlinewidth": 0,
              "ticks": ""
             }
            },
            "marker": {
             "colorbar": {
              "outlinewidth": 0,
              "ticks": ""
             }
            },
            "type": "scatter3d"
           }
          ],
          "scattercarpet": [
           {
            "marker": {
             "colorbar": {
              "outlinewidth": 0,
              "ticks": ""
             }
            },
            "type": "scattercarpet"
           }
          ],
          "scattergeo": [
           {
            "marker": {
             "colorbar": {
              "outlinewidth": 0,
              "ticks": ""
             }
            },
            "type": "scattergeo"
           }
          ],
          "scattergl": [
           {
            "marker": {
             "colorbar": {
              "outlinewidth": 0,
              "ticks": ""
             }
            },
            "type": "scattergl"
           }
          ],
          "scattermapbox": [
           {
            "marker": {
             "colorbar": {
              "outlinewidth": 0,
              "ticks": ""
             }
            },
            "type": "scattermapbox"
           }
          ],
          "scatterpolar": [
           {
            "marker": {
             "colorbar": {
              "outlinewidth": 0,
              "ticks": ""
             }
            },
            "type": "scatterpolar"
           }
          ],
          "scatterpolargl": [
           {
            "marker": {
             "colorbar": {
              "outlinewidth": 0,
              "ticks": ""
             }
            },
            "type": "scatterpolargl"
           }
          ],
          "scatterternary": [
           {
            "marker": {
             "colorbar": {
              "outlinewidth": 0,
              "ticks": ""
             }
            },
            "type": "scatterternary"
           }
          ],
          "surface": [
           {
            "colorbar": {
             "outlinewidth": 0,
             "ticks": ""
            },
            "colorscale": [
             [
              0,
              "#0d0887"
             ],
             [
              0.1111111111111111,
              "#46039f"
             ],
             [
              0.2222222222222222,
              "#7201a8"
             ],
             [
              0.3333333333333333,
              "#9c179e"
             ],
             [
              0.4444444444444444,
              "#bd3786"
             ],
             [
              0.5555555555555556,
              "#d8576b"
             ],
             [
              0.6666666666666666,
              "#ed7953"
             ],
             [
              0.7777777777777778,
              "#fb9f3a"
             ],
             [
              0.8888888888888888,
              "#fdca26"
             ],
             [
              1,
              "#f0f921"
             ]
            ],
            "type": "surface"
           }
          ],
          "table": [
           {
            "cells": {
             "fill": {
              "color": "#EBF0F8"
             },
             "line": {
              "color": "white"
             }
            },
            "header": {
             "fill": {
              "color": "#C8D4E3"
             },
             "line": {
              "color": "white"
             }
            },
            "type": "table"
           }
          ]
         },
         "layout": {
          "annotationdefaults": {
           "arrowcolor": "#2a3f5f",
           "arrowhead": 0,
           "arrowwidth": 1
          },
          "autotypenumbers": "strict",
          "coloraxis": {
           "colorbar": {
            "outlinewidth": 0,
            "ticks": ""
           }
          },
          "colorscale": {
           "diverging": [
            [
             0,
             "#8e0152"
            ],
            [
             0.1,
             "#c51b7d"
            ],
            [
             0.2,
             "#de77ae"
            ],
            [
             0.3,
             "#f1b6da"
            ],
            [
             0.4,
             "#fde0ef"
            ],
            [
             0.5,
             "#f7f7f7"
            ],
            [
             0.6,
             "#e6f5d0"
            ],
            [
             0.7,
             "#b8e186"
            ],
            [
             0.8,
             "#7fbc41"
            ],
            [
             0.9,
             "#4d9221"
            ],
            [
             1,
             "#276419"
            ]
           ],
           "sequential": [
            [
             0,
             "#0d0887"
            ],
            [
             0.1111111111111111,
             "#46039f"
            ],
            [
             0.2222222222222222,
             "#7201a8"
            ],
            [
             0.3333333333333333,
             "#9c179e"
            ],
            [
             0.4444444444444444,
             "#bd3786"
            ],
            [
             0.5555555555555556,
             "#d8576b"
            ],
            [
             0.6666666666666666,
             "#ed7953"
            ],
            [
             0.7777777777777778,
             "#fb9f3a"
            ],
            [
             0.8888888888888888,
             "#fdca26"
            ],
            [
             1,
             "#f0f921"
            ]
           ],
           "sequentialminus": [
            [
             0,
             "#0d0887"
            ],
            [
             0.1111111111111111,
             "#46039f"
            ],
            [
             0.2222222222222222,
             "#7201a8"
            ],
            [
             0.3333333333333333,
             "#9c179e"
            ],
            [
             0.4444444444444444,
             "#bd3786"
            ],
            [
             0.5555555555555556,
             "#d8576b"
            ],
            [
             0.6666666666666666,
             "#ed7953"
            ],
            [
             0.7777777777777778,
             "#fb9f3a"
            ],
            [
             0.8888888888888888,
             "#fdca26"
            ],
            [
             1,
             "#f0f921"
            ]
           ]
          },
          "colorway": [
           "#636efa",
           "#EF553B",
           "#00cc96",
           "#ab63fa",
           "#FFA15A",
           "#19d3f3",
           "#FF6692",
           "#B6E880",
           "#FF97FF",
           "#FECB52"
          ],
          "font": {
           "color": "#2a3f5f"
          },
          "geo": {
           "bgcolor": "white",
           "lakecolor": "white",
           "landcolor": "#E5ECF6",
           "showlakes": true,
           "showland": true,
           "subunitcolor": "white"
          },
          "hoverlabel": {
           "align": "left"
          },
          "hovermode": "closest",
          "mapbox": {
           "style": "light"
          },
          "paper_bgcolor": "white",
          "plot_bgcolor": "#E5ECF6",
          "polar": {
           "angularaxis": {
            "gridcolor": "white",
            "linecolor": "white",
            "ticks": ""
           },
           "bgcolor": "#E5ECF6",
           "radialaxis": {
            "gridcolor": "white",
            "linecolor": "white",
            "ticks": ""
           }
          },
          "scene": {
           "xaxis": {
            "backgroundcolor": "#E5ECF6",
            "gridcolor": "white",
            "gridwidth": 2,
            "linecolor": "white",
            "showbackground": true,
            "ticks": "",
            "zerolinecolor": "white"
           },
           "yaxis": {
            "backgroundcolor": "#E5ECF6",
            "gridcolor": "white",
            "gridwidth": 2,
            "linecolor": "white",
            "showbackground": true,
            "ticks": "",
            "zerolinecolor": "white"
           },
           "zaxis": {
            "backgroundcolor": "#E5ECF6",
            "gridcolor": "white",
            "gridwidth": 2,
            "linecolor": "white",
            "showbackground": true,
            "ticks": "",
            "zerolinecolor": "white"
           }
          },
          "shapedefaults": {
           "line": {
            "color": "#2a3f5f"
           }
          },
          "ternary": {
           "aaxis": {
            "gridcolor": "white",
            "linecolor": "white",
            "ticks": ""
           },
           "baxis": {
            "gridcolor": "white",
            "linecolor": "white",
            "ticks": ""
           },
           "bgcolor": "#E5ECF6",
           "caxis": {
            "gridcolor": "white",
            "linecolor": "white",
            "ticks": ""
           }
          },
          "title": {
           "x": 0.05
          },
          "xaxis": {
           "automargin": true,
           "gridcolor": "white",
           "linecolor": "white",
           "ticks": "",
           "title": {
            "standoff": 15
           },
           "zerolinecolor": "white",
           "zerolinewidth": 2
          },
          "yaxis": {
           "automargin": true,
           "gridcolor": "white",
           "linecolor": "white",
           "ticks": "",
           "title": {
            "standoff": 15
           },
           "zerolinecolor": "white",
           "zerolinewidth": 2
          }
         }
        },
        "xaxis": {
         "anchor": "y",
         "autorange": true,
         "domain": [
          0,
          1
         ],
         "range": [
          -0.5,
          58.5
         ],
         "title": {
          "text": "role"
         },
         "type": "category"
        },
        "yaxis": {
         "anchor": "x",
         "autorange": true,
         "domain": [
          0,
          1
         ],
         "range": [
          0,
          188.42105263157896
         ],
         "title": {
          "text": "count"
         }
        }
       }
      },
      "image/png": "[encoded data removed]",
      "text/html": [
       "<div>                            <div id=\"3d5fe541-46b0-49bd-a4a6-4f173fb7573b\" class=\"plotly-graph-div\" style=\"height:525px; width:100%;\"></div>            <script type=\"text/javascript\">                require([\"plotly\"], function(Plotly) {                    window.PLOTLYENV=window.PLOTLYENV || {};                                    if (document.getElementById(\"3d5fe541-46b0-49bd-a4a6-4f173fb7573b\")) {                    Plotly.newPlot(                        \"3d5fe541-46b0-49bd-a4a6-4f173fb7573b\",                        [{\"alignmentgroup\":\"True\",\"bingroup\":\"x\",\"histfunc\":\"count\",\"hovertemplate\":\"role=%{x}\\u003cbr\\u003ecount=%{y}\\u003cextra\\u003e\\u003c\\u002fextra\\u003e\",\"legendgroup\":\"\",\"marker\":{\"color\":\"#636efa\",\"pattern\":{\"shape\":\"\"}},\"name\":\"\",\"offsetgroup\":\"\",\"orientation\":\"v\",\"showlegend\":false,\"x\":[\"client\",\"concreteAggregate\",\"iterator\",\"concreteIterator\",\"concreteIterator\",\"concreteIterator\",\"concreteAggregate\",\"client\",\"aggregate\",\"concreteAggregate\",\"concreteAggregate\",\"iterator\",\"concreteIterator\",\"iterator\",\"concreteIterator\",\"client\",\"client\",\"client\",\"client\",\"client\",\"iterator\",\"concreteIterator\",\"iterator\",\"concreteIterator\",\"concreteIterator\",\"aggregate\",\"concreteAggregate\",\"concreteAggregate\",\"client\",\"client\",\"concreteAggregate\",\"iterator\",\"concreteIterator\",\"client\",\"concreteAggregate\",\"iterator\",\"concreteIterator\",\"concreteClass\",\"abstractClass\",\"concreteClass\",\"concreteClass\",\"concreteClass\",\"concreteClass\",\"concreteClass\",\"concreteClass\",\"concreteClass\",\"concreteClass\",\"concreteClass\",\"concreteClass\",\"concreteClass\",\"concreteClass\",\"concreteClass\",\"concreteClass\",\"concreteClass\",\"concreteClass\",\"concreteClass\",\"abstractClass\",\"concreteClass\",\"concreteClass\",\"concreteClass\",\"concreteClass\",\"concreteClass\",\"concreteClass\",\"concreteClass\",\"concreteClass\",\"concreteClass\",\"concreteClass\",\"abstractClass\",\"concreteClass\",\"concreteClass\",\"concreteClass\",\"concreteClass\",\"abstractClass\",\"concreteClass\",\"concreteClass\",\"concreteClass\",\"concreteClass\",\"concreteClass\",\"concreteClass\",\"abstractClass\",\"concreteClass\",\"concreteClass\",\"concreteClass\",\"concreteClass\",\"concreteClass\",\"concreteClass\",\"concreteClass\",\"concreteClass\",\"concreteClass\",\"concreteClass\",\"concreteClass\",\"concreteClass\",\"concreteClass\",\"concreteClass\",\"concreteClass\",\"concreteClass\",\"concreteClass\",\"concreteClass\",\"concreteClass\",\"concreteClass\",\"concreteClass\",\"concreteClass\",\"concreteClass\",\"concreteClass\",\"abstractClass\",\"concreteClass\",\"concreteClass\",\"concreteClass\",\"concreteClass\",\"concreteClass\",\"concreteClass\",\"concreteClass\",\"abstractClass\",\"concreteClass\",\"concreteClass\",\"concreteClass\",\"concreteClass\",\"concreteClass\",\"concreteClass\",\"concreteClass\",\"concreteClass\",\"concreteClass\",\"concreteClass\",\"concreteClass\",\"concreteClass\",\"concreteClass\",\"concreteClass\",\"abstractClass\",\"concreteClass\",\"concreteClass\",\"concreteClass\",\"facade\",\"subsystemClass\",\"subsystemClass\",\"element\",\"objectStructure\",\"concreteElement\",\"visitor\",\"concreteVisitor\",\"visitor\",\"concreteVisitor\",\"concreteVisitor\",\"concreteVisitor\",\"concreteVisitor\",\"concreteVisitor\",\"concreteVisitor\",\"concreteVisitor\",\"concreteVisitor\",\"concreteVisitor\",\"concreteVisitor\",\"concreteVisitor\",\"concreteVisitor\",\"concreteVisitor\",\"element\",\"concreteElement\",\"concreteElement\",\"concreteElement\",\"concreteElement\",\"concreteElement\",\"concreteElement\",\"concreteElement\",\"concreteElement\",\"concreteElement\",\"concreteElement\",\"concreteElement\",\"concreteElement\",\"visitor\",\"concreteVisitor\",\"concreteVisitor\",\"concreteVisitor\",\"concreteVisitor\",\"concreteVisitor\",\"concreteVisitor\",\"concreteVisitor\",\"concreteVisitor\",\"concreteVisitor\",\"concreteVisitor\",\"concreteVisitor\",\"concreteVisitor\",\"concreteVisitor\",\"concreteVisitor\",\"concreteVisitor\",\"concreteVisitor\",\"concreteVisitor\",\"concreteVisitor\",\"concreteVisitor\",\"concreteVisitor\",\"concreteVisitor\",\"concreteVisitor\",\"concreteVisitor\",\"element\",\"concreteElement\",\"concreteElement\",\"concreteElement\",\"concreteElement\",\"concreteElement\",\"concreteElement\",\"concreteElement\",\"concreteElement\",\"concreteElement\",\"concreteElement\",\"concreteElement\",\"concreteElement\",\"concreteElement\",\"concreteElement\",\"concreteElement\",\"concreteElement\",\"concreteElement\",\"concreteElement\",\"concreteElement\",\"concreteElement\",\"concreteElement\",\"concreteElement\",\"concreteElement\",\"concreteElement\",\"concreteElement\",\"concreteElement\",\"concreteElement\",\"concreteElement\",\"concreteElement\",\"concreteElement\",\"concreteElement\",\"concreteElement\",\"concreteElement\",\"concreteElement\",\"concreteElement\",\"concreteElement\",\"concreteElement\",\"concreteElement\",\"concreteElement\",\"concreteElement\",\"concreteElement\",\"concreteElement\",\"concreteElement\",\"concreteElement\",\"concreteElement\",\"concreteElement\",\"concreteElement\",\"concreteElement\",\"concreteElement\",\"concreteElement\",\"concreteElement\",\"concreteElement\",\"concreteElement\",\"concreteElement\",\"concreteElement\",\"concreteElement\",\"concreteElement\",\"concreteElement\",\"concreteElement\",\"concreteElement\",\"concreteElement\",\"concreteElement\",\"concreteElement\",\"concreteElement\",\"concreteElement\",\"concreteElement\",\"concreteElement\",\"concreteElement\",\"concreteElement\",\"concreteElement\",\"concreteElement\",\"concreteElement\",\"concreteElement\",\"concreteElement\",\"concreteElement\",\"concreteElement\",\"concreteElement\",\"concreteElement\",\"concreteElement\",\"concreteElement\",\"concreteElement\",\"concreteElement\",\"concreteElement\",\"concreteElement\",\"concreteElement\",\"concreteElement\",\"context\",\"state\",\"concreteState\",\"concreteState\",\"concreteState\",\"concreteState\",\"concreteState\",\"concreteState\",\"concreteState\",\"concreteState\",\"concreteState\",\"concreteState\",\"concreteState\",\"concreteState\",\"concreteState\",\"concreteState\",\"concreteState\",\"concreteState\",\"context\",\"concreteState\",\"context\",\"state\",\"concreteState\",\"concreteState\",\"concreteState\",\"concreteState\",\"concreteState\",\"context\",\"state\",\"concreteState\",\"concreteState\",\"concreteState\",\"context\",\"state\",\"concreteState\",\"concreteState\",\"concreteState\",\"concreteState\",\"concreteState\",\"concreteState\",\"concreteState\",\"concreteState\",\"concreteState\",\"concreteState\",\"concreteState\",\"concreteState\",\"concreteState\",\"concreteState\",\"concreteState\",\"concreteState\",\"memento\",\"originator\",\"originator\",\"originator\",\"originator\",\"memento\",\"memento\",\"memento\",\"memento\",\"originator\",\"originator\",\"originator\",\"originator\",\"caretaker\",\"caretaker\",\"nullObject\",\"abstraction\",\"refinedAbstraction\",\"refinedAbstraction\",\"refinedAbstraction\",\"refinedAbstraction\",\"implementor\",\"concreteImplementor\",\"concreteImplementor\",\"concreteImplementor\",\"concreteImplementor\",\"concreteImplementor\",\"concreteImplementor\",\"concreteImplementor\",\"concreteImplementor\",\"concreteImplementor\",\"concreteImplementor\",\"abstraction\",\"refinedAbstraction\",\"refinedAbstraction\",\"refinedAbstraction\",\"implementor\",\"concreteImplementor\",\"concreteImplementor\",\"concreteImplementor\",\"concreteImplementor\",\"client\",\"prototype\",\"concretePrototype\",\"concretePrototype\",\"concretePrototype\",\"concretePrototype\",\"concretePrototype\",\"concretePrototype\",\"concretePrototype\",\"concretePrototype\",\"concretePrototype\",\"concretePrototype\",\"concretePrototype\",\"concretePrototype\",\"concretePrototype\",\"concretePrototype\",\"concretePrototype\",\"concretePrototype\",\"concretePrototype\",\"concretePrototype\",\"concretePrototype\",\"concretePrototype\",\"concretePrototype\",\"concretePrototype\",\"concretePrototype\",\"concretePrototype\",\"client\",\"client\",\"prototype\",\"concretePrototype\",\"concretePrototype\",\"concretePrototype\",\"proxy\",\"subject\",\"realSubject\",\"director\",\"concreteBuilder\",\"director\",\"concreteBuilder\",\"concreteBuilder\",\"concreteBuilder\",\"concreteBuilder\",\"concreteBuilder\",\"concreteBuilder\",\"concreteBuilder\",\"concreteBuilder\",\"director\",\"builder\",\"concreteBuilder\",\"concreteBuilder\",\"concreteBuilder\",\"concreteBuilder\",\"concreteBuilder\",\"concreteBuilder\",\"concreteBuilder\",\"product\",\"product\",\"product\",\"product\",\"director\",\"builder\",\"concreteBuilder\",\"concreteBuilder\",\"concreteBuilder\",\"director\",\"concreteBuilder\",\"product\",\"director\",\"builder\",\"concreteBuilder\",\"concreteBuilder\",\"concreteBuilder\",\"concreteBuilder\",\"concreteBuilder\",\"concreteBuilder\",\"concreteBuilder\",\"concreteBuilder\",\"client\",\"client\",\"client\",\"client\",\"client\",\"client\",\"client\",\"client\",\"component\",\"composite\",\"composite\",\"composite\",\"composite\",\"composite\",\"leaf\",\"leaf\",\"leaf\",\"leaf\",\"leaf\",\"leaf\",\"leaf\",\"leaf\",\"leaf\",\"leaf\",\"leaf\",\"leaf\",\"leaf\",\"leaf\",\"leaf\",\"leaf\",\"leaf\",\"leaf\",\"leaf\",\"leaf\",\"leaf\",\"leaf\",\"leaf\",\"leaf\",\"component\",\"composite\",\"composite\",\"leaf\",\"leaf\",\"leaf\",\"leaf\",\"leaf\",\"leaf\",\"leaf\",\"leaf\",\"leaf\",\"leaf\",\"leaf\",\"leaf\",\"leaf\",\"leaf\",\"leaf\",\"leaf\",\"leaf\",\"leaf\",\"leaf\",\"leaf\",\"leaf\",\"leaf\",\"leaf\",\"leaf\",\"leaf\",\"leaf\",\"leaf\",\"leaf\",\"leaf\",\"leaf\",\"leaf\",\"leaf\",\"leaf\",\"leaf\",\"leaf\",\"leaf\",\"leaf\",\"client\",\"client\",\"client\",\"client\",\"client\",\"component\",\"composite\",\"leaf\",\"leaf\",\"leaf\",\"leaf\",\"leaf\",\"leaf\",\"leaf\",\"leaf\",\"leaf\",\"leaf\",\"leaf\",\"leaf\",\"leaf\",\"leaf\",\"leaf\",\"component\",\"client\",\"component\",\"composite\",\"leaf\",\"leaf\",\"leaf\",\"leaf\",\"leaf\",\"leaf\",\"leaf\",\"leaf\",\"leaf\",\"leaf\",\"leaf\",\"leaf\",\"leaf\",\"leaf\",\"composite\",\"composite\",\"component\",\"client\",\"client\",\"client\",\"target\",\"adapter\",\"adaptee\",\"client\",\"target\",\"adapter\",\"adaptee\",\"target\",\"adapter\",\"client\",\"target\",\"adapter\",\"adaptee\",\"client\",\"client\",\"client\",\"client\",\"client\",\"client\",\"target\",\"target\",\"adapter\",\"adaptee\",\"adaptee\",\"client\",\"target\",\"adapter\",\"adaptee\",\"target\",\"adapter\",\"client\",\"adapter\",\"adaptee\",\"adaptee\",\"adaptee\",\"client\",\"client\",\"target\",\"adapter\",\"client\",\"client\",\"target\",\"adapter\",\"adapter\",\"adaptee\",\"adaptee\",\"client\",\"target\",\"adapter\",\"adaptee\",\"client\",\"client\",\"target\",\"adapter\",\"adaptee\",\"client\",\"target\",\"target\",\"adapter\",\"adaptee\",\"client\",\"target\",\"adapter\",\"adaptee\",\"client\",\"target\",\"adapter\",\"adaptee\",\"adaptee\",\"adaptee\",\"client\",\"target\",\"adapter\",\"adaptee\",\"target\",\"target\",\"client\",\"adapter\",\"client\",\"client\",\"target\",\"adapter\",\"adaptee\",\"client\",\"client\",\"client\",\"client\",\"client\",\"client\",\"client\",\"target\",\"adapter\",\"adapter\",\"adapter\",\"adapter\",\"adapter\",\"adapter\",\"adapter\",\"adapter\",\"adaptee\",\"adaptee\",\"adaptee\",\"adaptee\",\"adaptee\",\"client\",\"client\",\"client\",\"client\",\"client\",\"client\",\"client\",\"client\",\"client\",\"target\",\"adapter\",\"adapter\",\"adapter\",\"adapter\",\"adapter\",\"adapter\",\"adapter\",\"adapter\",\"adapter\",\"adapter\",\"adapter\",\"adapter\",\"adapter\",\"adapter\",\"adapter\",\"adapter\",\"adapter\",\"adaptee\",\"adaptee\",\"adaptee\",\"adaptee\",\"adaptee\",\"adaptee\",\"adaptee\",\"adaptee\",\"adaptee\",\"adaptee\",\"adaptee\",\"adaptee\",\"adaptee\",\"adaptee\",\"client\",\"client\",\"client\",\"target\",\"adapter\",\"adapter\",\"adapter\",\"adapter\",\"adapter\",\"adapter\",\"adapter\",\"adapter\",\"adapter\",\"adaptee\",\"adaptee\",\"adaptee\",\"adaptee\",\"adaptee\",\"client\",\"client\",\"target\",\"adapter\",\"adapter\",\"adapter\",\"adapter\",\"adapter\",\"adapter\",\"adapter\",\"adapter\",\"adapter\",\"adapter\",\"adapter\",\"adapter\",\"adapter\",\"adapter\",\"adapter\",\"adapter\",\"adapter\",\"adapter\",\"adapter\",\"adapter\",\"adapter\",\"adaptee\",\"adaptee\",\"adaptee\",\"adaptee\",\"adaptee\",\"adaptee\",\"adaptee\",\"adaptee\",\"client\",\"target\",\"adapter\",\"client\",\"target\",\"adapter\",\"adaptee\",\"adaptee\",\"client\",\"client\",\"client\",\"client\",\"client\",\"target\",\"adapter\",\"adapter\",\"adapter\",\"adaptee\",\"adaptee\",\"adaptee\",\"adapter\",\"target\",\"client\",\"client\",\"target\",\"adapter\",\"adaptee\",\"client\",\"client\",\"client\",\"client\",\"client\",\"target\",\"adapter\",\"client\",\"target\",\"adapter\",\"adaptee\",\"client\",\"target\",\"adapter\",\"adaptee\",\"client\",\"target\",\"target\",\"target\",\"target\",\"target\",\"adapter\",\"adaptee\",\"singleton\",\"singleton\",\"singleton\",\"singleton\",\"singleton\",\"singleton\",\"singleton\",\"singleton\",\"singleton\",\"singleton\",\"singleton\",\"singleton\",\"strategy\",\"concreteStrategy\",\"concreteStrategy\",\"context\",\"strategy\",\"concreteStrategy\",\"concreteStrategy\",\"context\",\"context\",\"strategy\",\"concreteStrategy\",\"concreteStrategy\",\"concreteStrategy\",\"context\",\"strategy\",\"concreteStrategy\",\"context\",\"context\",\"context\",\"context\",\"context\",\"context\",\"context\",\"context\",\"context\",\"context\",\"context\",\"context\",\"strategy\",\"concreteStrategy\",\"concreteStrategy\",\"concreteStrategy\",\"concreteStrategy\",\"concreteStrategy\",\"concreteStrategy\",\"context\",\"context\",\"context\",\"context\",\"strategy\",\"concreteStrategy\",\"concreteStrategy\",\"concreteStrategy\",\"concreteStrategy\",\"context\",\"strategy\",\"concreteStrategy\",\"subject\",\"concreteSubject\",\"concreteSubject\",\"concreteSubject\",\"concreteSubject\",\"concreteSubject\",\"concreteSubject\",\"concreteSubject\",\"concreteSubject\",\"concreteSubject\",\"concreteSubject\",\"concreteSubject\",\"concreteSubject\",\"concreteSubject\",\"concreteSubject\",\"concreteSubject\",\"concreteSubject\",\"concreteSubject\",\"concreteSubject\",\"concreteSubject\",\"concreteSubject\",\"concreteSubject\",\"concreteObserver\",\"concreteObserver\",\"concreteObserver\",\"subject\",\"concreteSubject\",\"observer\",\"observer\",\"observer\",\"observer\",\"observer\",\"observer\",\"concreteObserver\",\"subject\",\"concreteSubject\",\"concreteSubject\",\"observer\",\"concreteObserver\",\"subject\",\"concreteSubject\",\"concreteSubject\",\"concreteSubject\",\"concreteSubject\",\"concreteSubject\",\"concreteSubject\",\"concreteSubject\",\"concreteSubject\",\"concreteSubject\",\"concreteSubject\",\"concreteSubject\",\"concreteSubject\",\"concreteSubject\",\"concreteSubject\",\"observer\",\"concreteObserver\",\"subject\",\"concreteSubject\",\"observer\",\"concreteObserver\",\"subject\",\"concreteSubject\",\"observer\",\"observer\",\"concreteObserver\",\"concreteSubject\",\"observer\",\"concreteObserver\",\"concreteObserver\",\"concreteObserver\",\"concreteObserver\",\"concreteObserver\",\"concreteObserver\",\"observer\",\"concreteObserver\",\"concreteObserver\",\"concreteSubject\",\"subject\",\"concreteSubject\",\"observer\",\"concreteObserver\",\"subject\",\"concreteSubject\",\"concreteSubject\",\"concreteSubject\",\"observer\",\"concreteObserver\",\"concreteObserver\",\"concreteObserver\",\"subject\",\"concreteSubject\",\"concreteSubject\",\"concreteSubject\",\"concreteSubject\",\"concreteSubject\",\"concreteSubject\",\"concreteSubject\",\"concreteSubject\",\"concreteSubject\",\"concreteSubject\",\"concreteSubject\",\"concreteSubject\",\"concreteSubject\",\"concreteSubject\",\"concreteSubject\",\"concreteSubject\",\"concreteSubject\",\"concreteSubject\",\"concreteSubject\",\"concreteSubject\",\"concreteSubject\",\"concreteSubject\",\"concreteSubject\",\"concreteSubject\",\"observer\",\"concreteObserver\",\"concreteObserver\",\"concreteObserver\",\"concreteObserver\",\"concreteObserver\",\"concreteObserver\",\"concreteObserver\",\"concreteObserver\",\"concreteObserver\",\"concreteObserver\",\"concreteObserver\",\"concreteObserver\",\"concreteObserver\",\"concreteObserver\",\"concreteObserver\",\"subject\",\"concreteSubject\",\"observer\",\"concreteObserver\",\"concreteObserver\",\"concreteObserver\",\"concreteObserver\",\"concreteObserver\",\"component\",\"concreteComponent\",\"concreteComponent\",\"concreteComponent\",\"concreteComponent\",\"concreteComponent\",\"concreteComponent\",\"concreteComponent\",\"concreteComponent\",\"concreteComponent\",\"concreteComponent\",\"concreteComponent\",\"concreteComponent\",\"concreteComponent\",\"concreteComponent\",\"concreteComponent\",\"concreteComponent\",\"concreteComponent\",\"concreteComponent\",\"concreteComponent\",\"concreteComponent\",\"concreteComponent\",\"concreteComponent\",\"decorator\",\"concreteDecorator\",\"concreteDecorator\",\"component\",\"concreteComponent\",\"concreteComponent\",\"concreteComponent\",\"concreteComponent\",\"concreteComponent\",\"concreteComponent\",\"concreteComponent\",\"concreteComponent\",\"concreteComponent\",\"concreteComponent\",\"concreteComponent\",\"concreteComponent\",\"concreteComponent\",\"concreteComponent\",\"concreteComponent\",\"concreteComponent\",\"concreteComponent\",\"concreteComponent\",\"concreteComponent\",\"concreteComponent\",\"concreteComponent\",\"concreteComponent\",\"concreteComponent\",\"concreteComponent\",\"concreteComponent\",\"concreteComponent\",\"concreteComponent\",\"concreteComponent\",\"concreteComponent\",\"concreteComponent\",\"concreteComponent\",\"concreteComponent\",\"concreteComponent\",\"concreteDecorator\",\"concreteDecorator\",\"concreteDecorator\",\"concreteDecorator\",\"command\",\"concreteCommand\",\"concreteCommand\",\"concreteCommand\",\"concreteCommand\",\"client\",\"invoker\",\"receiver\",\"receiver\",\"command\",\"concreteCommand\",\"concreteCommand\",\"concreteCommand\",\"concreteCommand\",\"client\",\"invoker\",\"receiver\",\"receiver\",\"client\",\"invoker\",\"concreteCommand\",\"concreteCommand\",\"concreteCommand\",\"concreteCommand\",\"client\",\"client\",\"invoker\",\"invoker\",\"invoker\",\"invoker\",\"invoker\",\"invoker\",\"invoker\",\"invoker\",\"invoker\",\"invoker\",\"invoker\",\"invoker\",\"invoker\",\"invoker\",\"concreteCommand\",\"concreteCommand\",\"concreteCommand\",\"concreteCommand\",\"concreteCommand\",\"concreteCommand\",\"concreteCommand\",\"concreteCommand\",\"concreteCommand\",\"concreteCommand\",\"concreteCommand\",\"concreteCommand\",\"concreteCommand\",\"concreteCommand\",\"concreteCommand\",\"concreteCommand\",\"concreteCommand\",\"receiver\",\"client\",\"client\",\"client\",\"client\",\"invoker\",\"invoker\",\"invoker\",\"invoker\",\"command\",\"concreteCommand\",\"concreteCommand\",\"concreteCommand\",\"concreteCommand\",\"concreteCommand\",\"concreteCommand\",\"concreteCommand\",\"concreteCommand\",\"concreteCommand\",\"concreteCommand\",\"concreteCommand\",\"concreteCommand\",\"concreteCommand\",\"receiver\",\"receiver\",\"receiver\",\"receiver\",\"client\",\"client\",\"client\",\"client\",\"client\",\"client\",\"client\",\"client\",\"client\",\"client\",\"client\",\"client\",\"client\",\"client\",\"client\",\"client\",\"concreteFactory\",\"abstractProduct\",\"product\",\"product\",\"product\",\"product\",\"product\",\"product\",\"product\",\"product\",\"product\",\"product\",\"product\",\"product\",\"product\",\"product\",\"product\",\"product\",\"product\",\"client\",\"client\",\"client\",\"client\",\"client\",\"client\",\"client\",\"concreteFactory\",\"abstractProduct\",\"product\",\"client\",\"client\",\"client\",\"concreteFactory\",\"concreteFactory\",\"abstractProduct\",\"abstractProduct\",\"abstractProduct\",\"product\",\"product\",\"product\",\"product\",\"product\",\"client\",\"client\",\"client\",\"client\",\"client\",\"client\",\"concreteFactory\",\"concreteFactory\",\"concreteFactory\",\"concreteFactory\",\"concreteFactory\",\"concreteFactory\",\"concreteFactory\",\"abstractProduct\",\"product\",\"product\",\"product\",\"product\",\"product\",\"product\",\"product\",\"product\",\"client\",\"client\",\"client\",\"client\",\"client\",\"client\",\"client\",\"concreteFactory\",\"abstractProduct\",\"product\",\"product\",\"product\",\"product\",\"product\",\"product\",\"product\",\"product\",\"product\",\"product\",\"product\",\"product\",\"product\",\"product\",\"product\",\"product\",\"product\",\"product\",\"product\",\"product\",\"product\",\"product\",\"product\",\"client\",\"abstractFactory\",\"concreteFactory\",\"concreteFactory\",\"abstractProduct\",\"product\",\"client\",\"client\",\"abstractProduct\",\"product\",\"product\",\"product\",\"product\",\"product\",\"product\",\"product\",\"product\",\"client\",\"client\",\"client\",\"client\",\"client\",\"concreteFactory\",\"abstractProduct\",\"product\",\"product\",\"product\",\"product\",\"product\",\"product\",\"product\",\"product\",\"product\",\"client\",\"abstractFactory\",\"concreteFactory\",\"abstractProduct\",\"product\",\"product\",\"product\",\"product\",\"product\",\"product\",\"product\",\"product\",\"client\",\"abstractFactory\",\"concreteFactory\",\"abstractProduct\",\"product\",\"product\",\"product\",\"product\",\"product\",\"product\",\"product\",\"product\",\"product\",\"product\",\"product\",\"product\",\"product\",\"product\",\"product\",\"product\",\"client\",\"client\",\"abstractFactory\",\"concreteFactory\",\"abstractProduct\",\"product\",\"product\",\"product\",\"product\",\"product\",\"client\",\"concreteFactory\",\"abstractProduct\",\"product\",\"client\",\"client\",\"client\",\"client\",\"client\",\"client\",\"client\",\"client\",\"client\",\"client\",\"client\",\"client\",\"client\",\"client\",\"client\",\"client\",\"client\",\"client\",\"client\",\"client\",\"client\",\"client\",\"client\",\"concreteFactory\",\"abstractProduct\",\"product\",\"product\",\"product\",\"product\",\"client\",\"client\",\"client\",\"abstractFactory\",\"abstractFactory\",\"concreteFactory\",\"abstractProduct\",\"abstractProduct\",\"product\",\"product\",\"creator\",\"concreteCreator\",\"product\",\"concreteProduct\",\"product\",\"concreteProduct\",\"concreteProduct\",\"concreteProduct\",\"concreteCreator\",\"product\",\"concreteProduct\",\"concreteProduct\",\"concreteProduct\",\"concreteProduct\",\"concreteProduct\",\"concreteProduct\",\"concreteProduct\",\"concreteProduct\",\"concreteProduct\",\"concreteProduct\",\"concreteProduct\",\"concreteProduct\",\"concreteProduct\",\"concreteProduct\",\"concreteProduct\",\"concreteProduct\",\"concreteProduct\",\"concreteProduct\",\"concreteProduct\",\"creator\",\"concreteCreator\",\"concreteCreator\",\"concreteCreator\",\"concreteCreator\",\"concreteCreator\",\"concreteCreator\",\"concreteCreator\",\"concreteCreator\",\"concreteCreator\",\"concreteCreator\",\"concreteCreator\",\"concreteCreator\",\"concreteCreator\",\"concreteCreator\",\"concreteCreator\",\"concreteCreator\",\"concreteCreator\",\"concreteCreator\",\"concreteCreator\",\"concreteCreator\",\"concreteCreator\",\"concreteCreator\",\"concreteCreator\",\"concreteCreator\",\"concreteProduct\",\"concreteCreator\",\"creator\",\"concreteCreator\",\"product\",\"concreteProduct\",\"concreteProduct\",\"concreteProduct\",\"concreteProduct\",\"concreteProduct\",\"concreteProduct\",\"concreteProduct\",\"concreteProduct\",\"concreteProduct\",\"concreteProduct\",\"concreteProduct\",\"concreteProduct\",\"concreteProduct\",\"concreteProduct\",\"concreteProduct\",\"concreteProduct\",\"creator\",\"concreteCreator\",\"product\",\"concreteProduct\",\"concreteProduct\",\"concreteProduct\",\"concreteProduct\",\"concreteProduct\",\"product\",\"concreteProduct\",\"concreteProduct\",\"concreteProduct\",\"concreteProduct\",\"concreteProduct\",\"concreteProduct\",\"creator\",\"concreteCreator\",\"concreteCreator\",\"concreteCreator\",\"concreteCreator\",\"concreteCreator\",\"creator\",\"concreteCreator\",\"product\",\"concreteProduct\",\"concreteProduct\"],\"xaxis\":\"x\",\"yaxis\":\"y\",\"type\":\"histogram\"}],                        {\"template\":{\"data\":{\"histogram2dcontour\":[{\"type\":\"histogram2dcontour\",\"colorbar\":{\"outlinewidth\":0,\"ticks\":\"\"},\"colorscale\":[[0.0,\"#0d0887\"],[0.1111111111111111,\"#46039f\"],[0.2222222222222222,\"#7201a8\"],[0.3333333333333333,\"#9c179e\"],[0.4444444444444444,\"#bd3786\"],[0.5555555555555556,\"#d8576b\"],[0.6666666666666666,\"#ed7953\"],[0.7777777777777778,\"#fb9f3a\"],[0.8888888888888888,\"#fdca26\"],[1.0,\"#f0f921\"]]}],\"choropleth\":[{\"type\":\"choropleth\",\"colorbar\":{\"outlinewidth\":0,\"ticks\":\"\"}}],\"histogram2d\":[{\"type\":\"histogram2d\",\"colorbar\":{\"outlinewidth\":0,\"ticks\":\"\"},\"colorscale\":[[0.0,\"#0d0887\"],[0.1111111111111111,\"#46039f\"],[0.2222222222222222,\"#7201a8\"],[0.3333333333333333,\"#9c179e\"],[0.4444444444444444,\"#bd3786\"],[0.5555555555555556,\"#d8576b\"],[0.6666666666666666,\"#ed7953\"],[0.7777777777777778,\"#fb9f3a\"],[0.8888888888888888,\"#fdca26\"],[1.0,\"#f0f921\"]]}],\"heatmap\":[{\"type\":\"heatmap\",\"colorbar\":{\"outlinewidth\":0,\"ticks\":\"\"},\"colorscale\":[[0.0,\"#0d0887\"],[0.1111111111111111,\"#46039f\"],[0.2222222222222222,\"#7201a8\"],[0.3333333333333333,\"#9c179e\"],[0.4444444444444444,\"#bd3786\"],[0.5555555555555556,\"#d8576b\"],[0.6666666666666666,\"#ed7953\"],[0.7777777777777778,\"#fb9f3a\"],[0.8888888888888888,\"#fdca26\"],[1.0,\"#f0f921\"]]}],\"heatmapgl\":[{\"type\":\"heatmapgl\",\"colorbar\":{\"outlinewidth\":0,\"ticks\":\"\"},\"colorscale\":[[0.0,\"#0d0887\"],[0.1111111111111111,\"#46039f\"],[0.2222222222222222,\"#7201a8\"],[0.3333333333333333,\"#9c179e\"],[0.4444444444444444,\"#bd3786\"],[0.5555555555555556,\"#d8576b\"],[0.6666666666666666,\"#ed7953\"],[0.7777777777777778,\"#fb9f3a\"],[0.8888888888888888,\"#fdca26\"],[1.0,\"#f0f921\"]]}],\"contourcarpet\":[{\"type\":\"contourcarpet\",\"colorbar\":{\"outlinewidth\":0,\"ticks\":\"\"}}],\"contour\":[{\"type\":\"contour\",\"colorbar\":{\"outlinewidth\":0,\"ticks\":\"\"},\"colorscale\":[[0.0,\"#0d0887\"],[0.1111111111111111,\"#46039f\"],[0.2222222222222222,\"#7201a8\"],[0.3333333333333333,\"#9c179e\"],[0.4444444444444444,\"#bd3786\"],[0.5555555555555556,\"#d8576b\"],[0.6666666666666666,\"#ed7953\"],[0.7777777777777778,\"#fb9f3a\"],[0.8888888888888888,\"#fdca26\"],[1.0,\"#f0f921\"]]}],\"surface\":[{\"type\":\"surface\",\"colorbar\":{\"outlinewidth\":0,\"ticks\":\"\"},\"colorscale\":[[0.0,\"#0d0887\"],[0.1111111111111111,\"#46039f\"],[0.2222222222222222,\"#7201a8\"],[0.3333333333333333,\"#9c179e\"],[0.4444444444444444,\"#bd3786\"],[0.5555555555555556,\"#d8576b\"],[0.6666666666666666,\"#ed7953\"],[0.7777777777777778,\"#fb9f3a\"],[0.8888888888888888,\"#fdca26\"],[1.0,\"#f0f921\"]]}],\"mesh3d\":[{\"type\":\"mesh3d\",\"colorbar\":{\"outlinewidth\":0,\"ticks\":\"\"}}],\"scatter\":[{\"fillpattern\":{\"fillmode\":\"overlay\",\"size\":10,\"solidity\":0.2},\"type\":\"scatter\"}],\"parcoords\":[{\"type\":\"parcoords\",\"line\":{\"colorbar\":{\"outlinewidth\":0,\"ticks\":\"\"}}}],\"scatterpolargl\":[{\"type\":\"scatterpolargl\",\"marker\":{\"colorbar\":{\"outlinewidth\":0,\"ticks\":\"\"}}}],\"bar\":[{\"error_x\":{\"color\":\"#2a3f5f\"},\"error_y\":{\"color\":\"#2a3f5f\"},\"marker\":{\"line\":{\"color\":\"#E5ECF6\",\"width\":0.5},\"pattern\":{\"fillmode\":\"overlay\",\"size\":10,\"solidity\":0.2}},\"type\":\"bar\"}],\"scattergeo\":[{\"type\":\"scattergeo\",\"marker\":{\"colorbar\":{\"outlinewidth\":0,\"ticks\":\"\"}}}],\"scatterpolar\":[{\"type\":\"scatterpolar\",\"marker\":{\"colorbar\":{\"outlinewidth\":0,\"ticks\":\"\"}}}],\"histogram\":[{\"marker\":{\"pattern\":{\"fillmode\":\"overlay\",\"size\":10,\"solidity\":0.2}},\"type\":\"histogram\"}],\"scattergl\":[{\"type\":\"scattergl\",\"marker\":{\"colorbar\":{\"outlinewidth\":0,\"ticks\":\"\"}}}],\"scatter3d\":[{\"type\":\"scatter3d\",\"line\":{\"colorbar\":{\"outlinewidth\":0,\"ticks\":\"\"}},\"marker\":{\"colorbar\":{\"outlinewidth\":0,\"ticks\":\"\"}}}],\"scattermapbox\":[{\"type\":\"scattermapbox\",\"marker\":{\"colorbar\":{\"outlinewidth\":0,\"ticks\":\"\"}}}],\"scatterternary\":[{\"type\":\"scatterternary\",\"marker\":{\"colorbar\":{\"outlinewidth\":0,\"ticks\":\"\"}}}],\"scattercarpet\":[{\"type\":\"scattercarpet\",\"marker\":{\"colorbar\":{\"outlinewidth\":0,\"ticks\":\"\"}}}],\"carpet\":[{\"aaxis\":{\"endlinecolor\":\"#2a3f5f\",\"gridcolor\":\"white\",\"linecolor\":\"white\",\"minorgridcolor\":\"white\",\"startlinecolor\":\"#2a3f5f\"},\"baxis\":{\"endlinecolor\":\"#2a3f5f\",\"gridcolor\":\"white\",\"linecolor\":\"white\",\"minorgridcolor\":\"white\",\"startlinecolor\":\"#2a3f5f\"},\"type\":\"carpet\"}],\"table\":[{\"cells\":{\"fill\":{\"color\":\"#EBF0F8\"},\"line\":{\"color\":\"white\"}},\"header\":{\"fill\":{\"color\":\"#C8D4E3\"},\"line\":{\"color\":\"white\"}},\"type\":\"table\"}],\"barpolar\":[{\"marker\":{\"line\":{\"color\":\"#E5ECF6\",\"width\":0.5},\"pattern\":{\"fillmode\":\"overlay\",\"size\":10,\"solidity\":0.2}},\"type\":\"barpolar\"}],\"pie\":[{\"automargin\":true,\"type\":\"pie\"}]},\"layout\":{\"autotypenumbers\":\"strict\",\"colorway\":[\"#636efa\",\"#EF553B\",\"#00cc96\",\"#ab63fa\",\"#FFA15A\",\"#19d3f3\",\"#FF6692\",\"#B6E880\",\"#FF97FF\",\"#FECB52\"],\"font\":{\"color\":\"#2a3f5f\"},\"hovermode\":\"closest\",\"hoverlabel\":{\"align\":\"left\"},\"paper_bgcolor\":\"white\",\"plot_bgcolor\":\"#E5ECF6\",\"polar\":{\"bgcolor\":\"#E5ECF6\",\"angularaxis\":{\"gridcolor\":\"white\",\"linecolor\":\"white\",\"ticks\":\"\"},\"radialaxis\":{\"gridcolor\":\"white\",\"linecolor\":\"white\",\"ticks\":\"\"}},\"ternary\":{\"bgcolor\":\"#E5ECF6\",\"aaxis\":{\"gridcolor\":\"white\",\"linecolor\":\"white\",\"ticks\":\"\"},\"baxis\":{\"gridcolor\":\"white\",\"linecolor\":\"white\",\"ticks\":\"\"},\"caxis\":{\"gridcolor\":\"white\",\"linecolor\":\"white\",\"ticks\":\"\"}},\"coloraxis\":{\"colorbar\":{\"outlinewidth\":0,\"ticks\":\"\"}},\"colorscale\":{\"sequential\":[[0.0,\"#0d0887\"],[0.1111111111111111,\"#46039f\"],[0.2222222222222222,\"#7201a8\"],[0.3333333333333333,\"#9c179e\"],[0.4444444444444444,\"#bd3786\"],[0.5555555555555556,\"#d8576b\"],[0.6666666666666666,\"#ed7953\"],[0.7777777777777778,\"#fb9f3a\"],[0.8888888888888888,\"#fdca26\"],[1.0,\"#f0f921\"]],\"sequentialminus\":[[0.0,\"#0d0887\"],[0.1111111111111111,\"#46039f\"],[0.2222222222222222,\"#7201a8\"],[0.3333333333333333,\"#9c179e\"],[0.4444444444444444,\"#bd3786\"],[0.5555555555555556,\"#d8576b\"],[0.6666666666666666,\"#ed7953\"],[0.7777777777777778,\"#fb9f3a\"],[0.8888888888888888,\"#fdca26\"],[1.0,\"#f0f921\"]],\"diverging\":[[0,\"#8e0152\"],[0.1,\"#c51b7d\"],[0.2,\"#de77ae\"],[0.3,\"#f1b6da\"],[0.4,\"#fde0ef\"],[0.5,\"#f7f7f7\"],[0.6,\"#e6f5d0\"],[0.7,\"#b8e186\"],[0.8,\"#7fbc41\"],[0.9,\"#4d9221\"],[1,\"#276419\"]]},\"xaxis\":{\"gridcolor\":\"white\",\"linecolor\":\"white\",\"ticks\":\"\",\"title\":{\"standoff\":15},\"zerolinecolor\":\"white\",\"automargin\":true,\"zerolinewidth\":2},\"yaxis\":{\"gridcolor\":\"white\",\"linecolor\":\"white\",\"ticks\":\"\",\"title\":{\"standoff\":15},\"zerolinecolor\":\"white\",\"automargin\":true,\"zerolinewidth\":2},\"scene\":{\"xaxis\":{\"backgroundcolor\":\"#E5ECF6\",\"gridcolor\":\"white\",\"linecolor\":\"white\",\"showbackground\":true,\"ticks\":\"\",\"zerolinecolor\":\"white\",\"gridwidth\":2},\"yaxis\":{\"backgroundcolor\":\"#E5ECF6\",\"gridcolor\":\"white\",\"linecolor\":\"white\",\"showbackground\":true,\"ticks\":\"\",\"zerolinecolor\":\"white\",\"gridwidth\":2},\"zaxis\":{\"backgroundcolor\":\"#E5ECF6\",\"gridcolor\":\"white\",\"linecolor\":\"white\",\"showbackground\":true,\"ticks\":\"\",\"zerolinecolor\":\"white\",\"gridwidth\":2}},\"shapedefaults\":{\"line\":{\"color\":\"#2a3f5f\"}},\"annotationdefaults\":{\"arrowcolor\":\"#2a3f5f\",\"arrowhead\":0,\"arrowwidth\":1},\"geo\":{\"bgcolor\":\"white\",\"landcolor\":\"#E5ECF6\",\"subunitcolor\":\"white\",\"showland\":true,\"showlakes\":true,\"lakecolor\":\"white\"},\"title\":{\"x\":0.05},\"mapbox\":{\"style\":\"light\"}}},\"xaxis\":{\"anchor\":\"y\",\"domain\":[0.0,1.0],\"title\":{\"text\":\"role\"}},\"yaxis\":{\"anchor\":\"x\",\"domain\":[0.0,1.0],\"title\":{\"text\":\"count\"}},\"legend\":{\"tracegroupgap\":0},\"margin\":{\"t\":60},\"barmode\":\"relative\"},                        {\"responsive\": true}                    ).then(function(){\n",
       "                            \n",
       "var gd = document.getElementById('3d5fe541-46b0-49bd-a4a6-4f173fb7573b');\n",
       "var x = new MutationObserver(function (mutations, observer) {{\n",
       "        var display = window.getComputedStyle(gd).display;\n",
       "        if (!display || display === 'none') {{\n",
       "            console.log([gd, 'removed!']);\n",
       "            Plotly.purge(gd);\n",
       "            observer.disconnect();\n",
       "        }}\n",
       "}});\n",
       "\n",
       "// Listen for the removal of the full notebook cells\n",
       "var notebookContainer = gd.closest('#notebook-container');\n",
       "if (notebookContainer) {{\n",
       "    x.observe(notebookContainer, {childList: true});\n",
       "}}\n",
       "\n",
       "// Listen for the clearing of the current output cell\n",
       "var outputEl = gd.closest('.output');\n",
       "if (outputEl) {{\n",
       "    x.observe(outputEl, {childList: true});\n",
       "}}\n",
       "\n",
       "                        })                };                });            </script>        </div>"
      ]
     },
     "metadata": {},
     "output_type": "display_data"
    }
   ],
   "source": [
    "px.histogram(df, x='role', histfunc='count')"
   ]
  },
  {
   "cell_type": "markdown",
   "id": "240b2766-9c37-4c29-a2d8-cee945d1ba17",
   "metadata": {},
   "source": [
    "### Distribution of desgin patterns"
   ]
  },
  {
   "cell_type": "code",
   "execution_count": 161,
   "id": "f654cb14-24d4-403d-ad90-7db5bbf0e1d3",
   "metadata": {},
   "outputs": [
    {
     "data": {
      "application/vnd.plotly.v1+json": {
       "config": {
        "plotlyServerURL": "https://plot.ly"
       },
       "data": [
        {
         "alignmentgroup": "True",
         "bingroup": "x",
         "histfunc": "sum",
         "hovertemplate": "design_pattern=%{x}<br>sum of count=%{y}<extra></extra>",
         "legendgroup": "",
         "marker": {
          "color": "#636efa",
          "pattern": {
           "shape": ""
          }
         },
         "name": "",
         "offsetgroup": "",
         "orientation": "v",
         "showlegend": false,
         "type": "histogram",
         "x": [
          "adapter",
          "abstract_factory",
          "observer",
          "singleton",
          "template_method",
          "iterator",
          "factory_method",
          "strategy",
          "composite",
          "builder",
          "state",
          "command",
          "memento",
          "visitor",
          "bridge",
          "prototype",
          "decorator",
          "proxy",
          "null_object",
          "facade"
         ],
         "xaxis": "x",
         "y": [
          31,
          14,
          12,
          12,
          9,
          8,
          8,
          7,
          6,
          6,
          5,
          5,
          3,
          3,
          2,
          2,
          2,
          1,
          1,
          1
         ],
         "yaxis": "y"
        }
       ],
       "layout": {
        "autosize": true,
        "barmode": "relative",
        "legend": {
         "tracegroupgap": 0
        },
        "margin": {
         "t": 60
        },
        "template": {
         "data": {
          "bar": [
           {
            "error_x": {
             "color": "#2a3f5f"
            },
            "error_y": {
             "color": "#2a3f5f"
            },
            "marker": {
             "line": {
              "color": "#E5ECF6",
              "width": 0.5
             },
             "pattern": {
              "fillmode": "overlay",
              "size": 10,
              "solidity": 0.2
             }
            },
            "type": "bar"
           }
          ],
          "barpolar": [
           {
            "marker": {
             "line": {
              "color": "#E5ECF6",
              "width": 0.5
             },
             "pattern": {
              "fillmode": "overlay",
              "size": 10,
              "solidity": 0.2
             }
            },
            "type": "barpolar"
           }
          ],
          "carpet": [
           {
            "aaxis": {
             "endlinecolor": "#2a3f5f",
             "gridcolor": "white",
             "linecolor": "white",
             "minorgridcolor": "white",
             "startlinecolor": "#2a3f5f"
            },
            "baxis": {
             "endlinecolor": "#2a3f5f",
             "gridcolor": "white",
             "linecolor": "white",
             "minorgridcolor": "white",
             "startlinecolor": "#2a3f5f"
            },
            "type": "carpet"
           }
          ],
          "choropleth": [
           {
            "colorbar": {
             "outlinewidth": 0,
             "ticks": ""
            },
            "type": "choropleth"
           }
          ],
          "contour": [
           {
            "colorbar": {
             "outlinewidth": 0,
             "ticks": ""
            },
            "colorscale": [
             [
              0,
              "#0d0887"
             ],
             [
              0.1111111111111111,
              "#46039f"
             ],
             [
              0.2222222222222222,
              "#7201a8"
             ],
             [
              0.3333333333333333,
              "#9c179e"
             ],
             [
              0.4444444444444444,
              "#bd3786"
             ],
             [
              0.5555555555555556,
              "#d8576b"
             ],
             [
              0.6666666666666666,
              "#ed7953"
             ],
             [
              0.7777777777777778,
              "#fb9f3a"
             ],
             [
              0.8888888888888888,
              "#fdca26"
             ],
             [
              1,
              "#f0f921"
             ]
            ],
            "type": "contour"
           }
          ],
          "contourcarpet": [
           {
            "colorbar": {
             "outlinewidth": 0,
             "ticks": ""
            },
            "type": "contourcarpet"
           }
          ],
          "heatmap": [
           {
            "colorbar": {
             "outlinewidth": 0,
             "ticks": ""
            },
            "colorscale": [
             [
              0,
              "#0d0887"
             ],
             [
              0.1111111111111111,
              "#46039f"
             ],
             [
              0.2222222222222222,
              "#7201a8"
             ],
             [
              0.3333333333333333,
              "#9c179e"
             ],
             [
              0.4444444444444444,
              "#bd3786"
             ],
             [
              0.5555555555555556,
              "#d8576b"
             ],
             [
              0.6666666666666666,
              "#ed7953"
             ],
             [
              0.7777777777777778,
              "#fb9f3a"
             ],
             [
              0.8888888888888888,
              "#fdca26"
             ],
             [
              1,
              "#f0f921"
             ]
            ],
            "type": "heatmap"
           }
          ],
          "heatmapgl": [
           {
            "colorbar": {
             "outlinewidth": 0,
             "ticks": ""
            },
            "colorscale": [
             [
              0,
              "#0d0887"
             ],
             [
              0.1111111111111111,
              "#46039f"
             ],
             [
              0.2222222222222222,
              "#7201a8"
             ],
             [
              0.3333333333333333,
              "#9c179e"
             ],
             [
              0.4444444444444444,
              "#bd3786"
             ],
             [
              0.5555555555555556,
              "#d8576b"
             ],
             [
              0.6666666666666666,
              "#ed7953"
             ],
             [
              0.7777777777777778,
              "#fb9f3a"
             ],
             [
              0.8888888888888888,
              "#fdca26"
             ],
             [
              1,
              "#f0f921"
             ]
            ],
            "type": "heatmapgl"
           }
          ],
          "histogram": [
           {
            "marker": {
             "pattern": {
              "fillmode": "overlay",
              "size": 10,
              "solidity": 0.2
             }
            },
            "type": "histogram"
           }
          ],
          "histogram2d": [
           {
            "colorbar": {
             "outlinewidth": 0,
             "ticks": ""
            },
            "colorscale": [
             [
              0,
              "#0d0887"
             ],
             [
              0.1111111111111111,
              "#46039f"
             ],
             [
              0.2222222222222222,
              "#7201a8"
             ],
             [
              0.3333333333333333,
              "#9c179e"
             ],
             [
              0.4444444444444444,
              "#bd3786"
             ],
             [
              0.5555555555555556,
              "#d8576b"
             ],
             [
              0.6666666666666666,
              "#ed7953"
             ],
             [
              0.7777777777777778,
              "#fb9f3a"
             ],
             [
              0.8888888888888888,
              "#fdca26"
             ],
             [
              1,
              "#f0f921"
             ]
            ],
            "type": "histogram2d"
           }
          ],
          "histogram2dcontour": [
           {
            "colorbar": {
             "outlinewidth": 0,
             "ticks": ""
            },
            "colorscale": [
             [
              0,
              "#0d0887"
             ],
             [
              0.1111111111111111,
              "#46039f"
             ],
             [
              0.2222222222222222,
              "#7201a8"
             ],
             [
              0.3333333333333333,
              "#9c179e"
             ],
             [
              0.4444444444444444,
              "#bd3786"
             ],
             [
              0.5555555555555556,
              "#d8576b"
             ],
             [
              0.6666666666666666,
              "#ed7953"
             ],
             [
              0.7777777777777778,
              "#fb9f3a"
             ],
             [
              0.8888888888888888,
              "#fdca26"
             ],
             [
              1,
              "#f0f921"
             ]
            ],
            "type": "histogram2dcontour"
           }
          ],
          "mesh3d": [
           {
            "colorbar": {
             "outlinewidth": 0,
             "ticks": ""
            },
            "type": "mesh3d"
           }
          ],
          "parcoords": [
           {
            "line": {
             "colorbar": {
              "outlinewidth": 0,
              "ticks": ""
             }
            },
            "type": "parcoords"
           }
          ],
          "pie": [
           {
            "automargin": true,
            "type": "pie"
           }
          ],
          "scatter": [
           {
            "fillpattern": {
             "fillmode": "overlay",
             "size": 10,
             "solidity": 0.2
            },
            "type": "scatter"
           }
          ],
          "scatter3d": [
           {
            "line": {
             "colorbar": {
              "outlinewidth": 0,
              "ticks": ""
             }
            },
            "marker": {
             "colorbar": {
              "outlinewidth": 0,
              "ticks": ""
             }
            },
            "type": "scatter3d"
           }
          ],
          "scattercarpet": [
           {
            "marker": {
             "colorbar": {
              "outlinewidth": 0,
              "ticks": ""
             }
            },
            "type": "scattercarpet"
           }
          ],
          "scattergeo": [
           {
            "marker": {
             "colorbar": {
              "outlinewidth": 0,
              "ticks": ""
             }
            },
            "type": "scattergeo"
           }
          ],
          "scattergl": [
           {
            "marker": {
             "colorbar": {
              "outlinewidth": 0,
              "ticks": ""
             }
            },
            "type": "scattergl"
           }
          ],
          "scattermapbox": [
           {
            "marker": {
             "colorbar": {
              "outlinewidth": 0,
              "ticks": ""
             }
            },
            "type": "scattermapbox"
           }
          ],
          "scatterpolar": [
           {
            "marker": {
             "colorbar": {
              "outlinewidth": 0,
              "ticks": ""
             }
            },
            "type": "scatterpolar"
           }
          ],
          "scatterpolargl": [
           {
            "marker": {
             "colorbar": {
              "outlinewidth": 0,
              "ticks": ""
             }
            },
            "type": "scatterpolargl"
           }
          ],
          "scatterternary": [
           {
            "marker": {
             "colorbar": {
              "outlinewidth": 0,
              "ticks": ""
             }
            },
            "type": "scatterternary"
           }
          ],
          "surface": [
           {
            "colorbar": {
             "outlinewidth": 0,
             "ticks": ""
            },
            "colorscale": [
             [
              0,
              "#0d0887"
             ],
             [
              0.1111111111111111,
              "#46039f"
             ],
             [
              0.2222222222222222,
              "#7201a8"
             ],
             [
              0.3333333333333333,
              "#9c179e"
             ],
             [
              0.4444444444444444,
              "#bd3786"
             ],
             [
              0.5555555555555556,
              "#d8576b"
             ],
             [
              0.6666666666666666,
              "#ed7953"
             ],
             [
              0.7777777777777778,
              "#fb9f3a"
             ],
             [
              0.8888888888888888,
              "#fdca26"
             ],
             [
              1,
              "#f0f921"
             ]
            ],
            "type": "surface"
           }
          ],
          "table": [
           {
            "cells": {
             "fill": {
              "color": "#EBF0F8"
             },
             "line": {
              "color": "white"
             }
            },
            "header": {
             "fill": {
              "color": "#C8D4E3"
             },
             "line": {
              "color": "white"
             }
            },
            "type": "table"
           }
          ]
         },
         "layout": {
          "annotationdefaults": {
           "arrowcolor": "#2a3f5f",
           "arrowhead": 0,
           "arrowwidth": 1
          },
          "autotypenumbers": "strict",
          "coloraxis": {
           "colorbar": {
            "outlinewidth": 0,
            "ticks": ""
           }
          },
          "colorscale": {
           "diverging": [
            [
             0,
             "#8e0152"
            ],
            [
             0.1,
             "#c51b7d"
            ],
            [
             0.2,
             "#de77ae"
            ],
            [
             0.3,
             "#f1b6da"
            ],
            [
             0.4,
             "#fde0ef"
            ],
            [
             0.5,
             "#f7f7f7"
            ],
            [
             0.6,
             "#e6f5d0"
            ],
            [
             0.7,
             "#b8e186"
            ],
            [
             0.8,
             "#7fbc41"
            ],
            [
             0.9,
             "#4d9221"
            ],
            [
             1,
             "#276419"
            ]
           ],
           "sequential": [
            [
             0,
             "#0d0887"
            ],
            [
             0.1111111111111111,
             "#46039f"
            ],
            [
             0.2222222222222222,
             "#7201a8"
            ],
            [
             0.3333333333333333,
             "#9c179e"
            ],
            [
             0.4444444444444444,
             "#bd3786"
            ],
            [
             0.5555555555555556,
             "#d8576b"
            ],
            [
             0.6666666666666666,
             "#ed7953"
            ],
            [
             0.7777777777777778,
             "#fb9f3a"
            ],
            [
             0.8888888888888888,
             "#fdca26"
            ],
            [
             1,
             "#f0f921"
            ]
           ],
           "sequentialminus": [
            [
             0,
             "#0d0887"
            ],
            [
             0.1111111111111111,
             "#46039f"
            ],
            [
             0.2222222222222222,
             "#7201a8"
            ],
            [
             0.3333333333333333,
             "#9c179e"
            ],
            [
             0.4444444444444444,
             "#bd3786"
            ],
            [
             0.5555555555555556,
             "#d8576b"
            ],
            [
             0.6666666666666666,
             "#ed7953"
            ],
            [
             0.7777777777777778,
             "#fb9f3a"
            ],
            [
             0.8888888888888888,
             "#fdca26"
            ],
            [
             1,
             "#f0f921"
            ]
           ]
          },
          "colorway": [
           "#636efa",
           "#EF553B",
           "#00cc96",
           "#ab63fa",
           "#FFA15A",
           "#19d3f3",
           "#FF6692",
           "#B6E880",
           "#FF97FF",
           "#FECB52"
          ],
          "font": {
           "color": "#2a3f5f"
          },
          "geo": {
           "bgcolor": "white",
           "lakecolor": "white",
           "landcolor": "#E5ECF6",
           "showlakes": true,
           "showland": true,
           "subunitcolor": "white"
          },
          "hoverlabel": {
           "align": "left"
          },
          "hovermode": "closest",
          "mapbox": {
           "style": "light"
          },
          "paper_bgcolor": "white",
          "plot_bgcolor": "#E5ECF6",
          "polar": {
           "angularaxis": {
            "gridcolor": "white",
            "linecolor": "white",
            "ticks": ""
           },
           "bgcolor": "#E5ECF6",
           "radialaxis": {
            "gridcolor": "white",
            "linecolor": "white",
            "ticks": ""
           }
          },
          "scene": {
           "xaxis": {
            "backgroundcolor": "#E5ECF6",
            "gridcolor": "white",
            "gridwidth": 2,
            "linecolor": "white",
            "showbackground": true,
            "ticks": "",
            "zerolinecolor": "white"
           },
           "yaxis": {
            "backgroundcolor": "#E5ECF6",
            "gridcolor": "white",
            "gridwidth": 2,
            "linecolor": "white",
            "showbackground": true,
            "ticks": "",
            "zerolinecolor": "white"
           },
           "zaxis": {
            "backgroundcolor": "#E5ECF6",
            "gridcolor": "white",
            "gridwidth": 2,
            "linecolor": "white",
            "showbackground": true,
            "ticks": "",
            "zerolinecolor": "white"
           }
          },
          "shapedefaults": {
           "line": {
            "color": "#2a3f5f"
           }
          },
          "ternary": {
           "aaxis": {
            "gridcolor": "white",
            "linecolor": "white",
            "ticks": ""
           },
           "baxis": {
            "gridcolor": "white",
            "linecolor": "white",
            "ticks": ""
           },
           "bgcolor": "#E5ECF6",
           "caxis": {
            "gridcolor": "white",
            "linecolor": "white",
            "ticks": ""
           }
          },
          "title": {
           "x": 0.05
          },
          "xaxis": {
           "automargin": true,
           "gridcolor": "white",
           "linecolor": "white",
           "ticks": "",
           "title": {
            "standoff": 15
           },
           "zerolinecolor": "white",
           "zerolinewidth": 2
          },
          "yaxis": {
           "automargin": true,
           "gridcolor": "white",
           "linecolor": "white",
           "ticks": "",
           "title": {
            "standoff": 15
           },
           "zerolinecolor": "white",
           "zerolinewidth": 2
          }
         }
        },
        "xaxis": {
         "anchor": "y",
         "autorange": true,
         "domain": [
          0,
          1
         ],
         "range": [
          -0.5,
          19.5
         ],
         "title": {
          "text": "Design Pattern"
         },
         "type": "category"
        },
        "yaxis": {
         "anchor": "x",
         "autorange": true,
         "domain": [
          0,
          1
         ],
         "range": [
          0,
          32.63157894736842
         ],
         "title": {
          "text": "Count in Design Pattern"
         },
         "type": "linear"
        }
       }
      },
      "image/png": "[encoded data removed]",
      "text/html": [
       "<div>                            <div id=\"3d355cee-28f8-4273-b732-cfe8b7556579\" class=\"plotly-graph-div\" style=\"height:525px; width:100%;\"></div>            <script type=\"text/javascript\">                require([\"plotly\"], function(Plotly) {                    window.PLOTLYENV=window.PLOTLYENV || {};                                    if (document.getElementById(\"3d355cee-28f8-4273-b732-cfe8b7556579\")) {                    Plotly.newPlot(                        \"3d355cee-28f8-4273-b732-cfe8b7556579\",                        [{\"alignmentgroup\":\"True\",\"bingroup\":\"x\",\"histfunc\":\"sum\",\"hovertemplate\":\"design_pattern=%{x}\\u003cbr\\u003esum of count=%{y}\\u003cextra\\u003e\\u003c\\u002fextra\\u003e\",\"legendgroup\":\"\",\"marker\":{\"color\":\"#636efa\",\"pattern\":{\"shape\":\"\"}},\"name\":\"\",\"offsetgroup\":\"\",\"orientation\":\"v\",\"showlegend\":false,\"x\":[\"adapter\",\"abstract_factory\",\"observer\",\"singleton\",\"template_method\",\"iterator\",\"factory_method\",\"strategy\",\"composite\",\"builder\",\"state\",\"command\",\"memento\",\"visitor\",\"bridge\",\"prototype\",\"decorator\",\"proxy\",\"null_object\",\"facade\"],\"xaxis\":\"x\",\"y\":[31,14,12,12,9,8,8,7,6,6,5,5,3,3,2,2,2,1,1,1],\"yaxis\":\"y\",\"type\":\"histogram\"}],                        {\"template\":{\"data\":{\"histogram2dcontour\":[{\"type\":\"histogram2dcontour\",\"colorbar\":{\"outlinewidth\":0,\"ticks\":\"\"},\"colorscale\":[[0.0,\"#0d0887\"],[0.1111111111111111,\"#46039f\"],[0.2222222222222222,\"#7201a8\"],[0.3333333333333333,\"#9c179e\"],[0.4444444444444444,\"#bd3786\"],[0.5555555555555556,\"#d8576b\"],[0.6666666666666666,\"#ed7953\"],[0.7777777777777778,\"#fb9f3a\"],[0.8888888888888888,\"#fdca26\"],[1.0,\"#f0f921\"]]}],\"choropleth\":[{\"type\":\"choropleth\",\"colorbar\":{\"outlinewidth\":0,\"ticks\":\"\"}}],\"histogram2d\":[{\"type\":\"histogram2d\",\"colorbar\":{\"outlinewidth\":0,\"ticks\":\"\"},\"colorscale\":[[0.0,\"#0d0887\"],[0.1111111111111111,\"#46039f\"],[0.2222222222222222,\"#7201a8\"],[0.3333333333333333,\"#9c179e\"],[0.4444444444444444,\"#bd3786\"],[0.5555555555555556,\"#d8576b\"],[0.6666666666666666,\"#ed7953\"],[0.7777777777777778,\"#fb9f3a\"],[0.8888888888888888,\"#fdca26\"],[1.0,\"#f0f921\"]]}],\"heatmap\":[{\"type\":\"heatmap\",\"colorbar\":{\"outlinewidth\":0,\"ticks\":\"\"},\"colorscale\":[[0.0,\"#0d0887\"],[0.1111111111111111,\"#46039f\"],[0.2222222222222222,\"#7201a8\"],[0.3333333333333333,\"#9c179e\"],[0.4444444444444444,\"#bd3786\"],[0.5555555555555556,\"#d8576b\"],[0.6666666666666666,\"#ed7953\"],[0.7777777777777778,\"#fb9f3a\"],[0.8888888888888888,\"#fdca26\"],[1.0,\"#f0f921\"]]}],\"heatmapgl\":[{\"type\":\"heatmapgl\",\"colorbar\":{\"outlinewidth\":0,\"ticks\":\"\"},\"colorscale\":[[0.0,\"#0d0887\"],[0.1111111111111111,\"#46039f\"],[0.2222222222222222,\"#7201a8\"],[0.3333333333333333,\"#9c179e\"],[0.4444444444444444,\"#bd3786\"],[0.5555555555555556,\"#d8576b\"],[0.6666666666666666,\"#ed7953\"],[0.7777777777777778,\"#fb9f3a\"],[0.8888888888888888,\"#fdca26\"],[1.0,\"#f0f921\"]]}],\"contourcarpet\":[{\"type\":\"contourcarpet\",\"colorbar\":{\"outlinewidth\":0,\"ticks\":\"\"}}],\"contour\":[{\"type\":\"contour\",\"colorbar\":{\"outlinewidth\":0,\"ticks\":\"\"},\"colorscale\":[[0.0,\"#0d0887\"],[0.1111111111111111,\"#46039f\"],[0.2222222222222222,\"#7201a8\"],[0.3333333333333333,\"#9c179e\"],[0.4444444444444444,\"#bd3786\"],[0.5555555555555556,\"#d8576b\"],[0.6666666666666666,\"#ed7953\"],[0.7777777777777778,\"#fb9f3a\"],[0.8888888888888888,\"#fdca26\"],[1.0,\"#f0f921\"]]}],\"surface\":[{\"type\":\"surface\",\"colorbar\":{\"outlinewidth\":0,\"ticks\":\"\"},\"colorscale\":[[0.0,\"#0d0887\"],[0.1111111111111111,\"#46039f\"],[0.2222222222222222,\"#7201a8\"],[0.3333333333333333,\"#9c179e\"],[0.4444444444444444,\"#bd3786\"],[0.5555555555555556,\"#d8576b\"],[0.6666666666666666,\"#ed7953\"],[0.7777777777777778,\"#fb9f3a\"],[0.8888888888888888,\"#fdca26\"],[1.0,\"#f0f921\"]]}],\"mesh3d\":[{\"type\":\"mesh3d\",\"colorbar\":{\"outlinewidth\":0,\"ticks\":\"\"}}],\"scatter\":[{\"fillpattern\":{\"fillmode\":\"overlay\",\"size\":10,\"solidity\":0.2},\"type\":\"scatter\"}],\"parcoords\":[{\"type\":\"parcoords\",\"line\":{\"colorbar\":{\"outlinewidth\":0,\"ticks\":\"\"}}}],\"scatterpolargl\":[{\"type\":\"scatterpolargl\",\"marker\":{\"colorbar\":{\"outlinewidth\":0,\"ticks\":\"\"}}}],\"bar\":[{\"error_x\":{\"color\":\"#2a3f5f\"},\"error_y\":{\"color\":\"#2a3f5f\"},\"marker\":{\"line\":{\"color\":\"#E5ECF6\",\"width\":0.5},\"pattern\":{\"fillmode\":\"overlay\",\"size\":10,\"solidity\":0.2}},\"type\":\"bar\"}],\"scattergeo\":[{\"type\":\"scattergeo\",\"marker\":{\"colorbar\":{\"outlinewidth\":0,\"ticks\":\"\"}}}],\"scatterpolar\":[{\"type\":\"scatterpolar\",\"marker\":{\"colorbar\":{\"outlinewidth\":0,\"ticks\":\"\"}}}],\"histogram\":[{\"marker\":{\"pattern\":{\"fillmode\":\"overlay\",\"size\":10,\"solidity\":0.2}},\"type\":\"histogram\"}],\"scattergl\":[{\"type\":\"scattergl\",\"marker\":{\"colorbar\":{\"outlinewidth\":0,\"ticks\":\"\"}}}],\"scatter3d\":[{\"type\":\"scatter3d\",\"line\":{\"colorbar\":{\"outlinewidth\":0,\"ticks\":\"\"}},\"marker\":{\"colorbar\":{\"outlinewidth\":0,\"ticks\":\"\"}}}],\"scattermapbox\":[{\"type\":\"scattermapbox\",\"marker\":{\"colorbar\":{\"outlinewidth\":0,\"ticks\":\"\"}}}],\"scatterternary\":[{\"type\":\"scatterternary\",\"marker\":{\"colorbar\":{\"outlinewidth\":0,\"ticks\":\"\"}}}],\"scattercarpet\":[{\"type\":\"scattercarpet\",\"marker\":{\"colorbar\":{\"outlinewidth\":0,\"ticks\":\"\"}}}],\"carpet\":[{\"aaxis\":{\"endlinecolor\":\"#2a3f5f\",\"gridcolor\":\"white\",\"linecolor\":\"white\",\"minorgridcolor\":\"white\",\"startlinecolor\":\"#2a3f5f\"},\"baxis\":{\"endlinecolor\":\"#2a3f5f\",\"gridcolor\":\"white\",\"linecolor\":\"white\",\"minorgridcolor\":\"white\",\"startlinecolor\":\"#2a3f5f\"},\"type\":\"carpet\"}],\"table\":[{\"cells\":{\"fill\":{\"color\":\"#EBF0F8\"},\"line\":{\"color\":\"white\"}},\"header\":{\"fill\":{\"color\":\"#C8D4E3\"},\"line\":{\"color\":\"white\"}},\"type\":\"table\"}],\"barpolar\":[{\"marker\":{\"line\":{\"color\":\"#E5ECF6\",\"width\":0.5},\"pattern\":{\"fillmode\":\"overlay\",\"size\":10,\"solidity\":0.2}},\"type\":\"barpolar\"}],\"pie\":[{\"automargin\":true,\"type\":\"pie\"}]},\"layout\":{\"autotypenumbers\":\"strict\",\"colorway\":[\"#636efa\",\"#EF553B\",\"#00cc96\",\"#ab63fa\",\"#FFA15A\",\"#19d3f3\",\"#FF6692\",\"#B6E880\",\"#FF97FF\",\"#FECB52\"],\"font\":{\"color\":\"#2a3f5f\"},\"hovermode\":\"closest\",\"hoverlabel\":{\"align\":\"left\"},\"paper_bgcolor\":\"white\",\"plot_bgcolor\":\"#E5ECF6\",\"polar\":{\"bgcolor\":\"#E5ECF6\",\"angularaxis\":{\"gridcolor\":\"white\",\"linecolor\":\"white\",\"ticks\":\"\"},\"radialaxis\":{\"gridcolor\":\"white\",\"linecolor\":\"white\",\"ticks\":\"\"}},\"ternary\":{\"bgcolor\":\"#E5ECF6\",\"aaxis\":{\"gridcolor\":\"white\",\"linecolor\":\"white\",\"ticks\":\"\"},\"baxis\":{\"gridcolor\":\"white\",\"linecolor\":\"white\",\"ticks\":\"\"},\"caxis\":{\"gridcolor\":\"white\",\"linecolor\":\"white\",\"ticks\":\"\"}},\"coloraxis\":{\"colorbar\":{\"outlinewidth\":0,\"ticks\":\"\"}},\"colorscale\":{\"sequential\":[[0.0,\"#0d0887\"],[0.1111111111111111,\"#46039f\"],[0.2222222222222222,\"#7201a8\"],[0.3333333333333333,\"#9c179e\"],[0.4444444444444444,\"#bd3786\"],[0.5555555555555556,\"#d8576b\"],[0.6666666666666666,\"#ed7953\"],[0.7777777777777778,\"#fb9f3a\"],[0.8888888888888888,\"#fdca26\"],[1.0,\"#f0f921\"]],\"sequentialminus\":[[0.0,\"#0d0887\"],[0.1111111111111111,\"#46039f\"],[0.2222222222222222,\"#7201a8\"],[0.3333333333333333,\"#9c179e\"],[0.4444444444444444,\"#bd3786\"],[0.5555555555555556,\"#d8576b\"],[0.6666666666666666,\"#ed7953\"],[0.7777777777777778,\"#fb9f3a\"],[0.8888888888888888,\"#fdca26\"],[1.0,\"#f0f921\"]],\"diverging\":[[0,\"#8e0152\"],[0.1,\"#c51b7d\"],[0.2,\"#de77ae\"],[0.3,\"#f1b6da\"],[0.4,\"#fde0ef\"],[0.5,\"#f7f7f7\"],[0.6,\"#e6f5d0\"],[0.7,\"#b8e186\"],[0.8,\"#7fbc41\"],[0.9,\"#4d9221\"],[1,\"#276419\"]]},\"xaxis\":{\"gridcolor\":\"white\",\"linecolor\":\"white\",\"ticks\":\"\",\"title\":{\"standoff\":15},\"zerolinecolor\":\"white\",\"automargin\":true,\"zerolinewidth\":2},\"yaxis\":{\"gridcolor\":\"white\",\"linecolor\":\"white\",\"ticks\":\"\",\"title\":{\"standoff\":15},\"zerolinecolor\":\"white\",\"automargin\":true,\"zerolinewidth\":2},\"scene\":{\"xaxis\":{\"backgroundcolor\":\"#E5ECF6\",\"gridcolor\":\"white\",\"linecolor\":\"white\",\"showbackground\":true,\"ticks\":\"\",\"zerolinecolor\":\"white\",\"gridwidth\":2},\"yaxis\":{\"backgroundcolor\":\"#E5ECF6\",\"gridcolor\":\"white\",\"linecolor\":\"white\",\"showbackground\":true,\"ticks\":\"\",\"zerolinecolor\":\"white\",\"gridwidth\":2},\"zaxis\":{\"backgroundcolor\":\"#E5ECF6\",\"gridcolor\":\"white\",\"linecolor\":\"white\",\"showbackground\":true,\"ticks\":\"\",\"zerolinecolor\":\"white\",\"gridwidth\":2}},\"shapedefaults\":{\"line\":{\"color\":\"#2a3f5f\"}},\"annotationdefaults\":{\"arrowcolor\":\"#2a3f5f\",\"arrowhead\":0,\"arrowwidth\":1},\"geo\":{\"bgcolor\":\"white\",\"landcolor\":\"#E5ECF6\",\"subunitcolor\":\"white\",\"showland\":true,\"showlakes\":true,\"lakecolor\":\"white\"},\"title\":{\"x\":0.05},\"mapbox\":{\"style\":\"light\"}}},\"xaxis\":{\"anchor\":\"y\",\"domain\":[0.0,1.0],\"title\":{\"text\":\"Design Pattern\"}},\"yaxis\":{\"anchor\":\"x\",\"domain\":[0.0,1.0],\"title\":{\"text\":\"Count in Design Pattern\"}},\"legend\":{\"tracegroupgap\":0},\"margin\":{\"t\":60},\"barmode\":\"relative\"},                        {\"responsive\": true}                    ).then(function(){\n",
       "                            \n",
       "var gd = document.getElementById('3d355cee-28f8-4273-b732-cfe8b7556579');\n",
       "var x = new MutationObserver(function (mutations, observer) {{\n",
       "        var display = window.getComputedStyle(gd).display;\n",
       "        if (!display || display === 'none') {{\n",
       "            console.log([gd, 'removed!']);\n",
       "            Plotly.purge(gd);\n",
       "            observer.disconnect();\n",
       "        }}\n",
       "}});\n",
       "\n",
       "// Listen for the removal of the full notebook cells\n",
       "var notebookContainer = gd.closest('#notebook-container');\n",
       "if (notebookContainer) {{\n",
       "    x.observe(notebookContainer, {childList: true});\n",
       "}}\n",
       "\n",
       "// Listen for the clearing of the current output cell\n",
       "var outputEl = gd.closest('.output');\n",
       "if (outputEl) {{\n",
       "    x.observe(outputEl, {childList: true});\n",
       "}}\n",
       "\n",
       "                        })                };                });            </script>        </div>"
      ]
     },
     "metadata": {},
     "output_type": "display_data"
    }
   ],
   "source": [
    "df_binned_by_micro_arch_dp = df.copy()\n",
    "df_binned_by_micro_arch_dp = df_binned_by_micro_arch_dp.drop_duplicates(['micro_architecture', 'design_pattern']).reset_index()\n",
    "df_binned_by_micro_arch_dp = df_binned_by_micro_arch_dp['design_pattern'].value_counts().reset_index()\n",
    "\n",
    "fig = px.histogram(df_binned_by_micro_arch_dp, x='design_pattern', y='count')\n",
    "fig.update_layout(xaxis_title='Design Pattern', yaxis_title='Count in Design Pattern')"
   ]
  },
  {
   "cell_type": "markdown",
   "id": "ca83e997",
   "metadata": {},
   "source": [
    "### Distribution for metrics"
   ]
  },
  {
   "cell_type": "code",
   "execution_count": 162,
   "id": "236b326b",
   "metadata": {},
   "outputs": [
    {
     "data": {
      "application/vnd.jupyter.widget-view+json": {
       "model_id": "ddf82a9e96964bbb890d8a348b5bcc30",
       "version_major": 2,
       "version_minor": 0
      },
      "text/plain": [
       "VBox(children=(Dropdown(options=('NOF', 'NSF', 'NOM', 'NSM', 'NOAM', 'NORM', 'NOPC', 'NOOF', 'NCOF'), value='N…"
      ]
     },
     "metadata": {},
     "output_type": "display_data"
    }
   ],
   "source": [
    "def initial_histogram():\n",
    "    return go.Histogram(\n",
    "        histfunc='count',\n",
    "    )\n",
    "\n",
    "def update_histogram(figure: go.Figure, df: pd.DataFrame, metric: str):\n",
    "    figure['x'] = df[metric]\n",
    "\n",
    "generate_selectable_graph_for_metrircs(df, initial_histogram, update_histogram, 'count')"
   ]
  },
  {
   "cell_type": "markdown",
   "id": "527e5650",
   "metadata": {},
   "source": [
    "### Box Plots for metrics"
   ]
  },
  {
   "cell_type": "code",
   "execution_count": 163,
   "id": "d51e3449",
   "metadata": {},
   "outputs": [
    {
     "data": {
      "application/vnd.jupyter.widget-view+json": {
       "model_id": "29d84cede97a46c1b54661327c80cbb6",
       "version_major": 2,
       "version_minor": 0
      },
      "text/plain": [
       "VBox(children=(Dropdown(options=('NOF', 'NSF', 'NOM', 'NSM', 'NOAM', 'NORM', 'NOPC', 'NOOF', 'NCOF'), value='N…"
      ]
     },
     "metadata": {},
     "output_type": "display_data"
    }
   ],
   "source": [
    "def initial_histogram():\n",
    "    return go.Box(\n",
    "    )\n",
    "\n",
    "def update_histogram(figure: go.Figure, df: pd.DataFrame, metric: str):\n",
    "    figure['x'] = df[metric]\n",
    "\n",
    "generate_selectable_graph_for_metrircs(df, initial_histogram, update_histogram)"
   ]
  }
 ],
 "metadata": {
  "kernelspec": {
   "display_name": "Python 3 (ipykernel)",
   "language": "python",
   "name": "python3"
  },
  "language_info": {
   "codemirror_mode": {
    "name": "ipython",
    "version": 3
   },
   "file_extension": ".py",
   "mimetype": "text/x-python",
   "name": "python",
   "nbconvert_exporter": "python",
   "pygments_lexer": "ipython3",
   "version": "3.11.6"
  }
 },
 "nbformat": 4,
 "nbformat_minor": 5
}
